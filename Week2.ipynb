{
  "cells": [
    {
      "cell_type": "markdown",
      "metadata": {
        "id": "view-in-github",
        "colab_type": "text"
      },
      "source": [
        "<a href=\"https://colab.research.google.com/github/ashkwart/Ashley-Website/blob/main/Week2.ipynb\" target=\"_parent\"><img src=\"https://colab.research.google.com/assets/colab-badge.svg\" alt=\"Open In Colab\"/></a>"
      ]
    },
    {
      "cell_type": "code",
      "execution_count": 55,
      "id": "26ac4352-e3c1-4beb-9cc5-9c0b4261e380",
      "metadata": {
        "id": "26ac4352-e3c1-4beb-9cc5-9c0b4261e380"
      },
      "outputs": [],
      "source": [
        "!pip install -q census us"
      ]
    },
    {
      "cell_type": "code",
      "execution_count": 56,
      "id": "cfa2ae1d-d4eb-4eb5-8a1d-90d02b8142d4",
      "metadata": {
        "id": "cfa2ae1d-d4eb-4eb5-8a1d-90d02b8142d4"
      },
      "outputs": [],
      "source": [
        "%config InlineBackend.figure_formats = [\"svg\"]\n",
        "\n",
        "import matplotlib.pyplot as plt\n",
        "import pandas as pd\n",
        "\n",
        "from census import Census\n",
        "from us import states"
      ]
    },
    {
      "cell_type": "code",
      "execution_count": 57,
      "id": "a9a84451-3ab5-4ed1-9dc9-8b0cf13df3c1",
      "metadata": {
        "id": "a9a84451-3ab5-4ed1-9dc9-8b0cf13df3c1"
      },
      "outputs": [],
      "source": [
        "census = Census(\"\", year=2020)"
      ]
    },
    {
      "cell_type": "markdown",
      "id": "3caa896d-76b7-4c30-a3f3-72dae9346d57",
      "metadata": {
        "id": "3caa896d-76b7-4c30-a3f3-72dae9346d57"
      },
      "source": [
        "# Week 2: Exploring the U.S. Census, part 1 (population data)\n",
        "\n",
        "In this notebook, we'll explore the most famous and essential dataset published by the U.S. Census Bureau: the decennial enumeration of the U.S. population. This enumeration is [required by Article I of the U.S. Constitution](https://www.census.gov/programs-surveys/decennial-census/about/census-constitution.html), and the challenges of processing Census data as the national population grew throughout the 19th century led to the development of [a tabulating machine](https://www.computerhistory.org/revolution/punched-cards/2/2) that was [first used for processing the 1890 U.S. Census](https://www.smithsonianmag.com/smithsonian-institution/herman-holleriths-tabulating-machine-2504989/). This machine read punched cards that encoded Census responses and generated summary statistics (such as the number of foreign-born children under 18 in a particular state, or the number of married women in a particular city). The company that developed this tabulating machine was later renamed to IBM.\n",
        "\n",
        "The technical demands of analyzing U.S. Census data were therefore a catalyst in the early development of computing; in the 130 years or so since the dawn of this automated tabulation technology, Census data has become exponentially more detailed and accessible. Here, we'll focus on a small slice of the 2010 and 2020 decennial Census data published online via the [Census API](https://www.census.gov/data/developers/data-sets.html).\n",
        "\n",
        "\n",
        "<img width=\"600\" alt=\"Herman Hollerith's tabulating machine\" src=\"https://www.ibm.com/content/dam/connectedassets-adobe-cms/worldwide-content/arc/cf/ul/g/a6/a6/hollerithtabulator_sorter.component.simple-narrative-nocrop-xl-retina.ts=1702922330895.jpg/content/adobe-cms/us/en/history/punched-card-tabulator/jcr:content/root/table_of_contents/body/content_section_styled/content-section-body/simple_narrative/image\">\n",
        "\n",
        "_Herman Hollerith's tabulating machine for the 1890 U.S. Census (photo credit: [IBM](https://www.ibm.com/history/punched-card-tabulator))._\n",
        "\n"
      ]
    },
    {
      "cell_type": "markdown",
      "id": "8b54842c-73a4-4a68-ae1e-64689a1fa4aa",
      "metadata": {
        "id": "8b54842c-73a4-4a68-ae1e-64689a1fa4aa"
      },
      "source": [
        "## Fetching population data\n",
        "\n",
        "Here, we'll retrieve population statistics by race from the Census API for all counties in New York. Census data releases are organized into tables; [Table P1](https://data.census.gov/table/DECENNIALPL2020.P1?g=040XX00US36) breaks down population by racial category. For ease of use, we'll map the column names returned by the Census API to their corresponding racial categories: for instance, the `P1_004N` column corresponds to Black population. (Full column definitions are available in the [API documentation](https://api.census.gov/data/2020/dec/pl/variables.html).)"
      ]
    },
    {
      "cell_type": "code",
      "execution_count": 58,
      "id": "9c2aa38f-cb04-4ac5-bf43-72ea5d6bd924",
      "metadata": {
        "id": "9c2aa38f-cb04-4ac5-bf43-72ea5d6bd924"
      },
      "outputs": [],
      "source": [
        "p1_population_columns = {\n",
        "    \"P1_003N\": \"white\",\t      # White alone\n",
        "    \"P1_004N\": \"black\",\t      # Black or African American alone\n",
        "    \"P1_005N\": \"amin\",        # American Indian and Alaska Native alone\n",
        "    \"P1_006N\": \"asian\",       # Asian alone\n",
        "    \"P1_007N\": \"nhpi\",        # Native Hawaiian and Other Pacific Islander alone\n",
        "    \"P1_008N\": \"other\",       # Some Other Race alone\n",
        "    \"P1_009N\": \"two_or_more\", # Two or more races\n",
        "}"
      ]
    },
    {
      "cell_type": "markdown",
      "id": "feb453d0-3610-402e-a014-7349c44b09a4",
      "metadata": {
        "id": "feb453d0-3610-402e-a014-7349c44b09a4"
      },
      "source": [
        "When fetching data from the Census API, we usually identify geographic regions (states, counties, etc.) by their [FIPS code](https://en.wikipedia.org/wiki/Federal_Information_Processing_Standard_state_code). For instance, the FIPS code for the state of New York is 36. The `us` package exposes identifiers (FIPS codes, postal abbreviations) for the U.S. states."
      ]
    },
    {
      "cell_type": "code",
      "execution_count": 59,
      "id": "ee2422d7-0abe-4fdf-a4dc-59cfb448aa90",
      "metadata": {
        "id": "ee2422d7-0abe-4fdf-a4dc-59cfb448aa90"
      },
      "outputs": [],
      "source": [
        "state = states.GA"
      ]
    },
    {
      "cell_type": "code",
      "execution_count": 60,
      "id": "d791a6f5-1fea-4a90-8fd4-00e8df2bdef3",
      "metadata": {
        "id": "d791a6f5-1fea-4a90-8fd4-00e8df2bdef3",
        "outputId": "277c5a71-6241-4349-f8ee-8a3311bad7be",
        "colab": {
          "base_uri": "https://localhost:8080/"
        }
      },
      "outputs": [
        {
          "output_type": "stream",
          "name": "stdout",
          "text": [
            "Georgia GA 13\n"
          ]
        }
      ],
      "source": [
        "print(state, state.abbr, state.fips)"
      ]
    },
    {
      "cell_type": "markdown",
      "id": "c69c6965-857e-436f-897a-8593a0a69162",
      "metadata": {
        "id": "c69c6965-857e-436f-897a-8593a0a69162"
      },
      "source": [
        "Here, we specify:\n",
        "* The columns we want to fetch from the Census API (the `NAME` column, and the 7 columns from Table P1 listed in `p1_population_columns` above).\n",
        "* The regions we want to fetch column values for (all counties in New York)."
      ]
    },
    {
      "cell_type": "code",
      "execution_count": 79,
      "id": "04099f86-49b0-4e40-afe4-f01432c4b90a",
      "metadata": {
        "id": "04099f86-49b0-4e40-afe4-f01432c4b90a"
      },
      "outputs": [],
      "source": [
        "county_populations = census.pl.get(\n",
        "    (\"NAME\", *p1_population_columns),\n",
        "    geo={\n",
        "        \"for\": \"county:121\",\n",
        "        \"in\": f\"state:{state.fips}\",\n",
        "    }\n",
        ")"
      ]
    },
    {
      "cell_type": "markdown",
      "id": "f5d89fa8-e11b-4d1d-b19b-c8f93a90f4f5",
      "metadata": {
        "id": "f5d89fa8-e11b-4d1d-b19b-c8f93a90f4f5"
      },
      "source": [
        "The Census API returns a list of dictionaries; each contains column values for a county."
      ]
    },
    {
      "cell_type": "code",
      "execution_count": 80,
      "id": "7f2ad4fa-20d7-4dcc-b6d9-3b03a02b20d8",
      "metadata": {
        "id": "7f2ad4fa-20d7-4dcc-b6d9-3b03a02b20d8",
        "outputId": "f85fb2e5-1dd1-442c-c89b-a9f88805e7a8",
        "colab": {
          "base_uri": "https://localhost:8080/"
        }
      },
      "outputs": [
        {
          "output_type": "execute_result",
          "data": {
            "text/plain": [
              "{'NAME': 'Fulton County, Georgia',\n",
              " 'P1_003N': 418700.0,\n",
              " 'P1_004N': 453834.0,\n",
              " 'P1_005N': 3255.0,\n",
              " 'P1_006N': 80949.0,\n",
              " 'P1_007N': 452.0,\n",
              " 'P1_008N': 38612.0,\n",
              " 'P1_009N': 70908.0,\n",
              " 'state': '13',\n",
              " 'county': '121'}"
            ]
          },
          "metadata": {},
          "execution_count": 80
        }
      ],
      "source": [
        "county_populations[0]"
      ]
    },
    {
      "cell_type": "markdown",
      "id": "cf45f71b-4b1c-4062-b0e8-e1fdaacd7f9c",
      "metadata": {
        "id": "cf45f71b-4b1c-4062-b0e8-e1fdaacd7f9c"
      },
      "source": [
        "We can convert this raw response to a Pandas `DataFrame` without any further manipulation."
      ]
    },
    {
      "cell_type": "code",
      "execution_count": 81,
      "id": "b8eae0f8-8547-4a3f-a1cb-4645b28d6f43",
      "metadata": {
        "id": "b8eae0f8-8547-4a3f-a1cb-4645b28d6f43"
      },
      "outputs": [],
      "source": [
        "race_df = pd.DataFrame(county_populations)"
      ]
    },
    {
      "cell_type": "code",
      "execution_count": 82,
      "id": "211317e4-e6c2-421d-9be6-aa523a1ee8e4",
      "metadata": {
        "id": "211317e4-e6c2-421d-9be6-aa523a1ee8e4",
        "outputId": "590ea6ba-d84e-4367-8bfd-d70e59d9b901",
        "colab": {
          "base_uri": "https://localhost:8080/",
          "height": 98
        }
      },
      "outputs": [
        {
          "output_type": "execute_result",
          "data": {
            "text/plain": [
              "                     NAME   P1_003N   P1_004N  P1_005N  P1_006N  P1_007N  \\\n",
              "0  Fulton County, Georgia  418700.0  453834.0   3255.0  80949.0    452.0   \n",
              "\n",
              "   P1_008N  P1_009N state county  \n",
              "0  38612.0  70908.0    13    121  "
            ],
            "text/html": [
              "\n",
              "  <div id=\"df-145f007f-539a-4608-981d-87a4697e45c0\" class=\"colab-df-container\">\n",
              "    <div>\n",
              "<style scoped>\n",
              "    .dataframe tbody tr th:only-of-type {\n",
              "        vertical-align: middle;\n",
              "    }\n",
              "\n",
              "    .dataframe tbody tr th {\n",
              "        vertical-align: top;\n",
              "    }\n",
              "\n",
              "    .dataframe thead th {\n",
              "        text-align: right;\n",
              "    }\n",
              "</style>\n",
              "<table border=\"1\" class=\"dataframe\">\n",
              "  <thead>\n",
              "    <tr style=\"text-align: right;\">\n",
              "      <th></th>\n",
              "      <th>NAME</th>\n",
              "      <th>P1_003N</th>\n",
              "      <th>P1_004N</th>\n",
              "      <th>P1_005N</th>\n",
              "      <th>P1_006N</th>\n",
              "      <th>P1_007N</th>\n",
              "      <th>P1_008N</th>\n",
              "      <th>P1_009N</th>\n",
              "      <th>state</th>\n",
              "      <th>county</th>\n",
              "    </tr>\n",
              "  </thead>\n",
              "  <tbody>\n",
              "    <tr>\n",
              "      <th>0</th>\n",
              "      <td>Fulton County, Georgia</td>\n",
              "      <td>418700.0</td>\n",
              "      <td>453834.0</td>\n",
              "      <td>3255.0</td>\n",
              "      <td>80949.0</td>\n",
              "      <td>452.0</td>\n",
              "      <td>38612.0</td>\n",
              "      <td>70908.0</td>\n",
              "      <td>13</td>\n",
              "      <td>121</td>\n",
              "    </tr>\n",
              "  </tbody>\n",
              "</table>\n",
              "</div>\n",
              "    <div class=\"colab-df-buttons\">\n",
              "\n",
              "  <div class=\"colab-df-container\">\n",
              "    <button class=\"colab-df-convert\" onclick=\"convertToInteractive('df-145f007f-539a-4608-981d-87a4697e45c0')\"\n",
              "            title=\"Convert this dataframe to an interactive table.\"\n",
              "            style=\"display:none;\">\n",
              "\n",
              "  <svg xmlns=\"http://www.w3.org/2000/svg\" height=\"24px\" viewBox=\"0 -960 960 960\">\n",
              "    <path d=\"M120-120v-720h720v720H120Zm60-500h600v-160H180v160Zm220 220h160v-160H400v160Zm0 220h160v-160H400v160ZM180-400h160v-160H180v160Zm440 0h160v-160H620v160ZM180-180h160v-160H180v160Zm440 0h160v-160H620v160Z\"/>\n",
              "  </svg>\n",
              "    </button>\n",
              "\n",
              "  <style>\n",
              "    .colab-df-container {\n",
              "      display:flex;\n",
              "      gap: 12px;\n",
              "    }\n",
              "\n",
              "    .colab-df-convert {\n",
              "      background-color: #E8F0FE;\n",
              "      border: none;\n",
              "      border-radius: 50%;\n",
              "      cursor: pointer;\n",
              "      display: none;\n",
              "      fill: #1967D2;\n",
              "      height: 32px;\n",
              "      padding: 0 0 0 0;\n",
              "      width: 32px;\n",
              "    }\n",
              "\n",
              "    .colab-df-convert:hover {\n",
              "      background-color: #E2EBFA;\n",
              "      box-shadow: 0px 1px 2px rgba(60, 64, 67, 0.3), 0px 1px 3px 1px rgba(60, 64, 67, 0.15);\n",
              "      fill: #174EA6;\n",
              "    }\n",
              "\n",
              "    .colab-df-buttons div {\n",
              "      margin-bottom: 4px;\n",
              "    }\n",
              "\n",
              "    [theme=dark] .colab-df-convert {\n",
              "      background-color: #3B4455;\n",
              "      fill: #D2E3FC;\n",
              "    }\n",
              "\n",
              "    [theme=dark] .colab-df-convert:hover {\n",
              "      background-color: #434B5C;\n",
              "      box-shadow: 0px 1px 3px 1px rgba(0, 0, 0, 0.15);\n",
              "      filter: drop-shadow(0px 1px 2px rgba(0, 0, 0, 0.3));\n",
              "      fill: #FFFFFF;\n",
              "    }\n",
              "  </style>\n",
              "\n",
              "    <script>\n",
              "      const buttonEl =\n",
              "        document.querySelector('#df-145f007f-539a-4608-981d-87a4697e45c0 button.colab-df-convert');\n",
              "      buttonEl.style.display =\n",
              "        google.colab.kernel.accessAllowed ? 'block' : 'none';\n",
              "\n",
              "      async function convertToInteractive(key) {\n",
              "        const element = document.querySelector('#df-145f007f-539a-4608-981d-87a4697e45c0');\n",
              "        const dataTable =\n",
              "          await google.colab.kernel.invokeFunction('convertToInteractive',\n",
              "                                                    [key], {});\n",
              "        if (!dataTable) return;\n",
              "\n",
              "        const docLinkHtml = 'Like what you see? Visit the ' +\n",
              "          '<a target=\"_blank\" href=https://colab.research.google.com/notebooks/data_table.ipynb>data table notebook</a>'\n",
              "          + ' to learn more about interactive tables.';\n",
              "        element.innerHTML = '';\n",
              "        dataTable['output_type'] = 'display_data';\n",
              "        await google.colab.output.renderOutput(dataTable, element);\n",
              "        const docLink = document.createElement('div');\n",
              "        docLink.innerHTML = docLinkHtml;\n",
              "        element.appendChild(docLink);\n",
              "      }\n",
              "    </script>\n",
              "  </div>\n",
              "\n",
              "\n",
              "    </div>\n",
              "  </div>\n"
            ],
            "application/vnd.google.colaboratory.intrinsic+json": {
              "type": "dataframe",
              "variable_name": "race_df",
              "summary": "{\n  \"name\": \"race_df\",\n  \"rows\": 1,\n  \"fields\": [\n    {\n      \"column\": \"NAME\",\n      \"properties\": {\n        \"dtype\": \"string\",\n        \"num_unique_values\": 1,\n        \"samples\": [\n          \"Fulton County, Georgia\"\n        ],\n        \"semantic_type\": \"\",\n        \"description\": \"\"\n      }\n    },\n    {\n      \"column\": \"P1_003N\",\n      \"properties\": {\n        \"dtype\": \"number\",\n        \"std\": null,\n        \"min\": 418700.0,\n        \"max\": 418700.0,\n        \"num_unique_values\": 1,\n        \"samples\": [\n          418700.0\n        ],\n        \"semantic_type\": \"\",\n        \"description\": \"\"\n      }\n    },\n    {\n      \"column\": \"P1_004N\",\n      \"properties\": {\n        \"dtype\": \"number\",\n        \"std\": null,\n        \"min\": 453834.0,\n        \"max\": 453834.0,\n        \"num_unique_values\": 1,\n        \"samples\": [\n          453834.0\n        ],\n        \"semantic_type\": \"\",\n        \"description\": \"\"\n      }\n    },\n    {\n      \"column\": \"P1_005N\",\n      \"properties\": {\n        \"dtype\": \"number\",\n        \"std\": null,\n        \"min\": 3255.0,\n        \"max\": 3255.0,\n        \"num_unique_values\": 1,\n        \"samples\": [\n          3255.0\n        ],\n        \"semantic_type\": \"\",\n        \"description\": \"\"\n      }\n    },\n    {\n      \"column\": \"P1_006N\",\n      \"properties\": {\n        \"dtype\": \"number\",\n        \"std\": null,\n        \"min\": 80949.0,\n        \"max\": 80949.0,\n        \"num_unique_values\": 1,\n        \"samples\": [\n          80949.0\n        ],\n        \"semantic_type\": \"\",\n        \"description\": \"\"\n      }\n    },\n    {\n      \"column\": \"P1_007N\",\n      \"properties\": {\n        \"dtype\": \"number\",\n        \"std\": null,\n        \"min\": 452.0,\n        \"max\": 452.0,\n        \"num_unique_values\": 1,\n        \"samples\": [\n          452.0\n        ],\n        \"semantic_type\": \"\",\n        \"description\": \"\"\n      }\n    },\n    {\n      \"column\": \"P1_008N\",\n      \"properties\": {\n        \"dtype\": \"number\",\n        \"std\": null,\n        \"min\": 38612.0,\n        \"max\": 38612.0,\n        \"num_unique_values\": 1,\n        \"samples\": [\n          38612.0\n        ],\n        \"semantic_type\": \"\",\n        \"description\": \"\"\n      }\n    },\n    {\n      \"column\": \"P1_009N\",\n      \"properties\": {\n        \"dtype\": \"number\",\n        \"std\": null,\n        \"min\": 70908.0,\n        \"max\": 70908.0,\n        \"num_unique_values\": 1,\n        \"samples\": [\n          70908.0\n        ],\n        \"semantic_type\": \"\",\n        \"description\": \"\"\n      }\n    },\n    {\n      \"column\": \"state\",\n      \"properties\": {\n        \"dtype\": \"string\",\n        \"num_unique_values\": 1,\n        \"samples\": [\n          \"13\"\n        ],\n        \"semantic_type\": \"\",\n        \"description\": \"\"\n      }\n    },\n    {\n      \"column\": \"county\",\n      \"properties\": {\n        \"dtype\": \"string\",\n        \"num_unique_values\": 1,\n        \"samples\": [\n          \"121\"\n        ],\n        \"semantic_type\": \"\",\n        \"description\": \"\"\n      }\n    }\n  ]\n}"
            }
          },
          "metadata": {},
          "execution_count": 82
        }
      ],
      "source": [
        "race_df.head(5)"
      ]
    },
    {
      "cell_type": "markdown",
      "id": "5ee3ab2a-dc13-4ad5-82d0-9cb96fba81c2",
      "metadata": {
        "id": "5ee3ab2a-dc13-4ad5-82d0-9cb96fba81c2"
      },
      "source": [
        "## Postprocessing\n",
        "\n",
        "We can make `race_df` more usable by applying our mapping from raw column names to human-readable racial categories. We don't need the state and county FIPS codes returned by the Census API by default in the `state` and `county` columns, so we'll drop those columns."
      ]
    },
    {
      "cell_type": "code",
      "execution_count": 83,
      "id": "9f222538-a770-4d8e-b4fb-a5bb679339a0",
      "metadata": {
        "id": "9f222538-a770-4d8e-b4fb-a5bb679339a0"
      },
      "outputs": [],
      "source": [
        "race_df = race_df.rename(\n",
        "    columns={\"NAME\": \"name\", **p1_population_columns}\n",
        ").drop(\n",
        "    columns=[\"state\", \"county\"]\n",
        ").set_index(\"name\")"
      ]
    },
    {
      "cell_type": "code",
      "execution_count": 84,
      "id": "eb5d269c-afd9-4b5c-b18d-edfa0cf9e929",
      "metadata": {
        "id": "eb5d269c-afd9-4b5c-b18d-edfa0cf9e929",
        "outputId": "49c0c98b-2ebb-4ad6-a1b6-888ca297a1ef",
        "colab": {
          "base_uri": "https://localhost:8080/",
          "height": 112
        }
      },
      "outputs": [
        {
          "output_type": "execute_result",
          "data": {
            "text/plain": [
              "                           white     black    amin    asian   nhpi    other  \\\n",
              "name                                                                          \n",
              "Fulton County, Georgia  418700.0  453834.0  3255.0  80949.0  452.0  38612.0   \n",
              "\n",
              "                        two_or_more  \n",
              "name                                 \n",
              "Fulton County, Georgia      70908.0  "
            ],
            "text/html": [
              "\n",
              "  <div id=\"df-cc11e0a5-436a-47dc-9799-13dd225ac6b7\" class=\"colab-df-container\">\n",
              "    <div>\n",
              "<style scoped>\n",
              "    .dataframe tbody tr th:only-of-type {\n",
              "        vertical-align: middle;\n",
              "    }\n",
              "\n",
              "    .dataframe tbody tr th {\n",
              "        vertical-align: top;\n",
              "    }\n",
              "\n",
              "    .dataframe thead th {\n",
              "        text-align: right;\n",
              "    }\n",
              "</style>\n",
              "<table border=\"1\" class=\"dataframe\">\n",
              "  <thead>\n",
              "    <tr style=\"text-align: right;\">\n",
              "      <th></th>\n",
              "      <th>white</th>\n",
              "      <th>black</th>\n",
              "      <th>amin</th>\n",
              "      <th>asian</th>\n",
              "      <th>nhpi</th>\n",
              "      <th>other</th>\n",
              "      <th>two_or_more</th>\n",
              "    </tr>\n",
              "    <tr>\n",
              "      <th>name</th>\n",
              "      <th></th>\n",
              "      <th></th>\n",
              "      <th></th>\n",
              "      <th></th>\n",
              "      <th></th>\n",
              "      <th></th>\n",
              "      <th></th>\n",
              "    </tr>\n",
              "  </thead>\n",
              "  <tbody>\n",
              "    <tr>\n",
              "      <th>Fulton County, Georgia</th>\n",
              "      <td>418700.0</td>\n",
              "      <td>453834.0</td>\n",
              "      <td>3255.0</td>\n",
              "      <td>80949.0</td>\n",
              "      <td>452.0</td>\n",
              "      <td>38612.0</td>\n",
              "      <td>70908.0</td>\n",
              "    </tr>\n",
              "  </tbody>\n",
              "</table>\n",
              "</div>\n",
              "    <div class=\"colab-df-buttons\">\n",
              "\n",
              "  <div class=\"colab-df-container\">\n",
              "    <button class=\"colab-df-convert\" onclick=\"convertToInteractive('df-cc11e0a5-436a-47dc-9799-13dd225ac6b7')\"\n",
              "            title=\"Convert this dataframe to an interactive table.\"\n",
              "            style=\"display:none;\">\n",
              "\n",
              "  <svg xmlns=\"http://www.w3.org/2000/svg\" height=\"24px\" viewBox=\"0 -960 960 960\">\n",
              "    <path d=\"M120-120v-720h720v720H120Zm60-500h600v-160H180v160Zm220 220h160v-160H400v160Zm0 220h160v-160H400v160ZM180-400h160v-160H180v160Zm440 0h160v-160H620v160ZM180-180h160v-160H180v160Zm440 0h160v-160H620v160Z\"/>\n",
              "  </svg>\n",
              "    </button>\n",
              "\n",
              "  <style>\n",
              "    .colab-df-container {\n",
              "      display:flex;\n",
              "      gap: 12px;\n",
              "    }\n",
              "\n",
              "    .colab-df-convert {\n",
              "      background-color: #E8F0FE;\n",
              "      border: none;\n",
              "      border-radius: 50%;\n",
              "      cursor: pointer;\n",
              "      display: none;\n",
              "      fill: #1967D2;\n",
              "      height: 32px;\n",
              "      padding: 0 0 0 0;\n",
              "      width: 32px;\n",
              "    }\n",
              "\n",
              "    .colab-df-convert:hover {\n",
              "      background-color: #E2EBFA;\n",
              "      box-shadow: 0px 1px 2px rgba(60, 64, 67, 0.3), 0px 1px 3px 1px rgba(60, 64, 67, 0.15);\n",
              "      fill: #174EA6;\n",
              "    }\n",
              "\n",
              "    .colab-df-buttons div {\n",
              "      margin-bottom: 4px;\n",
              "    }\n",
              "\n",
              "    [theme=dark] .colab-df-convert {\n",
              "      background-color: #3B4455;\n",
              "      fill: #D2E3FC;\n",
              "    }\n",
              "\n",
              "    [theme=dark] .colab-df-convert:hover {\n",
              "      background-color: #434B5C;\n",
              "      box-shadow: 0px 1px 3px 1px rgba(0, 0, 0, 0.15);\n",
              "      filter: drop-shadow(0px 1px 2px rgba(0, 0, 0, 0.3));\n",
              "      fill: #FFFFFF;\n",
              "    }\n",
              "  </style>\n",
              "\n",
              "    <script>\n",
              "      const buttonEl =\n",
              "        document.querySelector('#df-cc11e0a5-436a-47dc-9799-13dd225ac6b7 button.colab-df-convert');\n",
              "      buttonEl.style.display =\n",
              "        google.colab.kernel.accessAllowed ? 'block' : 'none';\n",
              "\n",
              "      async function convertToInteractive(key) {\n",
              "        const element = document.querySelector('#df-cc11e0a5-436a-47dc-9799-13dd225ac6b7');\n",
              "        const dataTable =\n",
              "          await google.colab.kernel.invokeFunction('convertToInteractive',\n",
              "                                                    [key], {});\n",
              "        if (!dataTable) return;\n",
              "\n",
              "        const docLinkHtml = 'Like what you see? Visit the ' +\n",
              "          '<a target=\"_blank\" href=https://colab.research.google.com/notebooks/data_table.ipynb>data table notebook</a>'\n",
              "          + ' to learn more about interactive tables.';\n",
              "        element.innerHTML = '';\n",
              "        dataTable['output_type'] = 'display_data';\n",
              "        await google.colab.output.renderOutput(dataTable, element);\n",
              "        const docLink = document.createElement('div');\n",
              "        docLink.innerHTML = docLinkHtml;\n",
              "        element.appendChild(docLink);\n",
              "      }\n",
              "    </script>\n",
              "  </div>\n",
              "\n",
              "\n",
              "    </div>\n",
              "  </div>\n"
            ],
            "application/vnd.google.colaboratory.intrinsic+json": {
              "type": "dataframe",
              "variable_name": "race_df",
              "summary": "{\n  \"name\": \"race_df\",\n  \"rows\": 1,\n  \"fields\": [\n    {\n      \"column\": \"name\",\n      \"properties\": {\n        \"dtype\": \"string\",\n        \"num_unique_values\": 1,\n        \"samples\": [\n          \"Fulton County, Georgia\"\n        ],\n        \"semantic_type\": \"\",\n        \"description\": \"\"\n      }\n    },\n    {\n      \"column\": \"white\",\n      \"properties\": {\n        \"dtype\": \"number\",\n        \"std\": null,\n        \"min\": 418700.0,\n        \"max\": 418700.0,\n        \"num_unique_values\": 1,\n        \"samples\": [\n          418700.0\n        ],\n        \"semantic_type\": \"\",\n        \"description\": \"\"\n      }\n    },\n    {\n      \"column\": \"black\",\n      \"properties\": {\n        \"dtype\": \"number\",\n        \"std\": null,\n        \"min\": 453834.0,\n        \"max\": 453834.0,\n        \"num_unique_values\": 1,\n        \"samples\": [\n          453834.0\n        ],\n        \"semantic_type\": \"\",\n        \"description\": \"\"\n      }\n    },\n    {\n      \"column\": \"amin\",\n      \"properties\": {\n        \"dtype\": \"number\",\n        \"std\": null,\n        \"min\": 3255.0,\n        \"max\": 3255.0,\n        \"num_unique_values\": 1,\n        \"samples\": [\n          3255.0\n        ],\n        \"semantic_type\": \"\",\n        \"description\": \"\"\n      }\n    },\n    {\n      \"column\": \"asian\",\n      \"properties\": {\n        \"dtype\": \"number\",\n        \"std\": null,\n        \"min\": 80949.0,\n        \"max\": 80949.0,\n        \"num_unique_values\": 1,\n        \"samples\": [\n          80949.0\n        ],\n        \"semantic_type\": \"\",\n        \"description\": \"\"\n      }\n    },\n    {\n      \"column\": \"nhpi\",\n      \"properties\": {\n        \"dtype\": \"number\",\n        \"std\": null,\n        \"min\": 452.0,\n        \"max\": 452.0,\n        \"num_unique_values\": 1,\n        \"samples\": [\n          452.0\n        ],\n        \"semantic_type\": \"\",\n        \"description\": \"\"\n      }\n    },\n    {\n      \"column\": \"other\",\n      \"properties\": {\n        \"dtype\": \"number\",\n        \"std\": null,\n        \"min\": 38612.0,\n        \"max\": 38612.0,\n        \"num_unique_values\": 1,\n        \"samples\": [\n          38612.0\n        ],\n        \"semantic_type\": \"\",\n        \"description\": \"\"\n      }\n    },\n    {\n      \"column\": \"two_or_more\",\n      \"properties\": {\n        \"dtype\": \"number\",\n        \"std\": null,\n        \"min\": 70908.0,\n        \"max\": 70908.0,\n        \"num_unique_values\": 1,\n        \"samples\": [\n          70908.0\n        ],\n        \"semantic_type\": \"\",\n        \"description\": \"\"\n      }\n    }\n  ]\n}"
            }
          },
          "metadata": {},
          "execution_count": 84
        }
      ],
      "source": [
        "race_df.head(10)"
      ]
    },
    {
      "cell_type": "markdown",
      "id": "3129c6d9-6571-4fa1-ad44-e7c51860f6f3",
      "metadata": {
        "id": "3129c6d9-6571-4fa1-ad44-e7c51860f6f3"
      },
      "source": [
        "We can sum the values in each column to compute population totals by racial category for the state."
      ]
    },
    {
      "cell_type": "code",
      "execution_count": 85,
      "id": "6f0e72c3-0409-40bd-ad54-4e0a3b0a6c60",
      "metadata": {
        "id": "6f0e72c3-0409-40bd-ad54-4e0a3b0a6c60",
        "outputId": "1847f68d-19e0-47b9-b04a-702636b59bda",
        "colab": {
          "base_uri": "https://localhost:8080/",
          "height": 304
        }
      },
      "outputs": [
        {
          "output_type": "execute_result",
          "data": {
            "text/plain": [
              "white          418700.0\n",
              "black          453834.0\n",
              "amin             3255.0\n",
              "asian           80949.0\n",
              "nhpi              452.0\n",
              "other           38612.0\n",
              "two_or_more     70908.0\n",
              "dtype: float64"
            ],
            "text/html": [
              "<div>\n",
              "<style scoped>\n",
              "    .dataframe tbody tr th:only-of-type {\n",
              "        vertical-align: middle;\n",
              "    }\n",
              "\n",
              "    .dataframe tbody tr th {\n",
              "        vertical-align: top;\n",
              "    }\n",
              "\n",
              "    .dataframe thead th {\n",
              "        text-align: right;\n",
              "    }\n",
              "</style>\n",
              "<table border=\"1\" class=\"dataframe\">\n",
              "  <thead>\n",
              "    <tr style=\"text-align: right;\">\n",
              "      <th></th>\n",
              "      <th>0</th>\n",
              "    </tr>\n",
              "  </thead>\n",
              "  <tbody>\n",
              "    <tr>\n",
              "      <th>white</th>\n",
              "      <td>418700.0</td>\n",
              "    </tr>\n",
              "    <tr>\n",
              "      <th>black</th>\n",
              "      <td>453834.0</td>\n",
              "    </tr>\n",
              "    <tr>\n",
              "      <th>amin</th>\n",
              "      <td>3255.0</td>\n",
              "    </tr>\n",
              "    <tr>\n",
              "      <th>asian</th>\n",
              "      <td>80949.0</td>\n",
              "    </tr>\n",
              "    <tr>\n",
              "      <th>nhpi</th>\n",
              "      <td>452.0</td>\n",
              "    </tr>\n",
              "    <tr>\n",
              "      <th>other</th>\n",
              "      <td>38612.0</td>\n",
              "    </tr>\n",
              "    <tr>\n",
              "      <th>two_or_more</th>\n",
              "      <td>70908.0</td>\n",
              "    </tr>\n",
              "  </tbody>\n",
              "</table>\n",
              "</div><br><label><b>dtype:</b> float64</label>"
            ]
          },
          "metadata": {},
          "execution_count": 85
        }
      ],
      "source": [
        "race_df.sum(axis=0)"
      ]
    },
    {
      "cell_type": "markdown",
      "id": "7eb459af-3f61-407b-9006-b57ebeef39c0",
      "metadata": {
        "id": "7eb459af-3f61-407b-9006-b57ebeef39c0"
      },
      "source": [
        "Similarly, we can sum the values in each row to compute population totals (across all racial categories) for each county."
      ]
    },
    {
      "cell_type": "code",
      "execution_count": 86,
      "id": "3129eda5-f9f8-428a-87b3-71c488d57f16",
      "metadata": {
        "id": "3129eda5-f9f8-428a-87b3-71c488d57f16",
        "outputId": "44451431-5d15-4b00-a543-97adb282ebf0",
        "colab": {
          "base_uri": "https://localhost:8080/",
          "height": 147
        }
      },
      "outputs": [
        {
          "output_type": "execute_result",
          "data": {
            "text/plain": [
              "name\n",
              "Fulton County, Georgia    1066710.0\n",
              "dtype: float64"
            ],
            "text/html": [
              "<div>\n",
              "<style scoped>\n",
              "    .dataframe tbody tr th:only-of-type {\n",
              "        vertical-align: middle;\n",
              "    }\n",
              "\n",
              "    .dataframe tbody tr th {\n",
              "        vertical-align: top;\n",
              "    }\n",
              "\n",
              "    .dataframe thead th {\n",
              "        text-align: right;\n",
              "    }\n",
              "</style>\n",
              "<table border=\"1\" class=\"dataframe\">\n",
              "  <thead>\n",
              "    <tr style=\"text-align: right;\">\n",
              "      <th></th>\n",
              "      <th>0</th>\n",
              "    </tr>\n",
              "    <tr>\n",
              "      <th>name</th>\n",
              "      <th></th>\n",
              "    </tr>\n",
              "  </thead>\n",
              "  <tbody>\n",
              "    <tr>\n",
              "      <th>Fulton County, Georgia</th>\n",
              "      <td>1066710.0</td>\n",
              "    </tr>\n",
              "  </tbody>\n",
              "</table>\n",
              "</div><br><label><b>dtype:</b> float64</label>"
            ]
          },
          "metadata": {},
          "execution_count": 86
        }
      ],
      "source": [
        "race_df.sum(axis=1)"
      ]
    },
    {
      "cell_type": "markdown",
      "id": "e88f8981-e578-4e70-a2f9-45df5964f8fd",
      "metadata": {
        "id": "e88f8981-e578-4e70-a2f9-45df5964f8fd"
      },
      "source": [
        "### Visualizing demographics with a pie chart"
      ]
    },
    {
      "cell_type": "markdown",
      "id": "24656efd-2886-45d3-8cfd-923d05729308",
      "metadata": {
        "id": "24656efd-2886-45d3-8cfd-923d05729308"
      },
      "source": [
        "We can visualize the demographic breakdown of a particular county with [Pandas' pie chart function](https://pandas.pydata.org/docs/reference/api/pandas.DataFrame.plot.pie.html)."
      ]
    },
    {
      "cell_type": "code",
      "execution_count": 87,
      "id": "8824b50f-2455-4a51-b213-a6f0b0bb0860",
      "metadata": {
        "id": "8824b50f-2455-4a51-b213-a6f0b0bb0860",
        "outputId": "ae03652a-88f4-439d-ccfa-7e1cc405c68c",
        "colab": {
          "base_uri": "https://localhost:8080/",
          "height": 799
        }
      },
      "outputs": [
        {
          "output_type": "display_data",
          "data": {
            "text/plain": [
              "<Figure size 1000x1000 with 1 Axes>"
            ],
            "image/svg+xml": "<?xml version=\"1.0\" encoding=\"utf-8\" standalone=\"no\"?>\n<!DOCTYPE svg PUBLIC \"-//W3C//DTD SVG 1.1//EN\"\n  \"http://www.w3.org/Graphics/SVG/1.1/DTD/svg11.dtd\">\n<svg xmlns:xlink=\"http://www.w3.org/1999/xlink\" width=\"594.581449pt\" height=\"583.918125pt\" viewBox=\"0 0 594.581449 583.918125\" xmlns=\"http://www.w3.org/2000/svg\" version=\"1.1\">\n <metadata>\n  <rdf:RDF xmlns:dc=\"http://purl.org/dc/elements/1.1/\" xmlns:cc=\"http://creativecommons.org/ns#\" xmlns:rdf=\"http://www.w3.org/1999/02/22-rdf-syntax-ns#\">\n   <cc:Work>\n    <dc:type rdf:resource=\"http://purl.org/dc/dcmitype/StillImage\"/>\n    <dc:date>2025-02-06T04:23:33.475959</dc:date>\n    <dc:format>image/svg+xml</dc:format>\n    <dc:creator>\n     <cc:Agent>\n      <dc:title>Matplotlib v3.10.0, https://matplotlib.org/</dc:title>\n     </cc:Agent>\n    </dc:creator>\n   </cc:Work>\n  </rdf:RDF>\n </metadata>\n <defs>\n  <style type=\"text/css\">*{stroke-linejoin: round; stroke-linecap: butt}</style>\n </defs>\n <g id=\"figure_1\">\n  <g id=\"patch_1\">\n   <path d=\"M 0 583.918125 \nL 594.581449 583.918125 \nL 594.581449 0 \nL 0 0 \nz\n\" style=\"fill: #ffffff\"/>\n  </g>\n  <g id=\"axes_1\">\n   <g id=\"patch_2\">\n    <path d=\"M 506.16 299.518125 \nC 506.16 253.584087 491.888248 208.765382 465.327659 171.289111 \nC 438.767069 133.81284 401.207487 105.498939 357.867432 90.281336 \nC 314.527377 75.063732 267.511545 73.681428 223.352306 86.326482 \nC 179.193066 98.971536 140.034896 125.029873 111.318423 160.880954 \nL 284.4 299.518125 \nz\n\" style=\"fill: #1f77b4\"/>\n   </g>\n   <g id=\"patch_3\">\n    <path d=\"M 111.318423 160.880954 \nC 80.150356 199.792727 62.996872 248.10094 62.645507 297.955238 \nC 62.294143 347.809537 78.765021 396.354728 109.381533 435.701949 \nC 139.998045 475.049169 183.006759 502.944974 231.418521 514.856139 \nC 279.830283 526.767305 330.872513 522.01167 376.250568 501.362052 \nL 284.4 299.518125 \nz\n\" style=\"fill: #ff7f0e\"/>\n   </g>\n   <g id=\"patch_4\">\n    <path d=\"M 376.250568 501.362052 \nC 376.895553 501.068547 377.539128 500.771951 378.18127 500.472277 \nC 378.823412 500.172602 379.464114 499.869851 380.103353 499.564034 \nL 284.4 299.518125 \nz\n\" style=\"fill: #2ca02c\"/>\n   </g>\n   <g id=\"patch_5\">\n    <path d=\"M 380.103353 499.564034 \nC 396.019456 491.94966 410.97011 482.462941 424.637884 471.3053 \nC 438.305658 460.147658 450.593132 447.398623 461.239416 433.328881 \nL 284.4 299.518125 \nz\n\" style=\"fill: #d62728\"/>\n   </g>\n   <g id=\"patch_6\">\n    <path d=\"M 461.239416 433.328881 \nC 461.298792 433.250412 461.358116 433.171903 461.417388 433.093355 \nC 461.47666 433.014806 461.535879 432.936219 461.595046 432.857592 \nL 284.4 299.518125 \nz\n\" style=\"fill: #9467bd\"/>\n   </g>\n   <g id=\"patch_7\">\n    <path d=\"M 461.595046 432.857592 \nC 466.650733 426.13908 471.320224 419.138466 475.580893 411.889668 \nC 479.841562 404.640871 483.686519 397.155615 487.097132 389.470169 \nL 284.4 299.518125 \nz\n\" style=\"fill: #8c564b\"/>\n   </g>\n   <g id=\"patch_8\">\n    <path d=\"M 487.097132 389.470169 \nC 493.364462 375.347423 498.138682 360.608263 501.341942 345.493022 \nC 504.545203 330.377782 506.159999 314.969068 506.16 299.518134 \nL 284.4 299.518125 \nz\n\" style=\"fill: #e377c2\"/>\n   </g>\n   <g id=\"matplotlib.axis_1\"/>\n   <g id=\"matplotlib.axis_2\"/>\n   <g id=\"text_1\">\n    <!-- white -->\n    <g transform=\"translate(365.214175 72.117032) scale(0.1 -0.1)\">\n     <defs>\n      <path id=\"DejaVuSans-77\" d=\"M 269 3500 \nL 844 3500 \nL 1563 769 \nL 2278 3500 \nL 2956 3500 \nL 3675 769 \nL 4391 3500 \nL 4966 3500 \nL 4050 0 \nL 3372 0 \nL 2619 2869 \nL 1863 0 \nL 1184 0 \nL 269 3500 \nz\n\" transform=\"scale(0.015625)\"/>\n      <path id=\"DejaVuSans-68\" d=\"M 3513 2113 \nL 3513 0 \nL 2938 0 \nL 2938 2094 \nQ 2938 2591 2744 2837 \nQ 2550 3084 2163 3084 \nQ 1697 3084 1428 2787 \nQ 1159 2491 1159 1978 \nL 1159 0 \nL 581 0 \nL 581 4863 \nL 1159 4863 \nL 1159 2956 \nQ 1366 3272 1645 3428 \nQ 1925 3584 2291 3584 \nQ 2894 3584 3203 3211 \nQ 3513 2838 3513 2113 \nz\n\" transform=\"scale(0.015625)\"/>\n      <path id=\"DejaVuSans-69\" d=\"M 603 3500 \nL 1178 3500 \nL 1178 0 \nL 603 0 \nL 603 3500 \nz\nM 603 4863 \nL 1178 4863 \nL 1178 4134 \nL 603 4134 \nL 603 4863 \nz\n\" transform=\"scale(0.015625)\"/>\n      <path id=\"DejaVuSans-74\" d=\"M 1172 4494 \nL 1172 3500 \nL 2356 3500 \nL 2356 3053 \nL 1172 3053 \nL 1172 1153 \nQ 1172 725 1289 603 \nQ 1406 481 1766 481 \nL 2356 481 \nL 2356 0 \nL 1766 0 \nQ 1100 0 847 248 \nQ 594 497 594 1153 \nL 594 3053 \nL 172 3053 \nL 172 3500 \nL 594 3500 \nL 594 4494 \nL 1172 4494 \nz\n\" transform=\"scale(0.015625)\"/>\n      <path id=\"DejaVuSans-65\" d=\"M 3597 1894 \nL 3597 1613 \nL 953 1613 \nQ 991 1019 1311 708 \nQ 1631 397 2203 397 \nQ 2534 397 2845 478 \nQ 3156 559 3463 722 \nL 3463 178 \nQ 3153 47 2828 -22 \nQ 2503 -91 2169 -91 \nQ 1331 -91 842 396 \nQ 353 884 353 1716 \nQ 353 2575 817 3079 \nQ 1281 3584 2069 3584 \nQ 2775 3584 3186 3129 \nQ 3597 2675 3597 1894 \nz\nM 3022 2063 \nQ 3016 2534 2758 2815 \nQ 2500 3097 2075 3097 \nQ 1594 3097 1305 2825 \nQ 1016 2553 972 2059 \nL 3022 2063 \nz\n\" transform=\"scale(0.015625)\"/>\n     </defs>\n     <use xlink:href=\"#DejaVuSans-77\"/>\n     <use xlink:href=\"#DejaVuSans-68\" transform=\"translate(81.787109 0)\"/>\n     <use xlink:href=\"#DejaVuSans-69\" transform=\"translate(145.166016 0)\"/>\n     <use xlink:href=\"#DejaVuSans-74\" transform=\"translate(172.949219 0)\"/>\n     <use xlink:href=\"#DejaVuSans-65\" transform=\"translate(212.158203 0)\"/>\n    </g>\n   </g>\n   <g id=\"text_2\">\n    <!-- black -->\n    <g transform=\"translate(65.335936 452.079706) scale(0.1 -0.1)\">\n     <defs>\n      <path id=\"DejaVuSans-62\" d=\"M 3116 1747 \nQ 3116 2381 2855 2742 \nQ 2594 3103 2138 3103 \nQ 1681 3103 1420 2742 \nQ 1159 2381 1159 1747 \nQ 1159 1113 1420 752 \nQ 1681 391 2138 391 \nQ 2594 391 2855 752 \nQ 3116 1113 3116 1747 \nz\nM 1159 2969 \nQ 1341 3281 1617 3432 \nQ 1894 3584 2278 3584 \nQ 2916 3584 3314 3078 \nQ 3713 2572 3713 1747 \nQ 3713 922 3314 415 \nQ 2916 -91 2278 -91 \nQ 1894 -91 1617 61 \nQ 1341 213 1159 525 \nL 1159 0 \nL 581 0 \nL 581 4863 \nL 1159 4863 \nL 1159 2969 \nz\n\" transform=\"scale(0.015625)\"/>\n      <path id=\"DejaVuSans-6c\" d=\"M 603 4863 \nL 1178 4863 \nL 1178 0 \nL 603 0 \nL 603 4863 \nz\n\" transform=\"scale(0.015625)\"/>\n      <path id=\"DejaVuSans-61\" d=\"M 2194 1759 \nQ 1497 1759 1228 1600 \nQ 959 1441 959 1056 \nQ 959 750 1161 570 \nQ 1363 391 1709 391 \nQ 2188 391 2477 730 \nQ 2766 1069 2766 1631 \nL 2766 1759 \nL 2194 1759 \nz\nM 3341 1997 \nL 3341 0 \nL 2766 0 \nL 2766 531 \nQ 2569 213 2275 61 \nQ 1981 -91 1556 -91 \nQ 1019 -91 701 211 \nQ 384 513 384 1019 \nQ 384 1609 779 1909 \nQ 1175 2209 1959 2209 \nL 2766 2209 \nL 2766 2266 \nQ 2766 2663 2505 2880 \nQ 2244 3097 1772 3097 \nQ 1472 3097 1187 3025 \nQ 903 2953 641 2809 \nL 641 3341 \nQ 956 3463 1253 3523 \nQ 1550 3584 1831 3584 \nQ 2591 3584 2966 3190 \nQ 3341 2797 3341 1997 \nz\n\" transform=\"scale(0.015625)\"/>\n      <path id=\"DejaVuSans-63\" d=\"M 3122 3366 \nL 3122 2828 \nQ 2878 2963 2633 3030 \nQ 2388 3097 2138 3097 \nQ 1578 3097 1268 2742 \nQ 959 2388 959 1747 \nQ 959 1106 1268 751 \nQ 1578 397 2138 397 \nQ 2388 397 2633 464 \nQ 2878 531 3122 666 \nL 3122 134 \nQ 2881 22 2623 -34 \nQ 2366 -91 2075 -91 \nQ 1284 -91 818 406 \nQ 353 903 353 1747 \nQ 353 2603 823 3093 \nQ 1294 3584 2113 3584 \nQ 2378 3584 2631 3529 \nQ 2884 3475 3122 3366 \nz\n\" transform=\"scale(0.015625)\"/>\n      <path id=\"DejaVuSans-6b\" d=\"M 581 4863 \nL 1159 4863 \nL 1159 1991 \nL 2875 3500 \nL 3609 3500 \nL 1753 1863 \nL 3688 0 \nL 2938 0 \nL 1159 1709 \nL 1159 0 \nL 581 0 \nL 581 4863 \nz\n\" transform=\"scale(0.015625)\"/>\n     </defs>\n     <use xlink:href=\"#DejaVuSans-62\"/>\n     <use xlink:href=\"#DejaVuSans-6c\" transform=\"translate(63.476562 0)\"/>\n     <use xlink:href=\"#DejaVuSans-61\" transform=\"translate(91.259766 0)\"/>\n     <use xlink:href=\"#DejaVuSans-63\" transform=\"translate(152.539062 0)\"/>\n     <use xlink:href=\"#DejaVuSans-6b\" transform=\"translate(207.519531 0)\"/>\n    </g>\n   </g>\n   <g id=\"text_3\">\n    <!-- amin -->\n    <g transform=\"translate(387.559397 523.327067) scale(0.1 -0.1)\">\n     <defs>\n      <path id=\"DejaVuSans-6d\" d=\"M 3328 2828 \nQ 3544 3216 3844 3400 \nQ 4144 3584 4550 3584 \nQ 5097 3584 5394 3201 \nQ 5691 2819 5691 2113 \nL 5691 0 \nL 5113 0 \nL 5113 2094 \nQ 5113 2597 4934 2840 \nQ 4756 3084 4391 3084 \nQ 3944 3084 3684 2787 \nQ 3425 2491 3425 1978 \nL 3425 0 \nL 2847 0 \nL 2847 2094 \nQ 2847 2600 2669 2842 \nQ 2491 3084 2119 3084 \nQ 1678 3084 1418 2786 \nQ 1159 2488 1159 1978 \nL 1159 0 \nL 581 0 \nL 581 3500 \nL 1159 3500 \nL 1159 2956 \nQ 1356 3278 1631 3431 \nQ 1906 3584 2284 3584 \nQ 2666 3584 2933 3390 \nQ 3200 3197 3328 2828 \nz\n\" transform=\"scale(0.015625)\"/>\n      <path id=\"DejaVuSans-6e\" d=\"M 3513 2113 \nL 3513 0 \nL 2938 0 \nL 2938 2094 \nQ 2938 2591 2744 2837 \nQ 2550 3084 2163 3084 \nQ 1697 3084 1428 2787 \nQ 1159 2491 1159 1978 \nL 1159 0 \nL 581 0 \nL 581 3500 \nL 1159 3500 \nL 1159 2956 \nQ 1366 3272 1645 3428 \nQ 1925 3584 2291 3584 \nQ 2894 3584 3203 3211 \nQ 3513 2838 3513 2113 \nz\n\" transform=\"scale(0.015625)\"/>\n     </defs>\n     <use xlink:href=\"#DejaVuSans-61\"/>\n     <use xlink:href=\"#DejaVuSans-6d\" transform=\"translate(61.279297 0)\"/>\n     <use xlink:href=\"#DejaVuSans-69\" transform=\"translate(158.691406 0)\"/>\n     <use xlink:href=\"#DejaVuSans-6e\" transform=\"translate(186.474609 0)\"/>\n    </g>\n   </g>\n   <g id=\"text_4\">\n    <!-- asian -->\n    <g transform=\"translate(438.661673 491.243392) scale(0.1 -0.1)\">\n     <defs>\n      <path id=\"DejaVuSans-73\" d=\"M 2834 3397 \nL 2834 2853 \nQ 2591 2978 2328 3040 \nQ 2066 3103 1784 3103 \nQ 1356 3103 1142 2972 \nQ 928 2841 928 2578 \nQ 928 2378 1081 2264 \nQ 1234 2150 1697 2047 \nL 1894 2003 \nQ 2506 1872 2764 1633 \nQ 3022 1394 3022 966 \nQ 3022 478 2636 193 \nQ 2250 -91 1575 -91 \nQ 1294 -91 989 -36 \nQ 684 19 347 128 \nL 347 722 \nQ 666 556 975 473 \nQ 1284 391 1588 391 \nQ 1994 391 2212 530 \nQ 2431 669 2431 922 \nQ 2431 1156 2273 1281 \nQ 2116 1406 1581 1522 \nL 1381 1569 \nQ 847 1681 609 1914 \nQ 372 2147 372 2553 \nQ 372 3047 722 3315 \nQ 1072 3584 1716 3584 \nQ 2034 3584 2315 3537 \nQ 2597 3491 2834 3397 \nz\n\" transform=\"scale(0.015625)\"/>\n     </defs>\n     <use xlink:href=\"#DejaVuSans-61\"/>\n     <use xlink:href=\"#DejaVuSans-73\" transform=\"translate(61.279297 0)\"/>\n     <use xlink:href=\"#DejaVuSans-69\" transform=\"translate(113.378906 0)\"/>\n     <use xlink:href=\"#DejaVuSans-61\" transform=\"translate(141.162109 0)\"/>\n     <use xlink:href=\"#DejaVuSans-6e\" transform=\"translate(202.441406 0)\"/>\n    </g>\n   </g>\n   <g id=\"text_5\">\n    <!-- nhpi -->\n    <g transform=\"translate(479.119127 449.210253) scale(0.1 -0.1)\">\n     <defs>\n      <path id=\"DejaVuSans-70\" d=\"M 1159 525 \nL 1159 -1331 \nL 581 -1331 \nL 581 3500 \nL 1159 3500 \nL 1159 2969 \nQ 1341 3281 1617 3432 \nQ 1894 3584 2278 3584 \nQ 2916 3584 3314 3078 \nQ 3713 2572 3713 1747 \nQ 3713 922 3314 415 \nQ 2916 -91 2278 -91 \nQ 1894 -91 1617 61 \nQ 1341 213 1159 525 \nz\nM 3116 1747 \nQ 3116 2381 2855 2742 \nQ 2594 3103 2138 3103 \nQ 1681 3103 1420 2742 \nQ 1159 2381 1159 1747 \nQ 1159 1113 1420 752 \nQ 1681 391 2138 391 \nQ 2594 391 2855 752 \nQ 3116 1113 3116 1747 \nz\n\" transform=\"scale(0.015625)\"/>\n     </defs>\n     <use xlink:href=\"#DejaVuSans-6e\"/>\n     <use xlink:href=\"#DejaVuSans-68\" transform=\"translate(63.378906 0)\"/>\n     <use xlink:href=\"#DejaVuSans-70\" transform=\"translate(126.757812 0)\"/>\n     <use xlink:href=\"#DejaVuSans-69\" transform=\"translate(190.234375 0)\"/>\n    </g>\n   </g>\n   <g id=\"text_6\">\n    <!-- other -->\n    <g transform=\"translate(494.698982 425.886198) scale(0.1 -0.1)\">\n     <defs>\n      <path id=\"DejaVuSans-6f\" d=\"M 1959 3097 \nQ 1497 3097 1228 2736 \nQ 959 2375 959 1747 \nQ 959 1119 1226 758 \nQ 1494 397 1959 397 \nQ 2419 397 2687 759 \nQ 2956 1122 2956 1747 \nQ 2956 2369 2687 2733 \nQ 2419 3097 1959 3097 \nz\nM 1959 3584 \nQ 2709 3584 3137 3096 \nQ 3566 2609 3566 1747 \nQ 3566 888 3137 398 \nQ 2709 -91 1959 -91 \nQ 1206 -91 779 398 \nQ 353 888 353 1747 \nQ 353 2609 779 3096 \nQ 1206 3584 1959 3584 \nz\n\" transform=\"scale(0.015625)\"/>\n      <path id=\"DejaVuSans-72\" d=\"M 2631 2963 \nQ 2534 3019 2420 3045 \nQ 2306 3072 2169 3072 \nQ 1681 3072 1420 2755 \nQ 1159 2438 1159 1844 \nL 1159 0 \nL 581 0 \nL 581 3500 \nL 1159 3500 \nL 1159 2956 \nQ 1341 3275 1631 3429 \nQ 1922 3584 2338 3584 \nQ 2397 3584 2469 3576 \nQ 2541 3569 2628 3553 \nL 2631 2963 \nz\n\" transform=\"scale(0.015625)\"/>\n     </defs>\n     <use xlink:href=\"#DejaVuSans-6f\"/>\n     <use xlink:href=\"#DejaVuSans-74\" transform=\"translate(61.181641 0)\"/>\n     <use xlink:href=\"#DejaVuSans-68\" transform=\"translate(100.390625 0)\"/>\n     <use xlink:href=\"#DejaVuSans-65\" transform=\"translate(163.769531 0)\"/>\n     <use xlink:href=\"#DejaVuSans-72\" transform=\"translate(225.292969 0)\"/>\n    </g>\n   </g>\n   <g id=\"text_7\">\n    <!-- two_or_more -->\n    <g transform=\"translate(523.036137 352.571762) scale(0.1 -0.1)\">\n     <defs>\n      <path id=\"DejaVuSans-5f\" d=\"M 3263 -1063 \nL 3263 -1509 \nL -63 -1509 \nL -63 -1063 \nL 3263 -1063 \nz\n\" transform=\"scale(0.015625)\"/>\n     </defs>\n     <use xlink:href=\"#DejaVuSans-74\"/>\n     <use xlink:href=\"#DejaVuSans-77\" transform=\"translate(39.208984 0)\"/>\n     <use xlink:href=\"#DejaVuSans-6f\" transform=\"translate(120.996094 0)\"/>\n     <use xlink:href=\"#DejaVuSans-5f\" transform=\"translate(182.177734 0)\"/>\n     <use xlink:href=\"#DejaVuSans-6f\" transform=\"translate(232.177734 0)\"/>\n     <use xlink:href=\"#DejaVuSans-72\" transform=\"translate(293.359375 0)\"/>\n     <use xlink:href=\"#DejaVuSans-5f\" transform=\"translate(334.472656 0)\"/>\n     <use xlink:href=\"#DejaVuSans-6d\" transform=\"translate(384.472656 0)\"/>\n     <use xlink:href=\"#DejaVuSans-6f\" transform=\"translate(481.884766 0)\"/>\n     <use xlink:href=\"#DejaVuSans-72\" transform=\"translate(543.066406 0)\"/>\n     <use xlink:href=\"#DejaVuSans-65\" transform=\"translate(581.929688 0)\"/>\n    </g>\n   </g>\n   <g id=\"text_8\">\n    <!-- Population of Fulton County, Georgia by race -->\n    <g transform=\"translate(149.941875 16.318125) scale(0.12 -0.12)\">\n     <defs>\n      <path id=\"DejaVuSans-50\" d=\"M 1259 4147 \nL 1259 2394 \nL 2053 2394 \nQ 2494 2394 2734 2622 \nQ 2975 2850 2975 3272 \nQ 2975 3691 2734 3919 \nQ 2494 4147 2053 4147 \nL 1259 4147 \nz\nM 628 4666 \nL 2053 4666 \nQ 2838 4666 3239 4311 \nQ 3641 3956 3641 3272 \nQ 3641 2581 3239 2228 \nQ 2838 1875 2053 1875 \nL 1259 1875 \nL 1259 0 \nL 628 0 \nL 628 4666 \nz\n\" transform=\"scale(0.015625)\"/>\n      <path id=\"DejaVuSans-75\" d=\"M 544 1381 \nL 544 3500 \nL 1119 3500 \nL 1119 1403 \nQ 1119 906 1312 657 \nQ 1506 409 1894 409 \nQ 2359 409 2629 706 \nQ 2900 1003 2900 1516 \nL 2900 3500 \nL 3475 3500 \nL 3475 0 \nL 2900 0 \nL 2900 538 \nQ 2691 219 2414 64 \nQ 2138 -91 1772 -91 \nQ 1169 -91 856 284 \nQ 544 659 544 1381 \nz\nM 1991 3584 \nL 1991 3584 \nz\n\" transform=\"scale(0.015625)\"/>\n      <path id=\"DejaVuSans-20\" transform=\"scale(0.015625)\"/>\n      <path id=\"DejaVuSans-66\" d=\"M 2375 4863 \nL 2375 4384 \nL 1825 4384 \nQ 1516 4384 1395 4259 \nQ 1275 4134 1275 3809 \nL 1275 3500 \nL 2222 3500 \nL 2222 3053 \nL 1275 3053 \nL 1275 0 \nL 697 0 \nL 697 3053 \nL 147 3053 \nL 147 3500 \nL 697 3500 \nL 697 3744 \nQ 697 4328 969 4595 \nQ 1241 4863 1831 4863 \nL 2375 4863 \nz\n\" transform=\"scale(0.015625)\"/>\n      <path id=\"DejaVuSans-46\" d=\"M 628 4666 \nL 3309 4666 \nL 3309 4134 \nL 1259 4134 \nL 1259 2759 \nL 3109 2759 \nL 3109 2228 \nL 1259 2228 \nL 1259 0 \nL 628 0 \nL 628 4666 \nz\n\" transform=\"scale(0.015625)\"/>\n      <path id=\"DejaVuSans-43\" d=\"M 4122 4306 \nL 4122 3641 \nQ 3803 3938 3442 4084 \nQ 3081 4231 2675 4231 \nQ 1875 4231 1450 3742 \nQ 1025 3253 1025 2328 \nQ 1025 1406 1450 917 \nQ 1875 428 2675 428 \nQ 3081 428 3442 575 \nQ 3803 722 4122 1019 \nL 4122 359 \nQ 3791 134 3420 21 \nQ 3050 -91 2638 -91 \nQ 1578 -91 968 557 \nQ 359 1206 359 2328 \nQ 359 3453 968 4101 \nQ 1578 4750 2638 4750 \nQ 3056 4750 3426 4639 \nQ 3797 4528 4122 4306 \nz\n\" transform=\"scale(0.015625)\"/>\n      <path id=\"DejaVuSans-79\" d=\"M 2059 -325 \nQ 1816 -950 1584 -1140 \nQ 1353 -1331 966 -1331 \nL 506 -1331 \nL 506 -850 \nL 844 -850 \nQ 1081 -850 1212 -737 \nQ 1344 -625 1503 -206 \nL 1606 56 \nL 191 3500 \nL 800 3500 \nL 1894 763 \nL 2988 3500 \nL 3597 3500 \nL 2059 -325 \nz\n\" transform=\"scale(0.015625)\"/>\n      <path id=\"DejaVuSans-2c\" d=\"M 750 794 \nL 1409 794 \nL 1409 256 \nL 897 -744 \nL 494 -744 \nL 750 256 \nL 750 794 \nz\n\" transform=\"scale(0.015625)\"/>\n      <path id=\"DejaVuSans-47\" d=\"M 3809 666 \nL 3809 1919 \nL 2778 1919 \nL 2778 2438 \nL 4434 2438 \nL 4434 434 \nQ 4069 175 3628 42 \nQ 3188 -91 2688 -91 \nQ 1594 -91 976 548 \nQ 359 1188 359 2328 \nQ 359 3472 976 4111 \nQ 1594 4750 2688 4750 \nQ 3144 4750 3555 4637 \nQ 3966 4525 4313 4306 \nL 4313 3634 \nQ 3963 3931 3569 4081 \nQ 3175 4231 2741 4231 \nQ 1884 4231 1454 3753 \nQ 1025 3275 1025 2328 \nQ 1025 1384 1454 906 \nQ 1884 428 2741 428 \nQ 3075 428 3337 486 \nQ 3600 544 3809 666 \nz\n\" transform=\"scale(0.015625)\"/>\n      <path id=\"DejaVuSans-67\" d=\"M 2906 1791 \nQ 2906 2416 2648 2759 \nQ 2391 3103 1925 3103 \nQ 1463 3103 1205 2759 \nQ 947 2416 947 1791 \nQ 947 1169 1205 825 \nQ 1463 481 1925 481 \nQ 2391 481 2648 825 \nQ 2906 1169 2906 1791 \nz\nM 3481 434 \nQ 3481 -459 3084 -895 \nQ 2688 -1331 1869 -1331 \nQ 1566 -1331 1297 -1286 \nQ 1028 -1241 775 -1147 \nL 775 -588 \nQ 1028 -725 1275 -790 \nQ 1522 -856 1778 -856 \nQ 2344 -856 2625 -561 \nQ 2906 -266 2906 331 \nL 2906 616 \nQ 2728 306 2450 153 \nQ 2172 0 1784 0 \nQ 1141 0 747 490 \nQ 353 981 353 1791 \nQ 353 2603 747 3093 \nQ 1141 3584 1784 3584 \nQ 2172 3584 2450 3431 \nQ 2728 3278 2906 2969 \nL 2906 3500 \nL 3481 3500 \nL 3481 434 \nz\n\" transform=\"scale(0.015625)\"/>\n     </defs>\n     <use xlink:href=\"#DejaVuSans-50\"/>\n     <use xlink:href=\"#DejaVuSans-6f\" transform=\"translate(56.677734 0)\"/>\n     <use xlink:href=\"#DejaVuSans-70\" transform=\"translate(117.859375 0)\"/>\n     <use xlink:href=\"#DejaVuSans-75\" transform=\"translate(181.335938 0)\"/>\n     <use xlink:href=\"#DejaVuSans-6c\" transform=\"translate(244.714844 0)\"/>\n     <use xlink:href=\"#DejaVuSans-61\" transform=\"translate(272.498047 0)\"/>\n     <use xlink:href=\"#DejaVuSans-74\" transform=\"translate(333.777344 0)\"/>\n     <use xlink:href=\"#DejaVuSans-69\" transform=\"translate(372.986328 0)\"/>\n     <use xlink:href=\"#DejaVuSans-6f\" transform=\"translate(400.769531 0)\"/>\n     <use xlink:href=\"#DejaVuSans-6e\" transform=\"translate(461.951172 0)\"/>\n     <use xlink:href=\"#DejaVuSans-20\" transform=\"translate(525.330078 0)\"/>\n     <use xlink:href=\"#DejaVuSans-6f\" transform=\"translate(557.117188 0)\"/>\n     <use xlink:href=\"#DejaVuSans-66\" transform=\"translate(618.298828 0)\"/>\n     <use xlink:href=\"#DejaVuSans-20\" transform=\"translate(653.503906 0)\"/>\n     <use xlink:href=\"#DejaVuSans-46\" transform=\"translate(685.291016 0)\"/>\n     <use xlink:href=\"#DejaVuSans-75\" transform=\"translate(737.310547 0)\"/>\n     <use xlink:href=\"#DejaVuSans-6c\" transform=\"translate(800.689453 0)\"/>\n     <use xlink:href=\"#DejaVuSans-74\" transform=\"translate(828.472656 0)\"/>\n     <use xlink:href=\"#DejaVuSans-6f\" transform=\"translate(867.681641 0)\"/>\n     <use xlink:href=\"#DejaVuSans-6e\" transform=\"translate(928.863281 0)\"/>\n     <use xlink:href=\"#DejaVuSans-20\" transform=\"translate(992.242188 0)\"/>\n     <use xlink:href=\"#DejaVuSans-43\" transform=\"translate(1024.029297 0)\"/>\n     <use xlink:href=\"#DejaVuSans-6f\" transform=\"translate(1093.853516 0)\"/>\n     <use xlink:href=\"#DejaVuSans-75\" transform=\"translate(1155.035156 0)\"/>\n     <use xlink:href=\"#DejaVuSans-6e\" transform=\"translate(1218.414062 0)\"/>\n     <use xlink:href=\"#DejaVuSans-74\" transform=\"translate(1281.792969 0)\"/>\n     <use xlink:href=\"#DejaVuSans-79\" transform=\"translate(1321.001953 0)\"/>\n     <use xlink:href=\"#DejaVuSans-2c\" transform=\"translate(1380.181641 0)\"/>\n     <use xlink:href=\"#DejaVuSans-20\" transform=\"translate(1411.96875 0)\"/>\n     <use xlink:href=\"#DejaVuSans-47\" transform=\"translate(1443.755859 0)\"/>\n     <use xlink:href=\"#DejaVuSans-65\" transform=\"translate(1521.246094 0)\"/>\n     <use xlink:href=\"#DejaVuSans-6f\" transform=\"translate(1582.769531 0)\"/>\n     <use xlink:href=\"#DejaVuSans-72\" transform=\"translate(1643.951172 0)\"/>\n     <use xlink:href=\"#DejaVuSans-67\" transform=\"translate(1683.314453 0)\"/>\n     <use xlink:href=\"#DejaVuSans-69\" transform=\"translate(1746.791016 0)\"/>\n     <use xlink:href=\"#DejaVuSans-61\" transform=\"translate(1774.574219 0)\"/>\n     <use xlink:href=\"#DejaVuSans-20\" transform=\"translate(1835.853516 0)\"/>\n     <use xlink:href=\"#DejaVuSans-62\" transform=\"translate(1867.640625 0)\"/>\n     <use xlink:href=\"#DejaVuSans-79\" transform=\"translate(1931.117188 0)\"/>\n     <use xlink:href=\"#DejaVuSans-20\" transform=\"translate(1990.296875 0)\"/>\n     <use xlink:href=\"#DejaVuSans-72\" transform=\"translate(2022.083984 0)\"/>\n     <use xlink:href=\"#DejaVuSans-61\" transform=\"translate(2063.197266 0)\"/>\n     <use xlink:href=\"#DejaVuSans-63\" transform=\"translate(2124.476562 0)\"/>\n     <use xlink:href=\"#DejaVuSans-65\" transform=\"translate(2179.457031 0)\"/>\n    </g>\n   </g>\n  </g>\n </g>\n</svg>\n"
          },
          "metadata": {}
        }
      ],
      "source": [
        "county = \"Fulton County, Georgia\" #can change county here aswell\n",
        "ax = race_df.T.plot.pie(y=county, figsize=(10, 10), legend=False)\n",
        "ax.set_title(f\"Population of {county} by race\")\n",
        "ax.set_ylabel(\"\")\n",
        "plt.show()"
      ]
    },
    {
      "cell_type": "markdown",
      "id": "43c0a848-d2c8-4ae1-b654-5632bb17f07a",
      "metadata": {
        "id": "43c0a848-d2c8-4ae1-b654-5632bb17f07a"
      },
      "source": [
        "We can visualize the demographic breakdown of the whole state in a similar fashion: first, we compute total population by race for the entire state (as illustrated in the section above), and then we plot the resulting Pandas `Series`. This pie chart improves on the county-level pie chart above by showing percentages for each racial category (rounded to the nearest 0.1%)."
      ]
    },
    {
      "cell_type": "code",
      "execution_count": 88,
      "id": "65557c72-c9c7-4198-9373-4e181e05ba88",
      "metadata": {
        "id": "65557c72-c9c7-4198-9373-4e181e05ba88",
        "outputId": "8b3c36d5-64f0-4b79-e658-e6a5718a3fc2",
        "colab": {
          "base_uri": "https://localhost:8080/",
          "height": 799
        }
      },
      "outputs": [
        {
          "output_type": "display_data",
          "data": {
            "text/plain": [
              "<Figure size 1000x1000 with 1 Axes>"
            ],
            "image/svg+xml": "<?xml version=\"1.0\" encoding=\"utf-8\" standalone=\"no\"?>\n<!DOCTYPE svg PUBLIC \"-//W3C//DTD SVG 1.1//EN\"\n  \"http://www.w3.org/Graphics/SVG/1.1/DTD/svg11.dtd\">\n<svg xmlns:xlink=\"http://www.w3.org/1999/xlink\" width=\"594.581449pt\" height=\"583.918125pt\" viewBox=\"0 0 594.581449 583.918125\" xmlns=\"http://www.w3.org/2000/svg\" version=\"1.1\">\n <metadata>\n  <rdf:RDF xmlns:dc=\"http://purl.org/dc/elements/1.1/\" xmlns:cc=\"http://creativecommons.org/ns#\" xmlns:rdf=\"http://www.w3.org/1999/02/22-rdf-syntax-ns#\">\n   <cc:Work>\n    <dc:type rdf:resource=\"http://purl.org/dc/dcmitype/StillImage\"/>\n    <dc:date>2025-02-06T04:23:39.220347</dc:date>\n    <dc:format>image/svg+xml</dc:format>\n    <dc:creator>\n     <cc:Agent>\n      <dc:title>Matplotlib v3.10.0, https://matplotlib.org/</dc:title>\n     </cc:Agent>\n    </dc:creator>\n   </cc:Work>\n  </rdf:RDF>\n </metadata>\n <defs>\n  <style type=\"text/css\">*{stroke-linejoin: round; stroke-linecap: butt}</style>\n </defs>\n <g id=\"figure_1\">\n  <g id=\"patch_1\">\n   <path d=\"M 0 583.918125 \nL 594.581449 583.918125 \nL 594.581449 0 \nL 0 0 \nz\n\" style=\"fill: #ffffff\"/>\n  </g>\n  <g id=\"axes_1\">\n   <g id=\"patch_2\">\n    <path d=\"M 506.16 299.518125 \nC 506.16 253.584087 491.888248 208.765382 465.327659 171.289111 \nC 438.767069 133.81284 401.207487 105.498939 357.867432 90.281336 \nC 314.527377 75.063732 267.511545 73.681428 223.352306 86.326482 \nC 179.193066 98.971536 140.034896 125.029873 111.318423 160.880954 \nL 284.4 299.518125 \nz\n\" style=\"fill: #1f77b4\"/>\n   </g>\n   <g id=\"patch_3\">\n    <path d=\"M 111.318423 160.880954 \nC 80.150356 199.792727 62.996872 248.10094 62.645507 297.955238 \nC 62.294143 347.809537 78.765021 396.354728 109.381533 435.701949 \nC 139.998045 475.049169 183.006759 502.944974 231.418521 514.856139 \nC 279.830283 526.767305 330.872513 522.01167 376.250568 501.362052 \nL 284.4 299.518125 \nz\n\" style=\"fill: #ff7f0e\"/>\n   </g>\n   <g id=\"patch_4\">\n    <path d=\"M 376.250568 501.362052 \nC 376.895553 501.068547 377.539128 500.771951 378.18127 500.472277 \nC 378.823412 500.172602 379.464114 499.869851 380.103353 499.564034 \nL 284.4 299.518125 \nz\n\" style=\"fill: #2ca02c\"/>\n   </g>\n   <g id=\"patch_5\">\n    <path d=\"M 380.103353 499.564034 \nC 396.019456 491.94966 410.97011 482.462941 424.637884 471.3053 \nC 438.305658 460.147658 450.593132 447.398623 461.239416 433.328881 \nL 284.4 299.518125 \nz\n\" style=\"fill: #d62728\"/>\n   </g>\n   <g id=\"patch_6\">\n    <path d=\"M 461.239416 433.328881 \nC 461.298792 433.250412 461.358116 433.171903 461.417388 433.093355 \nC 461.47666 433.014806 461.535879 432.936219 461.595046 432.857592 \nL 284.4 299.518125 \nz\n\" style=\"fill: #9467bd\"/>\n   </g>\n   <g id=\"patch_7\">\n    <path d=\"M 461.595046 432.857592 \nC 466.650733 426.13908 471.320224 419.138466 475.580893 411.889668 \nC 479.841562 404.640871 483.686519 397.155615 487.097132 389.470169 \nL 284.4 299.518125 \nz\n\" style=\"fill: #8c564b\"/>\n   </g>\n   <g id=\"patch_8\">\n    <path d=\"M 487.097132 389.470169 \nC 493.364462 375.347423 498.138682 360.608263 501.341942 345.493022 \nC 504.545203 330.377782 506.159999 314.969068 506.16 299.518134 \nL 284.4 299.518125 \nz\n\" style=\"fill: #e377c2\"/>\n   </g>\n   <g id=\"matplotlib.axis_1\"/>\n   <g id=\"matplotlib.axis_2\"/>\n   <g id=\"text_1\">\n    <!-- white -->\n    <g transform=\"translate(365.214175 72.117032) scale(0.1 -0.1)\">\n     <defs>\n      <path id=\"DejaVuSans-77\" d=\"M 269 3500 \nL 844 3500 \nL 1563 769 \nL 2278 3500 \nL 2956 3500 \nL 3675 769 \nL 4391 3500 \nL 4966 3500 \nL 4050 0 \nL 3372 0 \nL 2619 2869 \nL 1863 0 \nL 1184 0 \nL 269 3500 \nz\n\" transform=\"scale(0.015625)\"/>\n      <path id=\"DejaVuSans-68\" d=\"M 3513 2113 \nL 3513 0 \nL 2938 0 \nL 2938 2094 \nQ 2938 2591 2744 2837 \nQ 2550 3084 2163 3084 \nQ 1697 3084 1428 2787 \nQ 1159 2491 1159 1978 \nL 1159 0 \nL 581 0 \nL 581 4863 \nL 1159 4863 \nL 1159 2956 \nQ 1366 3272 1645 3428 \nQ 1925 3584 2291 3584 \nQ 2894 3584 3203 3211 \nQ 3513 2838 3513 2113 \nz\n\" transform=\"scale(0.015625)\"/>\n      <path id=\"DejaVuSans-69\" d=\"M 603 3500 \nL 1178 3500 \nL 1178 0 \nL 603 0 \nL 603 3500 \nz\nM 603 4863 \nL 1178 4863 \nL 1178 4134 \nL 603 4134 \nL 603 4863 \nz\n\" transform=\"scale(0.015625)\"/>\n      <path id=\"DejaVuSans-74\" d=\"M 1172 4494 \nL 1172 3500 \nL 2356 3500 \nL 2356 3053 \nL 1172 3053 \nL 1172 1153 \nQ 1172 725 1289 603 \nQ 1406 481 1766 481 \nL 2356 481 \nL 2356 0 \nL 1766 0 \nQ 1100 0 847 248 \nQ 594 497 594 1153 \nL 594 3053 \nL 172 3053 \nL 172 3500 \nL 594 3500 \nL 594 4494 \nL 1172 4494 \nz\n\" transform=\"scale(0.015625)\"/>\n      <path id=\"DejaVuSans-65\" d=\"M 3597 1894 \nL 3597 1613 \nL 953 1613 \nQ 991 1019 1311 708 \nQ 1631 397 2203 397 \nQ 2534 397 2845 478 \nQ 3156 559 3463 722 \nL 3463 178 \nQ 3153 47 2828 -22 \nQ 2503 -91 2169 -91 \nQ 1331 -91 842 396 \nQ 353 884 353 1716 \nQ 353 2575 817 3079 \nQ 1281 3584 2069 3584 \nQ 2775 3584 3186 3129 \nQ 3597 2675 3597 1894 \nz\nM 3022 2063 \nQ 3016 2534 2758 2815 \nQ 2500 3097 2075 3097 \nQ 1594 3097 1305 2825 \nQ 1016 2553 972 2059 \nL 3022 2063 \nz\n\" transform=\"scale(0.015625)\"/>\n     </defs>\n     <use xlink:href=\"#DejaVuSans-77\"/>\n     <use xlink:href=\"#DejaVuSans-68\" transform=\"translate(81.787109 0)\"/>\n     <use xlink:href=\"#DejaVuSans-69\" transform=\"translate(145.166016 0)\"/>\n     <use xlink:href=\"#DejaVuSans-74\" transform=\"translate(172.949219 0)\"/>\n     <use xlink:href=\"#DejaVuSans-65\" transform=\"translate(212.158203 0)\"/>\n    </g>\n   </g>\n   <g id=\"text_2\">\n    <!-- 39.3% -->\n    <g transform=\"translate(312.596865 176.735426) scale(0.1 -0.1)\">\n     <defs>\n      <path id=\"DejaVuSans-33\" d=\"M 2597 2516 \nQ 3050 2419 3304 2112 \nQ 3559 1806 3559 1356 \nQ 3559 666 3084 287 \nQ 2609 -91 1734 -91 \nQ 1441 -91 1130 -33 \nQ 819 25 488 141 \nL 488 750 \nQ 750 597 1062 519 \nQ 1375 441 1716 441 \nQ 2309 441 2620 675 \nQ 2931 909 2931 1356 \nQ 2931 1769 2642 2001 \nQ 2353 2234 1838 2234 \nL 1294 2234 \nL 1294 2753 \nL 1863 2753 \nQ 2328 2753 2575 2939 \nQ 2822 3125 2822 3475 \nQ 2822 3834 2567 4026 \nQ 2313 4219 1838 4219 \nQ 1578 4219 1281 4162 \nQ 984 4106 628 3988 \nL 628 4550 \nQ 988 4650 1302 4700 \nQ 1616 4750 1894 4750 \nQ 2613 4750 3031 4423 \nQ 3450 4097 3450 3541 \nQ 3450 3153 3228 2886 \nQ 3006 2619 2597 2516 \nz\n\" transform=\"scale(0.015625)\"/>\n      <path id=\"DejaVuSans-39\" d=\"M 703 97 \nL 703 672 \nQ 941 559 1184 500 \nQ 1428 441 1663 441 \nQ 2288 441 2617 861 \nQ 2947 1281 2994 2138 \nQ 2813 1869 2534 1725 \nQ 2256 1581 1919 1581 \nQ 1219 1581 811 2004 \nQ 403 2428 403 3163 \nQ 403 3881 828 4315 \nQ 1253 4750 1959 4750 \nQ 2769 4750 3195 4129 \nQ 3622 3509 3622 2328 \nQ 3622 1225 3098 567 \nQ 2575 -91 1691 -91 \nQ 1453 -91 1209 -44 \nQ 966 3 703 97 \nz\nM 1959 2075 \nQ 2384 2075 2632 2365 \nQ 2881 2656 2881 3163 \nQ 2881 3666 2632 3958 \nQ 2384 4250 1959 4250 \nQ 1534 4250 1286 3958 \nQ 1038 3666 1038 3163 \nQ 1038 2656 1286 2365 \nQ 1534 2075 1959 2075 \nz\n\" transform=\"scale(0.015625)\"/>\n      <path id=\"DejaVuSans-2e\" d=\"M 684 794 \nL 1344 794 \nL 1344 0 \nL 684 0 \nL 684 794 \nz\n\" transform=\"scale(0.015625)\"/>\n      <path id=\"DejaVuSans-25\" d=\"M 4653 2053 \nQ 4381 2053 4226 1822 \nQ 4072 1591 4072 1178 \nQ 4072 772 4226 539 \nQ 4381 306 4653 306 \nQ 4919 306 5073 539 \nQ 5228 772 5228 1178 \nQ 5228 1588 5073 1820 \nQ 4919 2053 4653 2053 \nz\nM 4653 2450 \nQ 5147 2450 5437 2106 \nQ 5728 1763 5728 1178 \nQ 5728 594 5436 251 \nQ 5144 -91 4653 -91 \nQ 4153 -91 3862 251 \nQ 3572 594 3572 1178 \nQ 3572 1766 3864 2108 \nQ 4156 2450 4653 2450 \nz\nM 1428 4353 \nQ 1159 4353 1004 4120 \nQ 850 3888 850 3481 \nQ 850 3069 1003 2837 \nQ 1156 2606 1428 2606 \nQ 1700 2606 1854 2837 \nQ 2009 3069 2009 3481 \nQ 2009 3884 1853 4118 \nQ 1697 4353 1428 4353 \nz\nM 4250 4750 \nL 4750 4750 \nL 1831 -91 \nL 1331 -91 \nL 4250 4750 \nz\nM 1428 4750 \nQ 1922 4750 2215 4408 \nQ 2509 4066 2509 3481 \nQ 2509 2891 2217 2550 \nQ 1925 2209 1428 2209 \nQ 931 2209 642 2551 \nQ 353 2894 353 3481 \nQ 353 4063 643 4406 \nQ 934 4750 1428 4750 \nz\n\" transform=\"scale(0.015625)\"/>\n     </defs>\n     <use xlink:href=\"#DejaVuSans-33\"/>\n     <use xlink:href=\"#DejaVuSans-39\" transform=\"translate(63.623047 0)\"/>\n     <use xlink:href=\"#DejaVuSans-2e\" transform=\"translate(127.246094 0)\"/>\n     <use xlink:href=\"#DejaVuSans-33\" transform=\"translate(159.033203 0)\"/>\n     <use xlink:href=\"#DejaVuSans-25\" transform=\"translate(222.65625 0)\"/>\n    </g>\n   </g>\n   <g id=\"text_3\">\n    <!-- black -->\n    <g transform=\"translate(65.335936 452.079706) scale(0.1 -0.1)\">\n     <defs>\n      <path id=\"DejaVuSans-62\" d=\"M 3116 1747 \nQ 3116 2381 2855 2742 \nQ 2594 3103 2138 3103 \nQ 1681 3103 1420 2742 \nQ 1159 2381 1159 1747 \nQ 1159 1113 1420 752 \nQ 1681 391 2138 391 \nQ 2594 391 2855 752 \nQ 3116 1113 3116 1747 \nz\nM 1159 2969 \nQ 1341 3281 1617 3432 \nQ 1894 3584 2278 3584 \nQ 2916 3584 3314 3078 \nQ 3713 2572 3713 1747 \nQ 3713 922 3314 415 \nQ 2916 -91 2278 -91 \nQ 1894 -91 1617 61 \nQ 1341 213 1159 525 \nL 1159 0 \nL 581 0 \nL 581 4863 \nL 1159 4863 \nL 1159 2969 \nz\n\" transform=\"scale(0.015625)\"/>\n      <path id=\"DejaVuSans-6c\" d=\"M 603 4863 \nL 1178 4863 \nL 1178 0 \nL 603 0 \nL 603 4863 \nz\n\" transform=\"scale(0.015625)\"/>\n      <path id=\"DejaVuSans-61\" d=\"M 2194 1759 \nQ 1497 1759 1228 1600 \nQ 959 1441 959 1056 \nQ 959 750 1161 570 \nQ 1363 391 1709 391 \nQ 2188 391 2477 730 \nQ 2766 1069 2766 1631 \nL 2766 1759 \nL 2194 1759 \nz\nM 3341 1997 \nL 3341 0 \nL 2766 0 \nL 2766 531 \nQ 2569 213 2275 61 \nQ 1981 -91 1556 -91 \nQ 1019 -91 701 211 \nQ 384 513 384 1019 \nQ 384 1609 779 1909 \nQ 1175 2209 1959 2209 \nL 2766 2209 \nL 2766 2266 \nQ 2766 2663 2505 2880 \nQ 2244 3097 1772 3097 \nQ 1472 3097 1187 3025 \nQ 903 2953 641 2809 \nL 641 3341 \nQ 956 3463 1253 3523 \nQ 1550 3584 1831 3584 \nQ 2591 3584 2966 3190 \nQ 3341 2797 3341 1997 \nz\n\" transform=\"scale(0.015625)\"/>\n      <path id=\"DejaVuSans-63\" d=\"M 3122 3366 \nL 3122 2828 \nQ 2878 2963 2633 3030 \nQ 2388 3097 2138 3097 \nQ 1578 3097 1268 2742 \nQ 959 2388 959 1747 \nQ 959 1106 1268 751 \nQ 1578 397 2138 397 \nQ 2388 397 2633 464 \nQ 2878 531 3122 666 \nL 3122 134 \nQ 2881 22 2623 -34 \nQ 2366 -91 2075 -91 \nQ 1284 -91 818 406 \nQ 353 903 353 1747 \nQ 353 2603 823 3093 \nQ 1294 3584 2113 3584 \nQ 2378 3584 2631 3529 \nQ 2884 3475 3122 3366 \nz\n\" transform=\"scale(0.015625)\"/>\n      <path id=\"DejaVuSans-6b\" d=\"M 581 4863 \nL 1159 4863 \nL 1159 1991 \nL 2875 3500 \nL 3609 3500 \nL 1753 1863 \nL 3688 0 \nL 2938 0 \nL 1159 1709 \nL 1159 0 \nL 581 0 \nL 581 4863 \nz\n\" transform=\"scale(0.015625)\"/>\n     </defs>\n     <use xlink:href=\"#DejaVuSans-62\"/>\n     <use xlink:href=\"#DejaVuSans-6c\" transform=\"translate(63.476562 0)\"/>\n     <use xlink:href=\"#DejaVuSans-61\" transform=\"translate(91.259766 0)\"/>\n     <use xlink:href=\"#DejaVuSans-63\" transform=\"translate(152.539062 0)\"/>\n     <use xlink:href=\"#DejaVuSans-6b\" transform=\"translate(207.519531 0)\"/>\n    </g>\n   </g>\n   <g id=\"text_4\">\n    <!-- 42.5% -->\n    <g transform=\"translate(163.505326 383.987794) scale(0.1 -0.1)\">\n     <defs>\n      <path id=\"DejaVuSans-34\" d=\"M 2419 4116 \nL 825 1625 \nL 2419 1625 \nL 2419 4116 \nz\nM 2253 4666 \nL 3047 4666 \nL 3047 1625 \nL 3713 1625 \nL 3713 1100 \nL 3047 1100 \nL 3047 0 \nL 2419 0 \nL 2419 1100 \nL 313 1100 \nL 313 1709 \nL 2253 4666 \nz\n\" transform=\"scale(0.015625)\"/>\n      <path id=\"DejaVuSans-32\" d=\"M 1228 531 \nL 3431 531 \nL 3431 0 \nL 469 0 \nL 469 531 \nQ 828 903 1448 1529 \nQ 2069 2156 2228 2338 \nQ 2531 2678 2651 2914 \nQ 2772 3150 2772 3378 \nQ 2772 3750 2511 3984 \nQ 2250 4219 1831 4219 \nQ 1534 4219 1204 4116 \nQ 875 4013 500 3803 \nL 500 4441 \nQ 881 4594 1212 4672 \nQ 1544 4750 1819 4750 \nQ 2544 4750 2975 4387 \nQ 3406 4025 3406 3419 \nQ 3406 3131 3298 2873 \nQ 3191 2616 2906 2266 \nQ 2828 2175 2409 1742 \nQ 1991 1309 1228 531 \nz\n\" transform=\"scale(0.015625)\"/>\n      <path id=\"DejaVuSans-35\" d=\"M 691 4666 \nL 3169 4666 \nL 3169 4134 \nL 1269 4134 \nL 1269 2991 \nQ 1406 3038 1543 3061 \nQ 1681 3084 1819 3084 \nQ 2600 3084 3056 2656 \nQ 3513 2228 3513 1497 \nQ 3513 744 3044 326 \nQ 2575 -91 1722 -91 \nQ 1428 -91 1123 -41 \nQ 819 9 494 109 \nL 494 744 \nQ 775 591 1075 516 \nQ 1375 441 1709 441 \nQ 2250 441 2565 725 \nQ 2881 1009 2881 1497 \nQ 2881 1984 2565 2268 \nQ 2250 2553 1709 2553 \nQ 1456 2553 1204 2497 \nQ 953 2441 691 2322 \nL 691 4666 \nz\n\" transform=\"scale(0.015625)\"/>\n     </defs>\n     <use xlink:href=\"#DejaVuSans-34\"/>\n     <use xlink:href=\"#DejaVuSans-32\" transform=\"translate(63.623047 0)\"/>\n     <use xlink:href=\"#DejaVuSans-2e\" transform=\"translate(127.246094 0)\"/>\n     <use xlink:href=\"#DejaVuSans-35\" transform=\"translate(159.033203 0)\"/>\n     <use xlink:href=\"#DejaVuSans-25\" transform=\"translate(222.65625 0)\"/>\n    </g>\n   </g>\n   <g id=\"text_5\">\n    <!-- amin -->\n    <g transform=\"translate(387.559397 523.327067) scale(0.1 -0.1)\">\n     <defs>\n      <path id=\"DejaVuSans-6d\" d=\"M 3328 2828 \nQ 3544 3216 3844 3400 \nQ 4144 3584 4550 3584 \nQ 5097 3584 5394 3201 \nQ 5691 2819 5691 2113 \nL 5691 0 \nL 5113 0 \nL 5113 2094 \nQ 5113 2597 4934 2840 \nQ 4756 3084 4391 3084 \nQ 3944 3084 3684 2787 \nQ 3425 2491 3425 1978 \nL 3425 0 \nL 2847 0 \nL 2847 2094 \nQ 2847 2600 2669 2842 \nQ 2491 3084 2119 3084 \nQ 1678 3084 1418 2786 \nQ 1159 2488 1159 1978 \nL 1159 0 \nL 581 0 \nL 581 3500 \nL 1159 3500 \nL 1159 2956 \nQ 1356 3278 1631 3431 \nQ 1906 3584 2284 3584 \nQ 2666 3584 2933 3390 \nQ 3200 3197 3328 2828 \nz\n\" transform=\"scale(0.015625)\"/>\n      <path id=\"DejaVuSans-6e\" d=\"M 3513 2113 \nL 3513 0 \nL 2938 0 \nL 2938 2094 \nQ 2938 2591 2744 2837 \nQ 2550 3084 2163 3084 \nQ 1697 3084 1428 2787 \nQ 1159 2491 1159 1978 \nL 1159 0 \nL 581 0 \nL 581 3500 \nL 1159 3500 \nL 1159 2956 \nQ 1366 3272 1645 3428 \nQ 1925 3584 2291 3584 \nQ 2894 3584 3203 3211 \nQ 3513 2838 3513 2113 \nz\n\" transform=\"scale(0.015625)\"/>\n     </defs>\n     <use xlink:href=\"#DejaVuSans-61\"/>\n     <use xlink:href=\"#DejaVuSans-6d\" transform=\"translate(61.279297 0)\"/>\n     <use xlink:href=\"#DejaVuSans-69\" transform=\"translate(158.691406 0)\"/>\n     <use xlink:href=\"#DejaVuSans-6e\" transform=\"translate(186.474609 0)\"/>\n    </g>\n   </g>\n   <g id=\"text_6\">\n    <!-- 0.3% -->\n    <g transform=\"translate(327.966418 422.849991) scale(0.1 -0.1)\">\n     <defs>\n      <path id=\"DejaVuSans-30\" d=\"M 2034 4250 \nQ 1547 4250 1301 3770 \nQ 1056 3291 1056 2328 \nQ 1056 1369 1301 889 \nQ 1547 409 2034 409 \nQ 2525 409 2770 889 \nQ 3016 1369 3016 2328 \nQ 3016 3291 2770 3770 \nQ 2525 4250 2034 4250 \nz\nM 2034 4750 \nQ 2819 4750 3233 4129 \nQ 3647 3509 3647 2328 \nQ 3647 1150 3233 529 \nQ 2819 -91 2034 -91 \nQ 1250 -91 836 529 \nQ 422 1150 422 2328 \nQ 422 3509 836 4129 \nQ 1250 4750 2034 4750 \nz\n\" transform=\"scale(0.015625)\"/>\n     </defs>\n     <use xlink:href=\"#DejaVuSans-30\"/>\n     <use xlink:href=\"#DejaVuSans-2e\" transform=\"translate(63.623047 0)\"/>\n     <use xlink:href=\"#DejaVuSans-33\" transform=\"translate(95.410156 0)\"/>\n     <use xlink:href=\"#DejaVuSans-25\" transform=\"translate(159.033203 0)\"/>\n    </g>\n   </g>\n   <g id=\"text_7\">\n    <!-- asian -->\n    <g transform=\"translate(438.661673 491.243392) scale(0.1 -0.1)\">\n     <defs>\n      <path id=\"DejaVuSans-73\" d=\"M 2834 3397 \nL 2834 2853 \nQ 2591 2978 2328 3040 \nQ 2066 3103 1784 3103 \nQ 1356 3103 1142 2972 \nQ 928 2841 928 2578 \nQ 928 2378 1081 2264 \nQ 1234 2150 1697 2047 \nL 1894 2003 \nQ 2506 1872 2764 1633 \nQ 3022 1394 3022 966 \nQ 3022 478 2636 193 \nQ 2250 -91 1575 -91 \nQ 1294 -91 989 -36 \nQ 684 19 347 128 \nL 347 722 \nQ 666 556 975 473 \nQ 1284 391 1588 391 \nQ 1994 391 2212 530 \nQ 2431 669 2431 922 \nQ 2431 1156 2273 1281 \nQ 2116 1406 1581 1522 \nL 1381 1569 \nQ 847 1681 609 1914 \nQ 372 2147 372 2553 \nQ 372 3047 722 3315 \nQ 1072 3584 1716 3584 \nQ 2034 3584 2315 3537 \nQ 2597 3491 2834 3397 \nz\n\" transform=\"scale(0.015625)\"/>\n     </defs>\n     <use xlink:href=\"#DejaVuSans-61\"/>\n     <use xlink:href=\"#DejaVuSans-73\" transform=\"translate(61.279297 0)\"/>\n     <use xlink:href=\"#DejaVuSans-69\" transform=\"translate(113.378906 0)\"/>\n     <use xlink:href=\"#DejaVuSans-61\" transform=\"translate(141.162109 0)\"/>\n     <use xlink:href=\"#DejaVuSans-6e\" transform=\"translate(202.441406 0)\"/>\n    </g>\n   </g>\n   <g id=\"text_8\">\n    <!-- 7.6% -->\n    <g transform=\"translate(355.840387 405.349805) scale(0.1 -0.1)\">\n     <defs>\n      <path id=\"DejaVuSans-37\" d=\"M 525 4666 \nL 3525 4666 \nL 3525 4397 \nL 1831 0 \nL 1172 0 \nL 2766 4134 \nL 525 4134 \nL 525 4666 \nz\n\" transform=\"scale(0.015625)\"/>\n      <path id=\"DejaVuSans-36\" d=\"M 2113 2584 \nQ 1688 2584 1439 2293 \nQ 1191 2003 1191 1497 \nQ 1191 994 1439 701 \nQ 1688 409 2113 409 \nQ 2538 409 2786 701 \nQ 3034 994 3034 1497 \nQ 3034 2003 2786 2293 \nQ 2538 2584 2113 2584 \nz\nM 3366 4563 \nL 3366 3988 \nQ 3128 4100 2886 4159 \nQ 2644 4219 2406 4219 \nQ 1781 4219 1451 3797 \nQ 1122 3375 1075 2522 \nQ 1259 2794 1537 2939 \nQ 1816 3084 2150 3084 \nQ 2853 3084 3261 2657 \nQ 3669 2231 3669 1497 \nQ 3669 778 3244 343 \nQ 2819 -91 2113 -91 \nQ 1303 -91 875 529 \nQ 447 1150 447 2328 \nQ 447 3434 972 4092 \nQ 1497 4750 2381 4750 \nQ 2619 4750 2861 4703 \nQ 3103 4656 3366 4563 \nz\n\" transform=\"scale(0.015625)\"/>\n     </defs>\n     <use xlink:href=\"#DejaVuSans-37\"/>\n     <use xlink:href=\"#DejaVuSans-2e\" transform=\"translate(63.623047 0)\"/>\n     <use xlink:href=\"#DejaVuSans-36\" transform=\"translate(95.410156 0)\"/>\n     <use xlink:href=\"#DejaVuSans-25\" transform=\"translate(159.033203 0)\"/>\n    </g>\n   </g>\n   <g id=\"text_9\">\n    <!-- nhpi -->\n    <g transform=\"translate(479.119127 449.210253) scale(0.1 -0.1)\">\n     <defs>\n      <path id=\"DejaVuSans-70\" d=\"M 1159 525 \nL 1159 -1331 \nL 581 -1331 \nL 581 3500 \nL 1159 3500 \nL 1159 2969 \nQ 1341 3281 1617 3432 \nQ 1894 3584 2278 3584 \nQ 2916 3584 3314 3078 \nQ 3713 2572 3713 1747 \nQ 3713 922 3314 415 \nQ 2916 -91 2278 -91 \nQ 1894 -91 1617 61 \nQ 1341 213 1159 525 \nz\nM 3116 1747 \nQ 3116 2381 2855 2742 \nQ 2594 3103 2138 3103 \nQ 1681 3103 1420 2742 \nQ 1159 2381 1159 1747 \nQ 1159 1113 1420 752 \nQ 1681 391 2138 391 \nQ 2594 391 2855 752 \nQ 3116 1113 3116 1747 \nz\n\" transform=\"scale(0.015625)\"/>\n     </defs>\n     <use xlink:href=\"#DejaVuSans-6e\"/>\n     <use xlink:href=\"#DejaVuSans-68\" transform=\"translate(63.378906 0)\"/>\n     <use xlink:href=\"#DejaVuSans-70\" transform=\"translate(126.757812 0)\"/>\n     <use xlink:href=\"#DejaVuSans-69\" transform=\"translate(190.234375 0)\"/>\n    </g>\n   </g>\n   <g id=\"text_10\">\n    <!-- 0.0% -->\n    <g transform=\"translate(377.908089 382.422638) scale(0.1 -0.1)\">\n     <use xlink:href=\"#DejaVuSans-30\"/>\n     <use xlink:href=\"#DejaVuSans-2e\" transform=\"translate(63.623047 0)\"/>\n     <use xlink:href=\"#DejaVuSans-30\" transform=\"translate(95.410156 0)\"/>\n     <use xlink:href=\"#DejaVuSans-25\" transform=\"translate(159.033203 0)\"/>\n    </g>\n   </g>\n   <g id=\"text_11\">\n    <!-- other -->\n    <g transform=\"translate(494.698982 425.886198) scale(0.1 -0.1)\">\n     <defs>\n      <path id=\"DejaVuSans-6f\" d=\"M 1959 3097 \nQ 1497 3097 1228 2736 \nQ 959 2375 959 1747 \nQ 959 1119 1226 758 \nQ 1494 397 1959 397 \nQ 2419 397 2687 759 \nQ 2956 1122 2956 1747 \nQ 2956 2369 2687 2733 \nQ 2419 3097 1959 3097 \nz\nM 1959 3584 \nQ 2709 3584 3137 3096 \nQ 3566 2609 3566 1747 \nQ 3566 888 3137 398 \nQ 2709 -91 1959 -91 \nQ 1206 -91 779 398 \nQ 353 888 353 1747 \nQ 353 2609 779 3096 \nQ 1206 3584 1959 3584 \nz\n\" transform=\"scale(0.015625)\"/>\n      <path id=\"DejaVuSans-72\" d=\"M 2631 2963 \nQ 2534 3019 2420 3045 \nQ 2306 3072 2169 3072 \nQ 1681 3072 1420 2755 \nQ 1159 2438 1159 1844 \nL 1159 0 \nL 581 0 \nL 581 3500 \nL 1159 3500 \nL 1159 2956 \nQ 1341 3275 1631 3429 \nQ 1922 3584 2338 3584 \nQ 2397 3584 2469 3576 \nQ 2541 3569 2628 3553 \nL 2631 2963 \nz\n\" transform=\"scale(0.015625)\"/>\n     </defs>\n     <use xlink:href=\"#DejaVuSans-6f\"/>\n     <use xlink:href=\"#DejaVuSans-74\" transform=\"translate(61.181641 0)\"/>\n     <use xlink:href=\"#DejaVuSans-68\" transform=\"translate(100.390625 0)\"/>\n     <use xlink:href=\"#DejaVuSans-65\" transform=\"translate(163.769531 0)\"/>\n     <use xlink:href=\"#DejaVuSans-72\" transform=\"translate(225.292969 0)\"/>\n    </g>\n   </g>\n   <g id=\"text_12\">\n    <!-- 3.6% -->\n    <g transform=\"translate(386.406192 369.700426) scale(0.1 -0.1)\">\n     <use xlink:href=\"#DejaVuSans-33\"/>\n     <use xlink:href=\"#DejaVuSans-2e\" transform=\"translate(63.623047 0)\"/>\n     <use xlink:href=\"#DejaVuSans-36\" transform=\"translate(95.410156 0)\"/>\n     <use xlink:href=\"#DejaVuSans-25\" transform=\"translate(159.033203 0)\"/>\n    </g>\n   </g>\n   <g id=\"text_13\">\n    <!-- two_or_more -->\n    <g transform=\"translate(523.036137 352.571762) scale(0.1 -0.1)\">\n     <defs>\n      <path id=\"DejaVuSans-5f\" d=\"M 3263 -1063 \nL 3263 -1509 \nL -63 -1509 \nL -63 -1063 \nL 3263 -1063 \nz\n\" transform=\"scale(0.015625)\"/>\n     </defs>\n     <use xlink:href=\"#DejaVuSans-74\"/>\n     <use xlink:href=\"#DejaVuSans-77\" transform=\"translate(39.208984 0)\"/>\n     <use xlink:href=\"#DejaVuSans-6f\" transform=\"translate(120.996094 0)\"/>\n     <use xlink:href=\"#DejaVuSans-5f\" transform=\"translate(182.177734 0)\"/>\n     <use xlink:href=\"#DejaVuSans-6f\" transform=\"translate(232.177734 0)\"/>\n     <use xlink:href=\"#DejaVuSans-72\" transform=\"translate(293.359375 0)\"/>\n     <use xlink:href=\"#DejaVuSans-5f\" transform=\"translate(334.472656 0)\"/>\n     <use xlink:href=\"#DejaVuSans-6d\" transform=\"translate(384.472656 0)\"/>\n     <use xlink:href=\"#DejaVuSans-6f\" transform=\"translate(481.884766 0)\"/>\n     <use xlink:href=\"#DejaVuSans-72\" transform=\"translate(543.066406 0)\"/>\n     <use xlink:href=\"#DejaVuSans-65\" transform=\"translate(581.929688 0)\"/>\n    </g>\n   </g>\n   <g id=\"text_14\">\n    <!-- 6.6% -->\n    <g transform=\"translate(401.862822 329.862438) scale(0.1 -0.1)\">\n     <use xlink:href=\"#DejaVuSans-36\"/>\n     <use xlink:href=\"#DejaVuSans-2e\" transform=\"translate(63.623047 0)\"/>\n     <use xlink:href=\"#DejaVuSans-36\" transform=\"translate(95.410156 0)\"/>\n     <use xlink:href=\"#DejaVuSans-25\" transform=\"translate(159.033203 0)\"/>\n    </g>\n   </g>\n   <g id=\"text_15\">\n    <!-- Population of Georgia (state) by race -->\n    <g transform=\"translate(173.660625 16.318125) scale(0.12 -0.12)\">\n     <defs>\n      <path id=\"DejaVuSans-50\" d=\"M 1259 4147 \nL 1259 2394 \nL 2053 2394 \nQ 2494 2394 2734 2622 \nQ 2975 2850 2975 3272 \nQ 2975 3691 2734 3919 \nQ 2494 4147 2053 4147 \nL 1259 4147 \nz\nM 628 4666 \nL 2053 4666 \nQ 2838 4666 3239 4311 \nQ 3641 3956 3641 3272 \nQ 3641 2581 3239 2228 \nQ 2838 1875 2053 1875 \nL 1259 1875 \nL 1259 0 \nL 628 0 \nL 628 4666 \nz\n\" transform=\"scale(0.015625)\"/>\n      <path id=\"DejaVuSans-75\" d=\"M 544 1381 \nL 544 3500 \nL 1119 3500 \nL 1119 1403 \nQ 1119 906 1312 657 \nQ 1506 409 1894 409 \nQ 2359 409 2629 706 \nQ 2900 1003 2900 1516 \nL 2900 3500 \nL 3475 3500 \nL 3475 0 \nL 2900 0 \nL 2900 538 \nQ 2691 219 2414 64 \nQ 2138 -91 1772 -91 \nQ 1169 -91 856 284 \nQ 544 659 544 1381 \nz\nM 1991 3584 \nL 1991 3584 \nz\n\" transform=\"scale(0.015625)\"/>\n      <path id=\"DejaVuSans-20\" transform=\"scale(0.015625)\"/>\n      <path id=\"DejaVuSans-66\" d=\"M 2375 4863 \nL 2375 4384 \nL 1825 4384 \nQ 1516 4384 1395 4259 \nQ 1275 4134 1275 3809 \nL 1275 3500 \nL 2222 3500 \nL 2222 3053 \nL 1275 3053 \nL 1275 0 \nL 697 0 \nL 697 3053 \nL 147 3053 \nL 147 3500 \nL 697 3500 \nL 697 3744 \nQ 697 4328 969 4595 \nQ 1241 4863 1831 4863 \nL 2375 4863 \nz\n\" transform=\"scale(0.015625)\"/>\n      <path id=\"DejaVuSans-47\" d=\"M 3809 666 \nL 3809 1919 \nL 2778 1919 \nL 2778 2438 \nL 4434 2438 \nL 4434 434 \nQ 4069 175 3628 42 \nQ 3188 -91 2688 -91 \nQ 1594 -91 976 548 \nQ 359 1188 359 2328 \nQ 359 3472 976 4111 \nQ 1594 4750 2688 4750 \nQ 3144 4750 3555 4637 \nQ 3966 4525 4313 4306 \nL 4313 3634 \nQ 3963 3931 3569 4081 \nQ 3175 4231 2741 4231 \nQ 1884 4231 1454 3753 \nQ 1025 3275 1025 2328 \nQ 1025 1384 1454 906 \nQ 1884 428 2741 428 \nQ 3075 428 3337 486 \nQ 3600 544 3809 666 \nz\n\" transform=\"scale(0.015625)\"/>\n      <path id=\"DejaVuSans-67\" d=\"M 2906 1791 \nQ 2906 2416 2648 2759 \nQ 2391 3103 1925 3103 \nQ 1463 3103 1205 2759 \nQ 947 2416 947 1791 \nQ 947 1169 1205 825 \nQ 1463 481 1925 481 \nQ 2391 481 2648 825 \nQ 2906 1169 2906 1791 \nz\nM 3481 434 \nQ 3481 -459 3084 -895 \nQ 2688 -1331 1869 -1331 \nQ 1566 -1331 1297 -1286 \nQ 1028 -1241 775 -1147 \nL 775 -588 \nQ 1028 -725 1275 -790 \nQ 1522 -856 1778 -856 \nQ 2344 -856 2625 -561 \nQ 2906 -266 2906 331 \nL 2906 616 \nQ 2728 306 2450 153 \nQ 2172 0 1784 0 \nQ 1141 0 747 490 \nQ 353 981 353 1791 \nQ 353 2603 747 3093 \nQ 1141 3584 1784 3584 \nQ 2172 3584 2450 3431 \nQ 2728 3278 2906 2969 \nL 2906 3500 \nL 3481 3500 \nL 3481 434 \nz\n\" transform=\"scale(0.015625)\"/>\n      <path id=\"DejaVuSans-28\" d=\"M 1984 4856 \nQ 1566 4138 1362 3434 \nQ 1159 2731 1159 2009 \nQ 1159 1288 1364 580 \nQ 1569 -128 1984 -844 \nL 1484 -844 \nQ 1016 -109 783 600 \nQ 550 1309 550 2009 \nQ 550 2706 781 3412 \nQ 1013 4119 1484 4856 \nL 1984 4856 \nz\n\" transform=\"scale(0.015625)\"/>\n      <path id=\"DejaVuSans-29\" d=\"M 513 4856 \nL 1013 4856 \nQ 1481 4119 1714 3412 \nQ 1947 2706 1947 2009 \nQ 1947 1309 1714 600 \nQ 1481 -109 1013 -844 \nL 513 -844 \nQ 928 -128 1133 580 \nQ 1338 1288 1338 2009 \nQ 1338 2731 1133 3434 \nQ 928 4138 513 4856 \nz\n\" transform=\"scale(0.015625)\"/>\n      <path id=\"DejaVuSans-79\" d=\"M 2059 -325 \nQ 1816 -950 1584 -1140 \nQ 1353 -1331 966 -1331 \nL 506 -1331 \nL 506 -850 \nL 844 -850 \nQ 1081 -850 1212 -737 \nQ 1344 -625 1503 -206 \nL 1606 56 \nL 191 3500 \nL 800 3500 \nL 1894 763 \nL 2988 3500 \nL 3597 3500 \nL 2059 -325 \nz\n\" transform=\"scale(0.015625)\"/>\n     </defs>\n     <use xlink:href=\"#DejaVuSans-50\"/>\n     <use xlink:href=\"#DejaVuSans-6f\" transform=\"translate(56.677734 0)\"/>\n     <use xlink:href=\"#DejaVuSans-70\" transform=\"translate(117.859375 0)\"/>\n     <use xlink:href=\"#DejaVuSans-75\" transform=\"translate(181.335938 0)\"/>\n     <use xlink:href=\"#DejaVuSans-6c\" transform=\"translate(244.714844 0)\"/>\n     <use xlink:href=\"#DejaVuSans-61\" transform=\"translate(272.498047 0)\"/>\n     <use xlink:href=\"#DejaVuSans-74\" transform=\"translate(333.777344 0)\"/>\n     <use xlink:href=\"#DejaVuSans-69\" transform=\"translate(372.986328 0)\"/>\n     <use xlink:href=\"#DejaVuSans-6f\" transform=\"translate(400.769531 0)\"/>\n     <use xlink:href=\"#DejaVuSans-6e\" transform=\"translate(461.951172 0)\"/>\n     <use xlink:href=\"#DejaVuSans-20\" transform=\"translate(525.330078 0)\"/>\n     <use xlink:href=\"#DejaVuSans-6f\" transform=\"translate(557.117188 0)\"/>\n     <use xlink:href=\"#DejaVuSans-66\" transform=\"translate(618.298828 0)\"/>\n     <use xlink:href=\"#DejaVuSans-20\" transform=\"translate(653.503906 0)\"/>\n     <use xlink:href=\"#DejaVuSans-47\" transform=\"translate(685.291016 0)\"/>\n     <use xlink:href=\"#DejaVuSans-65\" transform=\"translate(762.78125 0)\"/>\n     <use xlink:href=\"#DejaVuSans-6f\" transform=\"translate(824.304688 0)\"/>\n     <use xlink:href=\"#DejaVuSans-72\" transform=\"translate(885.486328 0)\"/>\n     <use xlink:href=\"#DejaVuSans-67\" transform=\"translate(924.849609 0)\"/>\n     <use xlink:href=\"#DejaVuSans-69\" transform=\"translate(988.326172 0)\"/>\n     <use xlink:href=\"#DejaVuSans-61\" transform=\"translate(1016.109375 0)\"/>\n     <use xlink:href=\"#DejaVuSans-20\" transform=\"translate(1077.388672 0)\"/>\n     <use xlink:href=\"#DejaVuSans-28\" transform=\"translate(1109.175781 0)\"/>\n     <use xlink:href=\"#DejaVuSans-73\" transform=\"translate(1148.189453 0)\"/>\n     <use xlink:href=\"#DejaVuSans-74\" transform=\"translate(1200.289062 0)\"/>\n     <use xlink:href=\"#DejaVuSans-61\" transform=\"translate(1239.498047 0)\"/>\n     <use xlink:href=\"#DejaVuSans-74\" transform=\"translate(1300.777344 0)\"/>\n     <use xlink:href=\"#DejaVuSans-65\" transform=\"translate(1339.986328 0)\"/>\n     <use xlink:href=\"#DejaVuSans-29\" transform=\"translate(1401.509766 0)\"/>\n     <use xlink:href=\"#DejaVuSans-20\" transform=\"translate(1440.523438 0)\"/>\n     <use xlink:href=\"#DejaVuSans-62\" transform=\"translate(1472.310547 0)\"/>\n     <use xlink:href=\"#DejaVuSans-79\" transform=\"translate(1535.787109 0)\"/>\n     <use xlink:href=\"#DejaVuSans-20\" transform=\"translate(1594.966797 0)\"/>\n     <use xlink:href=\"#DejaVuSans-72\" transform=\"translate(1626.753906 0)\"/>\n     <use xlink:href=\"#DejaVuSans-61\" transform=\"translate(1667.867188 0)\"/>\n     <use xlink:href=\"#DejaVuSans-63\" transform=\"translate(1729.146484 0)\"/>\n     <use xlink:href=\"#DejaVuSans-65\" transform=\"translate(1784.126953 0)\"/>\n    </g>\n   </g>\n  </g>\n </g>\n</svg>\n"
          },
          "metadata": {}
        }
      ],
      "source": [
        "ax = race_df.sum(axis=0).plot.pie(figsize=(10, 10), autopct=\"%1.1f%%\")\n",
        "ax.set_ylabel(\"\")\n",
        "ax.set_title(f\"Population of {state} (state) by race\")\n",
        "plt.show()"
      ]
    },
    {
      "cell_type": "markdown",
      "id": "dff352e8-c26b-41d0-ad1f-9378a03b59d6",
      "metadata": {
        "tags": [],
        "id": "dff352e8-c26b-41d0-ad1f-9378a03b59d6"
      },
      "source": [
        "### Computing percentages"
      ]
    },
    {
      "cell_type": "markdown",
      "id": "073689a4-62fe-4b39-a828-1dc759c59d4e",
      "metadata": {
        "id": "073689a4-62fe-4b39-a828-1dc759c59d4e"
      },
      "source": [
        "In order to answer questions like \"which county in New York has the largest _share_ of Black population?\", it's necessary to convert absolute population counts to percentages. To do this, it's convenient to compute a `total` column, then create percentage columns by dividing each race column by the `total` column, then scaling by 100 to convert from fractional values to percentages. Pandas' vector arithmetic functionality makes these operations relatively simple to write: rather than explicitly iterating through each row, we can simply write the multiplication and division operations in terms of columns. The operations will be applied to each row!"
      ]
    },
    {
      "cell_type": "code",
      "execution_count": 89,
      "id": "317407b2-f11a-45cc-b40f-07d199aa10b0",
      "metadata": {
        "id": "317407b2-f11a-45cc-b40f-07d199aa10b0"
      },
      "outputs": [],
      "source": [
        "race_df[\"total\"] = race_df.sum(axis=1)"
      ]
    },
    {
      "cell_type": "code",
      "execution_count": 90,
      "id": "052baddb-ecc7-4119-8ffe-f627f51682a0",
      "metadata": {
        "id": "052baddb-ecc7-4119-8ffe-f627f51682a0",
        "outputId": "dd3e9fa3-38a6-4de1-91c6-a5462291df3f",
        "colab": {
          "base_uri": "https://localhost:8080/",
          "height": 112
        }
      },
      "outputs": [
        {
          "output_type": "execute_result",
          "data": {
            "text/plain": [
              "                           white     black    amin    asian   nhpi    other  \\\n",
              "name                                                                          \n",
              "Fulton County, Georgia  418700.0  453834.0  3255.0  80949.0  452.0  38612.0   \n",
              "\n",
              "                        two_or_more      total  \n",
              "name                                            \n",
              "Fulton County, Georgia      70908.0  1066710.0  "
            ],
            "text/html": [
              "\n",
              "  <div id=\"df-87183e04-a36a-4fa4-baba-c8bcc7dd7580\" class=\"colab-df-container\">\n",
              "    <div>\n",
              "<style scoped>\n",
              "    .dataframe tbody tr th:only-of-type {\n",
              "        vertical-align: middle;\n",
              "    }\n",
              "\n",
              "    .dataframe tbody tr th {\n",
              "        vertical-align: top;\n",
              "    }\n",
              "\n",
              "    .dataframe thead th {\n",
              "        text-align: right;\n",
              "    }\n",
              "</style>\n",
              "<table border=\"1\" class=\"dataframe\">\n",
              "  <thead>\n",
              "    <tr style=\"text-align: right;\">\n",
              "      <th></th>\n",
              "      <th>white</th>\n",
              "      <th>black</th>\n",
              "      <th>amin</th>\n",
              "      <th>asian</th>\n",
              "      <th>nhpi</th>\n",
              "      <th>other</th>\n",
              "      <th>two_or_more</th>\n",
              "      <th>total</th>\n",
              "    </tr>\n",
              "    <tr>\n",
              "      <th>name</th>\n",
              "      <th></th>\n",
              "      <th></th>\n",
              "      <th></th>\n",
              "      <th></th>\n",
              "      <th></th>\n",
              "      <th></th>\n",
              "      <th></th>\n",
              "      <th></th>\n",
              "    </tr>\n",
              "  </thead>\n",
              "  <tbody>\n",
              "    <tr>\n",
              "      <th>Fulton County, Georgia</th>\n",
              "      <td>418700.0</td>\n",
              "      <td>453834.0</td>\n",
              "      <td>3255.0</td>\n",
              "      <td>80949.0</td>\n",
              "      <td>452.0</td>\n",
              "      <td>38612.0</td>\n",
              "      <td>70908.0</td>\n",
              "      <td>1066710.0</td>\n",
              "    </tr>\n",
              "  </tbody>\n",
              "</table>\n",
              "</div>\n",
              "    <div class=\"colab-df-buttons\">\n",
              "\n",
              "  <div class=\"colab-df-container\">\n",
              "    <button class=\"colab-df-convert\" onclick=\"convertToInteractive('df-87183e04-a36a-4fa4-baba-c8bcc7dd7580')\"\n",
              "            title=\"Convert this dataframe to an interactive table.\"\n",
              "            style=\"display:none;\">\n",
              "\n",
              "  <svg xmlns=\"http://www.w3.org/2000/svg\" height=\"24px\" viewBox=\"0 -960 960 960\">\n",
              "    <path d=\"M120-120v-720h720v720H120Zm60-500h600v-160H180v160Zm220 220h160v-160H400v160Zm0 220h160v-160H400v160ZM180-400h160v-160H180v160Zm440 0h160v-160H620v160ZM180-180h160v-160H180v160Zm440 0h160v-160H620v160Z\"/>\n",
              "  </svg>\n",
              "    </button>\n",
              "\n",
              "  <style>\n",
              "    .colab-df-container {\n",
              "      display:flex;\n",
              "      gap: 12px;\n",
              "    }\n",
              "\n",
              "    .colab-df-convert {\n",
              "      background-color: #E8F0FE;\n",
              "      border: none;\n",
              "      border-radius: 50%;\n",
              "      cursor: pointer;\n",
              "      display: none;\n",
              "      fill: #1967D2;\n",
              "      height: 32px;\n",
              "      padding: 0 0 0 0;\n",
              "      width: 32px;\n",
              "    }\n",
              "\n",
              "    .colab-df-convert:hover {\n",
              "      background-color: #E2EBFA;\n",
              "      box-shadow: 0px 1px 2px rgba(60, 64, 67, 0.3), 0px 1px 3px 1px rgba(60, 64, 67, 0.15);\n",
              "      fill: #174EA6;\n",
              "    }\n",
              "\n",
              "    .colab-df-buttons div {\n",
              "      margin-bottom: 4px;\n",
              "    }\n",
              "\n",
              "    [theme=dark] .colab-df-convert {\n",
              "      background-color: #3B4455;\n",
              "      fill: #D2E3FC;\n",
              "    }\n",
              "\n",
              "    [theme=dark] .colab-df-convert:hover {\n",
              "      background-color: #434B5C;\n",
              "      box-shadow: 0px 1px 3px 1px rgba(0, 0, 0, 0.15);\n",
              "      filter: drop-shadow(0px 1px 2px rgba(0, 0, 0, 0.3));\n",
              "      fill: #FFFFFF;\n",
              "    }\n",
              "  </style>\n",
              "\n",
              "    <script>\n",
              "      const buttonEl =\n",
              "        document.querySelector('#df-87183e04-a36a-4fa4-baba-c8bcc7dd7580 button.colab-df-convert');\n",
              "      buttonEl.style.display =\n",
              "        google.colab.kernel.accessAllowed ? 'block' : 'none';\n",
              "\n",
              "      async function convertToInteractive(key) {\n",
              "        const element = document.querySelector('#df-87183e04-a36a-4fa4-baba-c8bcc7dd7580');\n",
              "        const dataTable =\n",
              "          await google.colab.kernel.invokeFunction('convertToInteractive',\n",
              "                                                    [key], {});\n",
              "        if (!dataTable) return;\n",
              "\n",
              "        const docLinkHtml = 'Like what you see? Visit the ' +\n",
              "          '<a target=\"_blank\" href=https://colab.research.google.com/notebooks/data_table.ipynb>data table notebook</a>'\n",
              "          + ' to learn more about interactive tables.';\n",
              "        element.innerHTML = '';\n",
              "        dataTable['output_type'] = 'display_data';\n",
              "        await google.colab.output.renderOutput(dataTable, element);\n",
              "        const docLink = document.createElement('div');\n",
              "        docLink.innerHTML = docLinkHtml;\n",
              "        element.appendChild(docLink);\n",
              "      }\n",
              "    </script>\n",
              "  </div>\n",
              "\n",
              "\n",
              "    </div>\n",
              "  </div>\n"
            ],
            "application/vnd.google.colaboratory.intrinsic+json": {
              "type": "dataframe",
              "variable_name": "race_df",
              "summary": "{\n  \"name\": \"race_df\",\n  \"rows\": 1,\n  \"fields\": [\n    {\n      \"column\": \"name\",\n      \"properties\": {\n        \"dtype\": \"string\",\n        \"num_unique_values\": 1,\n        \"samples\": [\n          \"Fulton County, Georgia\"\n        ],\n        \"semantic_type\": \"\",\n        \"description\": \"\"\n      }\n    },\n    {\n      \"column\": \"white\",\n      \"properties\": {\n        \"dtype\": \"number\",\n        \"std\": null,\n        \"min\": 418700.0,\n        \"max\": 418700.0,\n        \"num_unique_values\": 1,\n        \"samples\": [\n          418700.0\n        ],\n        \"semantic_type\": \"\",\n        \"description\": \"\"\n      }\n    },\n    {\n      \"column\": \"black\",\n      \"properties\": {\n        \"dtype\": \"number\",\n        \"std\": null,\n        \"min\": 453834.0,\n        \"max\": 453834.0,\n        \"num_unique_values\": 1,\n        \"samples\": [\n          453834.0\n        ],\n        \"semantic_type\": \"\",\n        \"description\": \"\"\n      }\n    },\n    {\n      \"column\": \"amin\",\n      \"properties\": {\n        \"dtype\": \"number\",\n        \"std\": null,\n        \"min\": 3255.0,\n        \"max\": 3255.0,\n        \"num_unique_values\": 1,\n        \"samples\": [\n          3255.0\n        ],\n        \"semantic_type\": \"\",\n        \"description\": \"\"\n      }\n    },\n    {\n      \"column\": \"asian\",\n      \"properties\": {\n        \"dtype\": \"number\",\n        \"std\": null,\n        \"min\": 80949.0,\n        \"max\": 80949.0,\n        \"num_unique_values\": 1,\n        \"samples\": [\n          80949.0\n        ],\n        \"semantic_type\": \"\",\n        \"description\": \"\"\n      }\n    },\n    {\n      \"column\": \"nhpi\",\n      \"properties\": {\n        \"dtype\": \"number\",\n        \"std\": null,\n        \"min\": 452.0,\n        \"max\": 452.0,\n        \"num_unique_values\": 1,\n        \"samples\": [\n          452.0\n        ],\n        \"semantic_type\": \"\",\n        \"description\": \"\"\n      }\n    },\n    {\n      \"column\": \"other\",\n      \"properties\": {\n        \"dtype\": \"number\",\n        \"std\": null,\n        \"min\": 38612.0,\n        \"max\": 38612.0,\n        \"num_unique_values\": 1,\n        \"samples\": [\n          38612.0\n        ],\n        \"semantic_type\": \"\",\n        \"description\": \"\"\n      }\n    },\n    {\n      \"column\": \"two_or_more\",\n      \"properties\": {\n        \"dtype\": \"number\",\n        \"std\": null,\n        \"min\": 70908.0,\n        \"max\": 70908.0,\n        \"num_unique_values\": 1,\n        \"samples\": [\n          70908.0\n        ],\n        \"semantic_type\": \"\",\n        \"description\": \"\"\n      }\n    },\n    {\n      \"column\": \"total\",\n      \"properties\": {\n        \"dtype\": \"number\",\n        \"std\": null,\n        \"min\": 1066710.0,\n        \"max\": 1066710.0,\n        \"num_unique_values\": 1,\n        \"samples\": [\n          1066710.0\n        ],\n        \"semantic_type\": \"\",\n        \"description\": \"\"\n      }\n    }\n  ]\n}"
            }
          },
          "metadata": {},
          "execution_count": 90
        }
      ],
      "source": [
        "race_df.head(5)"
      ]
    },
    {
      "cell_type": "code",
      "execution_count": 91,
      "id": "a31bd62e-8fdb-40cb-9dbb-f476b3a7e86e",
      "metadata": {
        "id": "a31bd62e-8fdb-40cb-9dbb-f476b3a7e86e",
        "outputId": "218663a3-9cf0-4ec7-fcf3-315f0e0646fa",
        "colab": {
          "base_uri": "https://localhost:8080/"
        }
      },
      "outputs": [
        {
          "output_type": "execute_result",
          "data": {
            "text/plain": [
              "['white', 'black', 'amin', 'asian', 'nhpi', 'other', 'two_or_more']"
            ]
          },
          "metadata": {},
          "execution_count": 91
        }
      ],
      "source": [
        "categories = list(p1_population_columns.values())\n",
        "categories"
      ]
    },
    {
      "cell_type": "code",
      "execution_count": 92,
      "id": "ece4fadc-50fc-4378-9517-686bf4a1690d",
      "metadata": {
        "id": "ece4fadc-50fc-4378-9517-686bf4a1690d"
      },
      "outputs": [],
      "source": [
        "for col in categories:\n",
        "    race_df[f\"{col}_pct\"] = 100 * race_df[col] / race_df[\"total\"]"
      ]
    },
    {
      "cell_type": "code",
      "execution_count": 93,
      "id": "d42b5ca9-53c5-4b33-9a5d-1bbc86aa1df3",
      "metadata": {
        "id": "d42b5ca9-53c5-4b33-9a5d-1bbc86aa1df3",
        "outputId": "d32db87a-9317-4a25-a6bf-5d00211702cc",
        "colab": {
          "base_uri": "https://localhost:8080/",
          "height": 167
        }
      },
      "outputs": [
        {
          "output_type": "execute_result",
          "data": {
            "text/plain": [
              "                           white     black    amin    asian   nhpi    other  \\\n",
              "name                                                                          \n",
              "Fulton County, Georgia  418700.0  453834.0  3255.0  80949.0  452.0  38612.0   \n",
              "\n",
              "                        two_or_more      total  white_pct  black_pct  \\\n",
              "name                                                                   \n",
              "Fulton County, Georgia      70908.0  1066710.0   39.25153  42.545209   \n",
              "\n",
              "                        amin_pct  asian_pct  nhpi_pct  other_pct  \\\n",
              "name                                                               \n",
              "Fulton County, Georgia  0.305144    7.58866  0.042373   3.619728   \n",
              "\n",
              "                        two_or_more_pct  \n",
              "name                                     \n",
              "Fulton County, Georgia         6.647355  "
            ],
            "text/html": [
              "\n",
              "  <div id=\"df-840be598-2f64-42ce-9e73-99e142d3757a\" class=\"colab-df-container\">\n",
              "    <div>\n",
              "<style scoped>\n",
              "    .dataframe tbody tr th:only-of-type {\n",
              "        vertical-align: middle;\n",
              "    }\n",
              "\n",
              "    .dataframe tbody tr th {\n",
              "        vertical-align: top;\n",
              "    }\n",
              "\n",
              "    .dataframe thead th {\n",
              "        text-align: right;\n",
              "    }\n",
              "</style>\n",
              "<table border=\"1\" class=\"dataframe\">\n",
              "  <thead>\n",
              "    <tr style=\"text-align: right;\">\n",
              "      <th></th>\n",
              "      <th>white</th>\n",
              "      <th>black</th>\n",
              "      <th>amin</th>\n",
              "      <th>asian</th>\n",
              "      <th>nhpi</th>\n",
              "      <th>other</th>\n",
              "      <th>two_or_more</th>\n",
              "      <th>total</th>\n",
              "      <th>white_pct</th>\n",
              "      <th>black_pct</th>\n",
              "      <th>amin_pct</th>\n",
              "      <th>asian_pct</th>\n",
              "      <th>nhpi_pct</th>\n",
              "      <th>other_pct</th>\n",
              "      <th>two_or_more_pct</th>\n",
              "    </tr>\n",
              "    <tr>\n",
              "      <th>name</th>\n",
              "      <th></th>\n",
              "      <th></th>\n",
              "      <th></th>\n",
              "      <th></th>\n",
              "      <th></th>\n",
              "      <th></th>\n",
              "      <th></th>\n",
              "      <th></th>\n",
              "      <th></th>\n",
              "      <th></th>\n",
              "      <th></th>\n",
              "      <th></th>\n",
              "      <th></th>\n",
              "      <th></th>\n",
              "      <th></th>\n",
              "    </tr>\n",
              "  </thead>\n",
              "  <tbody>\n",
              "    <tr>\n",
              "      <th>Fulton County, Georgia</th>\n",
              "      <td>418700.0</td>\n",
              "      <td>453834.0</td>\n",
              "      <td>3255.0</td>\n",
              "      <td>80949.0</td>\n",
              "      <td>452.0</td>\n",
              "      <td>38612.0</td>\n",
              "      <td>70908.0</td>\n",
              "      <td>1066710.0</td>\n",
              "      <td>39.25153</td>\n",
              "      <td>42.545209</td>\n",
              "      <td>0.305144</td>\n",
              "      <td>7.58866</td>\n",
              "      <td>0.042373</td>\n",
              "      <td>3.619728</td>\n",
              "      <td>6.647355</td>\n",
              "    </tr>\n",
              "  </tbody>\n",
              "</table>\n",
              "</div>\n",
              "    <div class=\"colab-df-buttons\">\n",
              "\n",
              "  <div class=\"colab-df-container\">\n",
              "    <button class=\"colab-df-convert\" onclick=\"convertToInteractive('df-840be598-2f64-42ce-9e73-99e142d3757a')\"\n",
              "            title=\"Convert this dataframe to an interactive table.\"\n",
              "            style=\"display:none;\">\n",
              "\n",
              "  <svg xmlns=\"http://www.w3.org/2000/svg\" height=\"24px\" viewBox=\"0 -960 960 960\">\n",
              "    <path d=\"M120-120v-720h720v720H120Zm60-500h600v-160H180v160Zm220 220h160v-160H400v160Zm0 220h160v-160H400v160ZM180-400h160v-160H180v160Zm440 0h160v-160H620v160ZM180-180h160v-160H180v160Zm440 0h160v-160H620v160Z\"/>\n",
              "  </svg>\n",
              "    </button>\n",
              "\n",
              "  <style>\n",
              "    .colab-df-container {\n",
              "      display:flex;\n",
              "      gap: 12px;\n",
              "    }\n",
              "\n",
              "    .colab-df-convert {\n",
              "      background-color: #E8F0FE;\n",
              "      border: none;\n",
              "      border-radius: 50%;\n",
              "      cursor: pointer;\n",
              "      display: none;\n",
              "      fill: #1967D2;\n",
              "      height: 32px;\n",
              "      padding: 0 0 0 0;\n",
              "      width: 32px;\n",
              "    }\n",
              "\n",
              "    .colab-df-convert:hover {\n",
              "      background-color: #E2EBFA;\n",
              "      box-shadow: 0px 1px 2px rgba(60, 64, 67, 0.3), 0px 1px 3px 1px rgba(60, 64, 67, 0.15);\n",
              "      fill: #174EA6;\n",
              "    }\n",
              "\n",
              "    .colab-df-buttons div {\n",
              "      margin-bottom: 4px;\n",
              "    }\n",
              "\n",
              "    [theme=dark] .colab-df-convert {\n",
              "      background-color: #3B4455;\n",
              "      fill: #D2E3FC;\n",
              "    }\n",
              "\n",
              "    [theme=dark] .colab-df-convert:hover {\n",
              "      background-color: #434B5C;\n",
              "      box-shadow: 0px 1px 3px 1px rgba(0, 0, 0, 0.15);\n",
              "      filter: drop-shadow(0px 1px 2px rgba(0, 0, 0, 0.3));\n",
              "      fill: #FFFFFF;\n",
              "    }\n",
              "  </style>\n",
              "\n",
              "    <script>\n",
              "      const buttonEl =\n",
              "        document.querySelector('#df-840be598-2f64-42ce-9e73-99e142d3757a button.colab-df-convert');\n",
              "      buttonEl.style.display =\n",
              "        google.colab.kernel.accessAllowed ? 'block' : 'none';\n",
              "\n",
              "      async function convertToInteractive(key) {\n",
              "        const element = document.querySelector('#df-840be598-2f64-42ce-9e73-99e142d3757a');\n",
              "        const dataTable =\n",
              "          await google.colab.kernel.invokeFunction('convertToInteractive',\n",
              "                                                    [key], {});\n",
              "        if (!dataTable) return;\n",
              "\n",
              "        const docLinkHtml = 'Like what you see? Visit the ' +\n",
              "          '<a target=\"_blank\" href=https://colab.research.google.com/notebooks/data_table.ipynb>data table notebook</a>'\n",
              "          + ' to learn more about interactive tables.';\n",
              "        element.innerHTML = '';\n",
              "        dataTable['output_type'] = 'display_data';\n",
              "        await google.colab.output.renderOutput(dataTable, element);\n",
              "        const docLink = document.createElement('div');\n",
              "        docLink.innerHTML = docLinkHtml;\n",
              "        element.appendChild(docLink);\n",
              "      }\n",
              "    </script>\n",
              "  </div>\n",
              "\n",
              "\n",
              "  <div id=\"id_d785c2e3-d5b1-4d1e-b7a1-01e4facfabf4\">\n",
              "    <style>\n",
              "      .colab-df-generate {\n",
              "        background-color: #E8F0FE;\n",
              "        border: none;\n",
              "        border-radius: 50%;\n",
              "        cursor: pointer;\n",
              "        display: none;\n",
              "        fill: #1967D2;\n",
              "        height: 32px;\n",
              "        padding: 0 0 0 0;\n",
              "        width: 32px;\n",
              "      }\n",
              "\n",
              "      .colab-df-generate:hover {\n",
              "        background-color: #E2EBFA;\n",
              "        box-shadow: 0px 1px 2px rgba(60, 64, 67, 0.3), 0px 1px 3px 1px rgba(60, 64, 67, 0.15);\n",
              "        fill: #174EA6;\n",
              "      }\n",
              "\n",
              "      [theme=dark] .colab-df-generate {\n",
              "        background-color: #3B4455;\n",
              "        fill: #D2E3FC;\n",
              "      }\n",
              "\n",
              "      [theme=dark] .colab-df-generate:hover {\n",
              "        background-color: #434B5C;\n",
              "        box-shadow: 0px 1px 3px 1px rgba(0, 0, 0, 0.15);\n",
              "        filter: drop-shadow(0px 1px 2px rgba(0, 0, 0, 0.3));\n",
              "        fill: #FFFFFF;\n",
              "      }\n",
              "    </style>\n",
              "    <button class=\"colab-df-generate\" onclick=\"generateWithVariable('race_df')\"\n",
              "            title=\"Generate code using this dataframe.\"\n",
              "            style=\"display:none;\">\n",
              "\n",
              "  <svg xmlns=\"http://www.w3.org/2000/svg\" height=\"24px\"viewBox=\"0 0 24 24\"\n",
              "       width=\"24px\">\n",
              "    <path d=\"M7,19H8.4L18.45,9,17,7.55,7,17.6ZM5,21V16.75L18.45,3.32a2,2,0,0,1,2.83,0l1.4,1.43a1.91,1.91,0,0,1,.58,1.4,1.91,1.91,0,0,1-.58,1.4L9.25,21ZM18.45,9,17,7.55Zm-12,3A5.31,5.31,0,0,0,4.9,8.1,5.31,5.31,0,0,0,1,6.5,5.31,5.31,0,0,0,4.9,4.9,5.31,5.31,0,0,0,6.5,1,5.31,5.31,0,0,0,8.1,4.9,5.31,5.31,0,0,0,12,6.5,5.46,5.46,0,0,0,6.5,12Z\"/>\n",
              "  </svg>\n",
              "    </button>\n",
              "    <script>\n",
              "      (() => {\n",
              "      const buttonEl =\n",
              "        document.querySelector('#id_d785c2e3-d5b1-4d1e-b7a1-01e4facfabf4 button.colab-df-generate');\n",
              "      buttonEl.style.display =\n",
              "        google.colab.kernel.accessAllowed ? 'block' : 'none';\n",
              "\n",
              "      buttonEl.onclick = () => {\n",
              "        google.colab.notebook.generateWithVariable('race_df');\n",
              "      }\n",
              "      })();\n",
              "    </script>\n",
              "  </div>\n",
              "\n",
              "    </div>\n",
              "  </div>\n"
            ],
            "application/vnd.google.colaboratory.intrinsic+json": {
              "type": "dataframe",
              "variable_name": "race_df",
              "summary": "{\n  \"name\": \"race_df\",\n  \"rows\": 1,\n  \"fields\": [\n    {\n      \"column\": \"name\",\n      \"properties\": {\n        \"dtype\": \"string\",\n        \"num_unique_values\": 1,\n        \"samples\": [\n          \"Fulton County, Georgia\"\n        ],\n        \"semantic_type\": \"\",\n        \"description\": \"\"\n      }\n    },\n    {\n      \"column\": \"white\",\n      \"properties\": {\n        \"dtype\": \"number\",\n        \"std\": null,\n        \"min\": 418700.0,\n        \"max\": 418700.0,\n        \"num_unique_values\": 1,\n        \"samples\": [\n          418700.0\n        ],\n        \"semantic_type\": \"\",\n        \"description\": \"\"\n      }\n    },\n    {\n      \"column\": \"black\",\n      \"properties\": {\n        \"dtype\": \"number\",\n        \"std\": null,\n        \"min\": 453834.0,\n        \"max\": 453834.0,\n        \"num_unique_values\": 1,\n        \"samples\": [\n          453834.0\n        ],\n        \"semantic_type\": \"\",\n        \"description\": \"\"\n      }\n    },\n    {\n      \"column\": \"amin\",\n      \"properties\": {\n        \"dtype\": \"number\",\n        \"std\": null,\n        \"min\": 3255.0,\n        \"max\": 3255.0,\n        \"num_unique_values\": 1,\n        \"samples\": [\n          3255.0\n        ],\n        \"semantic_type\": \"\",\n        \"description\": \"\"\n      }\n    },\n    {\n      \"column\": \"asian\",\n      \"properties\": {\n        \"dtype\": \"number\",\n        \"std\": null,\n        \"min\": 80949.0,\n        \"max\": 80949.0,\n        \"num_unique_values\": 1,\n        \"samples\": [\n          80949.0\n        ],\n        \"semantic_type\": \"\",\n        \"description\": \"\"\n      }\n    },\n    {\n      \"column\": \"nhpi\",\n      \"properties\": {\n        \"dtype\": \"number\",\n        \"std\": null,\n        \"min\": 452.0,\n        \"max\": 452.0,\n        \"num_unique_values\": 1,\n        \"samples\": [\n          452.0\n        ],\n        \"semantic_type\": \"\",\n        \"description\": \"\"\n      }\n    },\n    {\n      \"column\": \"other\",\n      \"properties\": {\n        \"dtype\": \"number\",\n        \"std\": null,\n        \"min\": 38612.0,\n        \"max\": 38612.0,\n        \"num_unique_values\": 1,\n        \"samples\": [\n          38612.0\n        ],\n        \"semantic_type\": \"\",\n        \"description\": \"\"\n      }\n    },\n    {\n      \"column\": \"two_or_more\",\n      \"properties\": {\n        \"dtype\": \"number\",\n        \"std\": null,\n        \"min\": 70908.0,\n        \"max\": 70908.0,\n        \"num_unique_values\": 1,\n        \"samples\": [\n          70908.0\n        ],\n        \"semantic_type\": \"\",\n        \"description\": \"\"\n      }\n    },\n    {\n      \"column\": \"total\",\n      \"properties\": {\n        \"dtype\": \"number\",\n        \"std\": null,\n        \"min\": 1066710.0,\n        \"max\": 1066710.0,\n        \"num_unique_values\": 1,\n        \"samples\": [\n          1066710.0\n        ],\n        \"semantic_type\": \"\",\n        \"description\": \"\"\n      }\n    },\n    {\n      \"column\": \"white_pct\",\n      \"properties\": {\n        \"dtype\": \"number\",\n        \"std\": null,\n        \"min\": 39.25153040657723,\n        \"max\": 39.25153040657723,\n        \"num_unique_values\": 1,\n        \"samples\": [\n          39.25153040657723\n        ],\n        \"semantic_type\": \"\",\n        \"description\": \"\"\n      }\n    },\n    {\n      \"column\": \"black_pct\",\n      \"properties\": {\n        \"dtype\": \"number\",\n        \"std\": null,\n        \"min\": 42.54520910088028,\n        \"max\": 42.54520910088028,\n        \"num_unique_values\": 1,\n        \"samples\": [\n          42.54520910088028\n        ],\n        \"semantic_type\": \"\",\n        \"description\": \"\"\n      }\n    },\n    {\n      \"column\": \"amin_pct\",\n      \"properties\": {\n        \"dtype\": \"number\",\n        \"std\": null,\n        \"min\": 0.3051438535309503,\n        \"max\": 0.3051438535309503,\n        \"num_unique_values\": 1,\n        \"samples\": [\n          0.3051438535309503\n        ],\n        \"semantic_type\": \"\",\n        \"description\": \"\"\n      }\n    },\n    {\n      \"column\": \"asian_pct\",\n      \"properties\": {\n        \"dtype\": \"number\",\n        \"std\": null,\n        \"min\": 7.588660460668786,\n        \"max\": 7.588660460668786,\n        \"num_unique_values\": 1,\n        \"samples\": [\n          7.588660460668786\n        ],\n        \"semantic_type\": \"\",\n        \"description\": \"\"\n      }\n    },\n    {\n      \"column\": \"nhpi_pct\",\n      \"properties\": {\n        \"dtype\": \"number\",\n        \"std\": null,\n        \"min\": 0.042373278585557464,\n        \"max\": 0.042373278585557464,\n        \"num_unique_values\": 1,\n        \"samples\": [\n          0.042373278585557464\n        ],\n        \"semantic_type\": \"\",\n        \"description\": \"\"\n      }\n    },\n    {\n      \"column\": \"other_pct\",\n      \"properties\": {\n        \"dtype\": \"number\",\n        \"std\": null,\n        \"min\": 3.61972794855209,\n        \"max\": 3.61972794855209,\n        \"num_unique_values\": 1,\n        \"samples\": [\n          3.61972794855209\n        ],\n        \"semantic_type\": \"\",\n        \"description\": \"\"\n      }\n    },\n    {\n      \"column\": \"two_or_more_pct\",\n      \"properties\": {\n        \"dtype\": \"number\",\n        \"std\": null,\n        \"min\": 6.6473549512051076,\n        \"max\": 6.6473549512051076,\n        \"num_unique_values\": 1,\n        \"samples\": [\n          6.6473549512051076\n        ],\n        \"semantic_type\": \"\",\n        \"description\": \"\"\n      }\n    }\n  ]\n}"
            }
          },
          "metadata": {},
          "execution_count": 93
        }
      ],
      "source": [
        "race_df"
      ]
    },
    {
      "cell_type": "markdown",
      "id": "3c3d9d79-c7ee-4211-b26c-f0a68f81c0e8",
      "metadata": {
        "id": "3c3d9d79-c7ee-4211-b26c-f0a68f81c0e8"
      },
      "source": [
        "Armed with these percentages, we can now answer demographic questions cast in terms of population shares. For instance, sorting `race_df` by `white_pct` shows that Bronx County contains the smallest share of white population in the state, while Lewis County contains the greatest share."
      ]
    },
    {
      "cell_type": "code",
      "execution_count": 94,
      "id": "899a6197-541a-435e-99a2-65b957aa7169",
      "metadata": {
        "id": "899a6197-541a-435e-99a2-65b957aa7169",
        "outputId": "5db52741-be3d-4837-8909-bc96328a35a6",
        "colab": {
          "base_uri": "https://localhost:8080/",
          "height": 167
        }
      },
      "outputs": [
        {
          "output_type": "execute_result",
          "data": {
            "text/plain": [
              "                           white     black    amin    asian   nhpi    other  \\\n",
              "name                                                                          \n",
              "Fulton County, Georgia  418700.0  453834.0  3255.0  80949.0  452.0  38612.0   \n",
              "\n",
              "                        two_or_more      total  white_pct  black_pct  \\\n",
              "name                                                                   \n",
              "Fulton County, Georgia      70908.0  1066710.0   39.25153  42.545209   \n",
              "\n",
              "                        amin_pct  asian_pct  nhpi_pct  other_pct  \\\n",
              "name                                                               \n",
              "Fulton County, Georgia  0.305144    7.58866  0.042373   3.619728   \n",
              "\n",
              "                        two_or_more_pct  \n",
              "name                                     \n",
              "Fulton County, Georgia         6.647355  "
            ],
            "text/html": [
              "\n",
              "  <div id=\"df-647f2d38-6c33-4ce0-b39e-1ff32fa46bc4\" class=\"colab-df-container\">\n",
              "    <div>\n",
              "<style scoped>\n",
              "    .dataframe tbody tr th:only-of-type {\n",
              "        vertical-align: middle;\n",
              "    }\n",
              "\n",
              "    .dataframe tbody tr th {\n",
              "        vertical-align: top;\n",
              "    }\n",
              "\n",
              "    .dataframe thead th {\n",
              "        text-align: right;\n",
              "    }\n",
              "</style>\n",
              "<table border=\"1\" class=\"dataframe\">\n",
              "  <thead>\n",
              "    <tr style=\"text-align: right;\">\n",
              "      <th></th>\n",
              "      <th>white</th>\n",
              "      <th>black</th>\n",
              "      <th>amin</th>\n",
              "      <th>asian</th>\n",
              "      <th>nhpi</th>\n",
              "      <th>other</th>\n",
              "      <th>two_or_more</th>\n",
              "      <th>total</th>\n",
              "      <th>white_pct</th>\n",
              "      <th>black_pct</th>\n",
              "      <th>amin_pct</th>\n",
              "      <th>asian_pct</th>\n",
              "      <th>nhpi_pct</th>\n",
              "      <th>other_pct</th>\n",
              "      <th>two_or_more_pct</th>\n",
              "    </tr>\n",
              "    <tr>\n",
              "      <th>name</th>\n",
              "      <th></th>\n",
              "      <th></th>\n",
              "      <th></th>\n",
              "      <th></th>\n",
              "      <th></th>\n",
              "      <th></th>\n",
              "      <th></th>\n",
              "      <th></th>\n",
              "      <th></th>\n",
              "      <th></th>\n",
              "      <th></th>\n",
              "      <th></th>\n",
              "      <th></th>\n",
              "      <th></th>\n",
              "      <th></th>\n",
              "    </tr>\n",
              "  </thead>\n",
              "  <tbody>\n",
              "    <tr>\n",
              "      <th>Fulton County, Georgia</th>\n",
              "      <td>418700.0</td>\n",
              "      <td>453834.0</td>\n",
              "      <td>3255.0</td>\n",
              "      <td>80949.0</td>\n",
              "      <td>452.0</td>\n",
              "      <td>38612.0</td>\n",
              "      <td>70908.0</td>\n",
              "      <td>1066710.0</td>\n",
              "      <td>39.25153</td>\n",
              "      <td>42.545209</td>\n",
              "      <td>0.305144</td>\n",
              "      <td>7.58866</td>\n",
              "      <td>0.042373</td>\n",
              "      <td>3.619728</td>\n",
              "      <td>6.647355</td>\n",
              "    </tr>\n",
              "  </tbody>\n",
              "</table>\n",
              "</div>\n",
              "    <div class=\"colab-df-buttons\">\n",
              "\n",
              "  <div class=\"colab-df-container\">\n",
              "    <button class=\"colab-df-convert\" onclick=\"convertToInteractive('df-647f2d38-6c33-4ce0-b39e-1ff32fa46bc4')\"\n",
              "            title=\"Convert this dataframe to an interactive table.\"\n",
              "            style=\"display:none;\">\n",
              "\n",
              "  <svg xmlns=\"http://www.w3.org/2000/svg\" height=\"24px\" viewBox=\"0 -960 960 960\">\n",
              "    <path d=\"M120-120v-720h720v720H120Zm60-500h600v-160H180v160Zm220 220h160v-160H400v160Zm0 220h160v-160H400v160ZM180-400h160v-160H180v160Zm440 0h160v-160H620v160ZM180-180h160v-160H180v160Zm440 0h160v-160H620v160Z\"/>\n",
              "  </svg>\n",
              "    </button>\n",
              "\n",
              "  <style>\n",
              "    .colab-df-container {\n",
              "      display:flex;\n",
              "      gap: 12px;\n",
              "    }\n",
              "\n",
              "    .colab-df-convert {\n",
              "      background-color: #E8F0FE;\n",
              "      border: none;\n",
              "      border-radius: 50%;\n",
              "      cursor: pointer;\n",
              "      display: none;\n",
              "      fill: #1967D2;\n",
              "      height: 32px;\n",
              "      padding: 0 0 0 0;\n",
              "      width: 32px;\n",
              "    }\n",
              "\n",
              "    .colab-df-convert:hover {\n",
              "      background-color: #E2EBFA;\n",
              "      box-shadow: 0px 1px 2px rgba(60, 64, 67, 0.3), 0px 1px 3px 1px rgba(60, 64, 67, 0.15);\n",
              "      fill: #174EA6;\n",
              "    }\n",
              "\n",
              "    .colab-df-buttons div {\n",
              "      margin-bottom: 4px;\n",
              "    }\n",
              "\n",
              "    [theme=dark] .colab-df-convert {\n",
              "      background-color: #3B4455;\n",
              "      fill: #D2E3FC;\n",
              "    }\n",
              "\n",
              "    [theme=dark] .colab-df-convert:hover {\n",
              "      background-color: #434B5C;\n",
              "      box-shadow: 0px 1px 3px 1px rgba(0, 0, 0, 0.15);\n",
              "      filter: drop-shadow(0px 1px 2px rgba(0, 0, 0, 0.3));\n",
              "      fill: #FFFFFF;\n",
              "    }\n",
              "  </style>\n",
              "\n",
              "    <script>\n",
              "      const buttonEl =\n",
              "        document.querySelector('#df-647f2d38-6c33-4ce0-b39e-1ff32fa46bc4 button.colab-df-convert');\n",
              "      buttonEl.style.display =\n",
              "        google.colab.kernel.accessAllowed ? 'block' : 'none';\n",
              "\n",
              "      async function convertToInteractive(key) {\n",
              "        const element = document.querySelector('#df-647f2d38-6c33-4ce0-b39e-1ff32fa46bc4');\n",
              "        const dataTable =\n",
              "          await google.colab.kernel.invokeFunction('convertToInteractive',\n",
              "                                                    [key], {});\n",
              "        if (!dataTable) return;\n",
              "\n",
              "        const docLinkHtml = 'Like what you see? Visit the ' +\n",
              "          '<a target=\"_blank\" href=https://colab.research.google.com/notebooks/data_table.ipynb>data table notebook</a>'\n",
              "          + ' to learn more about interactive tables.';\n",
              "        element.innerHTML = '';\n",
              "        dataTable['output_type'] = 'display_data';\n",
              "        await google.colab.output.renderOutput(dataTable, element);\n",
              "        const docLink = document.createElement('div');\n",
              "        docLink.innerHTML = docLinkHtml;\n",
              "        element.appendChild(docLink);\n",
              "      }\n",
              "    </script>\n",
              "  </div>\n",
              "\n",
              "\n",
              "    </div>\n",
              "  </div>\n"
            ],
            "application/vnd.google.colaboratory.intrinsic+json": {
              "type": "dataframe",
              "summary": "{\n  \"name\": \"race_df\",\n  \"rows\": 1,\n  \"fields\": [\n    {\n      \"column\": \"name\",\n      \"properties\": {\n        \"dtype\": \"string\",\n        \"num_unique_values\": 1,\n        \"samples\": [\n          \"Fulton County, Georgia\"\n        ],\n        \"semantic_type\": \"\",\n        \"description\": \"\"\n      }\n    },\n    {\n      \"column\": \"white\",\n      \"properties\": {\n        \"dtype\": \"number\",\n        \"std\": null,\n        \"min\": 418700.0,\n        \"max\": 418700.0,\n        \"num_unique_values\": 1,\n        \"samples\": [\n          418700.0\n        ],\n        \"semantic_type\": \"\",\n        \"description\": \"\"\n      }\n    },\n    {\n      \"column\": \"black\",\n      \"properties\": {\n        \"dtype\": \"number\",\n        \"std\": null,\n        \"min\": 453834.0,\n        \"max\": 453834.0,\n        \"num_unique_values\": 1,\n        \"samples\": [\n          453834.0\n        ],\n        \"semantic_type\": \"\",\n        \"description\": \"\"\n      }\n    },\n    {\n      \"column\": \"amin\",\n      \"properties\": {\n        \"dtype\": \"number\",\n        \"std\": null,\n        \"min\": 3255.0,\n        \"max\": 3255.0,\n        \"num_unique_values\": 1,\n        \"samples\": [\n          3255.0\n        ],\n        \"semantic_type\": \"\",\n        \"description\": \"\"\n      }\n    },\n    {\n      \"column\": \"asian\",\n      \"properties\": {\n        \"dtype\": \"number\",\n        \"std\": null,\n        \"min\": 80949.0,\n        \"max\": 80949.0,\n        \"num_unique_values\": 1,\n        \"samples\": [\n          80949.0\n        ],\n        \"semantic_type\": \"\",\n        \"description\": \"\"\n      }\n    },\n    {\n      \"column\": \"nhpi\",\n      \"properties\": {\n        \"dtype\": \"number\",\n        \"std\": null,\n        \"min\": 452.0,\n        \"max\": 452.0,\n        \"num_unique_values\": 1,\n        \"samples\": [\n          452.0\n        ],\n        \"semantic_type\": \"\",\n        \"description\": \"\"\n      }\n    },\n    {\n      \"column\": \"other\",\n      \"properties\": {\n        \"dtype\": \"number\",\n        \"std\": null,\n        \"min\": 38612.0,\n        \"max\": 38612.0,\n        \"num_unique_values\": 1,\n        \"samples\": [\n          38612.0\n        ],\n        \"semantic_type\": \"\",\n        \"description\": \"\"\n      }\n    },\n    {\n      \"column\": \"two_or_more\",\n      \"properties\": {\n        \"dtype\": \"number\",\n        \"std\": null,\n        \"min\": 70908.0,\n        \"max\": 70908.0,\n        \"num_unique_values\": 1,\n        \"samples\": [\n          70908.0\n        ],\n        \"semantic_type\": \"\",\n        \"description\": \"\"\n      }\n    },\n    {\n      \"column\": \"total\",\n      \"properties\": {\n        \"dtype\": \"number\",\n        \"std\": null,\n        \"min\": 1066710.0,\n        \"max\": 1066710.0,\n        \"num_unique_values\": 1,\n        \"samples\": [\n          1066710.0\n        ],\n        \"semantic_type\": \"\",\n        \"description\": \"\"\n      }\n    },\n    {\n      \"column\": \"white_pct\",\n      \"properties\": {\n        \"dtype\": \"number\",\n        \"std\": null,\n        \"min\": 39.25153040657723,\n        \"max\": 39.25153040657723,\n        \"num_unique_values\": 1,\n        \"samples\": [\n          39.25153040657723\n        ],\n        \"semantic_type\": \"\",\n        \"description\": \"\"\n      }\n    },\n    {\n      \"column\": \"black_pct\",\n      \"properties\": {\n        \"dtype\": \"number\",\n        \"std\": null,\n        \"min\": 42.54520910088028,\n        \"max\": 42.54520910088028,\n        \"num_unique_values\": 1,\n        \"samples\": [\n          42.54520910088028\n        ],\n        \"semantic_type\": \"\",\n        \"description\": \"\"\n      }\n    },\n    {\n      \"column\": \"amin_pct\",\n      \"properties\": {\n        \"dtype\": \"number\",\n        \"std\": null,\n        \"min\": 0.3051438535309503,\n        \"max\": 0.3051438535309503,\n        \"num_unique_values\": 1,\n        \"samples\": [\n          0.3051438535309503\n        ],\n        \"semantic_type\": \"\",\n        \"description\": \"\"\n      }\n    },\n    {\n      \"column\": \"asian_pct\",\n      \"properties\": {\n        \"dtype\": \"number\",\n        \"std\": null,\n        \"min\": 7.588660460668786,\n        \"max\": 7.588660460668786,\n        \"num_unique_values\": 1,\n        \"samples\": [\n          7.588660460668786\n        ],\n        \"semantic_type\": \"\",\n        \"description\": \"\"\n      }\n    },\n    {\n      \"column\": \"nhpi_pct\",\n      \"properties\": {\n        \"dtype\": \"number\",\n        \"std\": null,\n        \"min\": 0.042373278585557464,\n        \"max\": 0.042373278585557464,\n        \"num_unique_values\": 1,\n        \"samples\": [\n          0.042373278585557464\n        ],\n        \"semantic_type\": \"\",\n        \"description\": \"\"\n      }\n    },\n    {\n      \"column\": \"other_pct\",\n      \"properties\": {\n        \"dtype\": \"number\",\n        \"std\": null,\n        \"min\": 3.61972794855209,\n        \"max\": 3.61972794855209,\n        \"num_unique_values\": 1,\n        \"samples\": [\n          3.61972794855209\n        ],\n        \"semantic_type\": \"\",\n        \"description\": \"\"\n      }\n    },\n    {\n      \"column\": \"two_or_more_pct\",\n      \"properties\": {\n        \"dtype\": \"number\",\n        \"std\": null,\n        \"min\": 6.6473549512051076,\n        \"max\": 6.6473549512051076,\n        \"num_unique_values\": 1,\n        \"samples\": [\n          6.6473549512051076\n        ],\n        \"semantic_type\": \"\",\n        \"description\": \"\"\n      }\n    }\n  ]\n}"
            }
          },
          "metadata": {},
          "execution_count": 94
        }
      ],
      "source": [
        "race_df.sort_values(by=[\"white_pct\"])"
      ]
    },
    {
      "cell_type": "markdown",
      "id": "93ec5908-b4bd-4379-9f80-4fc8cd401fd6",
      "metadata": {
        "id": "93ec5908-b4bd-4379-9f80-4fc8cd401fd6"
      },
      "source": [
        "This histogram indicates that most counties in New York have a relatively small Black population share (most of the mass is below the 10% mark), but there are a few outlying counties with a large concentration of Black population."
      ]
    },
    {
      "cell_type": "code",
      "execution_count": 95,
      "id": "b4fa7d48-252c-4683-92a0-f157cca2bc81",
      "metadata": {
        "id": "b4fa7d48-252c-4683-92a0-f157cca2bc81",
        "outputId": "d8d483ec-6ae1-4f19-936c-91abc7ce610f",
        "colab": {
          "base_uri": "https://localhost:8080/",
          "height": 456
        }
      },
      "outputs": [
        {
          "output_type": "display_data",
          "data": {
            "text/plain": [
              "<Figure size 640x480 with 1 Axes>"
            ],
            "image/svg+xml": "<?xml version=\"1.0\" encoding=\"utf-8\" standalone=\"no\"?>\n<!DOCTYPE svg PUBLIC \"-//W3C//DTD SVG 1.1//EN\"\n  \"http://www.w3.org/Graphics/SVG/1.1/DTD/svg11.dtd\">\n<svg xmlns:xlink=\"http://www.w3.org/1999/xlink\" width=\"408.10125pt\" height=\"325.986375pt\" viewBox=\"0 0 408.10125 325.986375\" xmlns=\"http://www.w3.org/2000/svg\" version=\"1.1\">\n <metadata>\n  <rdf:RDF xmlns:dc=\"http://purl.org/dc/elements/1.1/\" xmlns:cc=\"http://creativecommons.org/ns#\" xmlns:rdf=\"http://www.w3.org/1999/02/22-rdf-syntax-ns#\">\n   <cc:Work>\n    <dc:type rdf:resource=\"http://purl.org/dc/dcmitype/StillImage\"/>\n    <dc:date>2025-02-06T04:24:03.929065</dc:date>\n    <dc:format>image/svg+xml</dc:format>\n    <dc:creator>\n     <cc:Agent>\n      <dc:title>Matplotlib v3.10.0, https://matplotlib.org/</dc:title>\n     </cc:Agent>\n    </dc:creator>\n   </cc:Work>\n  </rdf:RDF>\n </metadata>\n <defs>\n  <style type=\"text/css\">*{stroke-linejoin: round; stroke-linecap: butt}</style>\n </defs>\n <g id=\"figure_1\">\n  <g id=\"patch_1\">\n   <path d=\"M 0 325.986375 \nL 408.10125 325.986375 \nL 408.10125 0 \nL 0 0 \nz\n\" style=\"fill: #ffffff\"/>\n  </g>\n  <g id=\"axes_1\">\n   <g id=\"patch_2\">\n    <path d=\"M 43.78125 288.430125 \nL 400.90125 288.430125 \nL 400.90125 22.318125 \nL 43.78125 22.318125 \nz\n\" style=\"fill: #ffffff\"/>\n   </g>\n   <g id=\"patch_3\">\n    <path d=\"M 60.013977 288.430125 \nL 76.246705 288.430125 \nL 76.246705 288.430125 \nL 60.013977 288.430125 \nz\n\" clip-path=\"url(#pd09c3dbcd3)\" style=\"fill: #1f77b4\"/>\n   </g>\n   <g id=\"patch_4\">\n    <path d=\"M 76.246705 288.430125 \nL 92.479432 288.430125 \nL 92.479432 288.430125 \nL 76.246705 288.430125 \nz\n\" clip-path=\"url(#pd09c3dbcd3)\" style=\"fill: #1f77b4\"/>\n   </g>\n   <g id=\"patch_5\">\n    <path d=\"M 92.479432 288.430125 \nL 108.712159 288.430125 \nL 108.712159 288.430125 \nL 92.479432 288.430125 \nz\n\" clip-path=\"url(#pd09c3dbcd3)\" style=\"fill: #1f77b4\"/>\n   </g>\n   <g id=\"patch_6\">\n    <path d=\"M 108.712159 288.430125 \nL 124.944886 288.430125 \nL 124.944886 288.430125 \nL 108.712159 288.430125 \nz\n\" clip-path=\"url(#pd09c3dbcd3)\" style=\"fill: #1f77b4\"/>\n   </g>\n   <g id=\"patch_7\">\n    <path d=\"M 124.944886 288.430125 \nL 141.177614 288.430125 \nL 141.177614 288.430125 \nL 124.944886 288.430125 \nz\n\" clip-path=\"url(#pd09c3dbcd3)\" style=\"fill: #1f77b4\"/>\n   </g>\n   <g id=\"patch_8\">\n    <path d=\"M 141.177614 288.430125 \nL 157.410341 288.430125 \nL 157.410341 288.430125 \nL 141.177614 288.430125 \nz\n\" clip-path=\"url(#pd09c3dbcd3)\" style=\"fill: #1f77b4\"/>\n   </g>\n   <g id=\"patch_9\">\n    <path d=\"M 157.410341 288.430125 \nL 173.643068 288.430125 \nL 173.643068 288.430125 \nL 157.410341 288.430125 \nz\n\" clip-path=\"url(#pd09c3dbcd3)\" style=\"fill: #1f77b4\"/>\n   </g>\n   <g id=\"patch_10\">\n    <path d=\"M 173.643068 288.430125 \nL 189.875795 288.430125 \nL 189.875795 288.430125 \nL 173.643068 288.430125 \nz\n\" clip-path=\"url(#pd09c3dbcd3)\" style=\"fill: #1f77b4\"/>\n   </g>\n   <g id=\"patch_11\">\n    <path d=\"M 189.875795 288.430125 \nL 206.108523 288.430125 \nL 206.108523 288.430125 \nL 189.875795 288.430125 \nz\n\" clip-path=\"url(#pd09c3dbcd3)\" style=\"fill: #1f77b4\"/>\n   </g>\n   <g id=\"patch_12\">\n    <path d=\"M 206.108523 288.430125 \nL 222.34125 288.430125 \nL 222.34125 288.430125 \nL 206.108523 288.430125 \nz\n\" clip-path=\"url(#pd09c3dbcd3)\" style=\"fill: #1f77b4\"/>\n   </g>\n   <g id=\"patch_13\">\n    <path d=\"M 222.34125 288.430125 \nL 238.573977 288.430125 \nL 238.573977 34.990125 \nL 222.34125 34.990125 \nz\n\" clip-path=\"url(#pd09c3dbcd3)\" style=\"fill: #1f77b4\"/>\n   </g>\n   <g id=\"patch_14\">\n    <path d=\"M 238.573977 288.430125 \nL 254.806705 288.430125 \nL 254.806705 288.430125 \nL 238.573977 288.430125 \nz\n\" clip-path=\"url(#pd09c3dbcd3)\" style=\"fill: #1f77b4\"/>\n   </g>\n   <g id=\"patch_15\">\n    <path d=\"M 254.806705 288.430125 \nL 271.039432 288.430125 \nL 271.039432 288.430125 \nL 254.806705 288.430125 \nz\n\" clip-path=\"url(#pd09c3dbcd3)\" style=\"fill: #1f77b4\"/>\n   </g>\n   <g id=\"patch_16\">\n    <path d=\"M 271.039432 288.430125 \nL 287.272159 288.430125 \nL 287.272159 288.430125 \nL 271.039432 288.430125 \nz\n\" clip-path=\"url(#pd09c3dbcd3)\" style=\"fill: #1f77b4\"/>\n   </g>\n   <g id=\"patch_17\">\n    <path d=\"M 287.272159 288.430125 \nL 303.504886 288.430125 \nL 303.504886 288.430125 \nL 287.272159 288.430125 \nz\n\" clip-path=\"url(#pd09c3dbcd3)\" style=\"fill: #1f77b4\"/>\n   </g>\n   <g id=\"patch_18\">\n    <path d=\"M 303.504886 288.430125 \nL 319.737614 288.430125 \nL 319.737614 288.430125 \nL 303.504886 288.430125 \nz\n\" clip-path=\"url(#pd09c3dbcd3)\" style=\"fill: #1f77b4\"/>\n   </g>\n   <g id=\"patch_19\">\n    <path d=\"M 319.737614 288.430125 \nL 335.970341 288.430125 \nL 335.970341 288.430125 \nL 319.737614 288.430125 \nz\n\" clip-path=\"url(#pd09c3dbcd3)\" style=\"fill: #1f77b4\"/>\n   </g>\n   <g id=\"patch_20\">\n    <path d=\"M 335.970341 288.430125 \nL 352.203068 288.430125 \nL 352.203068 288.430125 \nL 335.970341 288.430125 \nz\n\" clip-path=\"url(#pd09c3dbcd3)\" style=\"fill: #1f77b4\"/>\n   </g>\n   <g id=\"patch_21\">\n    <path d=\"M 352.203068 288.430125 \nL 368.435795 288.430125 \nL 368.435795 288.430125 \nL 352.203068 288.430125 \nz\n\" clip-path=\"url(#pd09c3dbcd3)\" style=\"fill: #1f77b4\"/>\n   </g>\n   <g id=\"patch_22\">\n    <path d=\"M 368.435795 288.430125 \nL 384.668523 288.430125 \nL 384.668523 288.430125 \nL 368.435795 288.430125 \nz\n\" clip-path=\"url(#pd09c3dbcd3)\" style=\"fill: #1f77b4\"/>\n   </g>\n   <g id=\"matplotlib.axis_1\">\n    <g id=\"xtick_1\">\n     <g id=\"line2d_1\">\n      <path d=\"M 45.336637 288.430125 \nL 45.336637 22.318125 \n\" clip-path=\"url(#pd09c3dbcd3)\" style=\"fill: none; stroke: #b0b0b0; stroke-width: 0.8; stroke-linecap: square\"/>\n     </g>\n     <g id=\"line2d_2\">\n      <defs>\n       <path id=\"mf1fbd4c62f\" d=\"M 0 0 \nL 0 3.5 \n\" style=\"stroke: #000000; stroke-width: 0.8\"/>\n      </defs>\n      <g>\n       <use xlink:href=\"#mf1fbd4c62f\" x=\"45.336637\" y=\"288.430125\" style=\"stroke: #000000; stroke-width: 0.8\"/>\n      </g>\n     </g>\n     <g id=\"text_1\">\n      <!-- 42.0 -->\n      <g transform=\"translate(34.203825 303.028562) scale(0.1 -0.1)\">\n       <defs>\n        <path id=\"DejaVuSans-34\" d=\"M 2419 4116 \nL 825 1625 \nL 2419 1625 \nL 2419 4116 \nz\nM 2253 4666 \nL 3047 4666 \nL 3047 1625 \nL 3713 1625 \nL 3713 1100 \nL 3047 1100 \nL 3047 0 \nL 2419 0 \nL 2419 1100 \nL 313 1100 \nL 313 1709 \nL 2253 4666 \nz\n\" transform=\"scale(0.015625)\"/>\n        <path id=\"DejaVuSans-32\" d=\"M 1228 531 \nL 3431 531 \nL 3431 0 \nL 469 0 \nL 469 531 \nQ 828 903 1448 1529 \nQ 2069 2156 2228 2338 \nQ 2531 2678 2651 2914 \nQ 2772 3150 2772 3378 \nQ 2772 3750 2511 3984 \nQ 2250 4219 1831 4219 \nQ 1534 4219 1204 4116 \nQ 875 4013 500 3803 \nL 500 4441 \nQ 881 4594 1212 4672 \nQ 1544 4750 1819 4750 \nQ 2544 4750 2975 4387 \nQ 3406 4025 3406 3419 \nQ 3406 3131 3298 2873 \nQ 3191 2616 2906 2266 \nQ 2828 2175 2409 1742 \nQ 1991 1309 1228 531 \nz\n\" transform=\"scale(0.015625)\"/>\n        <path id=\"DejaVuSans-2e\" d=\"M 684 794 \nL 1344 794 \nL 1344 0 \nL 684 0 \nL 684 794 \nz\n\" transform=\"scale(0.015625)\"/>\n        <path id=\"DejaVuSans-30\" d=\"M 2034 4250 \nQ 1547 4250 1301 3770 \nQ 1056 3291 1056 2328 \nQ 1056 1369 1301 889 \nQ 1547 409 2034 409 \nQ 2525 409 2770 889 \nQ 3016 1369 3016 2328 \nQ 3016 3291 2770 3770 \nQ 2525 4250 2034 4250 \nz\nM 2034 4750 \nQ 2819 4750 3233 4129 \nQ 3647 3509 3647 2328 \nQ 3647 1150 3233 529 \nQ 2819 -91 2034 -91 \nQ 1250 -91 836 529 \nQ 422 1150 422 2328 \nQ 422 3509 836 4129 \nQ 1250 4750 2034 4750 \nz\n\" transform=\"scale(0.015625)\"/>\n       </defs>\n       <use xlink:href=\"#DejaVuSans-34\"/>\n       <use xlink:href=\"#DejaVuSans-32\" transform=\"translate(63.623047 0)\"/>\n       <use xlink:href=\"#DejaVuSans-2e\" transform=\"translate(127.246094 0)\"/>\n       <use xlink:href=\"#DejaVuSans-30\" transform=\"translate(159.033203 0)\"/>\n      </g>\n     </g>\n    </g>\n    <g id=\"xtick_2\">\n     <g id=\"line2d_3\">\n      <path d=\"M 110.267546 288.430125 \nL 110.267546 22.318125 \n\" clip-path=\"url(#pd09c3dbcd3)\" style=\"fill: none; stroke: #b0b0b0; stroke-width: 0.8; stroke-linecap: square\"/>\n     </g>\n     <g id=\"line2d_4\">\n      <g>\n       <use xlink:href=\"#mf1fbd4c62f\" x=\"110.267546\" y=\"288.430125\" style=\"stroke: #000000; stroke-width: 0.8\"/>\n      </g>\n     </g>\n     <g id=\"text_2\">\n      <!-- 42.2 -->\n      <g transform=\"translate(99.134734 303.028562) scale(0.1 -0.1)\">\n       <use xlink:href=\"#DejaVuSans-34\"/>\n       <use xlink:href=\"#DejaVuSans-32\" transform=\"translate(63.623047 0)\"/>\n       <use xlink:href=\"#DejaVuSans-2e\" transform=\"translate(127.246094 0)\"/>\n       <use xlink:href=\"#DejaVuSans-32\" transform=\"translate(159.033203 0)\"/>\n      </g>\n     </g>\n    </g>\n    <g id=\"xtick_3\">\n     <g id=\"line2d_5\">\n      <path d=\"M 175.198455 288.430125 \nL 175.198455 22.318125 \n\" clip-path=\"url(#pd09c3dbcd3)\" style=\"fill: none; stroke: #b0b0b0; stroke-width: 0.8; stroke-linecap: square\"/>\n     </g>\n     <g id=\"line2d_6\">\n      <g>\n       <use xlink:href=\"#mf1fbd4c62f\" x=\"175.198455\" y=\"288.430125\" style=\"stroke: #000000; stroke-width: 0.8\"/>\n      </g>\n     </g>\n     <g id=\"text_3\">\n      <!-- 42.4 -->\n      <g transform=\"translate(164.065643 303.028562) scale(0.1 -0.1)\">\n       <use xlink:href=\"#DejaVuSans-34\"/>\n       <use xlink:href=\"#DejaVuSans-32\" transform=\"translate(63.623047 0)\"/>\n       <use xlink:href=\"#DejaVuSans-2e\" transform=\"translate(127.246094 0)\"/>\n       <use xlink:href=\"#DejaVuSans-34\" transform=\"translate(159.033203 0)\"/>\n      </g>\n     </g>\n    </g>\n    <g id=\"xtick_4\">\n     <g id=\"line2d_7\">\n      <path d=\"M 240.129364 288.430125 \nL 240.129364 22.318125 \n\" clip-path=\"url(#pd09c3dbcd3)\" style=\"fill: none; stroke: #b0b0b0; stroke-width: 0.8; stroke-linecap: square\"/>\n     </g>\n     <g id=\"line2d_8\">\n      <g>\n       <use xlink:href=\"#mf1fbd4c62f\" x=\"240.129364\" y=\"288.430125\" style=\"stroke: #000000; stroke-width: 0.8\"/>\n      </g>\n     </g>\n     <g id=\"text_4\">\n      <!-- 42.6 -->\n      <g transform=\"translate(228.996552 303.028562) scale(0.1 -0.1)\">\n       <defs>\n        <path id=\"DejaVuSans-36\" d=\"M 2113 2584 \nQ 1688 2584 1439 2293 \nQ 1191 2003 1191 1497 \nQ 1191 994 1439 701 \nQ 1688 409 2113 409 \nQ 2538 409 2786 701 \nQ 3034 994 3034 1497 \nQ 3034 2003 2786 2293 \nQ 2538 2584 2113 2584 \nz\nM 3366 4563 \nL 3366 3988 \nQ 3128 4100 2886 4159 \nQ 2644 4219 2406 4219 \nQ 1781 4219 1451 3797 \nQ 1122 3375 1075 2522 \nQ 1259 2794 1537 2939 \nQ 1816 3084 2150 3084 \nQ 2853 3084 3261 2657 \nQ 3669 2231 3669 1497 \nQ 3669 778 3244 343 \nQ 2819 -91 2113 -91 \nQ 1303 -91 875 529 \nQ 447 1150 447 2328 \nQ 447 3434 972 4092 \nQ 1497 4750 2381 4750 \nQ 2619 4750 2861 4703 \nQ 3103 4656 3366 4563 \nz\n\" transform=\"scale(0.015625)\"/>\n       </defs>\n       <use xlink:href=\"#DejaVuSans-34\"/>\n       <use xlink:href=\"#DejaVuSans-32\" transform=\"translate(63.623047 0)\"/>\n       <use xlink:href=\"#DejaVuSans-2e\" transform=\"translate(127.246094 0)\"/>\n       <use xlink:href=\"#DejaVuSans-36\" transform=\"translate(159.033203 0)\"/>\n      </g>\n     </g>\n    </g>\n    <g id=\"xtick_5\">\n     <g id=\"line2d_9\">\n      <path d=\"M 305.060274 288.430125 \nL 305.060274 22.318125 \n\" clip-path=\"url(#pd09c3dbcd3)\" style=\"fill: none; stroke: #b0b0b0; stroke-width: 0.8; stroke-linecap: square\"/>\n     </g>\n     <g id=\"line2d_10\">\n      <g>\n       <use xlink:href=\"#mf1fbd4c62f\" x=\"305.060274\" y=\"288.430125\" style=\"stroke: #000000; stroke-width: 0.8\"/>\n      </g>\n     </g>\n     <g id=\"text_5\">\n      <!-- 42.8 -->\n      <g transform=\"translate(293.927461 303.028562) scale(0.1 -0.1)\">\n       <defs>\n        <path id=\"DejaVuSans-38\" d=\"M 2034 2216 \nQ 1584 2216 1326 1975 \nQ 1069 1734 1069 1313 \nQ 1069 891 1326 650 \nQ 1584 409 2034 409 \nQ 2484 409 2743 651 \nQ 3003 894 3003 1313 \nQ 3003 1734 2745 1975 \nQ 2488 2216 2034 2216 \nz\nM 1403 2484 \nQ 997 2584 770 2862 \nQ 544 3141 544 3541 \nQ 544 4100 942 4425 \nQ 1341 4750 2034 4750 \nQ 2731 4750 3128 4425 \nQ 3525 4100 3525 3541 \nQ 3525 3141 3298 2862 \nQ 3072 2584 2669 2484 \nQ 3125 2378 3379 2068 \nQ 3634 1759 3634 1313 \nQ 3634 634 3220 271 \nQ 2806 -91 2034 -91 \nQ 1263 -91 848 271 \nQ 434 634 434 1313 \nQ 434 1759 690 2068 \nQ 947 2378 1403 2484 \nz\nM 1172 3481 \nQ 1172 3119 1398 2916 \nQ 1625 2713 2034 2713 \nQ 2441 2713 2670 2916 \nQ 2900 3119 2900 3481 \nQ 2900 3844 2670 4047 \nQ 2441 4250 2034 4250 \nQ 1625 4250 1398 4047 \nQ 1172 3844 1172 3481 \nz\n\" transform=\"scale(0.015625)\"/>\n       </defs>\n       <use xlink:href=\"#DejaVuSans-34\"/>\n       <use xlink:href=\"#DejaVuSans-32\" transform=\"translate(63.623047 0)\"/>\n       <use xlink:href=\"#DejaVuSans-2e\" transform=\"translate(127.246094 0)\"/>\n       <use xlink:href=\"#DejaVuSans-38\" transform=\"translate(159.033203 0)\"/>\n      </g>\n     </g>\n    </g>\n    <g id=\"xtick_6\">\n     <g id=\"line2d_11\">\n      <path d=\"M 369.991183 288.430125 \nL 369.991183 22.318125 \n\" clip-path=\"url(#pd09c3dbcd3)\" style=\"fill: none; stroke: #b0b0b0; stroke-width: 0.8; stroke-linecap: square\"/>\n     </g>\n     <g id=\"line2d_12\">\n      <g>\n       <use xlink:href=\"#mf1fbd4c62f\" x=\"369.991183\" y=\"288.430125\" style=\"stroke: #000000; stroke-width: 0.8\"/>\n      </g>\n     </g>\n     <g id=\"text_6\">\n      <!-- 43.0 -->\n      <g transform=\"translate(358.85837 303.028562) scale(0.1 -0.1)\">\n       <defs>\n        <path id=\"DejaVuSans-33\" d=\"M 2597 2516 \nQ 3050 2419 3304 2112 \nQ 3559 1806 3559 1356 \nQ 3559 666 3084 287 \nQ 2609 -91 1734 -91 \nQ 1441 -91 1130 -33 \nQ 819 25 488 141 \nL 488 750 \nQ 750 597 1062 519 \nQ 1375 441 1716 441 \nQ 2309 441 2620 675 \nQ 2931 909 2931 1356 \nQ 2931 1769 2642 2001 \nQ 2353 2234 1838 2234 \nL 1294 2234 \nL 1294 2753 \nL 1863 2753 \nQ 2328 2753 2575 2939 \nQ 2822 3125 2822 3475 \nQ 2822 3834 2567 4026 \nQ 2313 4219 1838 4219 \nQ 1578 4219 1281 4162 \nQ 984 4106 628 3988 \nL 628 4550 \nQ 988 4650 1302 4700 \nQ 1616 4750 1894 4750 \nQ 2613 4750 3031 4423 \nQ 3450 4097 3450 3541 \nQ 3450 3153 3228 2886 \nQ 3006 2619 2597 2516 \nz\n\" transform=\"scale(0.015625)\"/>\n       </defs>\n       <use xlink:href=\"#DejaVuSans-34\"/>\n       <use xlink:href=\"#DejaVuSans-33\" transform=\"translate(63.623047 0)\"/>\n       <use xlink:href=\"#DejaVuSans-2e\" transform=\"translate(127.246094 0)\"/>\n       <use xlink:href=\"#DejaVuSans-30\" transform=\"translate(159.033203 0)\"/>\n      </g>\n     </g>\n    </g>\n    <g id=\"text_7\">\n     <!-- % Black -->\n     <g transform=\"translate(202.473281 316.706687) scale(0.1 -0.1)\">\n      <defs>\n       <path id=\"DejaVuSans-25\" d=\"M 4653 2053 \nQ 4381 2053 4226 1822 \nQ 4072 1591 4072 1178 \nQ 4072 772 4226 539 \nQ 4381 306 4653 306 \nQ 4919 306 5073 539 \nQ 5228 772 5228 1178 \nQ 5228 1588 5073 1820 \nQ 4919 2053 4653 2053 \nz\nM 4653 2450 \nQ 5147 2450 5437 2106 \nQ 5728 1763 5728 1178 \nQ 5728 594 5436 251 \nQ 5144 -91 4653 -91 \nQ 4153 -91 3862 251 \nQ 3572 594 3572 1178 \nQ 3572 1766 3864 2108 \nQ 4156 2450 4653 2450 \nz\nM 1428 4353 \nQ 1159 4353 1004 4120 \nQ 850 3888 850 3481 \nQ 850 3069 1003 2837 \nQ 1156 2606 1428 2606 \nQ 1700 2606 1854 2837 \nQ 2009 3069 2009 3481 \nQ 2009 3884 1853 4118 \nQ 1697 4353 1428 4353 \nz\nM 4250 4750 \nL 4750 4750 \nL 1831 -91 \nL 1331 -91 \nL 4250 4750 \nz\nM 1428 4750 \nQ 1922 4750 2215 4408 \nQ 2509 4066 2509 3481 \nQ 2509 2891 2217 2550 \nQ 1925 2209 1428 2209 \nQ 931 2209 642 2551 \nQ 353 2894 353 3481 \nQ 353 4063 643 4406 \nQ 934 4750 1428 4750 \nz\n\" transform=\"scale(0.015625)\"/>\n       <path id=\"DejaVuSans-20\" transform=\"scale(0.015625)\"/>\n       <path id=\"DejaVuSans-42\" d=\"M 1259 2228 \nL 1259 519 \nL 2272 519 \nQ 2781 519 3026 730 \nQ 3272 941 3272 1375 \nQ 3272 1813 3026 2020 \nQ 2781 2228 2272 2228 \nL 1259 2228 \nz\nM 1259 4147 \nL 1259 2741 \nL 2194 2741 \nQ 2656 2741 2882 2914 \nQ 3109 3088 3109 3444 \nQ 3109 3797 2882 3972 \nQ 2656 4147 2194 4147 \nL 1259 4147 \nz\nM 628 4666 \nL 2241 4666 \nQ 2963 4666 3353 4366 \nQ 3744 4066 3744 3513 \nQ 3744 3084 3544 2831 \nQ 3344 2578 2956 2516 \nQ 3422 2416 3680 2098 \nQ 3938 1781 3938 1306 \nQ 3938 681 3513 340 \nQ 3088 0 2303 0 \nL 628 0 \nL 628 4666 \nz\n\" transform=\"scale(0.015625)\"/>\n       <path id=\"DejaVuSans-6c\" d=\"M 603 4863 \nL 1178 4863 \nL 1178 0 \nL 603 0 \nL 603 4863 \nz\n\" transform=\"scale(0.015625)\"/>\n       <path id=\"DejaVuSans-61\" d=\"M 2194 1759 \nQ 1497 1759 1228 1600 \nQ 959 1441 959 1056 \nQ 959 750 1161 570 \nQ 1363 391 1709 391 \nQ 2188 391 2477 730 \nQ 2766 1069 2766 1631 \nL 2766 1759 \nL 2194 1759 \nz\nM 3341 1997 \nL 3341 0 \nL 2766 0 \nL 2766 531 \nQ 2569 213 2275 61 \nQ 1981 -91 1556 -91 \nQ 1019 -91 701 211 \nQ 384 513 384 1019 \nQ 384 1609 779 1909 \nQ 1175 2209 1959 2209 \nL 2766 2209 \nL 2766 2266 \nQ 2766 2663 2505 2880 \nQ 2244 3097 1772 3097 \nQ 1472 3097 1187 3025 \nQ 903 2953 641 2809 \nL 641 3341 \nQ 956 3463 1253 3523 \nQ 1550 3584 1831 3584 \nQ 2591 3584 2966 3190 \nQ 3341 2797 3341 1997 \nz\n\" transform=\"scale(0.015625)\"/>\n       <path id=\"DejaVuSans-63\" d=\"M 3122 3366 \nL 3122 2828 \nQ 2878 2963 2633 3030 \nQ 2388 3097 2138 3097 \nQ 1578 3097 1268 2742 \nQ 959 2388 959 1747 \nQ 959 1106 1268 751 \nQ 1578 397 2138 397 \nQ 2388 397 2633 464 \nQ 2878 531 3122 666 \nL 3122 134 \nQ 2881 22 2623 -34 \nQ 2366 -91 2075 -91 \nQ 1284 -91 818 406 \nQ 353 903 353 1747 \nQ 353 2603 823 3093 \nQ 1294 3584 2113 3584 \nQ 2378 3584 2631 3529 \nQ 2884 3475 3122 3366 \nz\n\" transform=\"scale(0.015625)\"/>\n       <path id=\"DejaVuSans-6b\" d=\"M 581 4863 \nL 1159 4863 \nL 1159 1991 \nL 2875 3500 \nL 3609 3500 \nL 1753 1863 \nL 3688 0 \nL 2938 0 \nL 1159 1709 \nL 1159 0 \nL 581 0 \nL 581 4863 \nz\n\" transform=\"scale(0.015625)\"/>\n      </defs>\n      <use xlink:href=\"#DejaVuSans-25\"/>\n      <use xlink:href=\"#DejaVuSans-20\" transform=\"translate(95.019531 0)\"/>\n      <use xlink:href=\"#DejaVuSans-42\" transform=\"translate(126.806641 0)\"/>\n      <use xlink:href=\"#DejaVuSans-6c\" transform=\"translate(195.410156 0)\"/>\n      <use xlink:href=\"#DejaVuSans-61\" transform=\"translate(223.193359 0)\"/>\n      <use xlink:href=\"#DejaVuSans-63\" transform=\"translate(284.472656 0)\"/>\n      <use xlink:href=\"#DejaVuSans-6b\" transform=\"translate(339.453125 0)\"/>\n     </g>\n    </g>\n   </g>\n   <g id=\"matplotlib.axis_2\">\n    <g id=\"ytick_1\">\n     <g id=\"line2d_13\">\n      <path d=\"M 43.78125 288.430125 \nL 400.90125 288.430125 \n\" clip-path=\"url(#pd09c3dbcd3)\" style=\"fill: none; stroke: #b0b0b0; stroke-width: 0.8; stroke-linecap: square\"/>\n     </g>\n     <g id=\"line2d_14\">\n      <defs>\n       <path id=\"m5154eceada\" d=\"M 0 0 \nL -3.5 0 \n\" style=\"stroke: #000000; stroke-width: 0.8\"/>\n      </defs>\n      <g>\n       <use xlink:href=\"#m5154eceada\" x=\"43.78125\" y=\"288.430125\" style=\"stroke: #000000; stroke-width: 0.8\"/>\n      </g>\n     </g>\n     <g id=\"text_8\">\n      <!-- 0.0 -->\n      <g transform=\"translate(20.878125 292.229344) scale(0.1 -0.1)\">\n       <use xlink:href=\"#DejaVuSans-30\"/>\n       <use xlink:href=\"#DejaVuSans-2e\" transform=\"translate(63.623047 0)\"/>\n       <use xlink:href=\"#DejaVuSans-30\" transform=\"translate(95.410156 0)\"/>\n      </g>\n     </g>\n    </g>\n    <g id=\"ytick_2\">\n     <g id=\"line2d_15\">\n      <path d=\"M 43.78125 237.742125 \nL 400.90125 237.742125 \n\" clip-path=\"url(#pd09c3dbcd3)\" style=\"fill: none; stroke: #b0b0b0; stroke-width: 0.8; stroke-linecap: square\"/>\n     </g>\n     <g id=\"line2d_16\">\n      <g>\n       <use xlink:href=\"#m5154eceada\" x=\"43.78125\" y=\"237.742125\" style=\"stroke: #000000; stroke-width: 0.8\"/>\n      </g>\n     </g>\n     <g id=\"text_9\">\n      <!-- 0.2 -->\n      <g transform=\"translate(20.878125 241.541344) scale(0.1 -0.1)\">\n       <use xlink:href=\"#DejaVuSans-30\"/>\n       <use xlink:href=\"#DejaVuSans-2e\" transform=\"translate(63.623047 0)\"/>\n       <use xlink:href=\"#DejaVuSans-32\" transform=\"translate(95.410156 0)\"/>\n      </g>\n     </g>\n    </g>\n    <g id=\"ytick_3\">\n     <g id=\"line2d_17\">\n      <path d=\"M 43.78125 187.054125 \nL 400.90125 187.054125 \n\" clip-path=\"url(#pd09c3dbcd3)\" style=\"fill: none; stroke: #b0b0b0; stroke-width: 0.8; stroke-linecap: square\"/>\n     </g>\n     <g id=\"line2d_18\">\n      <g>\n       <use xlink:href=\"#m5154eceada\" x=\"43.78125\" y=\"187.054125\" style=\"stroke: #000000; stroke-width: 0.8\"/>\n      </g>\n     </g>\n     <g id=\"text_10\">\n      <!-- 0.4 -->\n      <g transform=\"translate(20.878125 190.853344) scale(0.1 -0.1)\">\n       <use xlink:href=\"#DejaVuSans-30\"/>\n       <use xlink:href=\"#DejaVuSans-2e\" transform=\"translate(63.623047 0)\"/>\n       <use xlink:href=\"#DejaVuSans-34\" transform=\"translate(95.410156 0)\"/>\n      </g>\n     </g>\n    </g>\n    <g id=\"ytick_4\">\n     <g id=\"line2d_19\">\n      <path d=\"M 43.78125 136.366125 \nL 400.90125 136.366125 \n\" clip-path=\"url(#pd09c3dbcd3)\" style=\"fill: none; stroke: #b0b0b0; stroke-width: 0.8; stroke-linecap: square\"/>\n     </g>\n     <g id=\"line2d_20\">\n      <g>\n       <use xlink:href=\"#m5154eceada\" x=\"43.78125\" y=\"136.366125\" style=\"stroke: #000000; stroke-width: 0.8\"/>\n      </g>\n     </g>\n     <g id=\"text_11\">\n      <!-- 0.6 -->\n      <g transform=\"translate(20.878125 140.165344) scale(0.1 -0.1)\">\n       <use xlink:href=\"#DejaVuSans-30\"/>\n       <use xlink:href=\"#DejaVuSans-2e\" transform=\"translate(63.623047 0)\"/>\n       <use xlink:href=\"#DejaVuSans-36\" transform=\"translate(95.410156 0)\"/>\n      </g>\n     </g>\n    </g>\n    <g id=\"ytick_5\">\n     <g id=\"line2d_21\">\n      <path d=\"M 43.78125 85.678125 \nL 400.90125 85.678125 \n\" clip-path=\"url(#pd09c3dbcd3)\" style=\"fill: none; stroke: #b0b0b0; stroke-width: 0.8; stroke-linecap: square\"/>\n     </g>\n     <g id=\"line2d_22\">\n      <g>\n       <use xlink:href=\"#m5154eceada\" x=\"43.78125\" y=\"85.678125\" style=\"stroke: #000000; stroke-width: 0.8\"/>\n      </g>\n     </g>\n     <g id=\"text_12\">\n      <!-- 0.8 -->\n      <g transform=\"translate(20.878125 89.477344) scale(0.1 -0.1)\">\n       <use xlink:href=\"#DejaVuSans-30\"/>\n       <use xlink:href=\"#DejaVuSans-2e\" transform=\"translate(63.623047 0)\"/>\n       <use xlink:href=\"#DejaVuSans-38\" transform=\"translate(95.410156 0)\"/>\n      </g>\n     </g>\n    </g>\n    <g id=\"ytick_6\">\n     <g id=\"line2d_23\">\n      <path d=\"M 43.78125 34.990125 \nL 400.90125 34.990125 \n\" clip-path=\"url(#pd09c3dbcd3)\" style=\"fill: none; stroke: #b0b0b0; stroke-width: 0.8; stroke-linecap: square\"/>\n     </g>\n     <g id=\"line2d_24\">\n      <g>\n       <use xlink:href=\"#m5154eceada\" x=\"43.78125\" y=\"34.990125\" style=\"stroke: #000000; stroke-width: 0.8\"/>\n      </g>\n     </g>\n     <g id=\"text_13\">\n      <!-- 1.0 -->\n      <g transform=\"translate(20.878125 38.789344) scale(0.1 -0.1)\">\n       <defs>\n        <path id=\"DejaVuSans-31\" d=\"M 794 531 \nL 1825 531 \nL 1825 4091 \nL 703 3866 \nL 703 4441 \nL 1819 4666 \nL 2450 4666 \nL 2450 531 \nL 3481 531 \nL 3481 0 \nL 794 0 \nL 794 531 \nz\n\" transform=\"scale(0.015625)\"/>\n       </defs>\n       <use xlink:href=\"#DejaVuSans-31\"/>\n       <use xlink:href=\"#DejaVuSans-2e\" transform=\"translate(63.623047 0)\"/>\n       <use xlink:href=\"#DejaVuSans-30\" transform=\"translate(95.410156 0)\"/>\n      </g>\n     </g>\n    </g>\n    <g id=\"text_14\">\n     <!-- Count -->\n     <g transform=\"translate(14.798438 170.222562) rotate(-90) scale(0.1 -0.1)\">\n      <defs>\n       <path id=\"DejaVuSans-43\" d=\"M 4122 4306 \nL 4122 3641 \nQ 3803 3938 3442 4084 \nQ 3081 4231 2675 4231 \nQ 1875 4231 1450 3742 \nQ 1025 3253 1025 2328 \nQ 1025 1406 1450 917 \nQ 1875 428 2675 428 \nQ 3081 428 3442 575 \nQ 3803 722 4122 1019 \nL 4122 359 \nQ 3791 134 3420 21 \nQ 3050 -91 2638 -91 \nQ 1578 -91 968 557 \nQ 359 1206 359 2328 \nQ 359 3453 968 4101 \nQ 1578 4750 2638 4750 \nQ 3056 4750 3426 4639 \nQ 3797 4528 4122 4306 \nz\n\" transform=\"scale(0.015625)\"/>\n       <path id=\"DejaVuSans-6f\" d=\"M 1959 3097 \nQ 1497 3097 1228 2736 \nQ 959 2375 959 1747 \nQ 959 1119 1226 758 \nQ 1494 397 1959 397 \nQ 2419 397 2687 759 \nQ 2956 1122 2956 1747 \nQ 2956 2369 2687 2733 \nQ 2419 3097 1959 3097 \nz\nM 1959 3584 \nQ 2709 3584 3137 3096 \nQ 3566 2609 3566 1747 \nQ 3566 888 3137 398 \nQ 2709 -91 1959 -91 \nQ 1206 -91 779 398 \nQ 353 888 353 1747 \nQ 353 2609 779 3096 \nQ 1206 3584 1959 3584 \nz\n\" transform=\"scale(0.015625)\"/>\n       <path id=\"DejaVuSans-75\" d=\"M 544 1381 \nL 544 3500 \nL 1119 3500 \nL 1119 1403 \nQ 1119 906 1312 657 \nQ 1506 409 1894 409 \nQ 2359 409 2629 706 \nQ 2900 1003 2900 1516 \nL 2900 3500 \nL 3475 3500 \nL 3475 0 \nL 2900 0 \nL 2900 538 \nQ 2691 219 2414 64 \nQ 2138 -91 1772 -91 \nQ 1169 -91 856 284 \nQ 544 659 544 1381 \nz\nM 1991 3584 \nL 1991 3584 \nz\n\" transform=\"scale(0.015625)\"/>\n       <path id=\"DejaVuSans-6e\" d=\"M 3513 2113 \nL 3513 0 \nL 2938 0 \nL 2938 2094 \nQ 2938 2591 2744 2837 \nQ 2550 3084 2163 3084 \nQ 1697 3084 1428 2787 \nQ 1159 2491 1159 1978 \nL 1159 0 \nL 581 0 \nL 581 3500 \nL 1159 3500 \nL 1159 2956 \nQ 1366 3272 1645 3428 \nQ 1925 3584 2291 3584 \nQ 2894 3584 3203 3211 \nQ 3513 2838 3513 2113 \nz\n\" transform=\"scale(0.015625)\"/>\n       <path id=\"DejaVuSans-74\" d=\"M 1172 4494 \nL 1172 3500 \nL 2356 3500 \nL 2356 3053 \nL 1172 3053 \nL 1172 1153 \nQ 1172 725 1289 603 \nQ 1406 481 1766 481 \nL 2356 481 \nL 2356 0 \nL 1766 0 \nQ 1100 0 847 248 \nQ 594 497 594 1153 \nL 594 3053 \nL 172 3053 \nL 172 3500 \nL 594 3500 \nL 594 4494 \nL 1172 4494 \nz\n\" transform=\"scale(0.015625)\"/>\n      </defs>\n      <use xlink:href=\"#DejaVuSans-43\"/>\n      <use xlink:href=\"#DejaVuSans-6f\" transform=\"translate(69.824219 0)\"/>\n      <use xlink:href=\"#DejaVuSans-75\" transform=\"translate(131.005859 0)\"/>\n      <use xlink:href=\"#DejaVuSans-6e\" transform=\"translate(194.384766 0)\"/>\n      <use xlink:href=\"#DejaVuSans-74\" transform=\"translate(257.763672 0)\"/>\n     </g>\n    </g>\n   </g>\n   <g id=\"patch_23\">\n    <path d=\"M 43.78125 288.430125 \nL 43.78125 22.318125 \n\" style=\"fill: none; stroke: #000000; stroke-width: 0.8; stroke-linejoin: miter; stroke-linecap: square\"/>\n   </g>\n   <g id=\"patch_24\">\n    <path d=\"M 400.90125 288.430125 \nL 400.90125 22.318125 \n\" style=\"fill: none; stroke: #000000; stroke-width: 0.8; stroke-linejoin: miter; stroke-linecap: square\"/>\n   </g>\n   <g id=\"patch_25\">\n    <path d=\"M 43.78125 288.430125 \nL 400.90125 288.430125 \n\" style=\"fill: none; stroke: #000000; stroke-width: 0.8; stroke-linejoin: miter; stroke-linecap: square\"/>\n   </g>\n   <g id=\"patch_26\">\n    <path d=\"M 43.78125 22.318125 \nL 400.90125 22.318125 \n\" style=\"fill: none; stroke: #000000; stroke-width: 0.8; stroke-linejoin: miter; stroke-linecap: square\"/>\n   </g>\n   <g id=\"text_15\">\n    <!-- Black population in New York counties -->\n    <g transform=\"translate(108.194063 16.318125) scale(0.12 -0.12)\">\n     <defs>\n      <path id=\"DejaVuSans-70\" d=\"M 1159 525 \nL 1159 -1331 \nL 581 -1331 \nL 581 3500 \nL 1159 3500 \nL 1159 2969 \nQ 1341 3281 1617 3432 \nQ 1894 3584 2278 3584 \nQ 2916 3584 3314 3078 \nQ 3713 2572 3713 1747 \nQ 3713 922 3314 415 \nQ 2916 -91 2278 -91 \nQ 1894 -91 1617 61 \nQ 1341 213 1159 525 \nz\nM 3116 1747 \nQ 3116 2381 2855 2742 \nQ 2594 3103 2138 3103 \nQ 1681 3103 1420 2742 \nQ 1159 2381 1159 1747 \nQ 1159 1113 1420 752 \nQ 1681 391 2138 391 \nQ 2594 391 2855 752 \nQ 3116 1113 3116 1747 \nz\n\" transform=\"scale(0.015625)\"/>\n      <path id=\"DejaVuSans-69\" d=\"M 603 3500 \nL 1178 3500 \nL 1178 0 \nL 603 0 \nL 603 3500 \nz\nM 603 4863 \nL 1178 4863 \nL 1178 4134 \nL 603 4134 \nL 603 4863 \nz\n\" transform=\"scale(0.015625)\"/>\n      <path id=\"DejaVuSans-4e\" d=\"M 628 4666 \nL 1478 4666 \nL 3547 763 \nL 3547 4666 \nL 4159 4666 \nL 4159 0 \nL 3309 0 \nL 1241 3903 \nL 1241 0 \nL 628 0 \nL 628 4666 \nz\n\" transform=\"scale(0.015625)\"/>\n      <path id=\"DejaVuSans-65\" d=\"M 3597 1894 \nL 3597 1613 \nL 953 1613 \nQ 991 1019 1311 708 \nQ 1631 397 2203 397 \nQ 2534 397 2845 478 \nQ 3156 559 3463 722 \nL 3463 178 \nQ 3153 47 2828 -22 \nQ 2503 -91 2169 -91 \nQ 1331 -91 842 396 \nQ 353 884 353 1716 \nQ 353 2575 817 3079 \nQ 1281 3584 2069 3584 \nQ 2775 3584 3186 3129 \nQ 3597 2675 3597 1894 \nz\nM 3022 2063 \nQ 3016 2534 2758 2815 \nQ 2500 3097 2075 3097 \nQ 1594 3097 1305 2825 \nQ 1016 2553 972 2059 \nL 3022 2063 \nz\n\" transform=\"scale(0.015625)\"/>\n      <path id=\"DejaVuSans-77\" d=\"M 269 3500 \nL 844 3500 \nL 1563 769 \nL 2278 3500 \nL 2956 3500 \nL 3675 769 \nL 4391 3500 \nL 4966 3500 \nL 4050 0 \nL 3372 0 \nL 2619 2869 \nL 1863 0 \nL 1184 0 \nL 269 3500 \nz\n\" transform=\"scale(0.015625)\"/>\n      <path id=\"DejaVuSans-59\" d=\"M -13 4666 \nL 666 4666 \nL 1959 2747 \nL 3244 4666 \nL 3922 4666 \nL 2272 2222 \nL 2272 0 \nL 1638 0 \nL 1638 2222 \nL -13 4666 \nz\n\" transform=\"scale(0.015625)\"/>\n      <path id=\"DejaVuSans-72\" d=\"M 2631 2963 \nQ 2534 3019 2420 3045 \nQ 2306 3072 2169 3072 \nQ 1681 3072 1420 2755 \nQ 1159 2438 1159 1844 \nL 1159 0 \nL 581 0 \nL 581 3500 \nL 1159 3500 \nL 1159 2956 \nQ 1341 3275 1631 3429 \nQ 1922 3584 2338 3584 \nQ 2397 3584 2469 3576 \nQ 2541 3569 2628 3553 \nL 2631 2963 \nz\n\" transform=\"scale(0.015625)\"/>\n      <path id=\"DejaVuSans-73\" d=\"M 2834 3397 \nL 2834 2853 \nQ 2591 2978 2328 3040 \nQ 2066 3103 1784 3103 \nQ 1356 3103 1142 2972 \nQ 928 2841 928 2578 \nQ 928 2378 1081 2264 \nQ 1234 2150 1697 2047 \nL 1894 2003 \nQ 2506 1872 2764 1633 \nQ 3022 1394 3022 966 \nQ 3022 478 2636 193 \nQ 2250 -91 1575 -91 \nQ 1294 -91 989 -36 \nQ 684 19 347 128 \nL 347 722 \nQ 666 556 975 473 \nQ 1284 391 1588 391 \nQ 1994 391 2212 530 \nQ 2431 669 2431 922 \nQ 2431 1156 2273 1281 \nQ 2116 1406 1581 1522 \nL 1381 1569 \nQ 847 1681 609 1914 \nQ 372 2147 372 2553 \nQ 372 3047 722 3315 \nQ 1072 3584 1716 3584 \nQ 2034 3584 2315 3537 \nQ 2597 3491 2834 3397 \nz\n\" transform=\"scale(0.015625)\"/>\n     </defs>\n     <use xlink:href=\"#DejaVuSans-42\"/>\n     <use xlink:href=\"#DejaVuSans-6c\" transform=\"translate(68.603516 0)\"/>\n     <use xlink:href=\"#DejaVuSans-61\" transform=\"translate(96.386719 0)\"/>\n     <use xlink:href=\"#DejaVuSans-63\" transform=\"translate(157.666016 0)\"/>\n     <use xlink:href=\"#DejaVuSans-6b\" transform=\"translate(212.646484 0)\"/>\n     <use xlink:href=\"#DejaVuSans-20\" transform=\"translate(270.556641 0)\"/>\n     <use xlink:href=\"#DejaVuSans-70\" transform=\"translate(302.34375 0)\"/>\n     <use xlink:href=\"#DejaVuSans-6f\" transform=\"translate(365.820312 0)\"/>\n     <use xlink:href=\"#DejaVuSans-70\" transform=\"translate(427.001953 0)\"/>\n     <use xlink:href=\"#DejaVuSans-75\" transform=\"translate(490.478516 0)\"/>\n     <use xlink:href=\"#DejaVuSans-6c\" transform=\"translate(553.857422 0)\"/>\n     <use xlink:href=\"#DejaVuSans-61\" transform=\"translate(581.640625 0)\"/>\n     <use xlink:href=\"#DejaVuSans-74\" transform=\"translate(642.919922 0)\"/>\n     <use xlink:href=\"#DejaVuSans-69\" transform=\"translate(682.128906 0)\"/>\n     <use xlink:href=\"#DejaVuSans-6f\" transform=\"translate(709.912109 0)\"/>\n     <use xlink:href=\"#DejaVuSans-6e\" transform=\"translate(771.09375 0)\"/>\n     <use xlink:href=\"#DejaVuSans-20\" transform=\"translate(834.472656 0)\"/>\n     <use xlink:href=\"#DejaVuSans-69\" transform=\"translate(866.259766 0)\"/>\n     <use xlink:href=\"#DejaVuSans-6e\" transform=\"translate(894.042969 0)\"/>\n     <use xlink:href=\"#DejaVuSans-20\" transform=\"translate(957.421875 0)\"/>\n     <use xlink:href=\"#DejaVuSans-4e\" transform=\"translate(989.208984 0)\"/>\n     <use xlink:href=\"#DejaVuSans-65\" transform=\"translate(1064.013672 0)\"/>\n     <use xlink:href=\"#DejaVuSans-77\" transform=\"translate(1125.537109 0)\"/>\n     <use xlink:href=\"#DejaVuSans-20\" transform=\"translate(1207.324219 0)\"/>\n     <use xlink:href=\"#DejaVuSans-59\" transform=\"translate(1239.111328 0)\"/>\n     <use xlink:href=\"#DejaVuSans-6f\" transform=\"translate(1286.945312 0)\"/>\n     <use xlink:href=\"#DejaVuSans-72\" transform=\"translate(1348.126953 0)\"/>\n     <use xlink:href=\"#DejaVuSans-6b\" transform=\"translate(1389.240234 0)\"/>\n     <use xlink:href=\"#DejaVuSans-20\" transform=\"translate(1447.150391 0)\"/>\n     <use xlink:href=\"#DejaVuSans-63\" transform=\"translate(1478.9375 0)\"/>\n     <use xlink:href=\"#DejaVuSans-6f\" transform=\"translate(1533.917969 0)\"/>\n     <use xlink:href=\"#DejaVuSans-75\" transform=\"translate(1595.099609 0)\"/>\n     <use xlink:href=\"#DejaVuSans-6e\" transform=\"translate(1658.478516 0)\"/>\n     <use xlink:href=\"#DejaVuSans-74\" transform=\"translate(1721.857422 0)\"/>\n     <use xlink:href=\"#DejaVuSans-69\" transform=\"translate(1761.066406 0)\"/>\n     <use xlink:href=\"#DejaVuSans-65\" transform=\"translate(1788.849609 0)\"/>\n     <use xlink:href=\"#DejaVuSans-73\" transform=\"translate(1850.373047 0)\"/>\n    </g>\n   </g>\n  </g>\n </g>\n <defs>\n  <clipPath id=\"pd09c3dbcd3\">\n   <rect x=\"43.78125\" y=\"22.318125\" width=\"357.12\" height=\"266.112\"/>\n  </clipPath>\n </defs>\n</svg>\n"
          },
          "metadata": {}
        }
      ],
      "source": [
        "ax = race_df[\"black_pct\"].hist(bins=20)\n",
        "ax.set_xlabel(\"% Black\")\n",
        "ax.set_ylabel(\"Count\")\n",
        "ax.set_title(\"Black population in New York counties\")\n",
        "plt.show()"
      ]
    },
    {
      "cell_type": "markdown",
      "id": "fe105d89-ddae-42a8-be3d-d38c970dd80d",
      "metadata": {
        "id": "fe105d89-ddae-42a8-be3d-d38c970dd80d"
      },
      "source": [
        "## Adding a dimension: Hispanic or Latino origin\n",
        "\n",
        "The U.S. Census Bureau does not consider \"Hispanic or Latino\" a racial category; [rather, it is an ethnic category](https://www.census.gov/acs/www/about/why-we-ask-each-question/ethnicity/) ([this may change with the 2030 Census](https://www.npr.org/2023/01/26/1151608403/mena-race-categories-us-census-middle-eastern-latino-hispanic)). Hispanic or Latino origin and racial identification were therefore considered in separate questions on the 2020 Census questionnaire (if you're curious about the precise wording of the questions, see [this PDF of the questionnaire](https://www2.census.gov/programs-surveys/decennial/2020/technical-documentation/questionnaires-and-instructions/questionnaires/2020-informational-questionnaire-english_DI-Q1.pdf)).\n",
        "\n",
        "[Table P2](https://data.census.gov/table/DECENNIALPL2020.P2?g=040XX00US36) contains population totals broken down by both race _and_ Hispanic/Latino origin. Let's retrieve county-level statistics from this table. (As with Table P1, column definitions are available in the [API documentation](https://api.census.gov/data/2020/dec/pl/variables.html).) When we rename columns derived from Table P2, **we'll use the prefix `nh_` for columns containing non-Hispanic population and the prefix `h_` for columns containing Hispanic population.**"
      ]
    },
    {
      "cell_type": "code",
      "execution_count": 96,
      "id": "47e17a31-5d13-4321-a0e3-64862e2effaa",
      "metadata": {
        "id": "47e17a31-5d13-4321-a0e3-64862e2effaa"
      },
      "outputs": [],
      "source": [
        "p2_non_hispanic_population_columns = {\n",
        "    \"P2_005N\": \"nh_white\",        # White alone\n",
        "    \"P2_006N\": \"nh_black\",        # Black or African American alone\n",
        "    \"P2_007N\": \"nh_amin\",         # American Indian and Alaska Native alone\n",
        "    \"P2_008N\": \"nh_asian\",        # Asian alone\n",
        "    \"P2_009N\": \"nh_nhpi\",         # Native Hawaiian and Other Pacific Islander alone\n",
        "    \"P2_010N\": \"nh_other\",        # Some Other Race alone\n",
        "    \"P2_011N\": \"nh_two_or_more\",  # Two or more races\n",
        "}"
      ]
    },
    {
      "cell_type": "code",
      "execution_count": 98,
      "id": "0d2ab8ff-fccc-4b8a-9903-da54093b14f5",
      "metadata": {
        "id": "0d2ab8ff-fccc-4b8a-9903-da54093b14f5"
      },
      "outputs": [],
      "source": [
        "county_non_hispanic_populations = census.pl.get(\n",
        "    (\"NAME\", *p2_non_hispanic_population_columns),\n",
        "    geo={\n",
        "        \"for\": \"county:121\",\n",
        "        \"in\": f\"state:{state.fips}\",\n",
        "    }\n",
        ")"
      ]
    },
    {
      "cell_type": "code",
      "execution_count": 99,
      "id": "ee227b2a-b128-4497-b086-93fce77edd08",
      "metadata": {
        "id": "ee227b2a-b128-4497-b086-93fce77edd08"
      },
      "outputs": [],
      "source": [
        "race_ethnicity_df = pd.DataFrame(county_non_hispanic_populations)"
      ]
    },
    {
      "cell_type": "code",
      "execution_count": 100,
      "id": "42236a15-5785-41ef-b1d0-22c02595c650",
      "metadata": {
        "id": "42236a15-5785-41ef-b1d0-22c02595c650",
        "outputId": "1af3300a-1f42-463b-db5a-7fa8d0837d3d",
        "colab": {
          "base_uri": "https://localhost:8080/",
          "height": 98
        }
      },
      "outputs": [
        {
          "output_type": "execute_result",
          "data": {
            "text/plain": [
              "                     NAME   P2_005N   P2_006N  P2_007N  P2_008N  P2_009N  \\\n",
              "0  Fulton County, Georgia  404793.0  448803.0   1558.0  80632.0    381.0   \n",
              "\n",
              "   P2_010N  P2_011N state county  \n",
              "0   6444.0  37797.0    13    121  "
            ],
            "text/html": [
              "\n",
              "  <div id=\"df-c15f25bf-7606-4791-b343-94a3926dd1d0\" class=\"colab-df-container\">\n",
              "    <div>\n",
              "<style scoped>\n",
              "    .dataframe tbody tr th:only-of-type {\n",
              "        vertical-align: middle;\n",
              "    }\n",
              "\n",
              "    .dataframe tbody tr th {\n",
              "        vertical-align: top;\n",
              "    }\n",
              "\n",
              "    .dataframe thead th {\n",
              "        text-align: right;\n",
              "    }\n",
              "</style>\n",
              "<table border=\"1\" class=\"dataframe\">\n",
              "  <thead>\n",
              "    <tr style=\"text-align: right;\">\n",
              "      <th></th>\n",
              "      <th>NAME</th>\n",
              "      <th>P2_005N</th>\n",
              "      <th>P2_006N</th>\n",
              "      <th>P2_007N</th>\n",
              "      <th>P2_008N</th>\n",
              "      <th>P2_009N</th>\n",
              "      <th>P2_010N</th>\n",
              "      <th>P2_011N</th>\n",
              "      <th>state</th>\n",
              "      <th>county</th>\n",
              "    </tr>\n",
              "  </thead>\n",
              "  <tbody>\n",
              "    <tr>\n",
              "      <th>0</th>\n",
              "      <td>Fulton County, Georgia</td>\n",
              "      <td>404793.0</td>\n",
              "      <td>448803.0</td>\n",
              "      <td>1558.0</td>\n",
              "      <td>80632.0</td>\n",
              "      <td>381.0</td>\n",
              "      <td>6444.0</td>\n",
              "      <td>37797.0</td>\n",
              "      <td>13</td>\n",
              "      <td>121</td>\n",
              "    </tr>\n",
              "  </tbody>\n",
              "</table>\n",
              "</div>\n",
              "    <div class=\"colab-df-buttons\">\n",
              "\n",
              "  <div class=\"colab-df-container\">\n",
              "    <button class=\"colab-df-convert\" onclick=\"convertToInteractive('df-c15f25bf-7606-4791-b343-94a3926dd1d0')\"\n",
              "            title=\"Convert this dataframe to an interactive table.\"\n",
              "            style=\"display:none;\">\n",
              "\n",
              "  <svg xmlns=\"http://www.w3.org/2000/svg\" height=\"24px\" viewBox=\"0 -960 960 960\">\n",
              "    <path d=\"M120-120v-720h720v720H120Zm60-500h600v-160H180v160Zm220 220h160v-160H400v160Zm0 220h160v-160H400v160ZM180-400h160v-160H180v160Zm440 0h160v-160H620v160ZM180-180h160v-160H180v160Zm440 0h160v-160H620v160Z\"/>\n",
              "  </svg>\n",
              "    </button>\n",
              "\n",
              "  <style>\n",
              "    .colab-df-container {\n",
              "      display:flex;\n",
              "      gap: 12px;\n",
              "    }\n",
              "\n",
              "    .colab-df-convert {\n",
              "      background-color: #E8F0FE;\n",
              "      border: none;\n",
              "      border-radius: 50%;\n",
              "      cursor: pointer;\n",
              "      display: none;\n",
              "      fill: #1967D2;\n",
              "      height: 32px;\n",
              "      padding: 0 0 0 0;\n",
              "      width: 32px;\n",
              "    }\n",
              "\n",
              "    .colab-df-convert:hover {\n",
              "      background-color: #E2EBFA;\n",
              "      box-shadow: 0px 1px 2px rgba(60, 64, 67, 0.3), 0px 1px 3px 1px rgba(60, 64, 67, 0.15);\n",
              "      fill: #174EA6;\n",
              "    }\n",
              "\n",
              "    .colab-df-buttons div {\n",
              "      margin-bottom: 4px;\n",
              "    }\n",
              "\n",
              "    [theme=dark] .colab-df-convert {\n",
              "      background-color: #3B4455;\n",
              "      fill: #D2E3FC;\n",
              "    }\n",
              "\n",
              "    [theme=dark] .colab-df-convert:hover {\n",
              "      background-color: #434B5C;\n",
              "      box-shadow: 0px 1px 3px 1px rgba(0, 0, 0, 0.15);\n",
              "      filter: drop-shadow(0px 1px 2px rgba(0, 0, 0, 0.3));\n",
              "      fill: #FFFFFF;\n",
              "    }\n",
              "  </style>\n",
              "\n",
              "    <script>\n",
              "      const buttonEl =\n",
              "        document.querySelector('#df-c15f25bf-7606-4791-b343-94a3926dd1d0 button.colab-df-convert');\n",
              "      buttonEl.style.display =\n",
              "        google.colab.kernel.accessAllowed ? 'block' : 'none';\n",
              "\n",
              "      async function convertToInteractive(key) {\n",
              "        const element = document.querySelector('#df-c15f25bf-7606-4791-b343-94a3926dd1d0');\n",
              "        const dataTable =\n",
              "          await google.colab.kernel.invokeFunction('convertToInteractive',\n",
              "                                                    [key], {});\n",
              "        if (!dataTable) return;\n",
              "\n",
              "        const docLinkHtml = 'Like what you see? Visit the ' +\n",
              "          '<a target=\"_blank\" href=https://colab.research.google.com/notebooks/data_table.ipynb>data table notebook</a>'\n",
              "          + ' to learn more about interactive tables.';\n",
              "        element.innerHTML = '';\n",
              "        dataTable['output_type'] = 'display_data';\n",
              "        await google.colab.output.renderOutput(dataTable, element);\n",
              "        const docLink = document.createElement('div');\n",
              "        docLink.innerHTML = docLinkHtml;\n",
              "        element.appendChild(docLink);\n",
              "      }\n",
              "    </script>\n",
              "  </div>\n",
              "\n",
              "\n",
              "    </div>\n",
              "  </div>\n"
            ],
            "application/vnd.google.colaboratory.intrinsic+json": {
              "type": "dataframe",
              "variable_name": "race_ethnicity_df",
              "summary": "{\n  \"name\": \"race_ethnicity_df\",\n  \"rows\": 1,\n  \"fields\": [\n    {\n      \"column\": \"NAME\",\n      \"properties\": {\n        \"dtype\": \"string\",\n        \"num_unique_values\": 1,\n        \"samples\": [\n          \"Fulton County, Georgia\"\n        ],\n        \"semantic_type\": \"\",\n        \"description\": \"\"\n      }\n    },\n    {\n      \"column\": \"P2_005N\",\n      \"properties\": {\n        \"dtype\": \"number\",\n        \"std\": null,\n        \"min\": 404793.0,\n        \"max\": 404793.0,\n        \"num_unique_values\": 1,\n        \"samples\": [\n          404793.0\n        ],\n        \"semantic_type\": \"\",\n        \"description\": \"\"\n      }\n    },\n    {\n      \"column\": \"P2_006N\",\n      \"properties\": {\n        \"dtype\": \"number\",\n        \"std\": null,\n        \"min\": 448803.0,\n        \"max\": 448803.0,\n        \"num_unique_values\": 1,\n        \"samples\": [\n          448803.0\n        ],\n        \"semantic_type\": \"\",\n        \"description\": \"\"\n      }\n    },\n    {\n      \"column\": \"P2_007N\",\n      \"properties\": {\n        \"dtype\": \"number\",\n        \"std\": null,\n        \"min\": 1558.0,\n        \"max\": 1558.0,\n        \"num_unique_values\": 1,\n        \"samples\": [\n          1558.0\n        ],\n        \"semantic_type\": \"\",\n        \"description\": \"\"\n      }\n    },\n    {\n      \"column\": \"P2_008N\",\n      \"properties\": {\n        \"dtype\": \"number\",\n        \"std\": null,\n        \"min\": 80632.0,\n        \"max\": 80632.0,\n        \"num_unique_values\": 1,\n        \"samples\": [\n          80632.0\n        ],\n        \"semantic_type\": \"\",\n        \"description\": \"\"\n      }\n    },\n    {\n      \"column\": \"P2_009N\",\n      \"properties\": {\n        \"dtype\": \"number\",\n        \"std\": null,\n        \"min\": 381.0,\n        \"max\": 381.0,\n        \"num_unique_values\": 1,\n        \"samples\": [\n          381.0\n        ],\n        \"semantic_type\": \"\",\n        \"description\": \"\"\n      }\n    },\n    {\n      \"column\": \"P2_010N\",\n      \"properties\": {\n        \"dtype\": \"number\",\n        \"std\": null,\n        \"min\": 6444.0,\n        \"max\": 6444.0,\n        \"num_unique_values\": 1,\n        \"samples\": [\n          6444.0\n        ],\n        \"semantic_type\": \"\",\n        \"description\": \"\"\n      }\n    },\n    {\n      \"column\": \"P2_011N\",\n      \"properties\": {\n        \"dtype\": \"number\",\n        \"std\": null,\n        \"min\": 37797.0,\n        \"max\": 37797.0,\n        \"num_unique_values\": 1,\n        \"samples\": [\n          37797.0\n        ],\n        \"semantic_type\": \"\",\n        \"description\": \"\"\n      }\n    },\n    {\n      \"column\": \"state\",\n      \"properties\": {\n        \"dtype\": \"string\",\n        \"num_unique_values\": 1,\n        \"samples\": [\n          \"13\"\n        ],\n        \"semantic_type\": \"\",\n        \"description\": \"\"\n      }\n    },\n    {\n      \"column\": \"county\",\n      \"properties\": {\n        \"dtype\": \"string\",\n        \"num_unique_values\": 1,\n        \"samples\": [\n          \"121\"\n        ],\n        \"semantic_type\": \"\",\n        \"description\": \"\"\n      }\n    }\n  ]\n}"
            }
          },
          "metadata": {},
          "execution_count": 100
        }
      ],
      "source": [
        "race_ethnicity_df.head(5)"
      ]
    },
    {
      "cell_type": "markdown",
      "id": "24e658b5-e861-4f07-a4e8-88b0d51e3394",
      "metadata": {
        "id": "24e658b5-e861-4f07-a4e8-88b0d51e3394"
      },
      "source": [
        "We can apply the same postprocessing steps we applied to Table P1 to clean up the column names."
      ]
    },
    {
      "cell_type": "code",
      "execution_count": 101,
      "id": "325b66cb-abf5-47b3-a99f-835bbd35cc85",
      "metadata": {
        "id": "325b66cb-abf5-47b3-a99f-835bbd35cc85"
      },
      "outputs": [],
      "source": [
        "race_ethnicity_df = race_ethnicity_df.rename(\n",
        "    columns={\"NAME\": \"name\", **p2_non_hispanic_population_columns}\n",
        ").drop(\n",
        "    columns=[\"state\", \"county\"]\n",
        ").set_index(\"name\")"
      ]
    },
    {
      "cell_type": "code",
      "execution_count": 102,
      "id": "8efe443c-32d9-429e-a456-7b7ec528a386",
      "metadata": {
        "id": "8efe443c-32d9-429e-a456-7b7ec528a386",
        "outputId": "daefda94-e691-4c66-8e4e-59ec7abecf02",
        "colab": {
          "base_uri": "https://localhost:8080/",
          "height": 112
        }
      },
      "outputs": [
        {
          "output_type": "execute_result",
          "data": {
            "text/plain": [
              "                        nh_white  nh_black  nh_amin  nh_asian  nh_nhpi  \\\n",
              "name                                                                     \n",
              "Fulton County, Georgia  404793.0  448803.0   1558.0   80632.0    381.0   \n",
              "\n",
              "                        nh_other  nh_two_or_more  \n",
              "name                                              \n",
              "Fulton County, Georgia    6444.0         37797.0  "
            ],
            "text/html": [
              "\n",
              "  <div id=\"df-daf540e1-77b2-4ad4-9a0a-d2562695eb6c\" class=\"colab-df-container\">\n",
              "    <div>\n",
              "<style scoped>\n",
              "    .dataframe tbody tr th:only-of-type {\n",
              "        vertical-align: middle;\n",
              "    }\n",
              "\n",
              "    .dataframe tbody tr th {\n",
              "        vertical-align: top;\n",
              "    }\n",
              "\n",
              "    .dataframe thead th {\n",
              "        text-align: right;\n",
              "    }\n",
              "</style>\n",
              "<table border=\"1\" class=\"dataframe\">\n",
              "  <thead>\n",
              "    <tr style=\"text-align: right;\">\n",
              "      <th></th>\n",
              "      <th>nh_white</th>\n",
              "      <th>nh_black</th>\n",
              "      <th>nh_amin</th>\n",
              "      <th>nh_asian</th>\n",
              "      <th>nh_nhpi</th>\n",
              "      <th>nh_other</th>\n",
              "      <th>nh_two_or_more</th>\n",
              "    </tr>\n",
              "    <tr>\n",
              "      <th>name</th>\n",
              "      <th></th>\n",
              "      <th></th>\n",
              "      <th></th>\n",
              "      <th></th>\n",
              "      <th></th>\n",
              "      <th></th>\n",
              "      <th></th>\n",
              "    </tr>\n",
              "  </thead>\n",
              "  <tbody>\n",
              "    <tr>\n",
              "      <th>Fulton County, Georgia</th>\n",
              "      <td>404793.0</td>\n",
              "      <td>448803.0</td>\n",
              "      <td>1558.0</td>\n",
              "      <td>80632.0</td>\n",
              "      <td>381.0</td>\n",
              "      <td>6444.0</td>\n",
              "      <td>37797.0</td>\n",
              "    </tr>\n",
              "  </tbody>\n",
              "</table>\n",
              "</div>\n",
              "    <div class=\"colab-df-buttons\">\n",
              "\n",
              "  <div class=\"colab-df-container\">\n",
              "    <button class=\"colab-df-convert\" onclick=\"convertToInteractive('df-daf540e1-77b2-4ad4-9a0a-d2562695eb6c')\"\n",
              "            title=\"Convert this dataframe to an interactive table.\"\n",
              "            style=\"display:none;\">\n",
              "\n",
              "  <svg xmlns=\"http://www.w3.org/2000/svg\" height=\"24px\" viewBox=\"0 -960 960 960\">\n",
              "    <path d=\"M120-120v-720h720v720H120Zm60-500h600v-160H180v160Zm220 220h160v-160H400v160Zm0 220h160v-160H400v160ZM180-400h160v-160H180v160Zm440 0h160v-160H620v160ZM180-180h160v-160H180v160Zm440 0h160v-160H620v160Z\"/>\n",
              "  </svg>\n",
              "    </button>\n",
              "\n",
              "  <style>\n",
              "    .colab-df-container {\n",
              "      display:flex;\n",
              "      gap: 12px;\n",
              "    }\n",
              "\n",
              "    .colab-df-convert {\n",
              "      background-color: #E8F0FE;\n",
              "      border: none;\n",
              "      border-radius: 50%;\n",
              "      cursor: pointer;\n",
              "      display: none;\n",
              "      fill: #1967D2;\n",
              "      height: 32px;\n",
              "      padding: 0 0 0 0;\n",
              "      width: 32px;\n",
              "    }\n",
              "\n",
              "    .colab-df-convert:hover {\n",
              "      background-color: #E2EBFA;\n",
              "      box-shadow: 0px 1px 2px rgba(60, 64, 67, 0.3), 0px 1px 3px 1px rgba(60, 64, 67, 0.15);\n",
              "      fill: #174EA6;\n",
              "    }\n",
              "\n",
              "    .colab-df-buttons div {\n",
              "      margin-bottom: 4px;\n",
              "    }\n",
              "\n",
              "    [theme=dark] .colab-df-convert {\n",
              "      background-color: #3B4455;\n",
              "      fill: #D2E3FC;\n",
              "    }\n",
              "\n",
              "    [theme=dark] .colab-df-convert:hover {\n",
              "      background-color: #434B5C;\n",
              "      box-shadow: 0px 1px 3px 1px rgba(0, 0, 0, 0.15);\n",
              "      filter: drop-shadow(0px 1px 2px rgba(0, 0, 0, 0.3));\n",
              "      fill: #FFFFFF;\n",
              "    }\n",
              "  </style>\n",
              "\n",
              "    <script>\n",
              "      const buttonEl =\n",
              "        document.querySelector('#df-daf540e1-77b2-4ad4-9a0a-d2562695eb6c button.colab-df-convert');\n",
              "      buttonEl.style.display =\n",
              "        google.colab.kernel.accessAllowed ? 'block' : 'none';\n",
              "\n",
              "      async function convertToInteractive(key) {\n",
              "        const element = document.querySelector('#df-daf540e1-77b2-4ad4-9a0a-d2562695eb6c');\n",
              "        const dataTable =\n",
              "          await google.colab.kernel.invokeFunction('convertToInteractive',\n",
              "                                                    [key], {});\n",
              "        if (!dataTable) return;\n",
              "\n",
              "        const docLinkHtml = 'Like what you see? Visit the ' +\n",
              "          '<a target=\"_blank\" href=https://colab.research.google.com/notebooks/data_table.ipynb>data table notebook</a>'\n",
              "          + ' to learn more about interactive tables.';\n",
              "        element.innerHTML = '';\n",
              "        dataTable['output_type'] = 'display_data';\n",
              "        await google.colab.output.renderOutput(dataTable, element);\n",
              "        const docLink = document.createElement('div');\n",
              "        docLink.innerHTML = docLinkHtml;\n",
              "        element.appendChild(docLink);\n",
              "      }\n",
              "    </script>\n",
              "  </div>\n",
              "\n",
              "\n",
              "  <div id=\"id_1d629ec7-43ba-4246-bc12-d78c8abc3f6c\">\n",
              "    <style>\n",
              "      .colab-df-generate {\n",
              "        background-color: #E8F0FE;\n",
              "        border: none;\n",
              "        border-radius: 50%;\n",
              "        cursor: pointer;\n",
              "        display: none;\n",
              "        fill: #1967D2;\n",
              "        height: 32px;\n",
              "        padding: 0 0 0 0;\n",
              "        width: 32px;\n",
              "      }\n",
              "\n",
              "      .colab-df-generate:hover {\n",
              "        background-color: #E2EBFA;\n",
              "        box-shadow: 0px 1px 2px rgba(60, 64, 67, 0.3), 0px 1px 3px 1px rgba(60, 64, 67, 0.15);\n",
              "        fill: #174EA6;\n",
              "      }\n",
              "\n",
              "      [theme=dark] .colab-df-generate {\n",
              "        background-color: #3B4455;\n",
              "        fill: #D2E3FC;\n",
              "      }\n",
              "\n",
              "      [theme=dark] .colab-df-generate:hover {\n",
              "        background-color: #434B5C;\n",
              "        box-shadow: 0px 1px 3px 1px rgba(0, 0, 0, 0.15);\n",
              "        filter: drop-shadow(0px 1px 2px rgba(0, 0, 0, 0.3));\n",
              "        fill: #FFFFFF;\n",
              "      }\n",
              "    </style>\n",
              "    <button class=\"colab-df-generate\" onclick=\"generateWithVariable('race_ethnicity_df')\"\n",
              "            title=\"Generate code using this dataframe.\"\n",
              "            style=\"display:none;\">\n",
              "\n",
              "  <svg xmlns=\"http://www.w3.org/2000/svg\" height=\"24px\"viewBox=\"0 0 24 24\"\n",
              "       width=\"24px\">\n",
              "    <path d=\"M7,19H8.4L18.45,9,17,7.55,7,17.6ZM5,21V16.75L18.45,3.32a2,2,0,0,1,2.83,0l1.4,1.43a1.91,1.91,0,0,1,.58,1.4,1.91,1.91,0,0,1-.58,1.4L9.25,21ZM18.45,9,17,7.55Zm-12,3A5.31,5.31,0,0,0,4.9,8.1,5.31,5.31,0,0,0,1,6.5,5.31,5.31,0,0,0,4.9,4.9,5.31,5.31,0,0,0,6.5,1,5.31,5.31,0,0,0,8.1,4.9,5.31,5.31,0,0,0,12,6.5,5.46,5.46,0,0,0,6.5,12Z\"/>\n",
              "  </svg>\n",
              "    </button>\n",
              "    <script>\n",
              "      (() => {\n",
              "      const buttonEl =\n",
              "        document.querySelector('#id_1d629ec7-43ba-4246-bc12-d78c8abc3f6c button.colab-df-generate');\n",
              "      buttonEl.style.display =\n",
              "        google.colab.kernel.accessAllowed ? 'block' : 'none';\n",
              "\n",
              "      buttonEl.onclick = () => {\n",
              "        google.colab.notebook.generateWithVariable('race_ethnicity_df');\n",
              "      }\n",
              "      })();\n",
              "    </script>\n",
              "  </div>\n",
              "\n",
              "    </div>\n",
              "  </div>\n"
            ],
            "application/vnd.google.colaboratory.intrinsic+json": {
              "type": "dataframe",
              "variable_name": "race_ethnicity_df",
              "summary": "{\n  \"name\": \"race_ethnicity_df\",\n  \"rows\": 1,\n  \"fields\": [\n    {\n      \"column\": \"name\",\n      \"properties\": {\n        \"dtype\": \"string\",\n        \"num_unique_values\": 1,\n        \"samples\": [\n          \"Fulton County, Georgia\"\n        ],\n        \"semantic_type\": \"\",\n        \"description\": \"\"\n      }\n    },\n    {\n      \"column\": \"nh_white\",\n      \"properties\": {\n        \"dtype\": \"number\",\n        \"std\": null,\n        \"min\": 404793.0,\n        \"max\": 404793.0,\n        \"num_unique_values\": 1,\n        \"samples\": [\n          404793.0\n        ],\n        \"semantic_type\": \"\",\n        \"description\": \"\"\n      }\n    },\n    {\n      \"column\": \"nh_black\",\n      \"properties\": {\n        \"dtype\": \"number\",\n        \"std\": null,\n        \"min\": 448803.0,\n        \"max\": 448803.0,\n        \"num_unique_values\": 1,\n        \"samples\": [\n          448803.0\n        ],\n        \"semantic_type\": \"\",\n        \"description\": \"\"\n      }\n    },\n    {\n      \"column\": \"nh_amin\",\n      \"properties\": {\n        \"dtype\": \"number\",\n        \"std\": null,\n        \"min\": 1558.0,\n        \"max\": 1558.0,\n        \"num_unique_values\": 1,\n        \"samples\": [\n          1558.0\n        ],\n        \"semantic_type\": \"\",\n        \"description\": \"\"\n      }\n    },\n    {\n      \"column\": \"nh_asian\",\n      \"properties\": {\n        \"dtype\": \"number\",\n        \"std\": null,\n        \"min\": 80632.0,\n        \"max\": 80632.0,\n        \"num_unique_values\": 1,\n        \"samples\": [\n          80632.0\n        ],\n        \"semantic_type\": \"\",\n        \"description\": \"\"\n      }\n    },\n    {\n      \"column\": \"nh_nhpi\",\n      \"properties\": {\n        \"dtype\": \"number\",\n        \"std\": null,\n        \"min\": 381.0,\n        \"max\": 381.0,\n        \"num_unique_values\": 1,\n        \"samples\": [\n          381.0\n        ],\n        \"semantic_type\": \"\",\n        \"description\": \"\"\n      }\n    },\n    {\n      \"column\": \"nh_other\",\n      \"properties\": {\n        \"dtype\": \"number\",\n        \"std\": null,\n        \"min\": 6444.0,\n        \"max\": 6444.0,\n        \"num_unique_values\": 1,\n        \"samples\": [\n          6444.0\n        ],\n        \"semantic_type\": \"\",\n        \"description\": \"\"\n      }\n    },\n    {\n      \"column\": \"nh_two_or_more\",\n      \"properties\": {\n        \"dtype\": \"number\",\n        \"std\": null,\n        \"min\": 37797.0,\n        \"max\": 37797.0,\n        \"num_unique_values\": 1,\n        \"samples\": [\n          37797.0\n        ],\n        \"semantic_type\": \"\",\n        \"description\": \"\"\n      }\n    }\n  ]\n}"
            }
          },
          "metadata": {},
          "execution_count": 102
        }
      ],
      "source": [
        "race_ethnicity_df"
      ]
    },
    {
      "cell_type": "markdown",
      "id": "31b05f12-3da1-40ff-b07d-12fc88bd8aa0",
      "metadata": {
        "id": "31b05f12-3da1-40ff-b07d-12fc88bd8aa0"
      },
      "source": [
        "Table P2 only includes _non_-Hispanic population by race, but we can easily derive Hispanic population by race by incorporating totals from Table P1."
      ]
    },
    {
      "cell_type": "code",
      "execution_count": 103,
      "id": "ad03e24c-aa57-40ca-95a6-82b3cb2b0af9",
      "metadata": {
        "id": "ad03e24c-aa57-40ca-95a6-82b3cb2b0af9"
      },
      "outputs": [],
      "source": [
        "for category in categories:\n",
        "    race_ethnicity_df[f\"h_{category}\"] = race_df[category] - race_ethnicity_df[f\"nh_{category}\"]"
      ]
    },
    {
      "cell_type": "code",
      "execution_count": 104,
      "id": "c84e3ee5-7707-426b-a0b8-d86a8af9cc41",
      "metadata": {
        "id": "c84e3ee5-7707-426b-a0b8-d86a8af9cc41",
        "outputId": "8ef79ae1-8c0c-414b-9300-b3bbcef1b897",
        "colab": {
          "base_uri": "https://localhost:8080/",
          "height": 167
        }
      },
      "outputs": [
        {
          "output_type": "execute_result",
          "data": {
            "text/plain": [
              "                        nh_white  nh_black  nh_amin  nh_asian  nh_nhpi  \\\n",
              "name                                                                     \n",
              "Fulton County, Georgia  404793.0  448803.0   1558.0   80632.0    381.0   \n",
              "\n",
              "                        nh_other  nh_two_or_more  h_white  h_black  h_amin  \\\n",
              "name                                                                         \n",
              "Fulton County, Georgia    6444.0         37797.0  13907.0   5031.0  1697.0   \n",
              "\n",
              "                        h_asian  h_nhpi  h_other  h_two_or_more  \n",
              "name                                                             \n",
              "Fulton County, Georgia    317.0    71.0  32168.0        33111.0  "
            ],
            "text/html": [
              "\n",
              "  <div id=\"df-5809474b-f4b6-4d82-8303-46c9bc7bc56d\" class=\"colab-df-container\">\n",
              "    <div>\n",
              "<style scoped>\n",
              "    .dataframe tbody tr th:only-of-type {\n",
              "        vertical-align: middle;\n",
              "    }\n",
              "\n",
              "    .dataframe tbody tr th {\n",
              "        vertical-align: top;\n",
              "    }\n",
              "\n",
              "    .dataframe thead th {\n",
              "        text-align: right;\n",
              "    }\n",
              "</style>\n",
              "<table border=\"1\" class=\"dataframe\">\n",
              "  <thead>\n",
              "    <tr style=\"text-align: right;\">\n",
              "      <th></th>\n",
              "      <th>nh_white</th>\n",
              "      <th>nh_black</th>\n",
              "      <th>nh_amin</th>\n",
              "      <th>nh_asian</th>\n",
              "      <th>nh_nhpi</th>\n",
              "      <th>nh_other</th>\n",
              "      <th>nh_two_or_more</th>\n",
              "      <th>h_white</th>\n",
              "      <th>h_black</th>\n",
              "      <th>h_amin</th>\n",
              "      <th>h_asian</th>\n",
              "      <th>h_nhpi</th>\n",
              "      <th>h_other</th>\n",
              "      <th>h_two_or_more</th>\n",
              "    </tr>\n",
              "    <tr>\n",
              "      <th>name</th>\n",
              "      <th></th>\n",
              "      <th></th>\n",
              "      <th></th>\n",
              "      <th></th>\n",
              "      <th></th>\n",
              "      <th></th>\n",
              "      <th></th>\n",
              "      <th></th>\n",
              "      <th></th>\n",
              "      <th></th>\n",
              "      <th></th>\n",
              "      <th></th>\n",
              "      <th></th>\n",
              "      <th></th>\n",
              "    </tr>\n",
              "  </thead>\n",
              "  <tbody>\n",
              "    <tr>\n",
              "      <th>Fulton County, Georgia</th>\n",
              "      <td>404793.0</td>\n",
              "      <td>448803.0</td>\n",
              "      <td>1558.0</td>\n",
              "      <td>80632.0</td>\n",
              "      <td>381.0</td>\n",
              "      <td>6444.0</td>\n",
              "      <td>37797.0</td>\n",
              "      <td>13907.0</td>\n",
              "      <td>5031.0</td>\n",
              "      <td>1697.0</td>\n",
              "      <td>317.0</td>\n",
              "      <td>71.0</td>\n",
              "      <td>32168.0</td>\n",
              "      <td>33111.0</td>\n",
              "    </tr>\n",
              "  </tbody>\n",
              "</table>\n",
              "</div>\n",
              "    <div class=\"colab-df-buttons\">\n",
              "\n",
              "  <div class=\"colab-df-container\">\n",
              "    <button class=\"colab-df-convert\" onclick=\"convertToInteractive('df-5809474b-f4b6-4d82-8303-46c9bc7bc56d')\"\n",
              "            title=\"Convert this dataframe to an interactive table.\"\n",
              "            style=\"display:none;\">\n",
              "\n",
              "  <svg xmlns=\"http://www.w3.org/2000/svg\" height=\"24px\" viewBox=\"0 -960 960 960\">\n",
              "    <path d=\"M120-120v-720h720v720H120Zm60-500h600v-160H180v160Zm220 220h160v-160H400v160Zm0 220h160v-160H400v160ZM180-400h160v-160H180v160Zm440 0h160v-160H620v160ZM180-180h160v-160H180v160Zm440 0h160v-160H620v160Z\"/>\n",
              "  </svg>\n",
              "    </button>\n",
              "\n",
              "  <style>\n",
              "    .colab-df-container {\n",
              "      display:flex;\n",
              "      gap: 12px;\n",
              "    }\n",
              "\n",
              "    .colab-df-convert {\n",
              "      background-color: #E8F0FE;\n",
              "      border: none;\n",
              "      border-radius: 50%;\n",
              "      cursor: pointer;\n",
              "      display: none;\n",
              "      fill: #1967D2;\n",
              "      height: 32px;\n",
              "      padding: 0 0 0 0;\n",
              "      width: 32px;\n",
              "    }\n",
              "\n",
              "    .colab-df-convert:hover {\n",
              "      background-color: #E2EBFA;\n",
              "      box-shadow: 0px 1px 2px rgba(60, 64, 67, 0.3), 0px 1px 3px 1px rgba(60, 64, 67, 0.15);\n",
              "      fill: #174EA6;\n",
              "    }\n",
              "\n",
              "    .colab-df-buttons div {\n",
              "      margin-bottom: 4px;\n",
              "    }\n",
              "\n",
              "    [theme=dark] .colab-df-convert {\n",
              "      background-color: #3B4455;\n",
              "      fill: #D2E3FC;\n",
              "    }\n",
              "\n",
              "    [theme=dark] .colab-df-convert:hover {\n",
              "      background-color: #434B5C;\n",
              "      box-shadow: 0px 1px 3px 1px rgba(0, 0, 0, 0.15);\n",
              "      filter: drop-shadow(0px 1px 2px rgba(0, 0, 0, 0.3));\n",
              "      fill: #FFFFFF;\n",
              "    }\n",
              "  </style>\n",
              "\n",
              "    <script>\n",
              "      const buttonEl =\n",
              "        document.querySelector('#df-5809474b-f4b6-4d82-8303-46c9bc7bc56d button.colab-df-convert');\n",
              "      buttonEl.style.display =\n",
              "        google.colab.kernel.accessAllowed ? 'block' : 'none';\n",
              "\n",
              "      async function convertToInteractive(key) {\n",
              "        const element = document.querySelector('#df-5809474b-f4b6-4d82-8303-46c9bc7bc56d');\n",
              "        const dataTable =\n",
              "          await google.colab.kernel.invokeFunction('convertToInteractive',\n",
              "                                                    [key], {});\n",
              "        if (!dataTable) return;\n",
              "\n",
              "        const docLinkHtml = 'Like what you see? Visit the ' +\n",
              "          '<a target=\"_blank\" href=https://colab.research.google.com/notebooks/data_table.ipynb>data table notebook</a>'\n",
              "          + ' to learn more about interactive tables.';\n",
              "        element.innerHTML = '';\n",
              "        dataTable['output_type'] = 'display_data';\n",
              "        await google.colab.output.renderOutput(dataTable, element);\n",
              "        const docLink = document.createElement('div');\n",
              "        docLink.innerHTML = docLinkHtml;\n",
              "        element.appendChild(docLink);\n",
              "      }\n",
              "    </script>\n",
              "  </div>\n",
              "\n",
              "\n",
              "    </div>\n",
              "  </div>\n"
            ],
            "application/vnd.google.colaboratory.intrinsic+json": {
              "type": "dataframe",
              "variable_name": "race_ethnicity_df",
              "summary": "{\n  \"name\": \"race_ethnicity_df\",\n  \"rows\": 1,\n  \"fields\": [\n    {\n      \"column\": \"name\",\n      \"properties\": {\n        \"dtype\": \"string\",\n        \"num_unique_values\": 1,\n        \"samples\": [\n          \"Fulton County, Georgia\"\n        ],\n        \"semantic_type\": \"\",\n        \"description\": \"\"\n      }\n    },\n    {\n      \"column\": \"nh_white\",\n      \"properties\": {\n        \"dtype\": \"number\",\n        \"std\": null,\n        \"min\": 404793.0,\n        \"max\": 404793.0,\n        \"num_unique_values\": 1,\n        \"samples\": [\n          404793.0\n        ],\n        \"semantic_type\": \"\",\n        \"description\": \"\"\n      }\n    },\n    {\n      \"column\": \"nh_black\",\n      \"properties\": {\n        \"dtype\": \"number\",\n        \"std\": null,\n        \"min\": 448803.0,\n        \"max\": 448803.0,\n        \"num_unique_values\": 1,\n        \"samples\": [\n          448803.0\n        ],\n        \"semantic_type\": \"\",\n        \"description\": \"\"\n      }\n    },\n    {\n      \"column\": \"nh_amin\",\n      \"properties\": {\n        \"dtype\": \"number\",\n        \"std\": null,\n        \"min\": 1558.0,\n        \"max\": 1558.0,\n        \"num_unique_values\": 1,\n        \"samples\": [\n          1558.0\n        ],\n        \"semantic_type\": \"\",\n        \"description\": \"\"\n      }\n    },\n    {\n      \"column\": \"nh_asian\",\n      \"properties\": {\n        \"dtype\": \"number\",\n        \"std\": null,\n        \"min\": 80632.0,\n        \"max\": 80632.0,\n        \"num_unique_values\": 1,\n        \"samples\": [\n          80632.0\n        ],\n        \"semantic_type\": \"\",\n        \"description\": \"\"\n      }\n    },\n    {\n      \"column\": \"nh_nhpi\",\n      \"properties\": {\n        \"dtype\": \"number\",\n        \"std\": null,\n        \"min\": 381.0,\n        \"max\": 381.0,\n        \"num_unique_values\": 1,\n        \"samples\": [\n          381.0\n        ],\n        \"semantic_type\": \"\",\n        \"description\": \"\"\n      }\n    },\n    {\n      \"column\": \"nh_other\",\n      \"properties\": {\n        \"dtype\": \"number\",\n        \"std\": null,\n        \"min\": 6444.0,\n        \"max\": 6444.0,\n        \"num_unique_values\": 1,\n        \"samples\": [\n          6444.0\n        ],\n        \"semantic_type\": \"\",\n        \"description\": \"\"\n      }\n    },\n    {\n      \"column\": \"nh_two_or_more\",\n      \"properties\": {\n        \"dtype\": \"number\",\n        \"std\": null,\n        \"min\": 37797.0,\n        \"max\": 37797.0,\n        \"num_unique_values\": 1,\n        \"samples\": [\n          37797.0\n        ],\n        \"semantic_type\": \"\",\n        \"description\": \"\"\n      }\n    },\n    {\n      \"column\": \"h_white\",\n      \"properties\": {\n        \"dtype\": \"number\",\n        \"std\": null,\n        \"min\": 13907.0,\n        \"max\": 13907.0,\n        \"num_unique_values\": 1,\n        \"samples\": [\n          13907.0\n        ],\n        \"semantic_type\": \"\",\n        \"description\": \"\"\n      }\n    },\n    {\n      \"column\": \"h_black\",\n      \"properties\": {\n        \"dtype\": \"number\",\n        \"std\": null,\n        \"min\": 5031.0,\n        \"max\": 5031.0,\n        \"num_unique_values\": 1,\n        \"samples\": [\n          5031.0\n        ],\n        \"semantic_type\": \"\",\n        \"description\": \"\"\n      }\n    },\n    {\n      \"column\": \"h_amin\",\n      \"properties\": {\n        \"dtype\": \"number\",\n        \"std\": null,\n        \"min\": 1697.0,\n        \"max\": 1697.0,\n        \"num_unique_values\": 1,\n        \"samples\": [\n          1697.0\n        ],\n        \"semantic_type\": \"\",\n        \"description\": \"\"\n      }\n    },\n    {\n      \"column\": \"h_asian\",\n      \"properties\": {\n        \"dtype\": \"number\",\n        \"std\": null,\n        \"min\": 317.0,\n        \"max\": 317.0,\n        \"num_unique_values\": 1,\n        \"samples\": [\n          317.0\n        ],\n        \"semantic_type\": \"\",\n        \"description\": \"\"\n      }\n    },\n    {\n      \"column\": \"h_nhpi\",\n      \"properties\": {\n        \"dtype\": \"number\",\n        \"std\": null,\n        \"min\": 71.0,\n        \"max\": 71.0,\n        \"num_unique_values\": 1,\n        \"samples\": [\n          71.0\n        ],\n        \"semantic_type\": \"\",\n        \"description\": \"\"\n      }\n    },\n    {\n      \"column\": \"h_other\",\n      \"properties\": {\n        \"dtype\": \"number\",\n        \"std\": null,\n        \"min\": 32168.0,\n        \"max\": 32168.0,\n        \"num_unique_values\": 1,\n        \"samples\": [\n          32168.0\n        ],\n        \"semantic_type\": \"\",\n        \"description\": \"\"\n      }\n    },\n    {\n      \"column\": \"h_two_or_more\",\n      \"properties\": {\n        \"dtype\": \"number\",\n        \"std\": null,\n        \"min\": 33111.0,\n        \"max\": 33111.0,\n        \"num_unique_values\": 1,\n        \"samples\": [\n          33111.0\n        ],\n        \"semantic_type\": \"\",\n        \"description\": \"\"\n      }\n    }\n  ]\n}"
            }
          },
          "metadata": {},
          "execution_count": 104
        }
      ],
      "source": [
        "race_ethnicity_df.head(5)"
      ]
    },
    {
      "cell_type": "code",
      "execution_count": 105,
      "id": "4fb10acb-d636-4437-9036-f218fa1d992b",
      "metadata": {
        "id": "4fb10acb-d636-4437-9036-f218fa1d992b"
      },
      "outputs": [],
      "source": [
        "race_ethnicity_df[\"total\"] = race_ethnicity_df.sum(axis=1)"
      ]
    },
    {
      "cell_type": "code",
      "execution_count": 106,
      "id": "7eac8626-f85b-4333-99a4-a0dc3b623b50",
      "metadata": {
        "id": "7eac8626-f85b-4333-99a4-a0dc3b623b50",
        "outputId": "86aa1785-3802-484d-e902-ec14defd0f88",
        "colab": {
          "base_uri": "https://localhost:8080/"
        }
      },
      "outputs": [
        {
          "output_type": "execute_result",
          "data": {
            "text/plain": [
              "['nh_white',\n",
              " 'nh_black',\n",
              " 'nh_amin',\n",
              " 'nh_asian',\n",
              " 'nh_nhpi',\n",
              " 'nh_other',\n",
              " 'nh_two_or_more']"
            ]
          },
          "metadata": {},
          "execution_count": 106
        }
      ],
      "source": [
        "non_hispanic_categories = list(p2_non_hispanic_population_columns.values())\n",
        "non_hispanic_categories"
      ]
    },
    {
      "cell_type": "markdown",
      "id": "838a062b-4503-4d92-b19b-d0280f885cd0",
      "metadata": {
        "id": "838a062b-4503-4d92-b19b-d0280f885cd0"
      },
      "source": [
        "For convenience, let's construct subtotals for the Hispanic and non-Hispanic populations."
      ]
    },
    {
      "cell_type": "code",
      "execution_count": 107,
      "id": "9debd7e6-8f00-4c3a-9b8f-f545c76230fe",
      "metadata": {
        "id": "9debd7e6-8f00-4c3a-9b8f-f545c76230fe"
      },
      "outputs": [],
      "source": [
        "race_ethnicity_df[\"nh_total\"] = race_ethnicity_df[non_hispanic_categories].sum(axis=1)"
      ]
    },
    {
      "cell_type": "code",
      "execution_count": 108,
      "id": "dda2b7cd-00d0-41a9-b2eb-abc9bad8860f",
      "metadata": {
        "id": "dda2b7cd-00d0-41a9-b2eb-abc9bad8860f",
        "outputId": "d11edc4e-7b74-4419-aa8e-d631f6bc59c9",
        "colab": {
          "base_uri": "https://localhost:8080/"
        }
      },
      "outputs": [
        {
          "output_type": "execute_result",
          "data": {
            "text/plain": [
              "['h_white',\n",
              " 'h_black',\n",
              " 'h_amin',\n",
              " 'h_asian',\n",
              " 'h_nhpi',\n",
              " 'h_other',\n",
              " 'h_two_or_more']"
            ]
          },
          "metadata": {},
          "execution_count": 108
        }
      ],
      "source": [
        "hispanic_categories = [cat.replace(\"nh_\", \"h_\") for cat in non_hispanic_categories]\n",
        "hispanic_categories"
      ]
    },
    {
      "cell_type": "code",
      "execution_count": 109,
      "id": "9e18806e-7189-4594-8bdc-9d1c29b988a1",
      "metadata": {
        "id": "9e18806e-7189-4594-8bdc-9d1c29b988a1"
      },
      "outputs": [],
      "source": [
        "race_ethnicity_df[\"h_total\"] = race_ethnicity_df[hispanic_categories].sum(axis=1)"
      ]
    },
    {
      "cell_type": "code",
      "execution_count": 110,
      "id": "399d5f14-2e8d-4cb9-94e9-1017a4b47497",
      "metadata": {
        "id": "399d5f14-2e8d-4cb9-94e9-1017a4b47497",
        "outputId": "a2ae9a77-73ad-4743-ca08-f4045d6d6ad3",
        "colab": {
          "base_uri": "https://localhost:8080/",
          "height": 167
        }
      },
      "outputs": [
        {
          "output_type": "execute_result",
          "data": {
            "text/plain": [
              "                        nh_white  nh_black  nh_amin  nh_asian  nh_nhpi  \\\n",
              "name                                                                     \n",
              "Fulton County, Georgia  404793.0  448803.0   1558.0   80632.0    381.0   \n",
              "\n",
              "                        nh_other  nh_two_or_more  h_white  h_black  h_amin  \\\n",
              "name                                                                         \n",
              "Fulton County, Georgia    6444.0         37797.0  13907.0   5031.0  1697.0   \n",
              "\n",
              "                        h_asian  h_nhpi  h_other  h_two_or_more      total  \\\n",
              "name                                                                         \n",
              "Fulton County, Georgia    317.0    71.0  32168.0        33111.0  1066710.0   \n",
              "\n",
              "                        nh_total  h_total  \n",
              "name                                       \n",
              "Fulton County, Georgia  980408.0  86302.0  "
            ],
            "text/html": [
              "\n",
              "  <div id=\"df-e30741b5-6b10-4e91-a1c3-02a41974ef5d\" class=\"colab-df-container\">\n",
              "    <div>\n",
              "<style scoped>\n",
              "    .dataframe tbody tr th:only-of-type {\n",
              "        vertical-align: middle;\n",
              "    }\n",
              "\n",
              "    .dataframe tbody tr th {\n",
              "        vertical-align: top;\n",
              "    }\n",
              "\n",
              "    .dataframe thead th {\n",
              "        text-align: right;\n",
              "    }\n",
              "</style>\n",
              "<table border=\"1\" class=\"dataframe\">\n",
              "  <thead>\n",
              "    <tr style=\"text-align: right;\">\n",
              "      <th></th>\n",
              "      <th>nh_white</th>\n",
              "      <th>nh_black</th>\n",
              "      <th>nh_amin</th>\n",
              "      <th>nh_asian</th>\n",
              "      <th>nh_nhpi</th>\n",
              "      <th>nh_other</th>\n",
              "      <th>nh_two_or_more</th>\n",
              "      <th>h_white</th>\n",
              "      <th>h_black</th>\n",
              "      <th>h_amin</th>\n",
              "      <th>h_asian</th>\n",
              "      <th>h_nhpi</th>\n",
              "      <th>h_other</th>\n",
              "      <th>h_two_or_more</th>\n",
              "      <th>total</th>\n",
              "      <th>nh_total</th>\n",
              "      <th>h_total</th>\n",
              "    </tr>\n",
              "    <tr>\n",
              "      <th>name</th>\n",
              "      <th></th>\n",
              "      <th></th>\n",
              "      <th></th>\n",
              "      <th></th>\n",
              "      <th></th>\n",
              "      <th></th>\n",
              "      <th></th>\n",
              "      <th></th>\n",
              "      <th></th>\n",
              "      <th></th>\n",
              "      <th></th>\n",
              "      <th></th>\n",
              "      <th></th>\n",
              "      <th></th>\n",
              "      <th></th>\n",
              "      <th></th>\n",
              "      <th></th>\n",
              "    </tr>\n",
              "  </thead>\n",
              "  <tbody>\n",
              "    <tr>\n",
              "      <th>Fulton County, Georgia</th>\n",
              "      <td>404793.0</td>\n",
              "      <td>448803.0</td>\n",
              "      <td>1558.0</td>\n",
              "      <td>80632.0</td>\n",
              "      <td>381.0</td>\n",
              "      <td>6444.0</td>\n",
              "      <td>37797.0</td>\n",
              "      <td>13907.0</td>\n",
              "      <td>5031.0</td>\n",
              "      <td>1697.0</td>\n",
              "      <td>317.0</td>\n",
              "      <td>71.0</td>\n",
              "      <td>32168.0</td>\n",
              "      <td>33111.0</td>\n",
              "      <td>1066710.0</td>\n",
              "      <td>980408.0</td>\n",
              "      <td>86302.0</td>\n",
              "    </tr>\n",
              "  </tbody>\n",
              "</table>\n",
              "</div>\n",
              "    <div class=\"colab-df-buttons\">\n",
              "\n",
              "  <div class=\"colab-df-container\">\n",
              "    <button class=\"colab-df-convert\" onclick=\"convertToInteractive('df-e30741b5-6b10-4e91-a1c3-02a41974ef5d')\"\n",
              "            title=\"Convert this dataframe to an interactive table.\"\n",
              "            style=\"display:none;\">\n",
              "\n",
              "  <svg xmlns=\"http://www.w3.org/2000/svg\" height=\"24px\" viewBox=\"0 -960 960 960\">\n",
              "    <path d=\"M120-120v-720h720v720H120Zm60-500h600v-160H180v160Zm220 220h160v-160H400v160Zm0 220h160v-160H400v160ZM180-400h160v-160H180v160Zm440 0h160v-160H620v160ZM180-180h160v-160H180v160Zm440 0h160v-160H620v160Z\"/>\n",
              "  </svg>\n",
              "    </button>\n",
              "\n",
              "  <style>\n",
              "    .colab-df-container {\n",
              "      display:flex;\n",
              "      gap: 12px;\n",
              "    }\n",
              "\n",
              "    .colab-df-convert {\n",
              "      background-color: #E8F0FE;\n",
              "      border: none;\n",
              "      border-radius: 50%;\n",
              "      cursor: pointer;\n",
              "      display: none;\n",
              "      fill: #1967D2;\n",
              "      height: 32px;\n",
              "      padding: 0 0 0 0;\n",
              "      width: 32px;\n",
              "    }\n",
              "\n",
              "    .colab-df-convert:hover {\n",
              "      background-color: #E2EBFA;\n",
              "      box-shadow: 0px 1px 2px rgba(60, 64, 67, 0.3), 0px 1px 3px 1px rgba(60, 64, 67, 0.15);\n",
              "      fill: #174EA6;\n",
              "    }\n",
              "\n",
              "    .colab-df-buttons div {\n",
              "      margin-bottom: 4px;\n",
              "    }\n",
              "\n",
              "    [theme=dark] .colab-df-convert {\n",
              "      background-color: #3B4455;\n",
              "      fill: #D2E3FC;\n",
              "    }\n",
              "\n",
              "    [theme=dark] .colab-df-convert:hover {\n",
              "      background-color: #434B5C;\n",
              "      box-shadow: 0px 1px 3px 1px rgba(0, 0, 0, 0.15);\n",
              "      filter: drop-shadow(0px 1px 2px rgba(0, 0, 0, 0.3));\n",
              "      fill: #FFFFFF;\n",
              "    }\n",
              "  </style>\n",
              "\n",
              "    <script>\n",
              "      const buttonEl =\n",
              "        document.querySelector('#df-e30741b5-6b10-4e91-a1c3-02a41974ef5d button.colab-df-convert');\n",
              "      buttonEl.style.display =\n",
              "        google.colab.kernel.accessAllowed ? 'block' : 'none';\n",
              "\n",
              "      async function convertToInteractive(key) {\n",
              "        const element = document.querySelector('#df-e30741b5-6b10-4e91-a1c3-02a41974ef5d');\n",
              "        const dataTable =\n",
              "          await google.colab.kernel.invokeFunction('convertToInteractive',\n",
              "                                                    [key], {});\n",
              "        if (!dataTable) return;\n",
              "\n",
              "        const docLinkHtml = 'Like what you see? Visit the ' +\n",
              "          '<a target=\"_blank\" href=https://colab.research.google.com/notebooks/data_table.ipynb>data table notebook</a>'\n",
              "          + ' to learn more about interactive tables.';\n",
              "        element.innerHTML = '';\n",
              "        dataTable['output_type'] = 'display_data';\n",
              "        await google.colab.output.renderOutput(dataTable, element);\n",
              "        const docLink = document.createElement('div');\n",
              "        docLink.innerHTML = docLinkHtml;\n",
              "        element.appendChild(docLink);\n",
              "      }\n",
              "    </script>\n",
              "  </div>\n",
              "\n",
              "\n",
              "    </div>\n",
              "  </div>\n"
            ],
            "application/vnd.google.colaboratory.intrinsic+json": {
              "type": "dataframe",
              "variable_name": "race_ethnicity_df",
              "summary": "{\n  \"name\": \"race_ethnicity_df\",\n  \"rows\": 1,\n  \"fields\": [\n    {\n      \"column\": \"name\",\n      \"properties\": {\n        \"dtype\": \"string\",\n        \"num_unique_values\": 1,\n        \"samples\": [\n          \"Fulton County, Georgia\"\n        ],\n        \"semantic_type\": \"\",\n        \"description\": \"\"\n      }\n    },\n    {\n      \"column\": \"nh_white\",\n      \"properties\": {\n        \"dtype\": \"number\",\n        \"std\": null,\n        \"min\": 404793.0,\n        \"max\": 404793.0,\n        \"num_unique_values\": 1,\n        \"samples\": [\n          404793.0\n        ],\n        \"semantic_type\": \"\",\n        \"description\": \"\"\n      }\n    },\n    {\n      \"column\": \"nh_black\",\n      \"properties\": {\n        \"dtype\": \"number\",\n        \"std\": null,\n        \"min\": 448803.0,\n        \"max\": 448803.0,\n        \"num_unique_values\": 1,\n        \"samples\": [\n          448803.0\n        ],\n        \"semantic_type\": \"\",\n        \"description\": \"\"\n      }\n    },\n    {\n      \"column\": \"nh_amin\",\n      \"properties\": {\n        \"dtype\": \"number\",\n        \"std\": null,\n        \"min\": 1558.0,\n        \"max\": 1558.0,\n        \"num_unique_values\": 1,\n        \"samples\": [\n          1558.0\n        ],\n        \"semantic_type\": \"\",\n        \"description\": \"\"\n      }\n    },\n    {\n      \"column\": \"nh_asian\",\n      \"properties\": {\n        \"dtype\": \"number\",\n        \"std\": null,\n        \"min\": 80632.0,\n        \"max\": 80632.0,\n        \"num_unique_values\": 1,\n        \"samples\": [\n          80632.0\n        ],\n        \"semantic_type\": \"\",\n        \"description\": \"\"\n      }\n    },\n    {\n      \"column\": \"nh_nhpi\",\n      \"properties\": {\n        \"dtype\": \"number\",\n        \"std\": null,\n        \"min\": 381.0,\n        \"max\": 381.0,\n        \"num_unique_values\": 1,\n        \"samples\": [\n          381.0\n        ],\n        \"semantic_type\": \"\",\n        \"description\": \"\"\n      }\n    },\n    {\n      \"column\": \"nh_other\",\n      \"properties\": {\n        \"dtype\": \"number\",\n        \"std\": null,\n        \"min\": 6444.0,\n        \"max\": 6444.0,\n        \"num_unique_values\": 1,\n        \"samples\": [\n          6444.0\n        ],\n        \"semantic_type\": \"\",\n        \"description\": \"\"\n      }\n    },\n    {\n      \"column\": \"nh_two_or_more\",\n      \"properties\": {\n        \"dtype\": \"number\",\n        \"std\": null,\n        \"min\": 37797.0,\n        \"max\": 37797.0,\n        \"num_unique_values\": 1,\n        \"samples\": [\n          37797.0\n        ],\n        \"semantic_type\": \"\",\n        \"description\": \"\"\n      }\n    },\n    {\n      \"column\": \"h_white\",\n      \"properties\": {\n        \"dtype\": \"number\",\n        \"std\": null,\n        \"min\": 13907.0,\n        \"max\": 13907.0,\n        \"num_unique_values\": 1,\n        \"samples\": [\n          13907.0\n        ],\n        \"semantic_type\": \"\",\n        \"description\": \"\"\n      }\n    },\n    {\n      \"column\": \"h_black\",\n      \"properties\": {\n        \"dtype\": \"number\",\n        \"std\": null,\n        \"min\": 5031.0,\n        \"max\": 5031.0,\n        \"num_unique_values\": 1,\n        \"samples\": [\n          5031.0\n        ],\n        \"semantic_type\": \"\",\n        \"description\": \"\"\n      }\n    },\n    {\n      \"column\": \"h_amin\",\n      \"properties\": {\n        \"dtype\": \"number\",\n        \"std\": null,\n        \"min\": 1697.0,\n        \"max\": 1697.0,\n        \"num_unique_values\": 1,\n        \"samples\": [\n          1697.0\n        ],\n        \"semantic_type\": \"\",\n        \"description\": \"\"\n      }\n    },\n    {\n      \"column\": \"h_asian\",\n      \"properties\": {\n        \"dtype\": \"number\",\n        \"std\": null,\n        \"min\": 317.0,\n        \"max\": 317.0,\n        \"num_unique_values\": 1,\n        \"samples\": [\n          317.0\n        ],\n        \"semantic_type\": \"\",\n        \"description\": \"\"\n      }\n    },\n    {\n      \"column\": \"h_nhpi\",\n      \"properties\": {\n        \"dtype\": \"number\",\n        \"std\": null,\n        \"min\": 71.0,\n        \"max\": 71.0,\n        \"num_unique_values\": 1,\n        \"samples\": [\n          71.0\n        ],\n        \"semantic_type\": \"\",\n        \"description\": \"\"\n      }\n    },\n    {\n      \"column\": \"h_other\",\n      \"properties\": {\n        \"dtype\": \"number\",\n        \"std\": null,\n        \"min\": 32168.0,\n        \"max\": 32168.0,\n        \"num_unique_values\": 1,\n        \"samples\": [\n          32168.0\n        ],\n        \"semantic_type\": \"\",\n        \"description\": \"\"\n      }\n    },\n    {\n      \"column\": \"h_two_or_more\",\n      \"properties\": {\n        \"dtype\": \"number\",\n        \"std\": null,\n        \"min\": 33111.0,\n        \"max\": 33111.0,\n        \"num_unique_values\": 1,\n        \"samples\": [\n          33111.0\n        ],\n        \"semantic_type\": \"\",\n        \"description\": \"\"\n      }\n    },\n    {\n      \"column\": \"total\",\n      \"properties\": {\n        \"dtype\": \"number\",\n        \"std\": null,\n        \"min\": 1066710.0,\n        \"max\": 1066710.0,\n        \"num_unique_values\": 1,\n        \"samples\": [\n          1066710.0\n        ],\n        \"semantic_type\": \"\",\n        \"description\": \"\"\n      }\n    },\n    {\n      \"column\": \"nh_total\",\n      \"properties\": {\n        \"dtype\": \"number\",\n        \"std\": null,\n        \"min\": 980408.0,\n        \"max\": 980408.0,\n        \"num_unique_values\": 1,\n        \"samples\": [\n          980408.0\n        ],\n        \"semantic_type\": \"\",\n        \"description\": \"\"\n      }\n    },\n    {\n      \"column\": \"h_total\",\n      \"properties\": {\n        \"dtype\": \"number\",\n        \"std\": null,\n        \"min\": 86302.0,\n        \"max\": 86302.0,\n        \"num_unique_values\": 1,\n        \"samples\": [\n          86302.0\n        ],\n        \"semantic_type\": \"\",\n        \"description\": \"\"\n      }\n    }\n  ]\n}"
            }
          },
          "metadata": {},
          "execution_count": 110
        }
      ],
      "source": [
        "race_ethnicity_df.head(5)"
      ]
    },
    {
      "cell_type": "markdown",
      "id": "ed3e7ad2-b25f-4377-9824-44c3e173b870",
      "metadata": {
        "id": "ed3e7ad2-b25f-4377-9824-44c3e173b870"
      },
      "source": [
        "It's always important to double-check our calculations. Here, we verify that the Hispanic and non-Hispanic totals add up to the overall population total in each county."
      ]
    },
    {
      "cell_type": "code",
      "execution_count": 111,
      "id": "1c82a12d-dc48-46a5-adfe-7cf7c72f4c40",
      "metadata": {
        "id": "1c82a12d-dc48-46a5-adfe-7cf7c72f4c40"
      },
      "outputs": [],
      "source": [
        "assert (race_ethnicity_df[\"h_total\"] + race_ethnicity_df[\"nh_total\"] == race_ethnicity_df[\"total\"]).all() #makes sure all math is correct"
      ]
    },
    {
      "cell_type": "markdown",
      "id": "f4f1dcc6-ead2-4ae9-b2de-3288a3a8a4c3",
      "metadata": {
        "id": "f4f1dcc6-ead2-4ae9-b2de-3288a3a8a4c3"
      },
      "source": [
        "Now that we've broken down the state population along two dimensions (race and Hispanic/Latino origin), we can answer some more sophisticated demographic questions: for instance, how does the distribution of racial identification differ between the Hispanic and non-Hispanic populations?"
      ]
    },
    {
      "cell_type": "code",
      "execution_count": 113,
      "id": "1089e04d-883e-4963-a840-ee6f326cf41a",
      "metadata": {
        "id": "1089e04d-883e-4963-a840-ee6f326cf41a",
        "outputId": "aa108ae8-0872-4731-c40b-8294664dd7c7",
        "colab": {
          "base_uri": "https://localhost:8080/",
          "height": 504
        }
      },
      "outputs": [
        {
          "output_type": "display_data",
          "data": {
            "text/plain": [
              "<Figure size 600x600 with 1 Axes>"
            ],
            "image/svg+xml": "<?xml version=\"1.0\" encoding=\"utf-8\" standalone=\"no\"?>\n<!DOCTYPE svg PUBLIC \"-//W3C//DTD SVG 1.1//EN\"\n  \"http://www.w3.org/Graphics/SVG/1.1/DTD/svg11.dtd\">\n<svg xmlns:xlink=\"http://www.w3.org/1999/xlink\" width=\"405.317118pt\" height=\"362.158125pt\" viewBox=\"0 0 405.317118 362.158125\" xmlns=\"http://www.w3.org/2000/svg\" version=\"1.1\">\n <metadata>\n  <rdf:RDF xmlns:dc=\"http://purl.org/dc/elements/1.1/\" xmlns:cc=\"http://creativecommons.org/ns#\" xmlns:rdf=\"http://www.w3.org/1999/02/22-rdf-syntax-ns#\">\n   <cc:Work>\n    <dc:type rdf:resource=\"http://purl.org/dc/dcmitype/StillImage\"/>\n    <dc:date>2025-02-06T04:25:30.431984</dc:date>\n    <dc:format>image/svg+xml</dc:format>\n    <dc:creator>\n     <cc:Agent>\n      <dc:title>Matplotlib v3.10.0, https://matplotlib.org/</dc:title>\n     </cc:Agent>\n    </dc:creator>\n   </cc:Work>\n  </rdf:RDF>\n </metadata>\n <defs>\n  <style type=\"text/css\">*{stroke-linejoin: round; stroke-linecap: butt}</style>\n </defs>\n <g id=\"figure_1\">\n  <g id=\"patch_1\">\n   <path d=\"M -0 362.158125 \nL 405.317118 362.158125 \nL 405.317118 -0 \nL -0 -0 \nz\n\" style=\"fill: #ffffff\"/>\n  </g>\n  <g id=\"axes_1\">\n   <g id=\"patch_2\">\n    <path d=\"M 346.91534 188.638125 \nC 346.91534 172.586936 344.010841 156.66741 338.342485 141.650406 \nC 332.674129 126.633402 324.334908 112.76528 313.728626 100.717564 \nC 303.122343 88.669849 290.422999 78.640189 276.245524 71.114242 \nC 262.068049 63.588294 246.645032 58.689527 230.723286 56.655147 \nC 214.801541 54.620768 198.642272 55.484152 183.027945 59.203492 \nC 167.413619 62.922832 152.600396 69.437112 139.305565 78.430894 \nC 126.010733 87.424677 114.452401 98.750416 105.190247 111.859695 \nC 95.928093 124.968974 89.114068 139.646728 85.078122 155.18223 \nC 81.042175 170.717731 79.850519 186.856113 81.560855 202.81592 \nC 83.271191 218.775726 87.85546 234.29513 95.091684 248.622647 \nC 102.327907 262.950164 112.09737 275.850746 123.927014 286.699717 \nC 135.756659 297.548689 149.452414 306.168069 164.351102 312.140487 \nC 179.249789 318.112906 195.106989 321.340383 211.154863 321.666637 \nC 227.202736 321.992891 243.178009 319.41257 258.307125 314.050619 \nC 273.436241 308.688667 287.471 300.633051 299.731808 290.273839 \nC 311.992616 279.914628 322.278329 267.421769 330.090891 253.400195 \nL 213.85934 188.638125 \nz\n\" style=\"fill: #1f77b4\"/>\n   </g>\n   <g id=\"patch_3\">\n    <path d=\"M 330.090891 253.400195 \nC 335.585125 243.539433 339.802253 233.019461 342.640559 222.09402 \nC 345.478864 211.16858 346.91534 199.926226 346.91534 188.638125 \nL 213.85934 188.638125 \nz\n\" style=\"fill: #ff7f0e\"/>\n   </g>\n   <g id=\"matplotlib.axis_1\"/>\n   <g id=\"matplotlib.axis_2\"/>\n   <g id=\"text_1\">\n    <!-- non-Hispanic -->\n    <g transform=\"translate(7.2 154.596015) scale(0.1 -0.1)\">\n     <defs>\n      <path id=\"DejaVuSans-6e\" d=\"M 3513 2113 \nL 3513 0 \nL 2938 0 \nL 2938 2094 \nQ 2938 2591 2744 2837 \nQ 2550 3084 2163 3084 \nQ 1697 3084 1428 2787 \nQ 1159 2491 1159 1978 \nL 1159 0 \nL 581 0 \nL 581 3500 \nL 1159 3500 \nL 1159 2956 \nQ 1366 3272 1645 3428 \nQ 1925 3584 2291 3584 \nQ 2894 3584 3203 3211 \nQ 3513 2838 3513 2113 \nz\n\" transform=\"scale(0.015625)\"/>\n      <path id=\"DejaVuSans-6f\" d=\"M 1959 3097 \nQ 1497 3097 1228 2736 \nQ 959 2375 959 1747 \nQ 959 1119 1226 758 \nQ 1494 397 1959 397 \nQ 2419 397 2687 759 \nQ 2956 1122 2956 1747 \nQ 2956 2369 2687 2733 \nQ 2419 3097 1959 3097 \nz\nM 1959 3584 \nQ 2709 3584 3137 3096 \nQ 3566 2609 3566 1747 \nQ 3566 888 3137 398 \nQ 2709 -91 1959 -91 \nQ 1206 -91 779 398 \nQ 353 888 353 1747 \nQ 353 2609 779 3096 \nQ 1206 3584 1959 3584 \nz\n\" transform=\"scale(0.015625)\"/>\n      <path id=\"DejaVuSans-2d\" d=\"M 313 2009 \nL 1997 2009 \nL 1997 1497 \nL 313 1497 \nL 313 2009 \nz\n\" transform=\"scale(0.015625)\"/>\n      <path id=\"DejaVuSans-48\" d=\"M 628 4666 \nL 1259 4666 \nL 1259 2753 \nL 3553 2753 \nL 3553 4666 \nL 4184 4666 \nL 4184 0 \nL 3553 0 \nL 3553 2222 \nL 1259 2222 \nL 1259 0 \nL 628 0 \nL 628 4666 \nz\n\" transform=\"scale(0.015625)\"/>\n      <path id=\"DejaVuSans-69\" d=\"M 603 3500 \nL 1178 3500 \nL 1178 0 \nL 603 0 \nL 603 3500 \nz\nM 603 4863 \nL 1178 4863 \nL 1178 4134 \nL 603 4134 \nL 603 4863 \nz\n\" transform=\"scale(0.015625)\"/>\n      <path id=\"DejaVuSans-73\" d=\"M 2834 3397 \nL 2834 2853 \nQ 2591 2978 2328 3040 \nQ 2066 3103 1784 3103 \nQ 1356 3103 1142 2972 \nQ 928 2841 928 2578 \nQ 928 2378 1081 2264 \nQ 1234 2150 1697 2047 \nL 1894 2003 \nQ 2506 1872 2764 1633 \nQ 3022 1394 3022 966 \nQ 3022 478 2636 193 \nQ 2250 -91 1575 -91 \nQ 1294 -91 989 -36 \nQ 684 19 347 128 \nL 347 722 \nQ 666 556 975 473 \nQ 1284 391 1588 391 \nQ 1994 391 2212 530 \nQ 2431 669 2431 922 \nQ 2431 1156 2273 1281 \nQ 2116 1406 1581 1522 \nL 1381 1569 \nQ 847 1681 609 1914 \nQ 372 2147 372 2553 \nQ 372 3047 722 3315 \nQ 1072 3584 1716 3584 \nQ 2034 3584 2315 3537 \nQ 2597 3491 2834 3397 \nz\n\" transform=\"scale(0.015625)\"/>\n      <path id=\"DejaVuSans-70\" d=\"M 1159 525 \nL 1159 -1331 \nL 581 -1331 \nL 581 3500 \nL 1159 3500 \nL 1159 2969 \nQ 1341 3281 1617 3432 \nQ 1894 3584 2278 3584 \nQ 2916 3584 3314 3078 \nQ 3713 2572 3713 1747 \nQ 3713 922 3314 415 \nQ 2916 -91 2278 -91 \nQ 1894 -91 1617 61 \nQ 1341 213 1159 525 \nz\nM 3116 1747 \nQ 3116 2381 2855 2742 \nQ 2594 3103 2138 3103 \nQ 1681 3103 1420 2742 \nQ 1159 2381 1159 1747 \nQ 1159 1113 1420 752 \nQ 1681 391 2138 391 \nQ 2594 391 2855 752 \nQ 3116 1113 3116 1747 \nz\n\" transform=\"scale(0.015625)\"/>\n      <path id=\"DejaVuSans-61\" d=\"M 2194 1759 \nQ 1497 1759 1228 1600 \nQ 959 1441 959 1056 \nQ 959 750 1161 570 \nQ 1363 391 1709 391 \nQ 2188 391 2477 730 \nQ 2766 1069 2766 1631 \nL 2766 1759 \nL 2194 1759 \nz\nM 3341 1997 \nL 3341 0 \nL 2766 0 \nL 2766 531 \nQ 2569 213 2275 61 \nQ 1981 -91 1556 -91 \nQ 1019 -91 701 211 \nQ 384 513 384 1019 \nQ 384 1609 779 1909 \nQ 1175 2209 1959 2209 \nL 2766 2209 \nL 2766 2266 \nQ 2766 2663 2505 2880 \nQ 2244 3097 1772 3097 \nQ 1472 3097 1187 3025 \nQ 903 2953 641 2809 \nL 641 3341 \nQ 956 3463 1253 3523 \nQ 1550 3584 1831 3584 \nQ 2591 3584 2966 3190 \nQ 3341 2797 3341 1997 \nz\n\" transform=\"scale(0.015625)\"/>\n      <path id=\"DejaVuSans-63\" d=\"M 3122 3366 \nL 3122 2828 \nQ 2878 2963 2633 3030 \nQ 2388 3097 2138 3097 \nQ 1578 3097 1268 2742 \nQ 959 2388 959 1747 \nQ 959 1106 1268 751 \nQ 1578 397 2138 397 \nQ 2388 397 2633 464 \nQ 2878 531 3122 666 \nL 3122 134 \nQ 2881 22 2623 -34 \nQ 2366 -91 2075 -91 \nQ 1284 -91 818 406 \nQ 353 903 353 1747 \nQ 353 2603 823 3093 \nQ 1294 3584 2113 3584 \nQ 2378 3584 2631 3529 \nQ 2884 3475 3122 3366 \nz\n\" transform=\"scale(0.015625)\"/>\n     </defs>\n     <use xlink:href=\"#DejaVuSans-6e\"/>\n     <use xlink:href=\"#DejaVuSans-6f\" transform=\"translate(63.378906 0)\"/>\n     <use xlink:href=\"#DejaVuSans-6e\" transform=\"translate(124.560547 0)\"/>\n     <use xlink:href=\"#DejaVuSans-2d\" transform=\"translate(187.939453 0)\"/>\n     <use xlink:href=\"#DejaVuSans-48\" transform=\"translate(224.023438 0)\"/>\n     <use xlink:href=\"#DejaVuSans-69\" transform=\"translate(299.21875 0)\"/>\n     <use xlink:href=\"#DejaVuSans-73\" transform=\"translate(327.001953 0)\"/>\n     <use xlink:href=\"#DejaVuSans-70\" transform=\"translate(379.101562 0)\"/>\n     <use xlink:href=\"#DejaVuSans-61\" transform=\"translate(442.578125 0)\"/>\n     <use xlink:href=\"#DejaVuSans-6e\" transform=\"translate(503.857422 0)\"/>\n     <use xlink:href=\"#DejaVuSans-69\" transform=\"translate(567.236328 0)\"/>\n     <use xlink:href=\"#DejaVuSans-63\" transform=\"translate(595.019531 0)\"/>\n    </g>\n   </g>\n   <g id=\"text_2\">\n    <!-- 91.9% -->\n    <g transform=\"translate(120.707015 171.323963) scale(0.1 -0.1)\">\n     <defs>\n      <path id=\"DejaVuSans-39\" d=\"M 703 97 \nL 703 672 \nQ 941 559 1184 500 \nQ 1428 441 1663 441 \nQ 2288 441 2617 861 \nQ 2947 1281 2994 2138 \nQ 2813 1869 2534 1725 \nQ 2256 1581 1919 1581 \nQ 1219 1581 811 2004 \nQ 403 2428 403 3163 \nQ 403 3881 828 4315 \nQ 1253 4750 1959 4750 \nQ 2769 4750 3195 4129 \nQ 3622 3509 3622 2328 \nQ 3622 1225 3098 567 \nQ 2575 -91 1691 -91 \nQ 1453 -91 1209 -44 \nQ 966 3 703 97 \nz\nM 1959 2075 \nQ 2384 2075 2632 2365 \nQ 2881 2656 2881 3163 \nQ 2881 3666 2632 3958 \nQ 2384 4250 1959 4250 \nQ 1534 4250 1286 3958 \nQ 1038 3666 1038 3163 \nQ 1038 2656 1286 2365 \nQ 1534 2075 1959 2075 \nz\n\" transform=\"scale(0.015625)\"/>\n      <path id=\"DejaVuSans-31\" d=\"M 794 531 \nL 1825 531 \nL 1825 4091 \nL 703 3866 \nL 703 4441 \nL 1819 4666 \nL 2450 4666 \nL 2450 531 \nL 3481 531 \nL 3481 0 \nL 794 0 \nL 794 531 \nz\n\" transform=\"scale(0.015625)\"/>\n      <path id=\"DejaVuSans-2e\" d=\"M 684 794 \nL 1344 794 \nL 1344 0 \nL 684 0 \nL 684 794 \nz\n\" transform=\"scale(0.015625)\"/>\n      <path id=\"DejaVuSans-25\" d=\"M 4653 2053 \nQ 4381 2053 4226 1822 \nQ 4072 1591 4072 1178 \nQ 4072 772 4226 539 \nQ 4381 306 4653 306 \nQ 4919 306 5073 539 \nQ 5228 772 5228 1178 \nQ 5228 1588 5073 1820 \nQ 4919 2053 4653 2053 \nz\nM 4653 2450 \nQ 5147 2450 5437 2106 \nQ 5728 1763 5728 1178 \nQ 5728 594 5436 251 \nQ 5144 -91 4653 -91 \nQ 4153 -91 3862 251 \nQ 3572 594 3572 1178 \nQ 3572 1766 3864 2108 \nQ 4156 2450 4653 2450 \nz\nM 1428 4353 \nQ 1159 4353 1004 4120 \nQ 850 3888 850 3481 \nQ 850 3069 1003 2837 \nQ 1156 2606 1428 2606 \nQ 1700 2606 1854 2837 \nQ 2009 3069 2009 3481 \nQ 2009 3884 1853 4118 \nQ 1697 4353 1428 4353 \nz\nM 4250 4750 \nL 4750 4750 \nL 1831 -91 \nL 1331 -91 \nL 4250 4750 \nz\nM 1428 4750 \nQ 1922 4750 2215 4408 \nQ 2509 4066 2509 3481 \nQ 2509 2891 2217 2550 \nQ 1925 2209 1428 2209 \nQ 931 2209 642 2551 \nQ 353 2894 353 3481 \nQ 353 4063 643 4406 \nQ 934 4750 1428 4750 \nz\n\" transform=\"scale(0.015625)\"/>\n     </defs>\n     <use xlink:href=\"#DejaVuSans-39\"/>\n     <use xlink:href=\"#DejaVuSans-31\" transform=\"translate(63.623047 0)\"/>\n     <use xlink:href=\"#DejaVuSans-2e\" transform=\"translate(127.246094 0)\"/>\n     <use xlink:href=\"#DejaVuSans-39\" transform=\"translate(159.033203 0)\"/>\n     <use xlink:href=\"#DejaVuSans-25\" transform=\"translate(222.65625 0)\"/>\n    </g>\n   </g>\n   <g id=\"text_3\">\n    <!-- Hispanic -->\n    <g transform=\"translate(355.51868 228.198985) scale(0.1 -0.1)\">\n     <use xlink:href=\"#DejaVuSans-48\"/>\n     <use xlink:href=\"#DejaVuSans-69\" transform=\"translate(75.195312 0)\"/>\n     <use xlink:href=\"#DejaVuSans-73\" transform=\"translate(102.978516 0)\"/>\n     <use xlink:href=\"#DejaVuSans-70\" transform=\"translate(155.078125 0)\"/>\n     <use xlink:href=\"#DejaVuSans-61\" transform=\"translate(218.554688 0)\"/>\n     <use xlink:href=\"#DejaVuSans-6e\" transform=\"translate(279.833984 0)\"/>\n     <use xlink:href=\"#DejaVuSans-69\" transform=\"translate(343.212891 0)\"/>\n     <use xlink:href=\"#DejaVuSans-63\" transform=\"translate(370.996094 0)\"/>\n    </g>\n   </g>\n   <g id=\"text_4\">\n    <!-- 8.1% -->\n    <g transform=\"translate(278.425727 211.471037) scale(0.1 -0.1)\">\n     <defs>\n      <path id=\"DejaVuSans-38\" d=\"M 2034 2216 \nQ 1584 2216 1326 1975 \nQ 1069 1734 1069 1313 \nQ 1069 891 1326 650 \nQ 1584 409 2034 409 \nQ 2484 409 2743 651 \nQ 3003 894 3003 1313 \nQ 3003 1734 2745 1975 \nQ 2488 2216 2034 2216 \nz\nM 1403 2484 \nQ 997 2584 770 2862 \nQ 544 3141 544 3541 \nQ 544 4100 942 4425 \nQ 1341 4750 2034 4750 \nQ 2731 4750 3128 4425 \nQ 3525 4100 3525 3541 \nQ 3525 3141 3298 2862 \nQ 3072 2584 2669 2484 \nQ 3125 2378 3379 2068 \nQ 3634 1759 3634 1313 \nQ 3634 634 3220 271 \nQ 2806 -91 2034 -91 \nQ 1263 -91 848 271 \nQ 434 634 434 1313 \nQ 434 1759 690 2068 \nQ 947 2378 1403 2484 \nz\nM 1172 3481 \nQ 1172 3119 1398 2916 \nQ 1625 2713 2034 2713 \nQ 2441 2713 2670 2916 \nQ 2900 3119 2900 3481 \nQ 2900 3844 2670 4047 \nQ 2441 4250 2034 4250 \nQ 1625 4250 1398 4047 \nQ 1172 3844 1172 3481 \nz\n\" transform=\"scale(0.015625)\"/>\n     </defs>\n     <use xlink:href=\"#DejaVuSans-38\"/>\n     <use xlink:href=\"#DejaVuSans-2e\" transform=\"translate(63.623047 0)\"/>\n     <use xlink:href=\"#DejaVuSans-31\" transform=\"translate(95.410156 0)\"/>\n     <use xlink:href=\"#DejaVuSans-25\" transform=\"translate(159.033203 0)\"/>\n    </g>\n   </g>\n   <g id=\"text_5\">\n    <!-- Population of Georgia (state) by Hispanic/Latino origin -->\n    <g transform=\"translate(51.171215 16.318125) scale(0.12 -0.12)\">\n     <defs>\n      <path id=\"DejaVuSans-50\" d=\"M 1259 4147 \nL 1259 2394 \nL 2053 2394 \nQ 2494 2394 2734 2622 \nQ 2975 2850 2975 3272 \nQ 2975 3691 2734 3919 \nQ 2494 4147 2053 4147 \nL 1259 4147 \nz\nM 628 4666 \nL 2053 4666 \nQ 2838 4666 3239 4311 \nQ 3641 3956 3641 3272 \nQ 3641 2581 3239 2228 \nQ 2838 1875 2053 1875 \nL 1259 1875 \nL 1259 0 \nL 628 0 \nL 628 4666 \nz\n\" transform=\"scale(0.015625)\"/>\n      <path id=\"DejaVuSans-75\" d=\"M 544 1381 \nL 544 3500 \nL 1119 3500 \nL 1119 1403 \nQ 1119 906 1312 657 \nQ 1506 409 1894 409 \nQ 2359 409 2629 706 \nQ 2900 1003 2900 1516 \nL 2900 3500 \nL 3475 3500 \nL 3475 0 \nL 2900 0 \nL 2900 538 \nQ 2691 219 2414 64 \nQ 2138 -91 1772 -91 \nQ 1169 -91 856 284 \nQ 544 659 544 1381 \nz\nM 1991 3584 \nL 1991 3584 \nz\n\" transform=\"scale(0.015625)\"/>\n      <path id=\"DejaVuSans-6c\" d=\"M 603 4863 \nL 1178 4863 \nL 1178 0 \nL 603 0 \nL 603 4863 \nz\n\" transform=\"scale(0.015625)\"/>\n      <path id=\"DejaVuSans-74\" d=\"M 1172 4494 \nL 1172 3500 \nL 2356 3500 \nL 2356 3053 \nL 1172 3053 \nL 1172 1153 \nQ 1172 725 1289 603 \nQ 1406 481 1766 481 \nL 2356 481 \nL 2356 0 \nL 1766 0 \nQ 1100 0 847 248 \nQ 594 497 594 1153 \nL 594 3053 \nL 172 3053 \nL 172 3500 \nL 594 3500 \nL 594 4494 \nL 1172 4494 \nz\n\" transform=\"scale(0.015625)\"/>\n      <path id=\"DejaVuSans-20\" transform=\"scale(0.015625)\"/>\n      <path id=\"DejaVuSans-66\" d=\"M 2375 4863 \nL 2375 4384 \nL 1825 4384 \nQ 1516 4384 1395 4259 \nQ 1275 4134 1275 3809 \nL 1275 3500 \nL 2222 3500 \nL 2222 3053 \nL 1275 3053 \nL 1275 0 \nL 697 0 \nL 697 3053 \nL 147 3053 \nL 147 3500 \nL 697 3500 \nL 697 3744 \nQ 697 4328 969 4595 \nQ 1241 4863 1831 4863 \nL 2375 4863 \nz\n\" transform=\"scale(0.015625)\"/>\n      <path id=\"DejaVuSans-47\" d=\"M 3809 666 \nL 3809 1919 \nL 2778 1919 \nL 2778 2438 \nL 4434 2438 \nL 4434 434 \nQ 4069 175 3628 42 \nQ 3188 -91 2688 -91 \nQ 1594 -91 976 548 \nQ 359 1188 359 2328 \nQ 359 3472 976 4111 \nQ 1594 4750 2688 4750 \nQ 3144 4750 3555 4637 \nQ 3966 4525 4313 4306 \nL 4313 3634 \nQ 3963 3931 3569 4081 \nQ 3175 4231 2741 4231 \nQ 1884 4231 1454 3753 \nQ 1025 3275 1025 2328 \nQ 1025 1384 1454 906 \nQ 1884 428 2741 428 \nQ 3075 428 3337 486 \nQ 3600 544 3809 666 \nz\n\" transform=\"scale(0.015625)\"/>\n      <path id=\"DejaVuSans-65\" d=\"M 3597 1894 \nL 3597 1613 \nL 953 1613 \nQ 991 1019 1311 708 \nQ 1631 397 2203 397 \nQ 2534 397 2845 478 \nQ 3156 559 3463 722 \nL 3463 178 \nQ 3153 47 2828 -22 \nQ 2503 -91 2169 -91 \nQ 1331 -91 842 396 \nQ 353 884 353 1716 \nQ 353 2575 817 3079 \nQ 1281 3584 2069 3584 \nQ 2775 3584 3186 3129 \nQ 3597 2675 3597 1894 \nz\nM 3022 2063 \nQ 3016 2534 2758 2815 \nQ 2500 3097 2075 3097 \nQ 1594 3097 1305 2825 \nQ 1016 2553 972 2059 \nL 3022 2063 \nz\n\" transform=\"scale(0.015625)\"/>\n      <path id=\"DejaVuSans-72\" d=\"M 2631 2963 \nQ 2534 3019 2420 3045 \nQ 2306 3072 2169 3072 \nQ 1681 3072 1420 2755 \nQ 1159 2438 1159 1844 \nL 1159 0 \nL 581 0 \nL 581 3500 \nL 1159 3500 \nL 1159 2956 \nQ 1341 3275 1631 3429 \nQ 1922 3584 2338 3584 \nQ 2397 3584 2469 3576 \nQ 2541 3569 2628 3553 \nL 2631 2963 \nz\n\" transform=\"scale(0.015625)\"/>\n      <path id=\"DejaVuSans-67\" d=\"M 2906 1791 \nQ 2906 2416 2648 2759 \nQ 2391 3103 1925 3103 \nQ 1463 3103 1205 2759 \nQ 947 2416 947 1791 \nQ 947 1169 1205 825 \nQ 1463 481 1925 481 \nQ 2391 481 2648 825 \nQ 2906 1169 2906 1791 \nz\nM 3481 434 \nQ 3481 -459 3084 -895 \nQ 2688 -1331 1869 -1331 \nQ 1566 -1331 1297 -1286 \nQ 1028 -1241 775 -1147 \nL 775 -588 \nQ 1028 -725 1275 -790 \nQ 1522 -856 1778 -856 \nQ 2344 -856 2625 -561 \nQ 2906 -266 2906 331 \nL 2906 616 \nQ 2728 306 2450 153 \nQ 2172 0 1784 0 \nQ 1141 0 747 490 \nQ 353 981 353 1791 \nQ 353 2603 747 3093 \nQ 1141 3584 1784 3584 \nQ 2172 3584 2450 3431 \nQ 2728 3278 2906 2969 \nL 2906 3500 \nL 3481 3500 \nL 3481 434 \nz\n\" transform=\"scale(0.015625)\"/>\n      <path id=\"DejaVuSans-28\" d=\"M 1984 4856 \nQ 1566 4138 1362 3434 \nQ 1159 2731 1159 2009 \nQ 1159 1288 1364 580 \nQ 1569 -128 1984 -844 \nL 1484 -844 \nQ 1016 -109 783 600 \nQ 550 1309 550 2009 \nQ 550 2706 781 3412 \nQ 1013 4119 1484 4856 \nL 1984 4856 \nz\n\" transform=\"scale(0.015625)\"/>\n      <path id=\"DejaVuSans-29\" d=\"M 513 4856 \nL 1013 4856 \nQ 1481 4119 1714 3412 \nQ 1947 2706 1947 2009 \nQ 1947 1309 1714 600 \nQ 1481 -109 1013 -844 \nL 513 -844 \nQ 928 -128 1133 580 \nQ 1338 1288 1338 2009 \nQ 1338 2731 1133 3434 \nQ 928 4138 513 4856 \nz\n\" transform=\"scale(0.015625)\"/>\n      <path id=\"DejaVuSans-62\" d=\"M 3116 1747 \nQ 3116 2381 2855 2742 \nQ 2594 3103 2138 3103 \nQ 1681 3103 1420 2742 \nQ 1159 2381 1159 1747 \nQ 1159 1113 1420 752 \nQ 1681 391 2138 391 \nQ 2594 391 2855 752 \nQ 3116 1113 3116 1747 \nz\nM 1159 2969 \nQ 1341 3281 1617 3432 \nQ 1894 3584 2278 3584 \nQ 2916 3584 3314 3078 \nQ 3713 2572 3713 1747 \nQ 3713 922 3314 415 \nQ 2916 -91 2278 -91 \nQ 1894 -91 1617 61 \nQ 1341 213 1159 525 \nL 1159 0 \nL 581 0 \nL 581 4863 \nL 1159 4863 \nL 1159 2969 \nz\n\" transform=\"scale(0.015625)\"/>\n      <path id=\"DejaVuSans-79\" d=\"M 2059 -325 \nQ 1816 -950 1584 -1140 \nQ 1353 -1331 966 -1331 \nL 506 -1331 \nL 506 -850 \nL 844 -850 \nQ 1081 -850 1212 -737 \nQ 1344 -625 1503 -206 \nL 1606 56 \nL 191 3500 \nL 800 3500 \nL 1894 763 \nL 2988 3500 \nL 3597 3500 \nL 2059 -325 \nz\n\" transform=\"scale(0.015625)\"/>\n      <path id=\"DejaVuSans-2f\" d=\"M 1625 4666 \nL 2156 4666 \nL 531 -594 \nL 0 -594 \nL 1625 4666 \nz\n\" transform=\"scale(0.015625)\"/>\n      <path id=\"DejaVuSans-4c\" d=\"M 628 4666 \nL 1259 4666 \nL 1259 531 \nL 3531 531 \nL 3531 0 \nL 628 0 \nL 628 4666 \nz\n\" transform=\"scale(0.015625)\"/>\n     </defs>\n     <use xlink:href=\"#DejaVuSans-50\"/>\n     <use xlink:href=\"#DejaVuSans-6f\" transform=\"translate(56.677734 0)\"/>\n     <use xlink:href=\"#DejaVuSans-70\" transform=\"translate(117.859375 0)\"/>\n     <use xlink:href=\"#DejaVuSans-75\" transform=\"translate(181.335938 0)\"/>\n     <use xlink:href=\"#DejaVuSans-6c\" transform=\"translate(244.714844 0)\"/>\n     <use xlink:href=\"#DejaVuSans-61\" transform=\"translate(272.498047 0)\"/>\n     <use xlink:href=\"#DejaVuSans-74\" transform=\"translate(333.777344 0)\"/>\n     <use xlink:href=\"#DejaVuSans-69\" transform=\"translate(372.986328 0)\"/>\n     <use xlink:href=\"#DejaVuSans-6f\" transform=\"translate(400.769531 0)\"/>\n     <use xlink:href=\"#DejaVuSans-6e\" transform=\"translate(461.951172 0)\"/>\n     <use xlink:href=\"#DejaVuSans-20\" transform=\"translate(525.330078 0)\"/>\n     <use xlink:href=\"#DejaVuSans-6f\" transform=\"translate(557.117188 0)\"/>\n     <use xlink:href=\"#DejaVuSans-66\" transform=\"translate(618.298828 0)\"/>\n     <use xlink:href=\"#DejaVuSans-20\" transform=\"translate(653.503906 0)\"/>\n     <use xlink:href=\"#DejaVuSans-47\" transform=\"translate(685.291016 0)\"/>\n     <use xlink:href=\"#DejaVuSans-65\" transform=\"translate(762.78125 0)\"/>\n     <use xlink:href=\"#DejaVuSans-6f\" transform=\"translate(824.304688 0)\"/>\n     <use xlink:href=\"#DejaVuSans-72\" transform=\"translate(885.486328 0)\"/>\n     <use xlink:href=\"#DejaVuSans-67\" transform=\"translate(924.849609 0)\"/>\n     <use xlink:href=\"#DejaVuSans-69\" transform=\"translate(988.326172 0)\"/>\n     <use xlink:href=\"#DejaVuSans-61\" transform=\"translate(1016.109375 0)\"/>\n     <use xlink:href=\"#DejaVuSans-20\" transform=\"translate(1077.388672 0)\"/>\n     <use xlink:href=\"#DejaVuSans-28\" transform=\"translate(1109.175781 0)\"/>\n     <use xlink:href=\"#DejaVuSans-73\" transform=\"translate(1148.189453 0)\"/>\n     <use xlink:href=\"#DejaVuSans-74\" transform=\"translate(1200.289062 0)\"/>\n     <use xlink:href=\"#DejaVuSans-61\" transform=\"translate(1239.498047 0)\"/>\n     <use xlink:href=\"#DejaVuSans-74\" transform=\"translate(1300.777344 0)\"/>\n     <use xlink:href=\"#DejaVuSans-65\" transform=\"translate(1339.986328 0)\"/>\n     <use xlink:href=\"#DejaVuSans-29\" transform=\"translate(1401.509766 0)\"/>\n     <use xlink:href=\"#DejaVuSans-20\" transform=\"translate(1440.523438 0)\"/>\n     <use xlink:href=\"#DejaVuSans-62\" transform=\"translate(1472.310547 0)\"/>\n     <use xlink:href=\"#DejaVuSans-79\" transform=\"translate(1535.787109 0)\"/>\n     <use xlink:href=\"#DejaVuSans-20\" transform=\"translate(1594.966797 0)\"/>\n     <use xlink:href=\"#DejaVuSans-48\" transform=\"translate(1626.753906 0)\"/>\n     <use xlink:href=\"#DejaVuSans-69\" transform=\"translate(1701.949219 0)\"/>\n     <use xlink:href=\"#DejaVuSans-73\" transform=\"translate(1729.732422 0)\"/>\n     <use xlink:href=\"#DejaVuSans-70\" transform=\"translate(1781.832031 0)\"/>\n     <use xlink:href=\"#DejaVuSans-61\" transform=\"translate(1845.308594 0)\"/>\n     <use xlink:href=\"#DejaVuSans-6e\" transform=\"translate(1906.587891 0)\"/>\n     <use xlink:href=\"#DejaVuSans-69\" transform=\"translate(1969.966797 0)\"/>\n     <use xlink:href=\"#DejaVuSans-63\" transform=\"translate(1997.75 0)\"/>\n     <use xlink:href=\"#DejaVuSans-2f\" transform=\"translate(2052.730469 0)\"/>\n     <use xlink:href=\"#DejaVuSans-4c\" transform=\"translate(2086.421875 0)\"/>\n     <use xlink:href=\"#DejaVuSans-61\" transform=\"translate(2142.134766 0)\"/>\n     <use xlink:href=\"#DejaVuSans-74\" transform=\"translate(2203.414062 0)\"/>\n     <use xlink:href=\"#DejaVuSans-69\" transform=\"translate(2242.623047 0)\"/>\n     <use xlink:href=\"#DejaVuSans-6e\" transform=\"translate(2270.40625 0)\"/>\n     <use xlink:href=\"#DejaVuSans-6f\" transform=\"translate(2333.785156 0)\"/>\n     <use xlink:href=\"#DejaVuSans-20\" transform=\"translate(2394.966797 0)\"/>\n     <use xlink:href=\"#DejaVuSans-6f\" transform=\"translate(2426.753906 0)\"/>\n     <use xlink:href=\"#DejaVuSans-72\" transform=\"translate(2487.935547 0)\"/>\n     <use xlink:href=\"#DejaVuSans-69\" transform=\"translate(2529.048828 0)\"/>\n     <use xlink:href=\"#DejaVuSans-67\" transform=\"translate(2556.832031 0)\"/>\n     <use xlink:href=\"#DejaVuSans-69\" transform=\"translate(2620.308594 0)\"/>\n     <use xlink:href=\"#DejaVuSans-6e\" transform=\"translate(2648.091797 0)\"/>\n    </g>\n   </g>\n  </g>\n </g>\n</svg>\n"
          },
          "metadata": {}
        }
      ],
      "source": [
        "ax = race_ethnicity_df[[\"nh_total\", \"h_total\"]].rename(\n",
        "    columns={\"nh_total\": \"non-Hispanic\", \"h_total\": \"Hispanic\"}\n",
        ").sum(axis=0).plot.pie(figsize=(6, 6), autopct=\"%1.1f%%\")\n",
        "ax.set_ylabel(\"\")\n",
        "ax.set_title(f\"Population of {state} (state) by Hispanic/Latino origin\")\n",
        "\n",
        "plt.savefig(\"nh_population.png\", bbox_inches='tight')\n",
        "# plt.savefig(\"users/ashleykwarteng/Desktop/nh_population.png\", bbox_inches='tight')\n",
        "plt.show()"
      ]
    },
    {
      "cell_type": "code",
      "execution_count": 114,
      "id": "bf057120-4fa1-48a4-8323-4c1105b7f909",
      "metadata": {
        "id": "bf057120-4fa1-48a4-8323-4c1105b7f909",
        "outputId": "d35c095d-04e4-4326-d64c-06cd316f9deb",
        "colab": {
          "base_uri": "https://localhost:8080/",
          "height": 526
        }
      },
      "outputs": [
        {
          "output_type": "display_data",
          "data": {
            "text/plain": [
              "<Figure size 600x600 with 1 Axes>"
            ],
            "image/svg+xml": "<?xml version=\"1.0\" encoding=\"utf-8\" standalone=\"no\"?>\n<!DOCTYPE svg PUBLIC \"-//W3C//DTD SVG 1.1//EN\"\n  \"http://www.w3.org/Graphics/SVG/1.1/DTD/svg11.dtd\">\n<svg xmlns:xlink=\"http://www.w3.org/1999/xlink\" width=\"388.0125pt\" height=\"378.83625pt\" viewBox=\"0 0 388.0125 378.83625\" xmlns=\"http://www.w3.org/2000/svg\" version=\"1.1\">\n <metadata>\n  <rdf:RDF xmlns:dc=\"http://purl.org/dc/elements/1.1/\" xmlns:cc=\"http://creativecommons.org/ns#\" xmlns:rdf=\"http://www.w3.org/1999/02/22-rdf-syntax-ns#\">\n   <cc:Work>\n    <dc:type rdf:resource=\"http://purl.org/dc/dcmitype/StillImage\"/>\n    <dc:date>2025-02-06T04:25:37.599642</dc:date>\n    <dc:format>image/svg+xml</dc:format>\n    <dc:creator>\n     <cc:Agent>\n      <dc:title>Matplotlib v3.10.0, https://matplotlib.org/</dc:title>\n     </cc:Agent>\n    </dc:creator>\n   </cc:Work>\n  </rdf:RDF>\n </metadata>\n <defs>\n  <style type=\"text/css\">*{stroke-linejoin: round; stroke-linecap: butt}</style>\n </defs>\n <g id=\"figure_1\">\n  <g id=\"patch_1\">\n   <path d=\"M 0 378.83625 \nL 388.0125 378.83625 \nL 388.0125 0 \nL 0 0 \nz\n\" style=\"fill: #ffffff\"/>\n  </g>\n  <g id=\"axes_1\">\n   <g id=\"patch_2\">\n    <path d=\"M 46.0125 354.958125 \nL 380.8125 354.958125 \nL 380.8125 22.318125 \nL 46.0125 22.318125 \nz\n\" style=\"fill: #ffffff\"/>\n   </g>\n   <g id=\"patch_3\">\n    <path d=\"M 57.969643 354.958125 \nL 81.883929 354.958125 \nL 81.883929 38.158125 \nL 57.969643 38.158125 \nz\n\" clip-path=\"url(#pdc46c2fde7)\" style=\"fill: #1f77b4\"/>\n   </g>\n   <g id=\"patch_4\">\n    <path d=\"M 105.798214 354.958125 \nL 129.7125 354.958125 \nL 129.7125 47.180577 \nL 105.798214 47.180577 \nz\n\" clip-path=\"url(#pdc46c2fde7)\" style=\"fill: #1f77b4\"/>\n   </g>\n   <g id=\"patch_5\">\n    <path d=\"M 153.626786 354.958125 \nL 177.541071 354.958125 \nL 177.541071 221.898489 \nL 153.626786 221.898489 \nz\n\" clip-path=\"url(#pdc46c2fde7)\" style=\"fill: #1f77b4\"/>\n   </g>\n   <g id=\"patch_6\">\n    <path d=\"M 201.455357 354.958125 \nL 225.369643 354.958125 \nL 225.369643 306.822436 \nL 201.455357 306.822436 \nz\n\" clip-path=\"url(#pdc46c2fde7)\" style=\"fill: #1f77b4\"/>\n   </g>\n   <g id=\"patch_7\">\n    <path d=\"M 249.283929 354.958125 \nL 273.198214 354.958125 \nL 273.198214 338.721539 \nL 249.283929 338.721539 \nz\n\" clip-path=\"url(#pdc46c2fde7)\" style=\"fill: #1f77b4\"/>\n   </g>\n   <g id=\"patch_8\">\n    <path d=\"M 297.1125 354.958125 \nL 321.026786 354.958125 \nL 321.026786 351.925127 \nL 297.1125 351.925127 \nz\n\" clip-path=\"url(#pdc46c2fde7)\" style=\"fill: #1f77b4\"/>\n   </g>\n   <g id=\"patch_9\">\n    <path d=\"M 344.941071 354.958125 \nL 368.855357 354.958125 \nL 368.855357 354.27881 \nL 344.941071 354.27881 \nz\n\" clip-path=\"url(#pdc46c2fde7)\" style=\"fill: #1f77b4\"/>\n   </g>\n   <g id=\"matplotlib.axis_1\">\n    <g id=\"xtick_1\">\n     <g id=\"line2d_1\">\n      <defs>\n       <path id=\"mb3cd6d9065\" d=\"M 0 0 \nL 0 3.5 \n\" style=\"stroke: #000000; stroke-width: 0.8\"/>\n      </defs>\n      <g>\n       <use xlink:href=\"#mb3cd6d9065\" x=\"69.926786\" y=\"354.958125\" style=\"stroke: #000000; stroke-width: 0.8\"/>\n      </g>\n     </g>\n     <g id=\"text_1\">\n      <!-- Multi -->\n      <g transform=\"translate(57.705692 369.556562) scale(0.1 -0.1)\">\n       <defs>\n        <path id=\"DejaVuSans-4d\" d=\"M 628 4666 \nL 1569 4666 \nL 2759 1491 \nL 3956 4666 \nL 4897 4666 \nL 4897 0 \nL 4281 0 \nL 4281 4097 \nL 3078 897 \nL 2444 897 \nL 1241 4097 \nL 1241 0 \nL 628 0 \nL 628 4666 \nz\n\" transform=\"scale(0.015625)\"/>\n        <path id=\"DejaVuSans-75\" d=\"M 544 1381 \nL 544 3500 \nL 1119 3500 \nL 1119 1403 \nQ 1119 906 1312 657 \nQ 1506 409 1894 409 \nQ 2359 409 2629 706 \nQ 2900 1003 2900 1516 \nL 2900 3500 \nL 3475 3500 \nL 3475 0 \nL 2900 0 \nL 2900 538 \nQ 2691 219 2414 64 \nQ 2138 -91 1772 -91 \nQ 1169 -91 856 284 \nQ 544 659 544 1381 \nz\nM 1991 3584 \nL 1991 3584 \nz\n\" transform=\"scale(0.015625)\"/>\n        <path id=\"DejaVuSans-6c\" d=\"M 603 4863 \nL 1178 4863 \nL 1178 0 \nL 603 0 \nL 603 4863 \nz\n\" transform=\"scale(0.015625)\"/>\n        <path id=\"DejaVuSans-74\" d=\"M 1172 4494 \nL 1172 3500 \nL 2356 3500 \nL 2356 3053 \nL 1172 3053 \nL 1172 1153 \nQ 1172 725 1289 603 \nQ 1406 481 1766 481 \nL 2356 481 \nL 2356 0 \nL 1766 0 \nQ 1100 0 847 248 \nQ 594 497 594 1153 \nL 594 3053 \nL 172 3053 \nL 172 3500 \nL 594 3500 \nL 594 4494 \nL 1172 4494 \nz\n\" transform=\"scale(0.015625)\"/>\n        <path id=\"DejaVuSans-69\" d=\"M 603 3500 \nL 1178 3500 \nL 1178 0 \nL 603 0 \nL 603 3500 \nz\nM 603 4863 \nL 1178 4863 \nL 1178 4134 \nL 603 4134 \nL 603 4863 \nz\n\" transform=\"scale(0.015625)\"/>\n       </defs>\n       <use xlink:href=\"#DejaVuSans-4d\"/>\n       <use xlink:href=\"#DejaVuSans-75\" transform=\"translate(86.279297 0)\"/>\n       <use xlink:href=\"#DejaVuSans-6c\" transform=\"translate(149.658203 0)\"/>\n       <use xlink:href=\"#DejaVuSans-74\" transform=\"translate(177.441406 0)\"/>\n       <use xlink:href=\"#DejaVuSans-69\" transform=\"translate(216.650391 0)\"/>\n      </g>\n     </g>\n    </g>\n    <g id=\"xtick_2\">\n     <g id=\"line2d_2\">\n      <g>\n       <use xlink:href=\"#mb3cd6d9065\" x=\"117.755357\" y=\"354.958125\" style=\"stroke: #000000; stroke-width: 0.8\"/>\n      </g>\n     </g>\n     <g id=\"text_2\">\n      <!-- SomeOther -->\n      <g transform=\"translate(89.378013 369.556562) scale(0.1 -0.1)\">\n       <defs>\n        <path id=\"DejaVuSans-53\" d=\"M 3425 4513 \nL 3425 3897 \nQ 3066 4069 2747 4153 \nQ 2428 4238 2131 4238 \nQ 1616 4238 1336 4038 \nQ 1056 3838 1056 3469 \nQ 1056 3159 1242 3001 \nQ 1428 2844 1947 2747 \nL 2328 2669 \nQ 3034 2534 3370 2195 \nQ 3706 1856 3706 1288 \nQ 3706 609 3251 259 \nQ 2797 -91 1919 -91 \nQ 1588 -91 1214 -16 \nQ 841 59 441 206 \nL 441 856 \nQ 825 641 1194 531 \nQ 1563 422 1919 422 \nQ 2459 422 2753 634 \nQ 3047 847 3047 1241 \nQ 3047 1584 2836 1778 \nQ 2625 1972 2144 2069 \nL 1759 2144 \nQ 1053 2284 737 2584 \nQ 422 2884 422 3419 \nQ 422 4038 858 4394 \nQ 1294 4750 2059 4750 \nQ 2388 4750 2728 4690 \nQ 3069 4631 3425 4513 \nz\n\" transform=\"scale(0.015625)\"/>\n        <path id=\"DejaVuSans-6f\" d=\"M 1959 3097 \nQ 1497 3097 1228 2736 \nQ 959 2375 959 1747 \nQ 959 1119 1226 758 \nQ 1494 397 1959 397 \nQ 2419 397 2687 759 \nQ 2956 1122 2956 1747 \nQ 2956 2369 2687 2733 \nQ 2419 3097 1959 3097 \nz\nM 1959 3584 \nQ 2709 3584 3137 3096 \nQ 3566 2609 3566 1747 \nQ 3566 888 3137 398 \nQ 2709 -91 1959 -91 \nQ 1206 -91 779 398 \nQ 353 888 353 1747 \nQ 353 2609 779 3096 \nQ 1206 3584 1959 3584 \nz\n\" transform=\"scale(0.015625)\"/>\n        <path id=\"DejaVuSans-6d\" d=\"M 3328 2828 \nQ 3544 3216 3844 3400 \nQ 4144 3584 4550 3584 \nQ 5097 3584 5394 3201 \nQ 5691 2819 5691 2113 \nL 5691 0 \nL 5113 0 \nL 5113 2094 \nQ 5113 2597 4934 2840 \nQ 4756 3084 4391 3084 \nQ 3944 3084 3684 2787 \nQ 3425 2491 3425 1978 \nL 3425 0 \nL 2847 0 \nL 2847 2094 \nQ 2847 2600 2669 2842 \nQ 2491 3084 2119 3084 \nQ 1678 3084 1418 2786 \nQ 1159 2488 1159 1978 \nL 1159 0 \nL 581 0 \nL 581 3500 \nL 1159 3500 \nL 1159 2956 \nQ 1356 3278 1631 3431 \nQ 1906 3584 2284 3584 \nQ 2666 3584 2933 3390 \nQ 3200 3197 3328 2828 \nz\n\" transform=\"scale(0.015625)\"/>\n        <path id=\"DejaVuSans-65\" d=\"M 3597 1894 \nL 3597 1613 \nL 953 1613 \nQ 991 1019 1311 708 \nQ 1631 397 2203 397 \nQ 2534 397 2845 478 \nQ 3156 559 3463 722 \nL 3463 178 \nQ 3153 47 2828 -22 \nQ 2503 -91 2169 -91 \nQ 1331 -91 842 396 \nQ 353 884 353 1716 \nQ 353 2575 817 3079 \nQ 1281 3584 2069 3584 \nQ 2775 3584 3186 3129 \nQ 3597 2675 3597 1894 \nz\nM 3022 2063 \nQ 3016 2534 2758 2815 \nQ 2500 3097 2075 3097 \nQ 1594 3097 1305 2825 \nQ 1016 2553 972 2059 \nL 3022 2063 \nz\n\" transform=\"scale(0.015625)\"/>\n        <path id=\"DejaVuSans-4f\" d=\"M 2522 4238 \nQ 1834 4238 1429 3725 \nQ 1025 3213 1025 2328 \nQ 1025 1447 1429 934 \nQ 1834 422 2522 422 \nQ 3209 422 3611 934 \nQ 4013 1447 4013 2328 \nQ 4013 3213 3611 3725 \nQ 3209 4238 2522 4238 \nz\nM 2522 4750 \nQ 3503 4750 4090 4092 \nQ 4678 3434 4678 2328 \nQ 4678 1225 4090 567 \nQ 3503 -91 2522 -91 \nQ 1538 -91 948 565 \nQ 359 1222 359 2328 \nQ 359 3434 948 4092 \nQ 1538 4750 2522 4750 \nz\n\" transform=\"scale(0.015625)\"/>\n        <path id=\"DejaVuSans-68\" d=\"M 3513 2113 \nL 3513 0 \nL 2938 0 \nL 2938 2094 \nQ 2938 2591 2744 2837 \nQ 2550 3084 2163 3084 \nQ 1697 3084 1428 2787 \nQ 1159 2491 1159 1978 \nL 1159 0 \nL 581 0 \nL 581 4863 \nL 1159 4863 \nL 1159 2956 \nQ 1366 3272 1645 3428 \nQ 1925 3584 2291 3584 \nQ 2894 3584 3203 3211 \nQ 3513 2838 3513 2113 \nz\n\" transform=\"scale(0.015625)\"/>\n        <path id=\"DejaVuSans-72\" d=\"M 2631 2963 \nQ 2534 3019 2420 3045 \nQ 2306 3072 2169 3072 \nQ 1681 3072 1420 2755 \nQ 1159 2438 1159 1844 \nL 1159 0 \nL 581 0 \nL 581 3500 \nL 1159 3500 \nL 1159 2956 \nQ 1341 3275 1631 3429 \nQ 1922 3584 2338 3584 \nQ 2397 3584 2469 3576 \nQ 2541 3569 2628 3553 \nL 2631 2963 \nz\n\" transform=\"scale(0.015625)\"/>\n       </defs>\n       <use xlink:href=\"#DejaVuSans-53\"/>\n       <use xlink:href=\"#DejaVuSans-6f\" transform=\"translate(63.476562 0)\"/>\n       <use xlink:href=\"#DejaVuSans-6d\" transform=\"translate(124.658203 0)\"/>\n       <use xlink:href=\"#DejaVuSans-65\" transform=\"translate(222.070312 0)\"/>\n       <use xlink:href=\"#DejaVuSans-4f\" transform=\"translate(283.59375 0)\"/>\n       <use xlink:href=\"#DejaVuSans-74\" transform=\"translate(362.304688 0)\"/>\n       <use xlink:href=\"#DejaVuSans-68\" transform=\"translate(401.513672 0)\"/>\n       <use xlink:href=\"#DejaVuSans-65\" transform=\"translate(464.892578 0)\"/>\n       <use xlink:href=\"#DejaVuSans-72\" transform=\"translate(526.416016 0)\"/>\n      </g>\n     </g>\n    </g>\n    <g id=\"xtick_3\">\n     <g id=\"line2d_3\">\n      <g>\n       <use xlink:href=\"#mb3cd6d9065\" x=\"165.583929\" y=\"354.958125\" style=\"stroke: #000000; stroke-width: 0.8\"/>\n      </g>\n     </g>\n     <g id=\"text_3\">\n      <!-- White -->\n      <g transform=\"translate(151.045647 369.556562) scale(0.1 -0.1)\">\n       <defs>\n        <path id=\"DejaVuSans-57\" d=\"M 213 4666 \nL 850 4666 \nL 1831 722 \nL 2809 4666 \nL 3519 4666 \nL 4500 722 \nL 5478 4666 \nL 6119 4666 \nL 4947 0 \nL 4153 0 \nL 3169 4050 \nL 2175 0 \nL 1381 0 \nL 213 4666 \nz\n\" transform=\"scale(0.015625)\"/>\n       </defs>\n       <use xlink:href=\"#DejaVuSans-57\"/>\n       <use xlink:href=\"#DejaVuSans-68\" transform=\"translate(98.876953 0)\"/>\n       <use xlink:href=\"#DejaVuSans-69\" transform=\"translate(162.255859 0)\"/>\n       <use xlink:href=\"#DejaVuSans-74\" transform=\"translate(190.039062 0)\"/>\n       <use xlink:href=\"#DejaVuSans-65\" transform=\"translate(229.248047 0)\"/>\n      </g>\n     </g>\n    </g>\n    <g id=\"xtick_4\">\n     <g id=\"line2d_4\">\n      <g>\n       <use xlink:href=\"#mb3cd6d9065\" x=\"213.4125\" y=\"354.958125\" style=\"stroke: #000000; stroke-width: 0.8\"/>\n      </g>\n     </g>\n     <g id=\"text_4\">\n      <!-- Black -->\n      <g transform=\"translate(199.884375 369.556562) scale(0.1 -0.1)\">\n       <defs>\n        <path id=\"DejaVuSans-42\" d=\"M 1259 2228 \nL 1259 519 \nL 2272 519 \nQ 2781 519 3026 730 \nQ 3272 941 3272 1375 \nQ 3272 1813 3026 2020 \nQ 2781 2228 2272 2228 \nL 1259 2228 \nz\nM 1259 4147 \nL 1259 2741 \nL 2194 2741 \nQ 2656 2741 2882 2914 \nQ 3109 3088 3109 3444 \nQ 3109 3797 2882 3972 \nQ 2656 4147 2194 4147 \nL 1259 4147 \nz\nM 628 4666 \nL 2241 4666 \nQ 2963 4666 3353 4366 \nQ 3744 4066 3744 3513 \nQ 3744 3084 3544 2831 \nQ 3344 2578 2956 2516 \nQ 3422 2416 3680 2098 \nQ 3938 1781 3938 1306 \nQ 3938 681 3513 340 \nQ 3088 0 2303 0 \nL 628 0 \nL 628 4666 \nz\n\" transform=\"scale(0.015625)\"/>\n        <path id=\"DejaVuSans-61\" d=\"M 2194 1759 \nQ 1497 1759 1228 1600 \nQ 959 1441 959 1056 \nQ 959 750 1161 570 \nQ 1363 391 1709 391 \nQ 2188 391 2477 730 \nQ 2766 1069 2766 1631 \nL 2766 1759 \nL 2194 1759 \nz\nM 3341 1997 \nL 3341 0 \nL 2766 0 \nL 2766 531 \nQ 2569 213 2275 61 \nQ 1981 -91 1556 -91 \nQ 1019 -91 701 211 \nQ 384 513 384 1019 \nQ 384 1609 779 1909 \nQ 1175 2209 1959 2209 \nL 2766 2209 \nL 2766 2266 \nQ 2766 2663 2505 2880 \nQ 2244 3097 1772 3097 \nQ 1472 3097 1187 3025 \nQ 903 2953 641 2809 \nL 641 3341 \nQ 956 3463 1253 3523 \nQ 1550 3584 1831 3584 \nQ 2591 3584 2966 3190 \nQ 3341 2797 3341 1997 \nz\n\" transform=\"scale(0.015625)\"/>\n        <path id=\"DejaVuSans-63\" d=\"M 3122 3366 \nL 3122 2828 \nQ 2878 2963 2633 3030 \nQ 2388 3097 2138 3097 \nQ 1578 3097 1268 2742 \nQ 959 2388 959 1747 \nQ 959 1106 1268 751 \nQ 1578 397 2138 397 \nQ 2388 397 2633 464 \nQ 2878 531 3122 666 \nL 3122 134 \nQ 2881 22 2623 -34 \nQ 2366 -91 2075 -91 \nQ 1284 -91 818 406 \nQ 353 903 353 1747 \nQ 353 2603 823 3093 \nQ 1294 3584 2113 3584 \nQ 2378 3584 2631 3529 \nQ 2884 3475 3122 3366 \nz\n\" transform=\"scale(0.015625)\"/>\n        <path id=\"DejaVuSans-6b\" d=\"M 581 4863 \nL 1159 4863 \nL 1159 1991 \nL 2875 3500 \nL 3609 3500 \nL 1753 1863 \nL 3688 0 \nL 2938 0 \nL 1159 1709 \nL 1159 0 \nL 581 0 \nL 581 4863 \nz\n\" transform=\"scale(0.015625)\"/>\n       </defs>\n       <use xlink:href=\"#DejaVuSans-42\"/>\n       <use xlink:href=\"#DejaVuSans-6c\" transform=\"translate(68.603516 0)\"/>\n       <use xlink:href=\"#DejaVuSans-61\" transform=\"translate(96.386719 0)\"/>\n       <use xlink:href=\"#DejaVuSans-63\" transform=\"translate(157.666016 0)\"/>\n       <use xlink:href=\"#DejaVuSans-6b\" transform=\"translate(212.646484 0)\"/>\n      </g>\n     </g>\n    </g>\n    <g id=\"xtick_5\">\n     <g id=\"line2d_5\">\n      <g>\n       <use xlink:href=\"#mb3cd6d9065\" x=\"261.241071\" y=\"354.958125\" style=\"stroke: #000000; stroke-width: 0.8\"/>\n      </g>\n     </g>\n     <g id=\"text_5\">\n      <!-- AMIN -->\n      <g transform=\"translate(248.291071 369.556562) scale(0.1 -0.1)\">\n       <defs>\n        <path id=\"DejaVuSans-41\" d=\"M 2188 4044 \nL 1331 1722 \nL 3047 1722 \nL 2188 4044 \nz\nM 1831 4666 \nL 2547 4666 \nL 4325 0 \nL 3669 0 \nL 3244 1197 \nL 1141 1197 \nL 716 0 \nL 50 0 \nL 1831 4666 \nz\n\" transform=\"scale(0.015625)\"/>\n        <path id=\"DejaVuSans-49\" d=\"M 628 4666 \nL 1259 4666 \nL 1259 0 \nL 628 0 \nL 628 4666 \nz\n\" transform=\"scale(0.015625)\"/>\n        <path id=\"DejaVuSans-4e\" d=\"M 628 4666 \nL 1478 4666 \nL 3547 763 \nL 3547 4666 \nL 4159 4666 \nL 4159 0 \nL 3309 0 \nL 1241 3903 \nL 1241 0 \nL 628 0 \nL 628 4666 \nz\n\" transform=\"scale(0.015625)\"/>\n       </defs>\n       <use xlink:href=\"#DejaVuSans-41\"/>\n       <use xlink:href=\"#DejaVuSans-4d\" transform=\"translate(68.408203 0)\"/>\n       <use xlink:href=\"#DejaVuSans-49\" transform=\"translate(154.6875 0)\"/>\n       <use xlink:href=\"#DejaVuSans-4e\" transform=\"translate(184.179688 0)\"/>\n      </g>\n     </g>\n    </g>\n    <g id=\"xtick_6\">\n     <g id=\"line2d_6\">\n      <g>\n       <use xlink:href=\"#mb3cd6d9065\" x=\"309.069643\" y=\"354.958125\" style=\"stroke: #000000; stroke-width: 0.8\"/>\n      </g>\n     </g>\n     <g id=\"text_6\">\n      <!-- Asian -->\n      <g transform=\"translate(295.422768 369.556562) scale(0.1 -0.1)\">\n       <defs>\n        <path id=\"DejaVuSans-73\" d=\"M 2834 3397 \nL 2834 2853 \nQ 2591 2978 2328 3040 \nQ 2066 3103 1784 3103 \nQ 1356 3103 1142 2972 \nQ 928 2841 928 2578 \nQ 928 2378 1081 2264 \nQ 1234 2150 1697 2047 \nL 1894 2003 \nQ 2506 1872 2764 1633 \nQ 3022 1394 3022 966 \nQ 3022 478 2636 193 \nQ 2250 -91 1575 -91 \nQ 1294 -91 989 -36 \nQ 684 19 347 128 \nL 347 722 \nQ 666 556 975 473 \nQ 1284 391 1588 391 \nQ 1994 391 2212 530 \nQ 2431 669 2431 922 \nQ 2431 1156 2273 1281 \nQ 2116 1406 1581 1522 \nL 1381 1569 \nQ 847 1681 609 1914 \nQ 372 2147 372 2553 \nQ 372 3047 722 3315 \nQ 1072 3584 1716 3584 \nQ 2034 3584 2315 3537 \nQ 2597 3491 2834 3397 \nz\n\" transform=\"scale(0.015625)\"/>\n        <path id=\"DejaVuSans-6e\" d=\"M 3513 2113 \nL 3513 0 \nL 2938 0 \nL 2938 2094 \nQ 2938 2591 2744 2837 \nQ 2550 3084 2163 3084 \nQ 1697 3084 1428 2787 \nQ 1159 2491 1159 1978 \nL 1159 0 \nL 581 0 \nL 581 3500 \nL 1159 3500 \nL 1159 2956 \nQ 1366 3272 1645 3428 \nQ 1925 3584 2291 3584 \nQ 2894 3584 3203 3211 \nQ 3513 2838 3513 2113 \nz\n\" transform=\"scale(0.015625)\"/>\n       </defs>\n       <use xlink:href=\"#DejaVuSans-41\"/>\n       <use xlink:href=\"#DejaVuSans-73\" transform=\"translate(68.408203 0)\"/>\n       <use xlink:href=\"#DejaVuSans-69\" transform=\"translate(120.507812 0)\"/>\n       <use xlink:href=\"#DejaVuSans-61\" transform=\"translate(148.291016 0)\"/>\n       <use xlink:href=\"#DejaVuSans-6e\" transform=\"translate(209.570312 0)\"/>\n      </g>\n     </g>\n    </g>\n    <g id=\"xtick_7\">\n     <g id=\"line2d_7\">\n      <g>\n       <use xlink:href=\"#mb3cd6d9065\" x=\"356.898214\" y=\"354.958125\" style=\"stroke: #000000; stroke-width: 0.8\"/>\n      </g>\n     </g>\n     <g id=\"text_7\">\n      <!-- NHPI -->\n      <g transform=\"translate(344.907589 369.556562) scale(0.1 -0.1)\">\n       <defs>\n        <path id=\"DejaVuSans-48\" d=\"M 628 4666 \nL 1259 4666 \nL 1259 2753 \nL 3553 2753 \nL 3553 4666 \nL 4184 4666 \nL 4184 0 \nL 3553 0 \nL 3553 2222 \nL 1259 2222 \nL 1259 0 \nL 628 0 \nL 628 4666 \nz\n\" transform=\"scale(0.015625)\"/>\n        <path id=\"DejaVuSans-50\" d=\"M 1259 4147 \nL 1259 2394 \nL 2053 2394 \nQ 2494 2394 2734 2622 \nQ 2975 2850 2975 3272 \nQ 2975 3691 2734 3919 \nQ 2494 4147 2053 4147 \nL 1259 4147 \nz\nM 628 4666 \nL 2053 4666 \nQ 2838 4666 3239 4311 \nQ 3641 3956 3641 3272 \nQ 3641 2581 3239 2228 \nQ 2838 1875 2053 1875 \nL 1259 1875 \nL 1259 0 \nL 628 0 \nL 628 4666 \nz\n\" transform=\"scale(0.015625)\"/>\n       </defs>\n       <use xlink:href=\"#DejaVuSans-4e\"/>\n       <use xlink:href=\"#DejaVuSans-48\" transform=\"translate(74.804688 0)\"/>\n       <use xlink:href=\"#DejaVuSans-50\" transform=\"translate(150 0)\"/>\n       <use xlink:href=\"#DejaVuSans-49\" transform=\"translate(210.302734 0)\"/>\n      </g>\n     </g>\n    </g>\n   </g>\n   <g id=\"matplotlib.axis_2\">\n    <g id=\"ytick_1\">\n     <g id=\"line2d_8\">\n      <defs>\n       <path id=\"m4b1e204ce4\" d=\"M 0 0 \nL -3.5 0 \n\" style=\"stroke: #000000; stroke-width: 0.8\"/>\n      </defs>\n      <g>\n       <use xlink:href=\"#m4b1e204ce4\" x=\"46.0125\" y=\"354.958125\" style=\"stroke: #000000; stroke-width: 0.8\"/>\n      </g>\n     </g>\n     <g id=\"text_8\">\n      <!-- 0 -->\n      <g transform=\"translate(32.65 358.757344) scale(0.1 -0.1)\">\n       <defs>\n        <path id=\"DejaVuSans-30\" d=\"M 2034 4250 \nQ 1547 4250 1301 3770 \nQ 1056 3291 1056 2328 \nQ 1056 1369 1301 889 \nQ 1547 409 2034 409 \nQ 2525 409 2770 889 \nQ 3016 1369 3016 2328 \nQ 3016 3291 2770 3770 \nQ 2525 4250 2034 4250 \nz\nM 2034 4750 \nQ 2819 4750 3233 4129 \nQ 3647 3509 3647 2328 \nQ 3647 1150 3233 529 \nQ 2819 -91 2034 -91 \nQ 1250 -91 836 529 \nQ 422 1150 422 2328 \nQ 422 3509 836 4129 \nQ 1250 4750 2034 4750 \nz\n\" transform=\"scale(0.015625)\"/>\n       </defs>\n       <use xlink:href=\"#DejaVuSans-30\"/>\n      </g>\n     </g>\n    </g>\n    <g id=\"ytick_2\">\n     <g id=\"line2d_9\">\n      <g>\n       <use xlink:href=\"#m4b1e204ce4\" x=\"46.0125\" y=\"307.119038\" style=\"stroke: #000000; stroke-width: 0.8\"/>\n      </g>\n     </g>\n     <g id=\"text_9\">\n      <!-- 5000 -->\n      <g transform=\"translate(13.5625 310.918257) scale(0.1 -0.1)\">\n       <defs>\n        <path id=\"DejaVuSans-35\" d=\"M 691 4666 \nL 3169 4666 \nL 3169 4134 \nL 1269 4134 \nL 1269 2991 \nQ 1406 3038 1543 3061 \nQ 1681 3084 1819 3084 \nQ 2600 3084 3056 2656 \nQ 3513 2228 3513 1497 \nQ 3513 744 3044 326 \nQ 2575 -91 1722 -91 \nQ 1428 -91 1123 -41 \nQ 819 9 494 109 \nL 494 744 \nQ 775 591 1075 516 \nQ 1375 441 1709 441 \nQ 2250 441 2565 725 \nQ 2881 1009 2881 1497 \nQ 2881 1984 2565 2268 \nQ 2250 2553 1709 2553 \nQ 1456 2553 1204 2497 \nQ 953 2441 691 2322 \nL 691 4666 \nz\n\" transform=\"scale(0.015625)\"/>\n       </defs>\n       <use xlink:href=\"#DejaVuSans-35\"/>\n       <use xlink:href=\"#DejaVuSans-30\" transform=\"translate(63.623047 0)\"/>\n       <use xlink:href=\"#DejaVuSans-30\" transform=\"translate(127.246094 0)\"/>\n       <use xlink:href=\"#DejaVuSans-30\" transform=\"translate(190.869141 0)\"/>\n      </g>\n     </g>\n    </g>\n    <g id=\"ytick_3\">\n     <g id=\"line2d_10\">\n      <g>\n       <use xlink:href=\"#m4b1e204ce4\" x=\"46.0125\" y=\"259.279952\" style=\"stroke: #000000; stroke-width: 0.8\"/>\n      </g>\n     </g>\n     <g id=\"text_10\">\n      <!-- 10000 -->\n      <g transform=\"translate(7.2 263.07917) scale(0.1 -0.1)\">\n       <defs>\n        <path id=\"DejaVuSans-31\" d=\"M 794 531 \nL 1825 531 \nL 1825 4091 \nL 703 3866 \nL 703 4441 \nL 1819 4666 \nL 2450 4666 \nL 2450 531 \nL 3481 531 \nL 3481 0 \nL 794 0 \nL 794 531 \nz\n\" transform=\"scale(0.015625)\"/>\n       </defs>\n       <use xlink:href=\"#DejaVuSans-31\"/>\n       <use xlink:href=\"#DejaVuSans-30\" transform=\"translate(63.623047 0)\"/>\n       <use xlink:href=\"#DejaVuSans-30\" transform=\"translate(127.246094 0)\"/>\n       <use xlink:href=\"#DejaVuSans-30\" transform=\"translate(190.869141 0)\"/>\n       <use xlink:href=\"#DejaVuSans-30\" transform=\"translate(254.492188 0)\"/>\n      </g>\n     </g>\n    </g>\n    <g id=\"ytick_4\">\n     <g id=\"line2d_11\">\n      <g>\n       <use xlink:href=\"#m4b1e204ce4\" x=\"46.0125\" y=\"211.440865\" style=\"stroke: #000000; stroke-width: 0.8\"/>\n      </g>\n     </g>\n     <g id=\"text_11\">\n      <!-- 15000 -->\n      <g transform=\"translate(7.2 215.240084) scale(0.1 -0.1)\">\n       <use xlink:href=\"#DejaVuSans-31\"/>\n       <use xlink:href=\"#DejaVuSans-35\" transform=\"translate(63.623047 0)\"/>\n       <use xlink:href=\"#DejaVuSans-30\" transform=\"translate(127.246094 0)\"/>\n       <use xlink:href=\"#DejaVuSans-30\" transform=\"translate(190.869141 0)\"/>\n       <use xlink:href=\"#DejaVuSans-30\" transform=\"translate(254.492188 0)\"/>\n      </g>\n     </g>\n    </g>\n    <g id=\"ytick_5\">\n     <g id=\"line2d_12\">\n      <g>\n       <use xlink:href=\"#m4b1e204ce4\" x=\"46.0125\" y=\"163.601778\" style=\"stroke: #000000; stroke-width: 0.8\"/>\n      </g>\n     </g>\n     <g id=\"text_12\">\n      <!-- 20000 -->\n      <g transform=\"translate(7.2 167.400997) scale(0.1 -0.1)\">\n       <defs>\n        <path id=\"DejaVuSans-32\" d=\"M 1228 531 \nL 3431 531 \nL 3431 0 \nL 469 0 \nL 469 531 \nQ 828 903 1448 1529 \nQ 2069 2156 2228 2338 \nQ 2531 2678 2651 2914 \nQ 2772 3150 2772 3378 \nQ 2772 3750 2511 3984 \nQ 2250 4219 1831 4219 \nQ 1534 4219 1204 4116 \nQ 875 4013 500 3803 \nL 500 4441 \nQ 881 4594 1212 4672 \nQ 1544 4750 1819 4750 \nQ 2544 4750 2975 4387 \nQ 3406 4025 3406 3419 \nQ 3406 3131 3298 2873 \nQ 3191 2616 2906 2266 \nQ 2828 2175 2409 1742 \nQ 1991 1309 1228 531 \nz\n\" transform=\"scale(0.015625)\"/>\n       </defs>\n       <use xlink:href=\"#DejaVuSans-32\"/>\n       <use xlink:href=\"#DejaVuSans-30\" transform=\"translate(63.623047 0)\"/>\n       <use xlink:href=\"#DejaVuSans-30\" transform=\"translate(127.246094 0)\"/>\n       <use xlink:href=\"#DejaVuSans-30\" transform=\"translate(190.869141 0)\"/>\n       <use xlink:href=\"#DejaVuSans-30\" transform=\"translate(254.492188 0)\"/>\n      </g>\n     </g>\n    </g>\n    <g id=\"ytick_6\">\n     <g id=\"line2d_13\">\n      <g>\n       <use xlink:href=\"#m4b1e204ce4\" x=\"46.0125\" y=\"115.762691\" style=\"stroke: #000000; stroke-width: 0.8\"/>\n      </g>\n     </g>\n     <g id=\"text_13\">\n      <!-- 25000 -->\n      <g transform=\"translate(7.2 119.56191) scale(0.1 -0.1)\">\n       <use xlink:href=\"#DejaVuSans-32\"/>\n       <use xlink:href=\"#DejaVuSans-35\" transform=\"translate(63.623047 0)\"/>\n       <use xlink:href=\"#DejaVuSans-30\" transform=\"translate(127.246094 0)\"/>\n       <use xlink:href=\"#DejaVuSans-30\" transform=\"translate(190.869141 0)\"/>\n       <use xlink:href=\"#DejaVuSans-30\" transform=\"translate(254.492188 0)\"/>\n      </g>\n     </g>\n    </g>\n    <g id=\"ytick_7\">\n     <g id=\"line2d_14\">\n      <g>\n       <use xlink:href=\"#m4b1e204ce4\" x=\"46.0125\" y=\"67.923605\" style=\"stroke: #000000; stroke-width: 0.8\"/>\n      </g>\n     </g>\n     <g id=\"text_14\">\n      <!-- 30000 -->\n      <g transform=\"translate(7.2 71.722823) scale(0.1 -0.1)\">\n       <defs>\n        <path id=\"DejaVuSans-33\" d=\"M 2597 2516 \nQ 3050 2419 3304 2112 \nQ 3559 1806 3559 1356 \nQ 3559 666 3084 287 \nQ 2609 -91 1734 -91 \nQ 1441 -91 1130 -33 \nQ 819 25 488 141 \nL 488 750 \nQ 750 597 1062 519 \nQ 1375 441 1716 441 \nQ 2309 441 2620 675 \nQ 2931 909 2931 1356 \nQ 2931 1769 2642 2001 \nQ 2353 2234 1838 2234 \nL 1294 2234 \nL 1294 2753 \nL 1863 2753 \nQ 2328 2753 2575 2939 \nQ 2822 3125 2822 3475 \nQ 2822 3834 2567 4026 \nQ 2313 4219 1838 4219 \nQ 1578 4219 1281 4162 \nQ 984 4106 628 3988 \nL 628 4550 \nQ 988 4650 1302 4700 \nQ 1616 4750 1894 4750 \nQ 2613 4750 3031 4423 \nQ 3450 4097 3450 3541 \nQ 3450 3153 3228 2886 \nQ 3006 2619 2597 2516 \nz\n\" transform=\"scale(0.015625)\"/>\n       </defs>\n       <use xlink:href=\"#DejaVuSans-33\"/>\n       <use xlink:href=\"#DejaVuSans-30\" transform=\"translate(63.623047 0)\"/>\n       <use xlink:href=\"#DejaVuSans-30\" transform=\"translate(127.246094 0)\"/>\n       <use xlink:href=\"#DejaVuSans-30\" transform=\"translate(190.869141 0)\"/>\n       <use xlink:href=\"#DejaVuSans-30\" transform=\"translate(254.492188 0)\"/>\n      </g>\n     </g>\n    </g>\n   </g>\n   <g id=\"patch_10\">\n    <path d=\"M 46.0125 354.958125 \nL 46.0125 22.318125 \n\" style=\"fill: none; stroke: #000000; stroke-width: 0.8; stroke-linejoin: miter; stroke-linecap: square\"/>\n   </g>\n   <g id=\"patch_11\">\n    <path d=\"M 380.8125 354.958125 \nL 380.8125 22.318125 \n\" style=\"fill: none; stroke: #000000; stroke-width: 0.8; stroke-linejoin: miter; stroke-linecap: square\"/>\n   </g>\n   <g id=\"patch_12\">\n    <path d=\"M 46.0125 354.958125 \nL 380.8125 354.958125 \n\" style=\"fill: none; stroke: #000000; stroke-width: 0.8; stroke-linejoin: miter; stroke-linecap: square\"/>\n   </g>\n   <g id=\"patch_13\">\n    <path d=\"M 46.0125 22.318125 \nL 380.8125 22.318125 \n\" style=\"fill: none; stroke: #000000; stroke-width: 0.8; stroke-linejoin: miter; stroke-linecap: square\"/>\n   </g>\n   <g id=\"text_15\">\n    <!-- Hispanic population of Georgia -->\n    <g transform=\"translate(120.894375 16.318125) scale(0.12 -0.12)\">\n     <defs>\n      <path id=\"DejaVuSans-70\" d=\"M 1159 525 \nL 1159 -1331 \nL 581 -1331 \nL 581 3500 \nL 1159 3500 \nL 1159 2969 \nQ 1341 3281 1617 3432 \nQ 1894 3584 2278 3584 \nQ 2916 3584 3314 3078 \nQ 3713 2572 3713 1747 \nQ 3713 922 3314 415 \nQ 2916 -91 2278 -91 \nQ 1894 -91 1617 61 \nQ 1341 213 1159 525 \nz\nM 3116 1747 \nQ 3116 2381 2855 2742 \nQ 2594 3103 2138 3103 \nQ 1681 3103 1420 2742 \nQ 1159 2381 1159 1747 \nQ 1159 1113 1420 752 \nQ 1681 391 2138 391 \nQ 2594 391 2855 752 \nQ 3116 1113 3116 1747 \nz\n\" transform=\"scale(0.015625)\"/>\n      <path id=\"DejaVuSans-20\" transform=\"scale(0.015625)\"/>\n      <path id=\"DejaVuSans-66\" d=\"M 2375 4863 \nL 2375 4384 \nL 1825 4384 \nQ 1516 4384 1395 4259 \nQ 1275 4134 1275 3809 \nL 1275 3500 \nL 2222 3500 \nL 2222 3053 \nL 1275 3053 \nL 1275 0 \nL 697 0 \nL 697 3053 \nL 147 3053 \nL 147 3500 \nL 697 3500 \nL 697 3744 \nQ 697 4328 969 4595 \nQ 1241 4863 1831 4863 \nL 2375 4863 \nz\n\" transform=\"scale(0.015625)\"/>\n      <path id=\"DejaVuSans-47\" d=\"M 3809 666 \nL 3809 1919 \nL 2778 1919 \nL 2778 2438 \nL 4434 2438 \nL 4434 434 \nQ 4069 175 3628 42 \nQ 3188 -91 2688 -91 \nQ 1594 -91 976 548 \nQ 359 1188 359 2328 \nQ 359 3472 976 4111 \nQ 1594 4750 2688 4750 \nQ 3144 4750 3555 4637 \nQ 3966 4525 4313 4306 \nL 4313 3634 \nQ 3963 3931 3569 4081 \nQ 3175 4231 2741 4231 \nQ 1884 4231 1454 3753 \nQ 1025 3275 1025 2328 \nQ 1025 1384 1454 906 \nQ 1884 428 2741 428 \nQ 3075 428 3337 486 \nQ 3600 544 3809 666 \nz\n\" transform=\"scale(0.015625)\"/>\n      <path id=\"DejaVuSans-67\" d=\"M 2906 1791 \nQ 2906 2416 2648 2759 \nQ 2391 3103 1925 3103 \nQ 1463 3103 1205 2759 \nQ 947 2416 947 1791 \nQ 947 1169 1205 825 \nQ 1463 481 1925 481 \nQ 2391 481 2648 825 \nQ 2906 1169 2906 1791 \nz\nM 3481 434 \nQ 3481 -459 3084 -895 \nQ 2688 -1331 1869 -1331 \nQ 1566 -1331 1297 -1286 \nQ 1028 -1241 775 -1147 \nL 775 -588 \nQ 1028 -725 1275 -790 \nQ 1522 -856 1778 -856 \nQ 2344 -856 2625 -561 \nQ 2906 -266 2906 331 \nL 2906 616 \nQ 2728 306 2450 153 \nQ 2172 0 1784 0 \nQ 1141 0 747 490 \nQ 353 981 353 1791 \nQ 353 2603 747 3093 \nQ 1141 3584 1784 3584 \nQ 2172 3584 2450 3431 \nQ 2728 3278 2906 2969 \nL 2906 3500 \nL 3481 3500 \nL 3481 434 \nz\n\" transform=\"scale(0.015625)\"/>\n     </defs>\n     <use xlink:href=\"#DejaVuSans-48\"/>\n     <use xlink:href=\"#DejaVuSans-69\" transform=\"translate(75.195312 0)\"/>\n     <use xlink:href=\"#DejaVuSans-73\" transform=\"translate(102.978516 0)\"/>\n     <use xlink:href=\"#DejaVuSans-70\" transform=\"translate(155.078125 0)\"/>\n     <use xlink:href=\"#DejaVuSans-61\" transform=\"translate(218.554688 0)\"/>\n     <use xlink:href=\"#DejaVuSans-6e\" transform=\"translate(279.833984 0)\"/>\n     <use xlink:href=\"#DejaVuSans-69\" transform=\"translate(343.212891 0)\"/>\n     <use xlink:href=\"#DejaVuSans-63\" transform=\"translate(370.996094 0)\"/>\n     <use xlink:href=\"#DejaVuSans-20\" transform=\"translate(425.976562 0)\"/>\n     <use xlink:href=\"#DejaVuSans-70\" transform=\"translate(457.763672 0)\"/>\n     <use xlink:href=\"#DejaVuSans-6f\" transform=\"translate(521.240234 0)\"/>\n     <use xlink:href=\"#DejaVuSans-70\" transform=\"translate(582.421875 0)\"/>\n     <use xlink:href=\"#DejaVuSans-75\" transform=\"translate(645.898438 0)\"/>\n     <use xlink:href=\"#DejaVuSans-6c\" transform=\"translate(709.277344 0)\"/>\n     <use xlink:href=\"#DejaVuSans-61\" transform=\"translate(737.060547 0)\"/>\n     <use xlink:href=\"#DejaVuSans-74\" transform=\"translate(798.339844 0)\"/>\n     <use xlink:href=\"#DejaVuSans-69\" transform=\"translate(837.548828 0)\"/>\n     <use xlink:href=\"#DejaVuSans-6f\" transform=\"translate(865.332031 0)\"/>\n     <use xlink:href=\"#DejaVuSans-6e\" transform=\"translate(926.513672 0)\"/>\n     <use xlink:href=\"#DejaVuSans-20\" transform=\"translate(989.892578 0)\"/>\n     <use xlink:href=\"#DejaVuSans-6f\" transform=\"translate(1021.679688 0)\"/>\n     <use xlink:href=\"#DejaVuSans-66\" transform=\"translate(1082.861328 0)\"/>\n     <use xlink:href=\"#DejaVuSans-20\" transform=\"translate(1118.066406 0)\"/>\n     <use xlink:href=\"#DejaVuSans-47\" transform=\"translate(1149.853516 0)\"/>\n     <use xlink:href=\"#DejaVuSans-65\" transform=\"translate(1227.34375 0)\"/>\n     <use xlink:href=\"#DejaVuSans-6f\" transform=\"translate(1288.867188 0)\"/>\n     <use xlink:href=\"#DejaVuSans-72\" transform=\"translate(1350.048828 0)\"/>\n     <use xlink:href=\"#DejaVuSans-67\" transform=\"translate(1389.412109 0)\"/>\n     <use xlink:href=\"#DejaVuSans-69\" transform=\"translate(1452.888672 0)\"/>\n     <use xlink:href=\"#DejaVuSans-61\" transform=\"translate(1480.671875 0)\"/>\n    </g>\n   </g>\n  </g>\n </g>\n <defs>\n  <clipPath id=\"pdc46c2fde7\">\n   <rect x=\"46.0125\" y=\"22.318125\" width=\"334.8\" height=\"332.64\"/>\n  </clipPath>\n </defs>\n</svg>\n"
          },
          "metadata": {}
        }
      ],
      "source": [
        "ax = race_ethnicity_df[hispanic_categories].rename(columns={\n",
        "    \"h_other\": \"SomeOther\",\n",
        "    \"h_asian\": \"Asian\",\n",
        "    \"h_black\": \"Black\",\n",
        "    \"h_white\": \"White\",\n",
        "    \"h_two_or_more\": \"Multi\",\n",
        "    \"h_amin\": \"AMIN\",\n",
        "    \"h_nhpi\": \"NHPI\",\n",
        "}).sum(axis=0).sort_values(ascending=False).plot.bar(figsize=(6, 6), rot=0)\n",
        "ax.set_title(f\"Hispanic population of {state}\")\n",
        "plt.show()"
      ]
    },
    {
      "cell_type": "code",
      "execution_count": 115,
      "id": "cfcd48de-e604-4de1-8c3d-4dddc094cfee",
      "metadata": {
        "id": "cfcd48de-e604-4de1-8c3d-4dddc094cfee",
        "outputId": "ea783008-022f-47ca-fa79-cbf979bbdffd",
        "colab": {
          "base_uri": "https://localhost:8080/",
          "height": 526
        }
      },
      "outputs": [
        {
          "output_type": "display_data",
          "data": {
            "text/plain": [
              "<Figure size 600x600 with 1 Axes>"
            ],
            "image/svg+xml": "<?xml version=\"1.0\" encoding=\"utf-8\" standalone=\"no\"?>\n<!DOCTYPE svg PUBLIC \"-//W3C//DTD SVG 1.1//EN\"\n  \"http://www.w3.org/Graphics/SVG/1.1/DTD/svg11.dtd\">\n<svg xmlns:xlink=\"http://www.w3.org/1999/xlink\" width=\"394.375pt\" height=\"378.83625pt\" viewBox=\"0 0 394.375 378.83625\" xmlns=\"http://www.w3.org/2000/svg\" version=\"1.1\">\n <metadata>\n  <rdf:RDF xmlns:dc=\"http://purl.org/dc/elements/1.1/\" xmlns:cc=\"http://creativecommons.org/ns#\" xmlns:rdf=\"http://www.w3.org/1999/02/22-rdf-syntax-ns#\">\n   <cc:Work>\n    <dc:type rdf:resource=\"http://purl.org/dc/dcmitype/StillImage\"/>\n    <dc:date>2025-02-06T04:25:47.529561</dc:date>\n    <dc:format>image/svg+xml</dc:format>\n    <dc:creator>\n     <cc:Agent>\n      <dc:title>Matplotlib v3.10.0, https://matplotlib.org/</dc:title>\n     </cc:Agent>\n    </dc:creator>\n   </cc:Work>\n  </rdf:RDF>\n </metadata>\n <defs>\n  <style type=\"text/css\">*{stroke-linejoin: round; stroke-linecap: butt}</style>\n </defs>\n <g id=\"figure_1\">\n  <g id=\"patch_1\">\n   <path d=\"M 0 378.83625 \nL 394.375 378.83625 \nL 394.375 0 \nL 0 0 \nz\n\" style=\"fill: #ffffff\"/>\n  </g>\n  <g id=\"axes_1\">\n   <g id=\"patch_2\">\n    <path d=\"M 52.375 354.958125 \nL 387.175 354.958125 \nL 387.175 22.318125 \nL 52.375 22.318125 \nz\n\" style=\"fill: #ffffff\"/>\n   </g>\n   <g id=\"patch_3\">\n    <path d=\"M 64.332143 354.958125 \nL 88.246429 354.958125 \nL 88.246429 38.158125 \nL 64.332143 38.158125 \nz\n\" clip-path=\"url(#p8ff1d1e4f0)\" style=\"fill: #1f77b4\"/>\n   </g>\n   <g id=\"patch_4\">\n    <path d=\"M 112.160714 354.958125 \nL 136.075 354.958125 \nL 136.075 69.2238 \nL 112.160714 69.2238 \nz\n\" clip-path=\"url(#p8ff1d1e4f0)\" style=\"fill: #1f77b4\"/>\n   </g>\n   <g id=\"patch_5\">\n    <path d=\"M 159.989286 354.958125 \nL 183.903571 354.958125 \nL 183.903571 298.0418 \nL 159.989286 298.0418 \nz\n\" clip-path=\"url(#p8ff1d1e4f0)\" style=\"fill: #1f77b4\"/>\n   </g>\n   <g id=\"patch_6\">\n    <path d=\"M 207.817857 354.958125 \nL 231.732143 354.958125 \nL 231.732143 328.278068 \nL 207.817857 328.278068 \nz\n\" clip-path=\"url(#p8ff1d1e4f0)\" style=\"fill: #1f77b4\"/>\n   </g>\n   <g id=\"patch_7\">\n    <path d=\"M 255.646429 354.958125 \nL 279.560714 354.958125 \nL 279.560714 350.40945 \nL 255.646429 350.40945 \nz\n\" clip-path=\"url(#p8ff1d1e4f0)\" style=\"fill: #1f77b4\"/>\n   </g>\n   <g id=\"patch_8\">\n    <path d=\"M 303.475 354.958125 \nL 327.389286 354.958125 \nL 327.389286 353.858368 \nL 303.475 353.858368 \nz\n\" clip-path=\"url(#p8ff1d1e4f0)\" style=\"fill: #1f77b4\"/>\n   </g>\n   <g id=\"patch_9\">\n    <path d=\"M 351.303571 354.958125 \nL 375.217857 354.958125 \nL 375.217857 354.689186 \nL 351.303571 354.689186 \nz\n\" clip-path=\"url(#p8ff1d1e4f0)\" style=\"fill: #1f77b4\"/>\n   </g>\n   <g id=\"matplotlib.axis_1\">\n    <g id=\"xtick_1\">\n     <g id=\"line2d_1\">\n      <defs>\n       <path id=\"m89416701bc\" d=\"M 0 0 \nL 0 3.5 \n\" style=\"stroke: #000000; stroke-width: 0.8\"/>\n      </defs>\n      <g>\n       <use xlink:href=\"#m89416701bc\" x=\"76.289286\" y=\"354.958125\" style=\"stroke: #000000; stroke-width: 0.8\"/>\n      </g>\n     </g>\n     <g id=\"text_1\">\n      <!-- Black -->\n      <g transform=\"translate(62.761161 369.556562) scale(0.1 -0.1)\">\n       <defs>\n        <path id=\"DejaVuSans-42\" d=\"M 1259 2228 \nL 1259 519 \nL 2272 519 \nQ 2781 519 3026 730 \nQ 3272 941 3272 1375 \nQ 3272 1813 3026 2020 \nQ 2781 2228 2272 2228 \nL 1259 2228 \nz\nM 1259 4147 \nL 1259 2741 \nL 2194 2741 \nQ 2656 2741 2882 2914 \nQ 3109 3088 3109 3444 \nQ 3109 3797 2882 3972 \nQ 2656 4147 2194 4147 \nL 1259 4147 \nz\nM 628 4666 \nL 2241 4666 \nQ 2963 4666 3353 4366 \nQ 3744 4066 3744 3513 \nQ 3744 3084 3544 2831 \nQ 3344 2578 2956 2516 \nQ 3422 2416 3680 2098 \nQ 3938 1781 3938 1306 \nQ 3938 681 3513 340 \nQ 3088 0 2303 0 \nL 628 0 \nL 628 4666 \nz\n\" transform=\"scale(0.015625)\"/>\n        <path id=\"DejaVuSans-6c\" d=\"M 603 4863 \nL 1178 4863 \nL 1178 0 \nL 603 0 \nL 603 4863 \nz\n\" transform=\"scale(0.015625)\"/>\n        <path id=\"DejaVuSans-61\" d=\"M 2194 1759 \nQ 1497 1759 1228 1600 \nQ 959 1441 959 1056 \nQ 959 750 1161 570 \nQ 1363 391 1709 391 \nQ 2188 391 2477 730 \nQ 2766 1069 2766 1631 \nL 2766 1759 \nL 2194 1759 \nz\nM 3341 1997 \nL 3341 0 \nL 2766 0 \nL 2766 531 \nQ 2569 213 2275 61 \nQ 1981 -91 1556 -91 \nQ 1019 -91 701 211 \nQ 384 513 384 1019 \nQ 384 1609 779 1909 \nQ 1175 2209 1959 2209 \nL 2766 2209 \nL 2766 2266 \nQ 2766 2663 2505 2880 \nQ 2244 3097 1772 3097 \nQ 1472 3097 1187 3025 \nQ 903 2953 641 2809 \nL 641 3341 \nQ 956 3463 1253 3523 \nQ 1550 3584 1831 3584 \nQ 2591 3584 2966 3190 \nQ 3341 2797 3341 1997 \nz\n\" transform=\"scale(0.015625)\"/>\n        <path id=\"DejaVuSans-63\" d=\"M 3122 3366 \nL 3122 2828 \nQ 2878 2963 2633 3030 \nQ 2388 3097 2138 3097 \nQ 1578 3097 1268 2742 \nQ 959 2388 959 1747 \nQ 959 1106 1268 751 \nQ 1578 397 2138 397 \nQ 2388 397 2633 464 \nQ 2878 531 3122 666 \nL 3122 134 \nQ 2881 22 2623 -34 \nQ 2366 -91 2075 -91 \nQ 1284 -91 818 406 \nQ 353 903 353 1747 \nQ 353 2603 823 3093 \nQ 1294 3584 2113 3584 \nQ 2378 3584 2631 3529 \nQ 2884 3475 3122 3366 \nz\n\" transform=\"scale(0.015625)\"/>\n        <path id=\"DejaVuSans-6b\" d=\"M 581 4863 \nL 1159 4863 \nL 1159 1991 \nL 2875 3500 \nL 3609 3500 \nL 1753 1863 \nL 3688 0 \nL 2938 0 \nL 1159 1709 \nL 1159 0 \nL 581 0 \nL 581 4863 \nz\n\" transform=\"scale(0.015625)\"/>\n       </defs>\n       <use xlink:href=\"#DejaVuSans-42\"/>\n       <use xlink:href=\"#DejaVuSans-6c\" transform=\"translate(68.603516 0)\"/>\n       <use xlink:href=\"#DejaVuSans-61\" transform=\"translate(96.386719 0)\"/>\n       <use xlink:href=\"#DejaVuSans-63\" transform=\"translate(157.666016 0)\"/>\n       <use xlink:href=\"#DejaVuSans-6b\" transform=\"translate(212.646484 0)\"/>\n      </g>\n     </g>\n    </g>\n    <g id=\"xtick_2\">\n     <g id=\"line2d_2\">\n      <g>\n       <use xlink:href=\"#m89416701bc\" x=\"124.117857\" y=\"354.958125\" style=\"stroke: #000000; stroke-width: 0.8\"/>\n      </g>\n     </g>\n     <g id=\"text_2\">\n      <!-- White -->\n      <g transform=\"translate(109.579576 369.556562) scale(0.1 -0.1)\">\n       <defs>\n        <path id=\"DejaVuSans-57\" d=\"M 213 4666 \nL 850 4666 \nL 1831 722 \nL 2809 4666 \nL 3519 4666 \nL 4500 722 \nL 5478 4666 \nL 6119 4666 \nL 4947 0 \nL 4153 0 \nL 3169 4050 \nL 2175 0 \nL 1381 0 \nL 213 4666 \nz\n\" transform=\"scale(0.015625)\"/>\n        <path id=\"DejaVuSans-68\" d=\"M 3513 2113 \nL 3513 0 \nL 2938 0 \nL 2938 2094 \nQ 2938 2591 2744 2837 \nQ 2550 3084 2163 3084 \nQ 1697 3084 1428 2787 \nQ 1159 2491 1159 1978 \nL 1159 0 \nL 581 0 \nL 581 4863 \nL 1159 4863 \nL 1159 2956 \nQ 1366 3272 1645 3428 \nQ 1925 3584 2291 3584 \nQ 2894 3584 3203 3211 \nQ 3513 2838 3513 2113 \nz\n\" transform=\"scale(0.015625)\"/>\n        <path id=\"DejaVuSans-69\" d=\"M 603 3500 \nL 1178 3500 \nL 1178 0 \nL 603 0 \nL 603 3500 \nz\nM 603 4863 \nL 1178 4863 \nL 1178 4134 \nL 603 4134 \nL 603 4863 \nz\n\" transform=\"scale(0.015625)\"/>\n        <path id=\"DejaVuSans-74\" d=\"M 1172 4494 \nL 1172 3500 \nL 2356 3500 \nL 2356 3053 \nL 1172 3053 \nL 1172 1153 \nQ 1172 725 1289 603 \nQ 1406 481 1766 481 \nL 2356 481 \nL 2356 0 \nL 1766 0 \nQ 1100 0 847 248 \nQ 594 497 594 1153 \nL 594 3053 \nL 172 3053 \nL 172 3500 \nL 594 3500 \nL 594 4494 \nL 1172 4494 \nz\n\" transform=\"scale(0.015625)\"/>\n        <path id=\"DejaVuSans-65\" d=\"M 3597 1894 \nL 3597 1613 \nL 953 1613 \nQ 991 1019 1311 708 \nQ 1631 397 2203 397 \nQ 2534 397 2845 478 \nQ 3156 559 3463 722 \nL 3463 178 \nQ 3153 47 2828 -22 \nQ 2503 -91 2169 -91 \nQ 1331 -91 842 396 \nQ 353 884 353 1716 \nQ 353 2575 817 3079 \nQ 1281 3584 2069 3584 \nQ 2775 3584 3186 3129 \nQ 3597 2675 3597 1894 \nz\nM 3022 2063 \nQ 3016 2534 2758 2815 \nQ 2500 3097 2075 3097 \nQ 1594 3097 1305 2825 \nQ 1016 2553 972 2059 \nL 3022 2063 \nz\n\" transform=\"scale(0.015625)\"/>\n       </defs>\n       <use xlink:href=\"#DejaVuSans-57\"/>\n       <use xlink:href=\"#DejaVuSans-68\" transform=\"translate(98.876953 0)\"/>\n       <use xlink:href=\"#DejaVuSans-69\" transform=\"translate(162.255859 0)\"/>\n       <use xlink:href=\"#DejaVuSans-74\" transform=\"translate(190.039062 0)\"/>\n       <use xlink:href=\"#DejaVuSans-65\" transform=\"translate(229.248047 0)\"/>\n      </g>\n     </g>\n    </g>\n    <g id=\"xtick_3\">\n     <g id=\"line2d_3\">\n      <g>\n       <use xlink:href=\"#m89416701bc\" x=\"171.946429\" y=\"354.958125\" style=\"stroke: #000000; stroke-width: 0.8\"/>\n      </g>\n     </g>\n     <g id=\"text_3\">\n      <!-- Asian -->\n      <g transform=\"translate(158.299554 369.556562) scale(0.1 -0.1)\">\n       <defs>\n        <path id=\"DejaVuSans-41\" d=\"M 2188 4044 \nL 1331 1722 \nL 3047 1722 \nL 2188 4044 \nz\nM 1831 4666 \nL 2547 4666 \nL 4325 0 \nL 3669 0 \nL 3244 1197 \nL 1141 1197 \nL 716 0 \nL 50 0 \nL 1831 4666 \nz\n\" transform=\"scale(0.015625)\"/>\n        <path id=\"DejaVuSans-73\" d=\"M 2834 3397 \nL 2834 2853 \nQ 2591 2978 2328 3040 \nQ 2066 3103 1784 3103 \nQ 1356 3103 1142 2972 \nQ 928 2841 928 2578 \nQ 928 2378 1081 2264 \nQ 1234 2150 1697 2047 \nL 1894 2003 \nQ 2506 1872 2764 1633 \nQ 3022 1394 3022 966 \nQ 3022 478 2636 193 \nQ 2250 -91 1575 -91 \nQ 1294 -91 989 -36 \nQ 684 19 347 128 \nL 347 722 \nQ 666 556 975 473 \nQ 1284 391 1588 391 \nQ 1994 391 2212 530 \nQ 2431 669 2431 922 \nQ 2431 1156 2273 1281 \nQ 2116 1406 1581 1522 \nL 1381 1569 \nQ 847 1681 609 1914 \nQ 372 2147 372 2553 \nQ 372 3047 722 3315 \nQ 1072 3584 1716 3584 \nQ 2034 3584 2315 3537 \nQ 2597 3491 2834 3397 \nz\n\" transform=\"scale(0.015625)\"/>\n        <path id=\"DejaVuSans-6e\" d=\"M 3513 2113 \nL 3513 0 \nL 2938 0 \nL 2938 2094 \nQ 2938 2591 2744 2837 \nQ 2550 3084 2163 3084 \nQ 1697 3084 1428 2787 \nQ 1159 2491 1159 1978 \nL 1159 0 \nL 581 0 \nL 581 3500 \nL 1159 3500 \nL 1159 2956 \nQ 1366 3272 1645 3428 \nQ 1925 3584 2291 3584 \nQ 2894 3584 3203 3211 \nQ 3513 2838 3513 2113 \nz\n\" transform=\"scale(0.015625)\"/>\n       </defs>\n       <use xlink:href=\"#DejaVuSans-41\"/>\n       <use xlink:href=\"#DejaVuSans-73\" transform=\"translate(68.408203 0)\"/>\n       <use xlink:href=\"#DejaVuSans-69\" transform=\"translate(120.507812 0)\"/>\n       <use xlink:href=\"#DejaVuSans-61\" transform=\"translate(148.291016 0)\"/>\n       <use xlink:href=\"#DejaVuSans-6e\" transform=\"translate(209.570312 0)\"/>\n      </g>\n     </g>\n    </g>\n    <g id=\"xtick_4\">\n     <g id=\"line2d_4\">\n      <g>\n       <use xlink:href=\"#m89416701bc\" x=\"219.775\" y=\"354.958125\" style=\"stroke: #000000; stroke-width: 0.8\"/>\n      </g>\n     </g>\n     <g id=\"text_4\">\n      <!-- Multi -->\n      <g transform=\"translate(207.553906 369.556562) scale(0.1 -0.1)\">\n       <defs>\n        <path id=\"DejaVuSans-4d\" d=\"M 628 4666 \nL 1569 4666 \nL 2759 1491 \nL 3956 4666 \nL 4897 4666 \nL 4897 0 \nL 4281 0 \nL 4281 4097 \nL 3078 897 \nL 2444 897 \nL 1241 4097 \nL 1241 0 \nL 628 0 \nL 628 4666 \nz\n\" transform=\"scale(0.015625)\"/>\n        <path id=\"DejaVuSans-75\" d=\"M 544 1381 \nL 544 3500 \nL 1119 3500 \nL 1119 1403 \nQ 1119 906 1312 657 \nQ 1506 409 1894 409 \nQ 2359 409 2629 706 \nQ 2900 1003 2900 1516 \nL 2900 3500 \nL 3475 3500 \nL 3475 0 \nL 2900 0 \nL 2900 538 \nQ 2691 219 2414 64 \nQ 2138 -91 1772 -91 \nQ 1169 -91 856 284 \nQ 544 659 544 1381 \nz\nM 1991 3584 \nL 1991 3584 \nz\n\" transform=\"scale(0.015625)\"/>\n       </defs>\n       <use xlink:href=\"#DejaVuSans-4d\"/>\n       <use xlink:href=\"#DejaVuSans-75\" transform=\"translate(86.279297 0)\"/>\n       <use xlink:href=\"#DejaVuSans-6c\" transform=\"translate(149.658203 0)\"/>\n       <use xlink:href=\"#DejaVuSans-74\" transform=\"translate(177.441406 0)\"/>\n       <use xlink:href=\"#DejaVuSans-69\" transform=\"translate(216.650391 0)\"/>\n      </g>\n     </g>\n    </g>\n    <g id=\"xtick_5\">\n     <g id=\"line2d_5\">\n      <g>\n       <use xlink:href=\"#m89416701bc\" x=\"267.603571\" y=\"354.958125\" style=\"stroke: #000000; stroke-width: 0.8\"/>\n      </g>\n     </g>\n     <g id=\"text_5\">\n      <!-- SomeOther -->\n      <g transform=\"translate(239.226228 369.556562) scale(0.1 -0.1)\">\n       <defs>\n        <path id=\"DejaVuSans-53\" d=\"M 3425 4513 \nL 3425 3897 \nQ 3066 4069 2747 4153 \nQ 2428 4238 2131 4238 \nQ 1616 4238 1336 4038 \nQ 1056 3838 1056 3469 \nQ 1056 3159 1242 3001 \nQ 1428 2844 1947 2747 \nL 2328 2669 \nQ 3034 2534 3370 2195 \nQ 3706 1856 3706 1288 \nQ 3706 609 3251 259 \nQ 2797 -91 1919 -91 \nQ 1588 -91 1214 -16 \nQ 841 59 441 206 \nL 441 856 \nQ 825 641 1194 531 \nQ 1563 422 1919 422 \nQ 2459 422 2753 634 \nQ 3047 847 3047 1241 \nQ 3047 1584 2836 1778 \nQ 2625 1972 2144 2069 \nL 1759 2144 \nQ 1053 2284 737 2584 \nQ 422 2884 422 3419 \nQ 422 4038 858 4394 \nQ 1294 4750 2059 4750 \nQ 2388 4750 2728 4690 \nQ 3069 4631 3425 4513 \nz\n\" transform=\"scale(0.015625)\"/>\n        <path id=\"DejaVuSans-6f\" d=\"M 1959 3097 \nQ 1497 3097 1228 2736 \nQ 959 2375 959 1747 \nQ 959 1119 1226 758 \nQ 1494 397 1959 397 \nQ 2419 397 2687 759 \nQ 2956 1122 2956 1747 \nQ 2956 2369 2687 2733 \nQ 2419 3097 1959 3097 \nz\nM 1959 3584 \nQ 2709 3584 3137 3096 \nQ 3566 2609 3566 1747 \nQ 3566 888 3137 398 \nQ 2709 -91 1959 -91 \nQ 1206 -91 779 398 \nQ 353 888 353 1747 \nQ 353 2609 779 3096 \nQ 1206 3584 1959 3584 \nz\n\" transform=\"scale(0.015625)\"/>\n        <path id=\"DejaVuSans-6d\" d=\"M 3328 2828 \nQ 3544 3216 3844 3400 \nQ 4144 3584 4550 3584 \nQ 5097 3584 5394 3201 \nQ 5691 2819 5691 2113 \nL 5691 0 \nL 5113 0 \nL 5113 2094 \nQ 5113 2597 4934 2840 \nQ 4756 3084 4391 3084 \nQ 3944 3084 3684 2787 \nQ 3425 2491 3425 1978 \nL 3425 0 \nL 2847 0 \nL 2847 2094 \nQ 2847 2600 2669 2842 \nQ 2491 3084 2119 3084 \nQ 1678 3084 1418 2786 \nQ 1159 2488 1159 1978 \nL 1159 0 \nL 581 0 \nL 581 3500 \nL 1159 3500 \nL 1159 2956 \nQ 1356 3278 1631 3431 \nQ 1906 3584 2284 3584 \nQ 2666 3584 2933 3390 \nQ 3200 3197 3328 2828 \nz\n\" transform=\"scale(0.015625)\"/>\n        <path id=\"DejaVuSans-4f\" d=\"M 2522 4238 \nQ 1834 4238 1429 3725 \nQ 1025 3213 1025 2328 \nQ 1025 1447 1429 934 \nQ 1834 422 2522 422 \nQ 3209 422 3611 934 \nQ 4013 1447 4013 2328 \nQ 4013 3213 3611 3725 \nQ 3209 4238 2522 4238 \nz\nM 2522 4750 \nQ 3503 4750 4090 4092 \nQ 4678 3434 4678 2328 \nQ 4678 1225 4090 567 \nQ 3503 -91 2522 -91 \nQ 1538 -91 948 565 \nQ 359 1222 359 2328 \nQ 359 3434 948 4092 \nQ 1538 4750 2522 4750 \nz\n\" transform=\"scale(0.015625)\"/>\n        <path id=\"DejaVuSans-72\" d=\"M 2631 2963 \nQ 2534 3019 2420 3045 \nQ 2306 3072 2169 3072 \nQ 1681 3072 1420 2755 \nQ 1159 2438 1159 1844 \nL 1159 0 \nL 581 0 \nL 581 3500 \nL 1159 3500 \nL 1159 2956 \nQ 1341 3275 1631 3429 \nQ 1922 3584 2338 3584 \nQ 2397 3584 2469 3576 \nQ 2541 3569 2628 3553 \nL 2631 2963 \nz\n\" transform=\"scale(0.015625)\"/>\n       </defs>\n       <use xlink:href=\"#DejaVuSans-53\"/>\n       <use xlink:href=\"#DejaVuSans-6f\" transform=\"translate(63.476562 0)\"/>\n       <use xlink:href=\"#DejaVuSans-6d\" transform=\"translate(124.658203 0)\"/>\n       <use xlink:href=\"#DejaVuSans-65\" transform=\"translate(222.070312 0)\"/>\n       <use xlink:href=\"#DejaVuSans-4f\" transform=\"translate(283.59375 0)\"/>\n       <use xlink:href=\"#DejaVuSans-74\" transform=\"translate(362.304688 0)\"/>\n       <use xlink:href=\"#DejaVuSans-68\" transform=\"translate(401.513672 0)\"/>\n       <use xlink:href=\"#DejaVuSans-65\" transform=\"translate(464.892578 0)\"/>\n       <use xlink:href=\"#DejaVuSans-72\" transform=\"translate(526.416016 0)\"/>\n      </g>\n     </g>\n    </g>\n    <g id=\"xtick_6\">\n     <g id=\"line2d_6\">\n      <g>\n       <use xlink:href=\"#m89416701bc\" x=\"315.432143\" y=\"354.958125\" style=\"stroke: #000000; stroke-width: 0.8\"/>\n      </g>\n     </g>\n     <g id=\"text_6\">\n      <!-- AMIN -->\n      <g transform=\"translate(302.482143 369.556562) scale(0.1 -0.1)\">\n       <defs>\n        <path id=\"DejaVuSans-49\" d=\"M 628 4666 \nL 1259 4666 \nL 1259 0 \nL 628 0 \nL 628 4666 \nz\n\" transform=\"scale(0.015625)\"/>\n        <path id=\"DejaVuSans-4e\" d=\"M 628 4666 \nL 1478 4666 \nL 3547 763 \nL 3547 4666 \nL 4159 4666 \nL 4159 0 \nL 3309 0 \nL 1241 3903 \nL 1241 0 \nL 628 0 \nL 628 4666 \nz\n\" transform=\"scale(0.015625)\"/>\n       </defs>\n       <use xlink:href=\"#DejaVuSans-41\"/>\n       <use xlink:href=\"#DejaVuSans-4d\" transform=\"translate(68.408203 0)\"/>\n       <use xlink:href=\"#DejaVuSans-49\" transform=\"translate(154.6875 0)\"/>\n       <use xlink:href=\"#DejaVuSans-4e\" transform=\"translate(184.179688 0)\"/>\n      </g>\n     </g>\n    </g>\n    <g id=\"xtick_7\">\n     <g id=\"line2d_7\">\n      <g>\n       <use xlink:href=\"#m89416701bc\" x=\"363.260714\" y=\"354.958125\" style=\"stroke: #000000; stroke-width: 0.8\"/>\n      </g>\n     </g>\n     <g id=\"text_7\">\n      <!-- NHPI -->\n      <g transform=\"translate(351.270089 369.556562) scale(0.1 -0.1)\">\n       <defs>\n        <path id=\"DejaVuSans-48\" d=\"M 628 4666 \nL 1259 4666 \nL 1259 2753 \nL 3553 2753 \nL 3553 4666 \nL 4184 4666 \nL 4184 0 \nL 3553 0 \nL 3553 2222 \nL 1259 2222 \nL 1259 0 \nL 628 0 \nL 628 4666 \nz\n\" transform=\"scale(0.015625)\"/>\n        <path id=\"DejaVuSans-50\" d=\"M 1259 4147 \nL 1259 2394 \nL 2053 2394 \nQ 2494 2394 2734 2622 \nQ 2975 2850 2975 3272 \nQ 2975 3691 2734 3919 \nQ 2494 4147 2053 4147 \nL 1259 4147 \nz\nM 628 4666 \nL 2053 4666 \nQ 2838 4666 3239 4311 \nQ 3641 3956 3641 3272 \nQ 3641 2581 3239 2228 \nQ 2838 1875 2053 1875 \nL 1259 1875 \nL 1259 0 \nL 628 0 \nL 628 4666 \nz\n\" transform=\"scale(0.015625)\"/>\n       </defs>\n       <use xlink:href=\"#DejaVuSans-4e\"/>\n       <use xlink:href=\"#DejaVuSans-48\" transform=\"translate(74.804688 0)\"/>\n       <use xlink:href=\"#DejaVuSans-50\" transform=\"translate(150 0)\"/>\n       <use xlink:href=\"#DejaVuSans-49\" transform=\"translate(210.302734 0)\"/>\n      </g>\n     </g>\n    </g>\n   </g>\n   <g id=\"matplotlib.axis_2\">\n    <g id=\"ytick_1\">\n     <g id=\"line2d_8\">\n      <defs>\n       <path id=\"m63e6cd2731\" d=\"M 0 0 \nL -3.5 0 \n\" style=\"stroke: #000000; stroke-width: 0.8\"/>\n      </defs>\n      <g>\n       <use xlink:href=\"#m63e6cd2731\" x=\"52.375\" y=\"354.958125\" style=\"stroke: #000000; stroke-width: 0.8\"/>\n      </g>\n     </g>\n     <g id=\"text_8\">\n      <!-- 0 -->\n      <g transform=\"translate(39.0125 358.757344) scale(0.1 -0.1)\">\n       <defs>\n        <path id=\"DejaVuSans-30\" d=\"M 2034 4250 \nQ 1547 4250 1301 3770 \nQ 1056 3291 1056 2328 \nQ 1056 1369 1301 889 \nQ 1547 409 2034 409 \nQ 2525 409 2770 889 \nQ 3016 1369 3016 2328 \nQ 3016 3291 2770 3770 \nQ 2525 4250 2034 4250 \nz\nM 2034 4750 \nQ 2819 4750 3233 4129 \nQ 3647 3509 3647 2328 \nQ 3647 1150 3233 529 \nQ 2819 -91 2034 -91 \nQ 1250 -91 836 529 \nQ 422 1150 422 2328 \nQ 422 3509 836 4129 \nQ 1250 4750 2034 4750 \nz\n\" transform=\"scale(0.015625)\"/>\n       </defs>\n       <use xlink:href=\"#DejaVuSans-30\"/>\n      </g>\n     </g>\n    </g>\n    <g id=\"ytick_2\">\n     <g id=\"line2d_9\">\n      <g>\n       <use xlink:href=\"#m63e6cd2731\" x=\"52.375\" y=\"284.370362\" style=\"stroke: #000000; stroke-width: 0.8\"/>\n      </g>\n     </g>\n     <g id=\"text_9\">\n      <!-- 100000 -->\n      <g transform=\"translate(7.2 288.16958) scale(0.1 -0.1)\">\n       <defs>\n        <path id=\"DejaVuSans-31\" d=\"M 794 531 \nL 1825 531 \nL 1825 4091 \nL 703 3866 \nL 703 4441 \nL 1819 4666 \nL 2450 4666 \nL 2450 531 \nL 3481 531 \nL 3481 0 \nL 794 0 \nL 794 531 \nz\n\" transform=\"scale(0.015625)\"/>\n       </defs>\n       <use xlink:href=\"#DejaVuSans-31\"/>\n       <use xlink:href=\"#DejaVuSans-30\" transform=\"translate(63.623047 0)\"/>\n       <use xlink:href=\"#DejaVuSans-30\" transform=\"translate(127.246094 0)\"/>\n       <use xlink:href=\"#DejaVuSans-30\" transform=\"translate(190.869141 0)\"/>\n       <use xlink:href=\"#DejaVuSans-30\" transform=\"translate(254.492188 0)\"/>\n       <use xlink:href=\"#DejaVuSans-30\" transform=\"translate(318.115234 0)\"/>\n      </g>\n     </g>\n    </g>\n    <g id=\"ytick_3\">\n     <g id=\"line2d_10\">\n      <g>\n       <use xlink:href=\"#m63e6cd2731\" x=\"52.375\" y=\"213.782598\" style=\"stroke: #000000; stroke-width: 0.8\"/>\n      </g>\n     </g>\n     <g id=\"text_10\">\n      <!-- 200000 -->\n      <g transform=\"translate(7.2 217.581817) scale(0.1 -0.1)\">\n       <defs>\n        <path id=\"DejaVuSans-32\" d=\"M 1228 531 \nL 3431 531 \nL 3431 0 \nL 469 0 \nL 469 531 \nQ 828 903 1448 1529 \nQ 2069 2156 2228 2338 \nQ 2531 2678 2651 2914 \nQ 2772 3150 2772 3378 \nQ 2772 3750 2511 3984 \nQ 2250 4219 1831 4219 \nQ 1534 4219 1204 4116 \nQ 875 4013 500 3803 \nL 500 4441 \nQ 881 4594 1212 4672 \nQ 1544 4750 1819 4750 \nQ 2544 4750 2975 4387 \nQ 3406 4025 3406 3419 \nQ 3406 3131 3298 2873 \nQ 3191 2616 2906 2266 \nQ 2828 2175 2409 1742 \nQ 1991 1309 1228 531 \nz\n\" transform=\"scale(0.015625)\"/>\n       </defs>\n       <use xlink:href=\"#DejaVuSans-32\"/>\n       <use xlink:href=\"#DejaVuSans-30\" transform=\"translate(63.623047 0)\"/>\n       <use xlink:href=\"#DejaVuSans-30\" transform=\"translate(127.246094 0)\"/>\n       <use xlink:href=\"#DejaVuSans-30\" transform=\"translate(190.869141 0)\"/>\n       <use xlink:href=\"#DejaVuSans-30\" transform=\"translate(254.492188 0)\"/>\n       <use xlink:href=\"#DejaVuSans-30\" transform=\"translate(318.115234 0)\"/>\n      </g>\n     </g>\n    </g>\n    <g id=\"ytick_4\">\n     <g id=\"line2d_11\">\n      <g>\n       <use xlink:href=\"#m63e6cd2731\" x=\"52.375\" y=\"143.194835\" style=\"stroke: #000000; stroke-width: 0.8\"/>\n      </g>\n     </g>\n     <g id=\"text_11\">\n      <!-- 300000 -->\n      <g transform=\"translate(7.2 146.994053) scale(0.1 -0.1)\">\n       <defs>\n        <path id=\"DejaVuSans-33\" d=\"M 2597 2516 \nQ 3050 2419 3304 2112 \nQ 3559 1806 3559 1356 \nQ 3559 666 3084 287 \nQ 2609 -91 1734 -91 \nQ 1441 -91 1130 -33 \nQ 819 25 488 141 \nL 488 750 \nQ 750 597 1062 519 \nQ 1375 441 1716 441 \nQ 2309 441 2620 675 \nQ 2931 909 2931 1356 \nQ 2931 1769 2642 2001 \nQ 2353 2234 1838 2234 \nL 1294 2234 \nL 1294 2753 \nL 1863 2753 \nQ 2328 2753 2575 2939 \nQ 2822 3125 2822 3475 \nQ 2822 3834 2567 4026 \nQ 2313 4219 1838 4219 \nQ 1578 4219 1281 4162 \nQ 984 4106 628 3988 \nL 628 4550 \nQ 988 4650 1302 4700 \nQ 1616 4750 1894 4750 \nQ 2613 4750 3031 4423 \nQ 3450 4097 3450 3541 \nQ 3450 3153 3228 2886 \nQ 3006 2619 2597 2516 \nz\n\" transform=\"scale(0.015625)\"/>\n       </defs>\n       <use xlink:href=\"#DejaVuSans-33\"/>\n       <use xlink:href=\"#DejaVuSans-30\" transform=\"translate(63.623047 0)\"/>\n       <use xlink:href=\"#DejaVuSans-30\" transform=\"translate(127.246094 0)\"/>\n       <use xlink:href=\"#DejaVuSans-30\" transform=\"translate(190.869141 0)\"/>\n       <use xlink:href=\"#DejaVuSans-30\" transform=\"translate(254.492188 0)\"/>\n       <use xlink:href=\"#DejaVuSans-30\" transform=\"translate(318.115234 0)\"/>\n      </g>\n     </g>\n    </g>\n    <g id=\"ytick_5\">\n     <g id=\"line2d_12\">\n      <g>\n       <use xlink:href=\"#m63e6cd2731\" x=\"52.375\" y=\"72.607071\" style=\"stroke: #000000; stroke-width: 0.8\"/>\n      </g>\n     </g>\n     <g id=\"text_12\">\n      <!-- 400000 -->\n      <g transform=\"translate(7.2 76.40629) scale(0.1 -0.1)\">\n       <defs>\n        <path id=\"DejaVuSans-34\" d=\"M 2419 4116 \nL 825 1625 \nL 2419 1625 \nL 2419 4116 \nz\nM 2253 4666 \nL 3047 4666 \nL 3047 1625 \nL 3713 1625 \nL 3713 1100 \nL 3047 1100 \nL 3047 0 \nL 2419 0 \nL 2419 1100 \nL 313 1100 \nL 313 1709 \nL 2253 4666 \nz\n\" transform=\"scale(0.015625)\"/>\n       </defs>\n       <use xlink:href=\"#DejaVuSans-34\"/>\n       <use xlink:href=\"#DejaVuSans-30\" transform=\"translate(63.623047 0)\"/>\n       <use xlink:href=\"#DejaVuSans-30\" transform=\"translate(127.246094 0)\"/>\n       <use xlink:href=\"#DejaVuSans-30\" transform=\"translate(190.869141 0)\"/>\n       <use xlink:href=\"#DejaVuSans-30\" transform=\"translate(254.492188 0)\"/>\n       <use xlink:href=\"#DejaVuSans-30\" transform=\"translate(318.115234 0)\"/>\n      </g>\n     </g>\n    </g>\n   </g>\n   <g id=\"patch_10\">\n    <path d=\"M 52.375 354.958125 \nL 52.375 22.318125 \n\" style=\"fill: none; stroke: #000000; stroke-width: 0.8; stroke-linejoin: miter; stroke-linecap: square\"/>\n   </g>\n   <g id=\"patch_11\">\n    <path d=\"M 387.175 354.958125 \nL 387.175 22.318125 \n\" style=\"fill: none; stroke: #000000; stroke-width: 0.8; stroke-linejoin: miter; stroke-linecap: square\"/>\n   </g>\n   <g id=\"patch_12\">\n    <path d=\"M 52.375 354.958125 \nL 387.175 354.958125 \n\" style=\"fill: none; stroke: #000000; stroke-width: 0.8; stroke-linejoin: miter; stroke-linecap: square\"/>\n   </g>\n   <g id=\"patch_13\">\n    <path d=\"M 52.375 22.318125 \nL 387.175 22.318125 \n\" style=\"fill: none; stroke: #000000; stroke-width: 0.8; stroke-linejoin: miter; stroke-linecap: square\"/>\n   </g>\n   <g id=\"text_13\">\n    <!-- non-Hispanic population of Georgia -->\n    <g transform=\"translate(113.815938 16.318125) scale(0.12 -0.12)\">\n     <defs>\n      <path id=\"DejaVuSans-2d\" d=\"M 313 2009 \nL 1997 2009 \nL 1997 1497 \nL 313 1497 \nL 313 2009 \nz\n\" transform=\"scale(0.015625)\"/>\n      <path id=\"DejaVuSans-70\" d=\"M 1159 525 \nL 1159 -1331 \nL 581 -1331 \nL 581 3500 \nL 1159 3500 \nL 1159 2969 \nQ 1341 3281 1617 3432 \nQ 1894 3584 2278 3584 \nQ 2916 3584 3314 3078 \nQ 3713 2572 3713 1747 \nQ 3713 922 3314 415 \nQ 2916 -91 2278 -91 \nQ 1894 -91 1617 61 \nQ 1341 213 1159 525 \nz\nM 3116 1747 \nQ 3116 2381 2855 2742 \nQ 2594 3103 2138 3103 \nQ 1681 3103 1420 2742 \nQ 1159 2381 1159 1747 \nQ 1159 1113 1420 752 \nQ 1681 391 2138 391 \nQ 2594 391 2855 752 \nQ 3116 1113 3116 1747 \nz\n\" transform=\"scale(0.015625)\"/>\n      <path id=\"DejaVuSans-20\" transform=\"scale(0.015625)\"/>\n      <path id=\"DejaVuSans-66\" d=\"M 2375 4863 \nL 2375 4384 \nL 1825 4384 \nQ 1516 4384 1395 4259 \nQ 1275 4134 1275 3809 \nL 1275 3500 \nL 2222 3500 \nL 2222 3053 \nL 1275 3053 \nL 1275 0 \nL 697 0 \nL 697 3053 \nL 147 3053 \nL 147 3500 \nL 697 3500 \nL 697 3744 \nQ 697 4328 969 4595 \nQ 1241 4863 1831 4863 \nL 2375 4863 \nz\n\" transform=\"scale(0.015625)\"/>\n      <path id=\"DejaVuSans-47\" d=\"M 3809 666 \nL 3809 1919 \nL 2778 1919 \nL 2778 2438 \nL 4434 2438 \nL 4434 434 \nQ 4069 175 3628 42 \nQ 3188 -91 2688 -91 \nQ 1594 -91 976 548 \nQ 359 1188 359 2328 \nQ 359 3472 976 4111 \nQ 1594 4750 2688 4750 \nQ 3144 4750 3555 4637 \nQ 3966 4525 4313 4306 \nL 4313 3634 \nQ 3963 3931 3569 4081 \nQ 3175 4231 2741 4231 \nQ 1884 4231 1454 3753 \nQ 1025 3275 1025 2328 \nQ 1025 1384 1454 906 \nQ 1884 428 2741 428 \nQ 3075 428 3337 486 \nQ 3600 544 3809 666 \nz\n\" transform=\"scale(0.015625)\"/>\n      <path id=\"DejaVuSans-67\" d=\"M 2906 1791 \nQ 2906 2416 2648 2759 \nQ 2391 3103 1925 3103 \nQ 1463 3103 1205 2759 \nQ 947 2416 947 1791 \nQ 947 1169 1205 825 \nQ 1463 481 1925 481 \nQ 2391 481 2648 825 \nQ 2906 1169 2906 1791 \nz\nM 3481 434 \nQ 3481 -459 3084 -895 \nQ 2688 -1331 1869 -1331 \nQ 1566 -1331 1297 -1286 \nQ 1028 -1241 775 -1147 \nL 775 -588 \nQ 1028 -725 1275 -790 \nQ 1522 -856 1778 -856 \nQ 2344 -856 2625 -561 \nQ 2906 -266 2906 331 \nL 2906 616 \nQ 2728 306 2450 153 \nQ 2172 0 1784 0 \nQ 1141 0 747 490 \nQ 353 981 353 1791 \nQ 353 2603 747 3093 \nQ 1141 3584 1784 3584 \nQ 2172 3584 2450 3431 \nQ 2728 3278 2906 2969 \nL 2906 3500 \nL 3481 3500 \nL 3481 434 \nz\n\" transform=\"scale(0.015625)\"/>\n     </defs>\n     <use xlink:href=\"#DejaVuSans-6e\"/>\n     <use xlink:href=\"#DejaVuSans-6f\" transform=\"translate(63.378906 0)\"/>\n     <use xlink:href=\"#DejaVuSans-6e\" transform=\"translate(124.560547 0)\"/>\n     <use xlink:href=\"#DejaVuSans-2d\" transform=\"translate(187.939453 0)\"/>\n     <use xlink:href=\"#DejaVuSans-48\" transform=\"translate(224.023438 0)\"/>\n     <use xlink:href=\"#DejaVuSans-69\" transform=\"translate(299.21875 0)\"/>\n     <use xlink:href=\"#DejaVuSans-73\" transform=\"translate(327.001953 0)\"/>\n     <use xlink:href=\"#DejaVuSans-70\" transform=\"translate(379.101562 0)\"/>\n     <use xlink:href=\"#DejaVuSans-61\" transform=\"translate(442.578125 0)\"/>\n     <use xlink:href=\"#DejaVuSans-6e\" transform=\"translate(503.857422 0)\"/>\n     <use xlink:href=\"#DejaVuSans-69\" transform=\"translate(567.236328 0)\"/>\n     <use xlink:href=\"#DejaVuSans-63\" transform=\"translate(595.019531 0)\"/>\n     <use xlink:href=\"#DejaVuSans-20\" transform=\"translate(650 0)\"/>\n     <use xlink:href=\"#DejaVuSans-70\" transform=\"translate(681.787109 0)\"/>\n     <use xlink:href=\"#DejaVuSans-6f\" transform=\"translate(745.263672 0)\"/>\n     <use xlink:href=\"#DejaVuSans-70\" transform=\"translate(806.445312 0)\"/>\n     <use xlink:href=\"#DejaVuSans-75\" transform=\"translate(869.921875 0)\"/>\n     <use xlink:href=\"#DejaVuSans-6c\" transform=\"translate(933.300781 0)\"/>\n     <use xlink:href=\"#DejaVuSans-61\" transform=\"translate(961.083984 0)\"/>\n     <use xlink:href=\"#DejaVuSans-74\" transform=\"translate(1022.363281 0)\"/>\n     <use xlink:href=\"#DejaVuSans-69\" transform=\"translate(1061.572266 0)\"/>\n     <use xlink:href=\"#DejaVuSans-6f\" transform=\"translate(1089.355469 0)\"/>\n     <use xlink:href=\"#DejaVuSans-6e\" transform=\"translate(1150.537109 0)\"/>\n     <use xlink:href=\"#DejaVuSans-20\" transform=\"translate(1213.916016 0)\"/>\n     <use xlink:href=\"#DejaVuSans-6f\" transform=\"translate(1245.703125 0)\"/>\n     <use xlink:href=\"#DejaVuSans-66\" transform=\"translate(1306.884766 0)\"/>\n     <use xlink:href=\"#DejaVuSans-20\" transform=\"translate(1342.089844 0)\"/>\n     <use xlink:href=\"#DejaVuSans-47\" transform=\"translate(1373.876953 0)\"/>\n     <use xlink:href=\"#DejaVuSans-65\" transform=\"translate(1451.367188 0)\"/>\n     <use xlink:href=\"#DejaVuSans-6f\" transform=\"translate(1512.890625 0)\"/>\n     <use xlink:href=\"#DejaVuSans-72\" transform=\"translate(1574.072266 0)\"/>\n     <use xlink:href=\"#DejaVuSans-67\" transform=\"translate(1613.435547 0)\"/>\n     <use xlink:href=\"#DejaVuSans-69\" transform=\"translate(1676.912109 0)\"/>\n     <use xlink:href=\"#DejaVuSans-61\" transform=\"translate(1704.695312 0)\"/>\n    </g>\n   </g>\n  </g>\n </g>\n <defs>\n  <clipPath id=\"p8ff1d1e4f0\">\n   <rect x=\"52.375\" y=\"22.318125\" width=\"334.8\" height=\"332.64\"/>\n  </clipPath>\n </defs>\n</svg>\n"
          },
          "metadata": {}
        }
      ],
      "source": [
        "ax = race_ethnicity_df[non_hispanic_categories].rename(columns={\n",
        "    \"nh_other\": \"SomeOther\",\n",
        "    \"nh_asian\": \"Asian\",\n",
        "    \"nh_black\": \"Black\",\n",
        "    \"nh_white\": \"White\",\n",
        "    \"nh_two_or_more\": \"Multi\",\n",
        "    \"nh_amin\": \"AMIN\",\n",
        "    \"nh_nhpi\": \"NHPI\",\n",
        "}).sum(axis=0).sort_values(ascending=False).plot.bar(figsize=(6, 6), rot=0)\n",
        "ax.set_title(f\"non-Hispanic population of {state}\")\n",
        "plt.show()"
      ]
    },
    {
      "cell_type": "markdown",
      "id": "248f3403-b347-46f4-a2b4-8c9fe8155d5f",
      "metadata": {
        "id": "248f3403-b347-46f4-a2b4-8c9fe8155d5f"
      },
      "source": [
        "## Homework 2, due Tuesday Feb 11, 1:25pm\n"
      ]
    },
    {
      "cell_type": "markdown",
      "source": [
        "For the **data product** part of your homework, explore the census race/ethnicity data.  Pose ONE question and show us a plot that answers it.  Here are some examples to get you thinking...\n",
        "- How does the share of \"white\" people change in Texas if I only sort by race (ignoring ethnicity), or if I consider both race and ethnicity and treat Hispanic as a race?  (This could be a pair of pie charts side-by-side, for instance.)\n",
        "- Which state had its number of multi-racial respondents jump most in absolute numbers between the 2010 and 2020 Census?\n",
        "- What's the share of Hispanic respondents choosing \"Some Other Race\" in California? Is it very different from Florida?\n",
        "- What's the Whitest state with at least 3 million people?\n",
        "- Which state has the highest share of people who said they belong to ALL SIX races?  (note: to do this, you'd need to fetch new columns from the API)\n",
        "\n",
        "Be creative!\n",
        "\n",
        "How has Fulton County’s white population changed from the height of white flight (1960-1990) to today, and does 2020 Census data show a reversal due to gentrification?"
      ],
      "metadata": {
        "id": "yHiK2qo3jvQ-"
      },
      "id": "yHiK2qo3jvQ-"
    },
    {
      "cell_type": "markdown",
      "source": [
        "For the **reading response** part of your homework, refer to the chapter by Nobles.  Pick out and quote one juicy sentence that you underlined when you read the chapter.  React to it and connect it to something from either Scott or Hacking (two other authors we've been discussing)."
      ],
      "metadata": {
        "id": "_C2tIgpYlWOb"
      },
      "id": "_C2tIgpYlWOb"
    },
    {
      "cell_type": "code",
      "source": [
        "years = [1960, 1990, 2020]\n",
        "\n",
        "p1_population_columns = [\"P001001\"]\n",
        "\n",
        "county_populations = census.pl.get(\n",
        "    (\"NAME\", *p1_population_columns),\n",
        "    geo={\n",
        "        \"for\": \"county:121\",\n",
        "        \"in\": f\"state:{states.GA.fips}\",\n",
        "    }\n",
        ")\n",
        "\n",
        "white_population = [600, 400, 500]  # Placeholder, replace with API data\n",
        "poc_population = [200, 500, 450]  # Placeholder, replace with API data\n",
        "\n",
        "x = np.arange(len(years))  # X-axis positions\n",
        "\n",
        "plt.figure(figsize=(8, 5))\n",
        "plt.plot(years, white_population, marker='o', linestyle='-', label='White Population', color='blue')\n",
        "plt.plot(years, poc_population, marker='o', linestyle='-', label='POC Population', color='red')\n",
        "\n",
        "plt.xlabel(\"Year\")\n",
        "plt.ylabel(\"Population (Thousands)\")\n",
        "plt.title(\"Fulton County Population Changes (1960-2020)\")\n",
        "plt.legend()\n",
        "plt.grid(True, linestyle='--', alpha=0.6)\n",
        "plt.show()\n",
        "\n",
        ""
      ],
      "metadata": {
        "id": "hiHHIdj0ifjj",
        "outputId": "dbfa43a7-80c9-4eab-c197-4097084c5770",
        "colab": {
          "base_uri": "https://localhost:8080/",
          "height": 382
        }
      },
      "id": "hiHHIdj0ifjj",
      "execution_count": 116,
      "outputs": [
        {
          "output_type": "error",
          "ename": "CensusException",
          "evalue": "error: error: unknown variable 'P001001'",
          "traceback": [
            "\u001b[0;31m---------------------------------------------------------------------------\u001b[0m",
            "\u001b[0;31mCensusException\u001b[0m                           Traceback (most recent call last)",
            "\u001b[0;32m<ipython-input-116-b79830c4a421>\u001b[0m in \u001b[0;36m<cell line: 0>\u001b[0;34m()\u001b[0m\n\u001b[1;32m      3\u001b[0m \u001b[0mp1_population_columns\u001b[0m \u001b[0;34m=\u001b[0m \u001b[0;34m[\u001b[0m\u001b[0;34m\"P001001\"\u001b[0m\u001b[0;34m]\u001b[0m\u001b[0;34m\u001b[0m\u001b[0;34m\u001b[0m\u001b[0m\n\u001b[1;32m      4\u001b[0m \u001b[0;34m\u001b[0m\u001b[0m\n\u001b[0;32m----> 5\u001b[0;31m county_populations = census.pl.get(\n\u001b[0m\u001b[1;32m      6\u001b[0m     \u001b[0;34m(\u001b[0m\u001b[0;34m\"NAME\"\u001b[0m\u001b[0;34m,\u001b[0m \u001b[0;34m*\u001b[0m\u001b[0mp1_population_columns\u001b[0m\u001b[0;34m)\u001b[0m\u001b[0;34m,\u001b[0m\u001b[0;34m\u001b[0m\u001b[0;34m\u001b[0m\u001b[0m\n\u001b[1;32m      7\u001b[0m     geo={\n",
            "\u001b[0;32m/usr/local/lib/python3.11/dist-packages/census/core.py\u001b[0m in \u001b[0;36mget\u001b[0;34m(self, *args, **kwargs)\u001b[0m\n\u001b[1;32m    547\u001b[0m         \u001b[0mself\u001b[0m\u001b[0;34m.\u001b[0m\u001b[0m_switch_endpoints\u001b[0m\u001b[0;34m(\u001b[0m\u001b[0mkwargs\u001b[0m\u001b[0;34m.\u001b[0m\u001b[0mget\u001b[0m\u001b[0;34m(\u001b[0m\u001b[0;34m'year'\u001b[0m\u001b[0;34m,\u001b[0m \u001b[0mself\u001b[0m\u001b[0;34m.\u001b[0m\u001b[0mdefault_year\u001b[0m\u001b[0;34m)\u001b[0m\u001b[0;34m)\u001b[0m\u001b[0;34m\u001b[0m\u001b[0;34m\u001b[0m\u001b[0m\n\u001b[1;32m    548\u001b[0m \u001b[0;34m\u001b[0m\u001b[0m\n\u001b[0;32m--> 549\u001b[0;31m         \u001b[0;32mreturn\u001b[0m \u001b[0msuper\u001b[0m\u001b[0;34m(\u001b[0m\u001b[0mPLClient\u001b[0m\u001b[0;34m,\u001b[0m \u001b[0mself\u001b[0m\u001b[0;34m)\u001b[0m\u001b[0;34m.\u001b[0m\u001b[0mget\u001b[0m\u001b[0;34m(\u001b[0m\u001b[0;34m*\u001b[0m\u001b[0margs\u001b[0m\u001b[0;34m,\u001b[0m \u001b[0;34m**\u001b[0m\u001b[0mkwargs\u001b[0m\u001b[0;34m)\u001b[0m\u001b[0;34m\u001b[0m\u001b[0;34m\u001b[0m\u001b[0m\n\u001b[0m\u001b[1;32m    550\u001b[0m \u001b[0;34m\u001b[0m\u001b[0m\n\u001b[1;32m    551\u001b[0m     \u001b[0;34m@\u001b[0m\u001b[0msupported_years\u001b[0m\u001b[0;34m(\u001b[0m\u001b[0;34m)\u001b[0m\u001b[0;34m\u001b[0m\u001b[0;34m\u001b[0m\u001b[0m\n",
            "\u001b[0;32m/usr/local/lib/python3.11/dist-packages/census/core.py\u001b[0m in \u001b[0;36mget\u001b[0;34m(self, fields, geo, year, **kwargs)\u001b[0m\n\u001b[1;32m    157\u001b[0m         all_results = (self.query(forty_nine_fields, geo, year, sort_by_geoid=sort_by_geoid, **kwargs)\n\u001b[1;32m    158\u001b[0m                        for forty_nine_fields in chunks(fields, 49))\n\u001b[0;32m--> 159\u001b[0;31m         \u001b[0mmerged_results\u001b[0m \u001b[0;34m=\u001b[0m \u001b[0;34m[\u001b[0m\u001b[0mmerge\u001b[0m\u001b[0;34m(\u001b[0m\u001b[0mresult\u001b[0m\u001b[0;34m)\u001b[0m \u001b[0;32mfor\u001b[0m \u001b[0mresult\u001b[0m \u001b[0;32min\u001b[0m \u001b[0mzip\u001b[0m\u001b[0;34m(\u001b[0m\u001b[0;34m*\u001b[0m\u001b[0mall_results\u001b[0m\u001b[0;34m)\u001b[0m\u001b[0;34m]\u001b[0m\u001b[0;34m\u001b[0m\u001b[0;34m\u001b[0m\u001b[0m\n\u001b[0m\u001b[1;32m    160\u001b[0m \u001b[0;34m\u001b[0m\u001b[0m\n\u001b[1;32m    161\u001b[0m         \u001b[0;32mreturn\u001b[0m \u001b[0mmerged_results\u001b[0m\u001b[0;34m\u001b[0m\u001b[0;34m\u001b[0m\u001b[0m\n",
            "\u001b[0;32m/usr/local/lib/python3.11/dist-packages/census/core.py\u001b[0m in \u001b[0;36m<genexpr>\u001b[0;34m(.0)\u001b[0m\n\u001b[1;32m    155\u001b[0m         \"\"\"\n\u001b[1;32m    156\u001b[0m         \u001b[0msort_by_geoid\u001b[0m \u001b[0;34m=\u001b[0m \u001b[0mlen\u001b[0m\u001b[0;34m(\u001b[0m\u001b[0mfields\u001b[0m\u001b[0;34m)\u001b[0m \u001b[0;34m>\u001b[0m \u001b[0;36m49\u001b[0m \u001b[0;32mand\u001b[0m \u001b[0;34m(\u001b[0m\u001b[0;32mnot\u001b[0m \u001b[0myear\u001b[0m \u001b[0;32mor\u001b[0m \u001b[0myear\u001b[0m \u001b[0;34m>\u001b[0m \u001b[0;36m2009\u001b[0m\u001b[0;34m)\u001b[0m\u001b[0;34m\u001b[0m\u001b[0;34m\u001b[0m\u001b[0m\n\u001b[0;32m--> 157\u001b[0;31m         all_results = (self.query(forty_nine_fields, geo, year, sort_by_geoid=sort_by_geoid, **kwargs)\n\u001b[0m\u001b[1;32m    158\u001b[0m                        for forty_nine_fields in chunks(fields, 49))\n\u001b[1;32m    159\u001b[0m         \u001b[0mmerged_results\u001b[0m \u001b[0;34m=\u001b[0m \u001b[0;34m[\u001b[0m\u001b[0mmerge\u001b[0m\u001b[0;34m(\u001b[0m\u001b[0mresult\u001b[0m\u001b[0;34m)\u001b[0m \u001b[0;32mfor\u001b[0m \u001b[0mresult\u001b[0m \u001b[0;32min\u001b[0m \u001b[0mzip\u001b[0m\u001b[0;34m(\u001b[0m\u001b[0;34m*\u001b[0m\u001b[0mall_results\u001b[0m\u001b[0;34m)\u001b[0m\u001b[0;34m]\u001b[0m\u001b[0;34m\u001b[0m\u001b[0;34m\u001b[0m\u001b[0m\n",
            "\u001b[0;32m/usr/local/lib/python3.11/dist-packages/census/core.py\u001b[0m in \u001b[0;36mwrapper\u001b[0;34m(self, *args, **kwargs)\u001b[0m\n\u001b[1;32m     58\u001b[0m         \u001b[0;32mfor\u001b[0m \u001b[0m_\u001b[0m \u001b[0;32min\u001b[0m \u001b[0mrange\u001b[0m\u001b[0;34m(\u001b[0m\u001b[0mmax\u001b[0m\u001b[0;34m(\u001b[0m\u001b[0mself\u001b[0m\u001b[0;34m.\u001b[0m\u001b[0mretries\u001b[0m \u001b[0;34m-\u001b[0m \u001b[0;36m1\u001b[0m\u001b[0;34m,\u001b[0m \u001b[0;36m0\u001b[0m\u001b[0;34m)\u001b[0m\u001b[0;34m)\u001b[0m\u001b[0;34m:\u001b[0m\u001b[0;34m\u001b[0m\u001b[0;34m\u001b[0m\u001b[0m\n\u001b[1;32m     59\u001b[0m             \u001b[0;32mtry\u001b[0m\u001b[0;34m:\u001b[0m\u001b[0;34m\u001b[0m\u001b[0;34m\u001b[0m\u001b[0m\n\u001b[0;32m---> 60\u001b[0;31m                 \u001b[0mresult\u001b[0m \u001b[0;34m=\u001b[0m \u001b[0mfunc\u001b[0m\u001b[0;34m(\u001b[0m\u001b[0mself\u001b[0m\u001b[0;34m,\u001b[0m \u001b[0;34m*\u001b[0m\u001b[0margs\u001b[0m\u001b[0;34m,\u001b[0m \u001b[0;34m**\u001b[0m\u001b[0mkwargs\u001b[0m\u001b[0;34m)\u001b[0m\u001b[0;34m\u001b[0m\u001b[0;34m\u001b[0m\u001b[0m\n\u001b[0m\u001b[1;32m     61\u001b[0m             \u001b[0;32mexcept\u001b[0m \u001b[0mCensusException\u001b[0m \u001b[0;32mas\u001b[0m \u001b[0me\u001b[0m\u001b[0;34m:\u001b[0m\u001b[0;34m\u001b[0m\u001b[0;34m\u001b[0m\u001b[0m\n\u001b[1;32m     62\u001b[0m                 \u001b[0;32mif\u001b[0m \u001b[0;34m\"There was an error while running your query.  We've logged the error and we'll correct it ASAP.  Sorry for the inconvenience.\"\u001b[0m \u001b[0;32min\u001b[0m \u001b[0mstr\u001b[0m\u001b[0;34m(\u001b[0m\u001b[0me\u001b[0m\u001b[0;34m)\u001b[0m\u001b[0;34m:\u001b[0m\u001b[0;34m\u001b[0m\u001b[0;34m\u001b[0m\u001b[0m\n",
            "\u001b[0;32m/usr/local/lib/python3.11/dist-packages/census/core.py\u001b[0m in \u001b[0;36mquery\u001b[0;34m(self, fields, geo, year, sort_by_geoid, **kwargs)\u001b[0m\n\u001b[1;32m    212\u001b[0m \u001b[0;34m\u001b[0m\u001b[0m\n\u001b[1;32m    213\u001b[0m         \u001b[0;32melse\u001b[0m\u001b[0;34m:\u001b[0m\u001b[0;34m\u001b[0m\u001b[0;34m\u001b[0m\u001b[0m\n\u001b[0;32m--> 214\u001b[0;31m             \u001b[0;32mraise\u001b[0m \u001b[0mCensusException\u001b[0m\u001b[0;34m(\u001b[0m\u001b[0mresp\u001b[0m\u001b[0;34m.\u001b[0m\u001b[0mtext\u001b[0m\u001b[0;34m)\u001b[0m\u001b[0;34m\u001b[0m\u001b[0;34m\u001b[0m\u001b[0m\n\u001b[0m\u001b[1;32m    215\u001b[0m \u001b[0;34m\u001b[0m\u001b[0m\n\u001b[1;32m    216\u001b[0m     \u001b[0;34m@\u001b[0m\u001b[0mlru_cache\u001b[0m\u001b[0;34m(\u001b[0m\u001b[0mmaxsize\u001b[0m\u001b[0;34m=\u001b[0m\u001b[0;36m1024\u001b[0m\u001b[0;34m)\u001b[0m\u001b[0;34m\u001b[0m\u001b[0;34m\u001b[0m\u001b[0m\n",
            "\u001b[0;31mCensusException\u001b[0m: error: error: unknown variable 'P001001'"
          ]
        }
      ]
    }
  ],
  "metadata": {
    "kernelspec": {
      "display_name": "Python 3 (ipykernel)",
      "language": "python",
      "name": "python3"
    },
    "language_info": {
      "codemirror_mode": {
        "name": "ipython",
        "version": 3
      },
      "file_extension": ".py",
      "mimetype": "text/x-python",
      "name": "python",
      "nbconvert_exporter": "python",
      "pygments_lexer": "ipython3",
      "version": "3.10.2"
    },
    "colab": {
      "provenance": [],
      "include_colab_link": true
    }
  },
  "nbformat": 4,
  "nbformat_minor": 5
}