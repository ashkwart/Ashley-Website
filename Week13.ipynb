{
  "cells": [
    {
      "cell_type": "markdown",
      "metadata": {
        "id": "view-in-github",
        "colab_type": "text"
      },
      "source": [
        "<a href=\"https://colab.research.google.com/github/ashkwart/Ashley-Website/blob/main/Week13.ipynb\" target=\"_parent\"><img src=\"https://colab.research.google.com/assets/colab-badge.svg\" alt=\"Open In Colab\"/></a>"
      ]
    },
    {
      "cell_type": "code",
      "execution_count": null,
      "id": "f6e4a665-d445-4618-b56c-33a19544a4f8",
      "metadata": {
        "id": "f6e4a665-d445-4618-b56c-33a19544a4f8"
      },
      "outputs": [],
      "source": [
        "%config InlineBackend.figure_formats = [\"retina\"]"
      ]
    },
    {
      "cell_type": "code",
      "execution_count": null,
      "id": "32b2b781-0070-475c-9cf7-9d0fb20dfde1",
      "metadata": {
        "id": "32b2b781-0070-475c-9cf7-9d0fb20dfde1"
      },
      "outputs": [],
      "source": [
        "!pip install -q folium geopandas"
      ]
    },
    {
      "cell_type": "markdown",
      "id": "94e35b59-8188-4440-8401-eb9ea7affff5",
      "metadata": {
        "id": "94e35b59-8188-4440-8401-eb9ea7affff5"
      },
      "source": [
        "# Week 13: Neighborhoods\n",
        "Based on [\"An Extremely Detailed Map of New York City Neighborhoods\"](https://www.nytimes.com/interactive/2023/upshot/extremely-detailed-nyc-neighborhood-map.html) (Buchanan et al. 2023)"
      ]
    },
    {
      "cell_type": "code",
      "execution_count": null,
      "id": "c5d09477-5e5d-4a96-959b-b2c2010ad000",
      "metadata": {
        "id": "c5d09477-5e5d-4a96-959b-b2c2010ad000"
      },
      "outputs": [],
      "source": [
        "import json\n",
        "from math import log\n",
        "\n",
        "import folium\n",
        "import geopandas as gpd\n",
        "import matplotlib.pyplot as plt\n",
        "import numpy as np\n",
        "\n",
        "from collections import Counter\n",
        "from shapely import MultiPolygon"
      ]
    },
    {
      "cell_type": "code",
      "execution_count": null,
      "id": "05940173-0db7-48c1-a6af-8aa7370eb49c",
      "metadata": {
        "id": "05940173-0db7-48c1-a6af-8aa7370eb49c"
      },
      "outputs": [],
      "source": [
        "submissions_gdf = gpd.read_file(\"https://raw.githubusercontent.com/PUBPOL-2130/notebooks/refs/heads/main/data/nyt_neighborhood_submissions.geojson\")"
      ]
    },
    {
      "cell_type": "code",
      "execution_count": null,
      "id": "94f4a539-4a5c-42de-8e9c-a2800edf58d1",
      "metadata": {
        "id": "94f4a539-4a5c-42de-8e9c-a2800edf58d1"
      },
      "outputs": [],
      "source": [
        "submissions_gdf"
      ]
    },
    {
      "cell_type": "code",
      "execution_count": null,
      "id": "8a18fd6f-9b21-40f7-95f8-5e1475224dc5",
      "metadata": {
        "id": "8a18fd6f-9b21-40f7-95f8-5e1475224dc5"
      },
      "outputs": [],
      "source": [
        "submissions_gdf.plot()"
      ]
    },
    {
      "cell_type": "markdown",
      "source": [
        "Each submission seems to have one neighborhood label.  These were chosen by the users together with their polygons.  There are 379 neighborhood labels."
      ],
      "metadata": {
        "id": "wdc6tXGzPUBB"
      },
      "id": "wdc6tXGzPUBB"
    },
    {
      "cell_type": "code",
      "execution_count": null,
      "id": "6af7eb1f-0095-4470-8665-190691043fbd",
      "metadata": {
        "id": "6af7eb1f-0095-4470-8665-190691043fbd"
      },
      "outputs": [],
      "source": [
        "submissions_gdf[\"neighborhood\"].value_counts()"
      ]
    },
    {
      "cell_type": "markdown",
      "source": [
        "It's not immediately obvious if users got to choose the neighborhood name as free text, or if they got a menu of options.  Let's see all the things called some kind of \"village.\""
      ],
      "metadata": {
        "id": "GUFLR6TpQ1uV"
      },
      "id": "GUFLR6TpQ1uV"
    },
    {
      "cell_type": "code",
      "source": [
        "submissions_gdf[submissions_gdf[\"neighborhood\"].str.contains(\"illage\")].value_counts(\"neighborhood\")"
      ],
      "metadata": {
        "id": "_Yt97ZlTQgvb"
      },
      "id": "_Yt97ZlTQgvb",
      "execution_count": null,
      "outputs": []
    },
    {
      "cell_type": "markdown",
      "source": [
        "The relative simplicity of this list strongly suggests that the NYT data folks presented people with this list of options rather than letting them enter their own free text.  Otherwise we'd expect lots of crazy misspellings and what-not!"
      ],
      "metadata": {
        "id": "b-E0c_89Q7j-"
      },
      "id": "b-E0c_89Q7j-"
    },
    {
      "cell_type": "markdown",
      "source": [
        "Let's take a look at all the ones tagged as \"Upper West Side\"...."
      ],
      "metadata": {
        "id": "rUdHYfSIPgbg"
      },
      "id": "rUdHYfSIPgbg"
    },
    {
      "cell_type": "code",
      "execution_count": null,
      "id": "342682bd-faa3-4f96-a1df-91fa1cf98760",
      "metadata": {
        "id": "342682bd-faa3-4f96-a1df-91fa1cf98760"
      },
      "outputs": [],
      "source": [
        "submissions_map = folium.Map(\n",
        "    [40.787, -73.9754],\n",
        "    zoom_start=13,\n",
        "    tiles=\"Cartodb Positron\",  # use a less cluttered basemap\n",
        ")\n",
        "for _, row in submissions_gdf[submissions_gdf[\"neighborhood\"] == \"Upper West Side\"].iterrows():\n",
        "    folium.PolyLine([(y, x) for x, y in row.geometry.exterior.coords], weight=2, opacity=0.5).add_to(submissions_map)"
      ]
    },
    {
      "cell_type": "code",
      "execution_count": null,
      "id": "0d849679-e589-4f84-a2e2-fbb985daeff0",
      "metadata": {
        "id": "0d849679-e589-4f84-a2e2-fbb985daeff0"
      },
      "outputs": [],
      "source": [
        "submissions_map"
      ]
    },
    {
      "cell_type": "markdown",
      "source": [
        "Amusingly, a few people don't know their East from West.... and one person is on the wrong land mass altogether.  These are the pleasures of user-submitted data!"
      ],
      "metadata": {
        "id": "FMn_m-9BPppz"
      },
      "id": "FMn_m-9BPppz"
    },
    {
      "cell_type": "markdown",
      "source": [
        "The NYT folks did some processing, and in particular they worked out how often each census block got each tag."
      ],
      "metadata": {
        "id": "AuZ9ttmQP8Lw"
      },
      "id": "AuZ9ttmQP8Lw"
    },
    {
      "cell_type": "code",
      "execution_count": null,
      "id": "b03d6246-ff19-4ea7-aca0-ef2097c9a947",
      "metadata": {
        "id": "b03d6246-ff19-4ea7-aca0-ef2097c9a947"
      },
      "outputs": [],
      "source": [
        "!curl -O https://raw.githubusercontent.com/PUBPOL-2130/notebooks/refs/heads/main/data/nyt_neighborhood_block_weights.json"
      ]
    },
    {
      "cell_type": "code",
      "execution_count": null,
      "id": "12a2ffb4-9b62-4741-8470-b3e4d291ae32",
      "metadata": {
        "id": "12a2ffb4-9b62-4741-8470-b3e4d291ae32"
      },
      "outputs": [],
      "source": [
        "block_weights = json.load(open(\"nyt_neighborhood_block_weights.json\"))"
      ]
    },
    {
      "cell_type": "code",
      "execution_count": null,
      "id": "34e41b3d-5ea9-492f-94e2-ebb8fedd5c20",
      "metadata": {
        "id": "34e41b3d-5ea9-492f-94e2-ebb8fedd5c20"
      },
      "outputs": [],
      "source": [
        "list(block_weights.items())[:10]  # Census block GEOID -> neighborhood weights"
      ]
    },
    {
      "cell_type": "markdown",
      "id": "da180f0d-ef0b-4ec7-a455-055fbf86231f",
      "metadata": {
        "id": "da180f0d-ef0b-4ec7-a455-055fbf86231f"
      },
      "source": [
        "## Neighborhood cores"
      ]
    },
    {
      "cell_type": "code",
      "execution_count": null,
      "id": "1fc2c794-d3b5-4199-aca4-b8061d0d9fdc",
      "metadata": {
        "id": "1fc2c794-d3b5-4199-aca4-b8061d0d9fdc"
      },
      "outputs": [],
      "source": [
        "!curl -O https://www2.census.gov/geo/tiger/TIGER2024/TABBLOCK20/tl_2024_36_tabblock20.zip"
      ]
    },
    {
      "cell_type": "code",
      "execution_count": null,
      "id": "82fed5ce-c70a-4ead-b947-6e6bf568881f",
      "metadata": {
        "id": "82fed5ce-c70a-4ead-b947-6e6bf568881f"
      },
      "outputs": [],
      "source": [
        "block_gdf = gpd.read_file(\"tl_2024_36_tabblock20.zip\").set_index(\"GEOID20\")"
      ]
    },
    {
      "cell_type": "markdown",
      "id": "f109e528-721e-45c3-96a2-81bfd49a5c3d",
      "metadata": {
        "id": "f109e528-721e-45c3-96a2-81bfd49a5c3d"
      },
      "source": [
        "There are (at least) two ways of thinking about the level of disagreement.\n",
        "\n",
        "Definition 1: of the submissions that include `block X`, what share labeled it as `neighborhood Y`? (in other words: what do New Yorkers call this block?)\n",
        "\n",
        "Definition 2: of the submissions that are labeled with `neighborhood Y`, what share include `block X`? (in other words: among the people with an opinion on where that neighborhood is, do they include this block?)\n",
        "\n"
      ]
    },
    {
      "cell_type": "markdown",
      "source": [
        "So now we'll define a `core` function, which lets you choose a neighborhood and then picks all the blocks where at least `cutoff` share of submitters gave it that label.  (You can choose the cutoff!)\n",
        "\n",
        "Note: This is based on the kind of consensus that's measured in Definition 1 above."
      ],
      "metadata": {
        "id": "8UFjex7l2XPe"
      },
      "id": "8UFjex7l2XPe"
    },
    {
      "cell_type": "code",
      "execution_count": null,
      "id": "c4280225-7bf0-4d67-9fec-2cabecabdc4d",
      "metadata": {
        "id": "c4280225-7bf0-4d67-9fec-2cabecabdc4d"
      },
      "outputs": [],
      "source": [
        "def core(neighborhood, cutoff=0):  # def. (1)\n",
        "    neighborhood_weights = {\n",
        "        geoid: weights[neighborhood]\n",
        "        for geoid, weights in block_weights.items()\n",
        "        if neighborhood in weights and weights[neighborhood] >= cutoff\n",
        "    }\n",
        "    core_gdf = block_gdf.loc[neighborhood_weights.keys()]\n",
        "    core_gdf[\"weight\"] = neighborhood_weights\n",
        "    return core_gdf.reset_index()"
      ]
    },
    {
      "cell_type": "code",
      "execution_count": null,
      "id": "07116f4d-ea54-4e1c-845e-f8285ff82d22",
      "metadata": {
        "id": "07116f4d-ea54-4e1c-845e-f8285ff82d22"
      },
      "outputs": [],
      "source": [
        "core_map = folium.Map(\n",
        "    [40.787, -73.9754],\n",
        "    zoom_start=13,\n",
        "    tiles=\"Cartodb Positron\",  # use a less cluttered basemap\n",
        ")\n",
        "core_gdf = core(\"Upper West Side\", cutoff=0.1)\n",
        "\n",
        "folium.Choropleth(\n",
        "    geo_data=core_gdf,\n",
        "    data=core_gdf,\n",
        "    columns=[\"GEOID20\", \"weight\"],\n",
        "    key_on=\"feature.properties.GEOID20\",\n",
        "    fill_color=\"OrRd\",\n",
        ").add_to(core_map)"
      ]
    },
    {
      "cell_type": "markdown",
      "source": [
        "Let's visualize (as a heatmap) Definition 1 of \"Upper West Side.\""
      ],
      "metadata": {
        "id": "sIxOBzuaRSrE"
      },
      "id": "sIxOBzuaRSrE"
    },
    {
      "cell_type": "code",
      "execution_count": null,
      "id": "5b7cb8f6-db07-4959-8094-16a3da3d86c6",
      "metadata": {
        "scrolled": true,
        "id": "5b7cb8f6-db07-4959-8094-16a3da3d86c6"
      },
      "outputs": [],
      "source": [
        "core_map"
      ]
    },
    {
      "cell_type": "code",
      "execution_count": null,
      "id": "0c5c1933-a2b5-4ae1-a4de-3132f83e328f",
      "metadata": {
        "id": "0c5c1933-a2b5-4ae1-a4de-3132f83e328f"
      },
      "outputs": [],
      "source": [
        "block_neighborhood_counts = {\n",
        "    geoid: len(weights)\n",
        "    for geoid, weights in block_weights.items()\n",
        "}"
      ]
    },
    {
      "cell_type": "code",
      "execution_count": null,
      "id": "461d1247-86d5-45fa-b189-20ac2c67caaf",
      "metadata": {
        "id": "461d1247-86d5-45fa-b189-20ac2c67caaf"
      },
      "outputs": [],
      "source": [
        "plt.hist(block_neighborhood_counts.values(), bins=np.arange(1, 8)-0.5,rwidth=0.9)\n",
        "plt.title(\"Neighborhood uncertainty: block counts by # of neighborhoods\")\n",
        "plt.xlabel(\"# of neighborhoods block is in\")\n",
        "plt.ylabel(\"Count\")\n",
        "plt.show()"
      ]
    },
    {
      "cell_type": "markdown",
      "source": [
        "For each block, we'll sum over its weight vector to get a measure of uncertainty about its neighborhood assignment.  We'll use the math concept called *Shannon entropy*, which was explained in class:  it is made by $H=\\sum w_i \\log w_i$ over the coordinates $i$.  So if a block is called \"West Village\" 100 times but \"The Village\" just once, its Shannon entropy is low, which means there's not significant disagreement.  But if it gets each label 50 times, it gets a higher score $H=1$.  And if it gets THREE labels each an equal number of times, it gets an even higher score $H=1.585$.  Basically you should think of $H$ as measuring the level of split-up-ness or controversy about the label."
      ],
      "metadata": {
        "id": "K8aAdpAlS88T"
      },
      "id": "K8aAdpAlS88T"
    },
    {
      "cell_type": "code",
      "execution_count": null,
      "id": "ea02ac86-35a7-4e2a-9764-b782fe057223",
      "metadata": {
        "id": "ea02ac86-35a7-4e2a-9764-b782fe057223"
      },
      "outputs": [],
      "source": [
        "block_entropies = {\n",
        "    geoid: -sum(v * log(v) for v in weights.values())\n",
        "    for geoid, weights in block_weights.items()\n",
        "}"
      ]
    },
    {
      "cell_type": "code",
      "execution_count": null,
      "id": "0f2be877-ccad-4ccb-a6a0-a0ad8bb0de1c",
      "metadata": {
        "id": "0f2be877-ccad-4ccb-a6a0-a0ad8bb0de1c"
      },
      "outputs": [],
      "source": [
        "plt.hist(block_entropies.values(), bins=25)\n",
        "plt.title(\"Neighborhood uncertainty: block counts by Shannon entropy\")\n",
        "plt.xlabel(\"Shannon entropy of neighborhood assignment\")\n",
        "plt.ylabel(\"Count\")\n",
        "plt.show()"
      ]
    },
    {
      "cell_type": "code",
      "execution_count": null,
      "id": "d6198be0-efec-4928-855c-978031593ac9",
      "metadata": {
        "id": "d6198be0-efec-4928-855c-978031593ac9"
      },
      "outputs": [],
      "source": [
        "block_gdf[\"entropy\"] = block_entropies\n",
        "nyc_gdf = block_gdf.loc[block_entropies.keys()].reset_index()"
      ]
    },
    {
      "cell_type": "code",
      "execution_count": null,
      "id": "30afdad3-fbf4-461c-91fe-1a9f548fbb5b",
      "metadata": {
        "id": "30afdad3-fbf4-461c-91fe-1a9f548fbb5b"
      },
      "outputs": [],
      "source": [
        "nyc_gdf.head(5)"
      ]
    },
    {
      "cell_type": "code",
      "execution_count": null,
      "id": "b390ed3f-38ac-4a2f-bfe7-c03e537fba3d",
      "metadata": {
        "id": "b390ed3f-38ac-4a2f-bfe7-c03e537fba3d"
      },
      "outputs": [],
      "source": [
        "top_neighborhoods = submissions_gdf[\"neighborhood\"].value_counts().head(100)\n",
        "top_neighborhoods"
      ]
    },
    {
      "cell_type": "code",
      "execution_count": null,
      "id": "51b2064d-b863-4ae8-a9c4-100fb4e7581d",
      "metadata": {
        "id": "51b2064d-b863-4ae8-a9c4-100fb4e7581d"
      },
      "outputs": [],
      "source": [
        "neighborhood_blocks = {neighborhood: [] for neighborhood in top_neighborhoods.keys()}\n",
        "for geoid, weights in block_weights.items():\n",
        "    for neighborhood, weight in weights.items():\n",
        "        if neighborhood in neighborhood_blocks and weight > 0.3:  # increase this cutoff to tighten boundaries\n",
        "            neighborhood_blocks[neighborhood].append(geoid)"
      ]
    },
    {
      "cell_type": "code",
      "execution_count": null,
      "id": "7a682ebd-0c0b-4050-b51b-34cfe7b47b5d",
      "metadata": {
        "id": "7a682ebd-0c0b-4050-b51b-34cfe7b47b5d"
      },
      "outputs": [],
      "source": [
        "neighborhood_geos = {\n",
        "    name: block_gdf.loc[geoids].dissolve().geometry\n",
        "    for name, geoids in neighborhood_blocks.items()\n",
        "}"
      ]
    },
    {
      "cell_type": "markdown",
      "source": [
        "And so we'll finish this notebook with a Folium map that plots the \"core\" neighborhoods (for the threshold you chose above).  And this should also have a checkbox in the upper right that lets you turn on and off a heatmap of the entropy score so you can see where there's the most label controversy!"
      ],
      "metadata": {
        "id": "fklsmPbk3w3E"
      },
      "id": "fklsmPbk3w3E"
    },
    {
      "cell_type": "code",
      "execution_count": null,
      "id": "ec385c1f-7884-40df-a995-739c058cda44",
      "metadata": {
        "id": "ec385c1f-7884-40df-a995-739c058cda44"
      },
      "outputs": [],
      "source": [
        "entropy_map = folium.Map(\n",
        "    [40.65, -73.95],\n",
        "    zoom_start=12,\n",
        "    tiles=\"Cartodb Positron\",\n",
        ")\n",
        "colors = ['#0099cd', '#ffca5d', '#00cd99', '#99cd00', '#cd0099', '#aa44ef', '#8dd3c7', '#bebada', '#fb8072', '#80b1d3', '#fdb462', '#b3de69', '#fccde5', '#bc80bd', '#ccebc5', '#ffed6f', '#ffffb3', '#a6cee3', '#1f78b4', '#b2df8a', '#33a02c', '#fb9a99', '#e31a1c', '#fdbf6f', '#ff7f00', '#cab2d6', '#6a3d9a', '#b15928', '#64ffda', '#00B8D4', '#A1887F', '#76FF03', '#DCE775', '#B388FF', '#FF80AB', '#D81B60', '#26A69A', '#FFEA00', '#6200EA']\n",
        "\n",
        "folium.Choropleth(\n",
        "    geo_data=nyc_gdf,\n",
        "    data=nyc_gdf,\n",
        "    columns=[\"GEOID20\", \"entropy\"],\n",
        "    key_on=\"feature.properties.GEOID20\",\n",
        "    name=\"Neighborhood uncertainty (Shannon entropy)\",\n",
        "    fill_color=\"OrRd\",\n",
        "    line_opacity=0.2,\n",
        "    fill_opacity=0.5,\n",
        "    show=False,\n",
        ").add_to(entropy_map)\n",
        "\n",
        "for idx, (neighborhood, geos) in enumerate(neighborhood_geos.items()):\n",
        "    if len(geos) > 0:\n",
        "        for geo in geos:\n",
        "            if isinstance(geo, MultiPolygon):\n",
        "                for part in geo.geoms:\n",
        "                    folium.Polygon(\n",
        "                        [(y, x) for x, y in part.exterior.coords],\n",
        "                        weight=6,\n",
        "                        tooltip=neighborhood,\n",
        "                        color=colors[idx % len(colors)],\n",
        "                    ).add_to(entropy_map)\n",
        "            else:\n",
        "                folium.Polygon(\n",
        "                    [(y, x) for x, y in geo.exterior.coords],\n",
        "                    weight=6,\n",
        "                    tooltip=neighborhood,\n",
        "                    color=colors[idx % len(colors)],\n",
        "                ).add_to(entropy_map)\n",
        "\n",
        "folium.LayerControl(collapsed=False).add_to(entropy_map)"
      ]
    },
    {
      "cell_type": "code",
      "execution_count": null,
      "id": "f22042af-5729-4107-a398-52965368a4f1",
      "metadata": {
        "scrolled": true,
        "id": "f22042af-5729-4107-a398-52965368a4f1"
      },
      "outputs": [],
      "source": [
        "entropy_map"
      ]
    },
    {
      "cell_type": "markdown",
      "source": [
        "#Homework 10 - extended due date Tuesday May 6, 1:25pm - recommended due date Friday May 2\n",
        "\n",
        "**Warmup question:** How many blocks were given six different neighborhood labels by submitters?  Choose one of them and say where it is and what labels it received. See if you can find your chosen block on the interactive map, and upload a screenshot.\n",
        "\n",
        "**Data product:** Get curious, formulate a question, make a good data product, and briefly explain how you made it.\n",
        "\n",
        "**Reading question:** choose one.\n",
        "\n",
        "IF YOU READ JACOBS: In this chapter, does she argue that ethnic neighborhoods are particiularly well suited to be powerful?  Explain how this fits into her overall argument about neighborhoods and policy power.\n",
        "\n",
        "IF YOU READ THE [NYT GUIDE](https://www.nytimes.com/interactive/2023/10/29/upshot/new-york-neighborhood-guide.html): summarize the points made about Prospect Heights vs. Crown Heights.  Who has an incentive to shift what the blocks in the middle zone are called?"
      ],
      "metadata": {
        "id": "Vy5_uxr44F9H"
      },
      "id": "Vy5_uxr44F9H"
    },
    {
      "cell_type": "markdown",
      "source": [
        "**Warm Up**"
      ],
      "metadata": {
        "id": "qZAGZNygmiXG"
      },
      "id": "qZAGZNygmiXG"
    },
    {
      "cell_type": "code",
      "source": [
        "# Filter blocks with 6 neighborhood labels\n",
        "six_label_blocks = [geoid for geoid, weights in block_weights.items() if len(weights) == 6]\n",
        "\n",
        "# Count them\n",
        "num_six_label_blocks = len(six_label_blocks)\n",
        "\n",
        "print(f\"There are {num_six_label_blocks} blocks with six different neighborhood labels.\")\n",
        "\n",
        "# Choose one block (the first one in the list)\n",
        "chosen_block = six_label_blocks[700]\n",
        "\n",
        "# Get its labels and weights\n",
        "labels_and_weights = block_weights[chosen_block]\n",
        "\n",
        "print(f\"Chosen block: {chosen_block}\")\n",
        "print(f\"Labels and weights: {labels_and_weights}\")\n",
        "\n",
        "# Get the block's geometry from the block_gdf\n",
        "block_geometry = block_gdf.loc[chosen_block].geometry\n",
        "\n",
        "# Get the block's centroid (center point)\n",
        "centroid = block_geometry.centroid\n",
        "\n",
        "print(f\"Block centroid (latitude, longitude): {centroid.y}, {centroid.x}\")"
      ],
      "metadata": {
        "id": "FZBMMYo0mkp8",
        "outputId": "2badf2c4-a248-4bc6-ead7-3001d1d7b02c",
        "colab": {
          "base_uri": "https://localhost:8080/",
          "height": 216
        }
      },
      "id": "FZBMMYo0mkp8",
      "execution_count": 1,
      "outputs": [
        {
          "output_type": "error",
          "ename": "NameError",
          "evalue": "name 'block_weights' is not defined",
          "traceback": [
            "\u001b[0;31m---------------------------------------------------------------------------\u001b[0m",
            "\u001b[0;31mNameError\u001b[0m                                 Traceback (most recent call last)",
            "\u001b[0;32m<ipython-input-1-ef59f63457cf>\u001b[0m in \u001b[0;36m<cell line: 0>\u001b[0;34m()\u001b[0m\n\u001b[1;32m      1\u001b[0m \u001b[0;31m# Filter blocks with 6 neighborhood labels\u001b[0m\u001b[0;34m\u001b[0m\u001b[0;34m\u001b[0m\u001b[0m\n\u001b[0;32m----> 2\u001b[0;31m \u001b[0msix_label_blocks\u001b[0m \u001b[0;34m=\u001b[0m \u001b[0;34m[\u001b[0m\u001b[0mgeoid\u001b[0m \u001b[0;32mfor\u001b[0m \u001b[0mgeoid\u001b[0m\u001b[0;34m,\u001b[0m \u001b[0mweights\u001b[0m \u001b[0;32min\u001b[0m \u001b[0mblock_weights\u001b[0m\u001b[0;34m.\u001b[0m\u001b[0mitems\u001b[0m\u001b[0;34m(\u001b[0m\u001b[0;34m)\u001b[0m \u001b[0;32mif\u001b[0m \u001b[0mlen\u001b[0m\u001b[0;34m(\u001b[0m\u001b[0mweights\u001b[0m\u001b[0;34m)\u001b[0m \u001b[0;34m==\u001b[0m \u001b[0;36m6\u001b[0m\u001b[0;34m]\u001b[0m\u001b[0;34m\u001b[0m\u001b[0;34m\u001b[0m\u001b[0m\n\u001b[0m\u001b[1;32m      3\u001b[0m \u001b[0;34m\u001b[0m\u001b[0m\n\u001b[1;32m      4\u001b[0m \u001b[0;31m# Count them\u001b[0m\u001b[0;34m\u001b[0m\u001b[0;34m\u001b[0m\u001b[0m\n\u001b[1;32m      5\u001b[0m \u001b[0mnum_six_label_blocks\u001b[0m \u001b[0;34m=\u001b[0m \u001b[0mlen\u001b[0m\u001b[0;34m(\u001b[0m\u001b[0msix_label_blocks\u001b[0m\u001b[0;34m)\u001b[0m\u001b[0;34m\u001b[0m\u001b[0;34m\u001b[0m\u001b[0m\n",
            "\u001b[0;31mNameError\u001b[0m: name 'block_weights' is not defined"
          ]
        }
      ]
    },
    {
      "cell_type": "markdown",
      "source": [
        "**Data Product**"
      ],
      "metadata": {
        "id": "SRg7_R_Pmlsr"
      },
      "id": "SRg7_R_Pmlsr"
    },
    {
      "cell_type": "code",
      "source": [],
      "metadata": {
        "id": "voj2xEl_moux"
      },
      "id": "voj2xEl_moux",
      "execution_count": null,
      "outputs": []
    },
    {
      "cell_type": "markdown",
      "source": [
        "**Reading Response**"
      ],
      "metadata": {
        "id": "0gbQ4-mimpLJ"
      },
      "id": "0gbQ4-mimpLJ"
    }
  ],
  "metadata": {
    "kernelspec": {
      "display_name": "Python 3 (ipykernel)",
      "language": "python",
      "name": "python3"
    },
    "language_info": {
      "codemirror_mode": {
        "name": "ipython",
        "version": 3
      },
      "file_extension": ".py",
      "mimetype": "text/x-python",
      "name": "python",
      "nbconvert_exporter": "python",
      "pygments_lexer": "ipython3",
      "version": "3.12.9"
    },
    "colab": {
      "provenance": [],
      "include_colab_link": true
    }
  },
  "nbformat": 4,
  "nbformat_minor": 5
}